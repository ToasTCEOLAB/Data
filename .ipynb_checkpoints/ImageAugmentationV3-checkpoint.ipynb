{
 "cells": [
  {
   "cell_type": "code",
   "execution_count": 19,
   "id": "1c6a7474",
   "metadata": {},
   "outputs": [],
   "source": [
    "# example of horizontal shift image augmentation\n",
    "from numpy import expand_dims\n",
    "from keras.preprocessing.image import load_img\n",
    "from keras.preprocessing.image import img_to_array\n",
    "from keras.preprocessing.image import ImageDataGenerator"
   ]
  },
  {
   "cell_type": "code",
   "execution_count": 20,
   "id": "e0dd1100",
   "metadata": {},
   "outputs": [],
   "source": [
    "from matplotlib import pyplot\n",
    "import cv2\n"
   ]
  },
  {
   "cell_type": "code",
   "execution_count": 21,
   "id": "d774b654",
   "metadata": {},
   "outputs": [],
   "source": [
    "import os \n",
    "\n",
    "listOfFolderName = []\n",
    "\n",
    "def search(dirname):\n",
    "    filenames = os.listdir(dirname)\n",
    "    for filename in filenames:\n",
    "        #full_filename = os.path.join(dirname, filename)\n",
    "        listOfFolderName.append(filename)\n",
    "\n",
    "search(\"C:/Users/user/Desktop/Data_1/\")"
   ]
  },
  {
   "cell_type": "code",
   "execution_count": 22,
   "id": "f22cadde",
   "metadata": {},
   "outputs": [],
   "source": [
    "for foldername in listOfFolderName:\n",
    "    data_path = 'C:/Users/user/Desktop/Data_1/Outside/'\n",
    "    folder = os.listdir(data_path)"
   ]
  },
  {
   "cell_type": "code",
   "execution_count": 23,
   "id": "ce955553",
   "metadata": {},
   "outputs": [],
   "source": [
    "#만들고자하는 갯수\n",
    "num = 9\n",
    "for file in folder:\n",
    "    name = file.split(\".\")[0]\n",
    "\n",
    "    # load the image\n",
    "    img = cv2.imread(data_path + name + \".png\")\n",
    "    mageRGB = cv2.cvtColor(img, cv2.COLOR_BGR2RGB)\n",
    "\n",
    "    # convert to numpy array\n",
    "    data = img_to_array(img)\n",
    "    # expand dimension to one sample\n",
    "    samples = expand_dims(data, 0)\n",
    "    # create image data augmentation generator\n",
    "    datagen = ImageDataGenerator(rotation_range=60, height_shift_range=0.2, width_shift_range=0.05 )\n",
    "    # prepare iterator\n",
    "    it = datagen.flow(samples, batch_size=1)\n",
    "    for i in range(num):   \n",
    "        batch = it.next()\n",
    "        # convert to unsigned integers for viewing\n",
    "        image = batch[0].astype('uint8')\n",
    "        cv2.imwrite(data_path + name + \"test\"+ str(i) +\".png\", image)"
   ]
  },
  {
   "cell_type": "code",
   "execution_count": null,
   "id": "060d2bec",
   "metadata": {},
   "outputs": [],
   "source": []
  }
 ],
 "metadata": {
  "kernelspec": {
   "display_name": "Python 3 (ipykernel)",
   "language": "python",
   "name": "python3"
  },
  "language_info": {
   "codemirror_mode": {
    "name": "ipython",
    "version": 3
   },
   "file_extension": ".py",
   "mimetype": "text/x-python",
   "name": "python",
   "nbconvert_exporter": "python",
   "pygments_lexer": "ipython3",
   "version": "3.9.7"
  }
 },
 "nbformat": 4,
 "nbformat_minor": 5
}
