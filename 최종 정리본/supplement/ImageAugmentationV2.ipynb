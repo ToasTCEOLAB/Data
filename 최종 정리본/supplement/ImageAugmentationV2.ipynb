{
 "cells": [
  {
   "cell_type": "code",
   "execution_count": 18,
   "id": "8fddb71b",
   "metadata": {},
   "outputs": [],
   "source": [
    "import numpy as np\n",
    "import matplotlib.pyplot as plt\n",
    "%matplotlib inline\n",
    "import cv2\n",
    "import glob\n",
    "import random\n",
    "\n",
    "import os\n",
    "from PIL import Image\n",
    "global listOfFolderName"
   ]
  },
  {
   "cell_type": "code",
   "execution_count": 19,
   "id": "3e0ce501",
   "metadata": {},
   "outputs": [],
   "source": [
    "def brightness(gray, val):\n",
    "    #gray = cv2.cvtColor(img, cv2.COLOR_BGR2GRAY)\n",
    "    brightness = int(random.uniform(-val, val))\n",
    "    if brightness > 0:\n",
    "        gray = gray + brightness\n",
    "    else:\n",
    "        gray = gray - brightness\n",
    "    gray = np.clip(gray, 10, 255)\n",
    "    return gray"
   ]
  },
  {
   "cell_type": "code",
   "execution_count": 20,
   "id": "d8d6b94e",
   "metadata": {},
   "outputs": [],
   "source": [
    "def contrast(gray, min_val, max_val):\n",
    "    #gray = cv2.cvtColor(img, cv2.COLOR_GRAY2RGB)\n",
    "    alpha = int(random.uniform(min_val, max_val)) # Contrast control\n",
    "    adjusted = cv2.convertScaleAbs(gray, alpha=alpha)\n",
    "    return adjusted\n"
   ]
  },
  {
   "cell_type": "code",
   "execution_count": 21,
   "id": "83ecf059",
   "metadata": {},
   "outputs": [],
   "source": [
    "def fill(img, h, w):\n",
    "    img = cv2.resize(img, (h, w), cv2.INTER_CUBIC)\n",
    "    return img"
   ]
  },
  {
   "cell_type": "code",
   "execution_count": 22,
   "id": "fb8a7e6d",
   "metadata": {},
   "outputs": [],
   "source": [
    "def rotation(img, angle):\n",
    "    angle = int(random.uniform(-angle, angle))\n",
    "    h, w = img.shape[:2]\n",
    "    M = cv2.getRotationMatrix2D((int(w/2), int(h/2)), angle, 1)\n",
    "    img = cv2.warpAffine(img, M, (w, h))\n",
    "    return img"
   ]
  },
  {
   "cell_type": "code",
   "execution_count": 23,
   "id": "b7da044b",
   "metadata": {},
   "outputs": [],
   "source": [
    "def vertical_shift_down(img, ratio=0.0):\n",
    "    if ratio > 1 or ratio < 0:\n",
    "        print('Value should be less than 1 and greater than 0')\n",
    "        return img\n",
    "    ratio = random.uniform(-ratio, ratio)\n",
    "    h, w = img.shape[:2]\n",
    "    to_shift = h*ratio\n",
    "    if ratio > 0:\n",
    "        img = img[:int(h-to_shift), :, :]\n",
    "    img = fill(img, h, w)\n",
    "    return img"
   ]
  },
  {
   "cell_type": "code",
   "execution_count": 24,
   "id": "4326ac67",
   "metadata": {},
   "outputs": [],
   "source": [
    "def horizontal_shift(img, ratio=0.0):\n",
    "    if ratio > 1 or ratio < 0:\n",
    "        print('Value should be less than 1 and greater than 0')\n",
    "        return img\n",
    "    ratio = random.uniform(-ratio, ratio)\n",
    "    h, w = img.shape[:2]\n",
    "    to_shift = w*ratio\n",
    "    if ratio > 0:\n",
    "        img = img[:, :int(w-to_shift), :]\n",
    "    if ratio < 0:\n",
    "        img = img[:, int(-1*to_shift):, :]\n",
    "    img = fill(img, h, w)\n",
    "    return img"
   ]
  },
  {
   "cell_type": "code",
   "execution_count": 25,
   "id": "1beac216",
   "metadata": {},
   "outputs": [],
   "source": [
    "def vertical_flip(img, flag):\n",
    "    if flag:\n",
    "        return cv2.flip(img, 0)\n",
    "    else:\n",
    "        return img"
   ]
  },
  {
   "cell_type": "code",
   "execution_count": 26,
   "id": "fc532c53",
   "metadata": {},
   "outputs": [],
   "source": [
    "def horizontal_flip(img, flag):\n",
    "    if flag:\n",
    "        return cv2.flip(img, 1)\n",
    "    else:\n",
    "        return img"
   ]
  },
  {
   "cell_type": "code",
   "execution_count": 27,
   "id": "bf64ab6d",
   "metadata": {},
   "outputs": [],
   "source": [
    "listOfFolderName = []"
   ]
  },
  {
   "cell_type": "code",
   "execution_count": 28,
   "id": "399cfaef",
   "metadata": {},
   "outputs": [],
   "source": [
    "def search(dirname):\n",
    "    filenames = os.listdir(dirname)\n",
    "    for filename in filenames:\n",
    "        #full_filename = os.path.join(dirname, filename)\n",
    "        listOfFolderName.append(filename)\n",
    "\n",
    "search(\"C:/Users/issac/Desktop/TestData/\")"
   ]
  },
  {
   "cell_type": "code",
   "execution_count": 36,
   "id": "62ee16fd",
   "metadata": {},
   "outputs": [],
   "source": [
    "for foldername in listOfFolderName:\n",
    "    data_path = 'C:/Users/issac/Desktop/TestData/'\n",
    "    folder = os.listdir(data_path)\n",
    "    \n",
    "for file in folder:\n",
    "    name = file.split(\".\")[0]\n",
    "\n",
    "    img = cv2.imread(data_path + name + \".png\")\n",
    "    imageRGB = cv2.cvtColor(imageBGR, cv2.COLOR_BGR2RGB)\n",
    "    \n",
    "#     img = brightness(img, 30)\n",
    "#     img = contrast(img, 1, 1.5)\n",
    "#     img = horizontal_flip(img, 1)\n",
    "#     img = rotation(img, 180)\n",
    "    img = horizontal_shift(img, 0.1)\n",
    "\n",
    "    cv2.imwrite(data_path + name + \"ud\" +\".png\", img)\n",
    "\n",
    "#     imageFlip_LeftRight = cv2.flip(imageBGR, 1) #좌우반전\n",
    "#     cv2.imwrite(data_path + name + \"lr\" + \".png\", imageFlip_LeftRight)\n",
    "#   imageFlip_UpDown = cv2.flip(imageBGR, 0) #상하반전\n",
    "#   cv2.imwrite(data_path + name + \"ud\" +\".png\", imageFlip_UpDown)\n",
    "        \n",
    "#     imageRotate90 = cv2.rotate(imageBGR, cv2.ROTATE_90_CLOCKWISE) #시계방향으로 90도 회전\n",
    "#     cv2.imwrite(data_path + name + \"r90\" +\".png\", imageRotate90)\n",
    "#     imageRotate180 = cv2.rotate(imageBGR, cv2.ROTATE_180) #시계방향으로 90도 회전\n",
    "#     cv2.imwrite(data_path + name + \"r180\" +\".png\", imageRotate180)\n",
    "#     imageRotate270 = cv2.rotate(imageBGR, cv2.ROTATE_90_COUNTERCLOCKWISE) #반시계방향으로 90도 회전\n",
    "#     cv2.imwrite(data_path + name + \"r270\" +\".png\", imageRotate270)"
   ]
  },
  {
   "cell_type": "code",
   "execution_count": null,
   "id": "6f441f35",
   "metadata": {},
   "outputs": [],
   "source": []
  }
 ],
 "metadata": {
  "kernelspec": {
   "display_name": "Python 3 (ipykernel)",
   "language": "python",
   "name": "python3"
  },
  "language_info": {
   "codemirror_mode": {
    "name": "ipython",
    "version": 3
   },
   "file_extension": ".py",
   "mimetype": "text/x-python",
   "name": "python",
   "nbconvert_exporter": "python",
   "pygments_lexer": "ipython3",
   "version": "3.9.7"
  }
 },
 "nbformat": 4,
 "nbformat_minor": 5
}
