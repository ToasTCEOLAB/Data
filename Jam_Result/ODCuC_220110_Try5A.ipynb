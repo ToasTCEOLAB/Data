{
  "cells": [
    {
      "cell_type": "markdown",
      "metadata": {
        "id": "view-in-github",
        "colab_type": "text"
      },
      "source": [
        "<a href=\"https://colab.research.google.com/github/NewTAs/ODCuC/blob/main/ODCuC_220110_Try5A.ipynb\" target=\"_parent\"><img src=\"https://colab.research.google.com/assets/colab-badge.svg\" alt=\"Open In Colab\"/></a>"
      ]
    },
    {
      "cell_type": "code",
      "execution_count": 1,
      "metadata": {
        "colab": {
          "base_uri": "https://localhost:8080/"
        },
        "id": "xgBO72ZY81tE",
        "outputId": "fe962655-ccbb-41e3-b5a5-6cf9028abe88"
      },
      "outputs": [
        {
          "output_type": "stream",
          "name": "stdout",
          "text": [
            "Mounted at Lee_dataset\n"
          ]
        }
      ],
      "source": [
        "import os\n",
        "import re\n",
        "import glob\n",
        "import cv2\n",
        "import numpy as np\n",
        "from sklearn.model_selection import train_test_split\n",
        "\n",
        "import tensorflow as tf\n",
        "\n",
        "from google.colab import drive\n",
        "drive.mount('Lee_dataset')"
      ]
    },
    {
      "cell_type": "code",
      "execution_count": 2,
      "metadata": {
        "colab": {
          "base_uri": "https://localhost:8080/"
        },
        "id": "H9aasxuq-Pia",
        "outputId": "7cc7443b-93ab-4a8f-c06e-a94dbf0a312e"
      },
      "outputs": [
        {
          "output_type": "stream",
          "name": "stdout",
          "text": [
            "Found 336 images belonging to 2 classes.\n",
            "Found 144 images belonging to 2 classes.\n"
          ]
        }
      ],
      "source": [
        "numberOfClass = 2\n",
        "pictureWeightHeightSize = 224\n",
        "\n",
        "train_datagen = tf.keras.preprocessing.image.ImageDataGenerator(rescale=1./255)\n",
        "\n",
        "train_generator = train_datagen.flow_from_directory(\n",
        "        '/content/Lee_dataset/MyDrive/Lee_Datasets/11/',\n",
        "        target_size=(pictureWeightHeightSize, pictureWeightHeightSize),\n",
        "        batch_size=numberOfClass,\n",
        "        class_mode='categorical')\n",
        "\n",
        "test_datagen = tf.keras.preprocessing.image.ImageDataGenerator(rescale=1./255)\n",
        "\n",
        "test_generator = test_datagen.flow_from_directory(\n",
        "        '/content/Lee_dataset/MyDrive/Lee_Datasets/12/',\n",
        "        target_size=(pictureWeightHeightSize, pictureWeightHeightSize),    \n",
        "        batch_size=numberOfClass,\n",
        "        class_mode='categorical')"
      ]
    },
    {
      "cell_type": "code",
      "execution_count": 3,
      "metadata": {
        "id": "eFApPT_d-q2g"
      },
      "outputs": [],
      "source": [
        "from tensorflow.keras.applications import ResNet50V2\n",
        "\n",
        "model = ResNet50V2(include_top=True, weights=None, input_shape=(224, 224, 3), pooling=max, classes=2)"
      ]
    },
    {
      "cell_type": "code",
      "execution_count": 4,
      "metadata": {
        "colab": {
          "base_uri": "https://localhost:8080/"
        },
        "id": "H6q5upFt_wCq",
        "outputId": "38e19e4a-0abf-4620-f0b5-5a07931224ef"
      },
      "outputs": [
        {
          "output_type": "stream",
          "name": "stdout",
          "text": [
            "Model: \"resnet50v2\"\n",
            "__________________________________________________________________________________________________\n",
            " Layer (type)                   Output Shape         Param #     Connected to                     \n",
            "==================================================================================================\n",
            " input_1 (InputLayer)           [(None, 224, 224, 3  0           []                               \n",
            "                                )]                                                                \n",
            "                                                                                                  \n",
            " conv1_pad (ZeroPadding2D)      (None, 230, 230, 3)  0           ['input_1[0][0]']                \n",
            "                                                                                                  \n",
            " conv1_conv (Conv2D)            (None, 112, 112, 64  9472        ['conv1_pad[0][0]']              \n",
            "                                )                                                                 \n",
            "                                                                                                  \n",
            " pool1_pad (ZeroPadding2D)      (None, 114, 114, 64  0           ['conv1_conv[0][0]']             \n",
            "                                )                                                                 \n",
            "                                                                                                  \n",
            " pool1_pool (MaxPooling2D)      (None, 56, 56, 64)   0           ['pool1_pad[0][0]']              \n",
            "                                                                                                  \n",
            " conv2_block1_preact_bn (BatchN  (None, 56, 56, 64)  256         ['pool1_pool[0][0]']             \n",
            " ormalization)                                                                                    \n",
            "                                                                                                  \n",
            " conv2_block1_preact_relu (Acti  (None, 56, 56, 64)  0           ['conv2_block1_preact_bn[0][0]'] \n",
            " vation)                                                                                          \n",
            "                                                                                                  \n",
            " conv2_block1_1_conv (Conv2D)   (None, 56, 56, 64)   4096        ['conv2_block1_preact_relu[0][0]'\n",
            "                                                                 ]                                \n",
            "                                                                                                  \n",
            " conv2_block1_1_bn (BatchNormal  (None, 56, 56, 64)  256         ['conv2_block1_1_conv[0][0]']    \n",
            " ization)                                                                                         \n",
            "                                                                                                  \n",
            " conv2_block1_1_relu (Activatio  (None, 56, 56, 64)  0           ['conv2_block1_1_bn[0][0]']      \n",
            " n)                                                                                               \n",
            "                                                                                                  \n",
            " conv2_block1_2_pad (ZeroPaddin  (None, 58, 58, 64)  0           ['conv2_block1_1_relu[0][0]']    \n",
            " g2D)                                                                                             \n",
            "                                                                                                  \n",
            " conv2_block1_2_conv (Conv2D)   (None, 56, 56, 64)   36864       ['conv2_block1_2_pad[0][0]']     \n",
            "                                                                                                  \n",
            " conv2_block1_2_bn (BatchNormal  (None, 56, 56, 64)  256         ['conv2_block1_2_conv[0][0]']    \n",
            " ization)                                                                                         \n",
            "                                                                                                  \n",
            " conv2_block1_2_relu (Activatio  (None, 56, 56, 64)  0           ['conv2_block1_2_bn[0][0]']      \n",
            " n)                                                                                               \n",
            "                                                                                                  \n",
            " conv2_block1_0_conv (Conv2D)   (None, 56, 56, 256)  16640       ['conv2_block1_preact_relu[0][0]'\n",
            "                                                                 ]                                \n",
            "                                                                                                  \n",
            " conv2_block1_3_conv (Conv2D)   (None, 56, 56, 256)  16640       ['conv2_block1_2_relu[0][0]']    \n",
            "                                                                                                  \n",
            " conv2_block1_out (Add)         (None, 56, 56, 256)  0           ['conv2_block1_0_conv[0][0]',    \n",
            "                                                                  'conv2_block1_3_conv[0][0]']    \n",
            "                                                                                                  \n",
            " conv2_block2_preact_bn (BatchN  (None, 56, 56, 256)  1024       ['conv2_block1_out[0][0]']       \n",
            " ormalization)                                                                                    \n",
            "                                                                                                  \n",
            " conv2_block2_preact_relu (Acti  (None, 56, 56, 256)  0          ['conv2_block2_preact_bn[0][0]'] \n",
            " vation)                                                                                          \n",
            "                                                                                                  \n",
            " conv2_block2_1_conv (Conv2D)   (None, 56, 56, 64)   16384       ['conv2_block2_preact_relu[0][0]'\n",
            "                                                                 ]                                \n",
            "                                                                                                  \n",
            " conv2_block2_1_bn (BatchNormal  (None, 56, 56, 64)  256         ['conv2_block2_1_conv[0][0]']    \n",
            " ization)                                                                                         \n",
            "                                                                                                  \n",
            " conv2_block2_1_relu (Activatio  (None, 56, 56, 64)  0           ['conv2_block2_1_bn[0][0]']      \n",
            " n)                                                                                               \n",
            "                                                                                                  \n",
            " conv2_block2_2_pad (ZeroPaddin  (None, 58, 58, 64)  0           ['conv2_block2_1_relu[0][0]']    \n",
            " g2D)                                                                                             \n",
            "                                                                                                  \n",
            " conv2_block2_2_conv (Conv2D)   (None, 56, 56, 64)   36864       ['conv2_block2_2_pad[0][0]']     \n",
            "                                                                                                  \n",
            " conv2_block2_2_bn (BatchNormal  (None, 56, 56, 64)  256         ['conv2_block2_2_conv[0][0]']    \n",
            " ization)                                                                                         \n",
            "                                                                                                  \n",
            " conv2_block2_2_relu (Activatio  (None, 56, 56, 64)  0           ['conv2_block2_2_bn[0][0]']      \n",
            " n)                                                                                               \n",
            "                                                                                                  \n",
            " conv2_block2_3_conv (Conv2D)   (None, 56, 56, 256)  16640       ['conv2_block2_2_relu[0][0]']    \n",
            "                                                                                                  \n",
            " conv2_block2_out (Add)         (None, 56, 56, 256)  0           ['conv2_block1_out[0][0]',       \n",
            "                                                                  'conv2_block2_3_conv[0][0]']    \n",
            "                                                                                                  \n",
            " conv2_block3_preact_bn (BatchN  (None, 56, 56, 256)  1024       ['conv2_block2_out[0][0]']       \n",
            " ormalization)                                                                                    \n",
            "                                                                                                  \n",
            " conv2_block3_preact_relu (Acti  (None, 56, 56, 256)  0          ['conv2_block3_preact_bn[0][0]'] \n",
            " vation)                                                                                          \n",
            "                                                                                                  \n",
            " conv2_block3_1_conv (Conv2D)   (None, 56, 56, 64)   16384       ['conv2_block3_preact_relu[0][0]'\n",
            "                                                                 ]                                \n",
            "                                                                                                  \n",
            " conv2_block3_1_bn (BatchNormal  (None, 56, 56, 64)  256         ['conv2_block3_1_conv[0][0]']    \n",
            " ization)                                                                                         \n",
            "                                                                                                  \n",
            " conv2_block3_1_relu (Activatio  (None, 56, 56, 64)  0           ['conv2_block3_1_bn[0][0]']      \n",
            " n)                                                                                               \n",
            "                                                                                                  \n",
            " conv2_block3_2_pad (ZeroPaddin  (None, 58, 58, 64)  0           ['conv2_block3_1_relu[0][0]']    \n",
            " g2D)                                                                                             \n",
            "                                                                                                  \n",
            " conv2_block3_2_conv (Conv2D)   (None, 28, 28, 64)   36864       ['conv2_block3_2_pad[0][0]']     \n",
            "                                                                                                  \n",
            " conv2_block3_2_bn (BatchNormal  (None, 28, 28, 64)  256         ['conv2_block3_2_conv[0][0]']    \n",
            " ization)                                                                                         \n",
            "                                                                                                  \n",
            " conv2_block3_2_relu (Activatio  (None, 28, 28, 64)  0           ['conv2_block3_2_bn[0][0]']      \n",
            " n)                                                                                               \n",
            "                                                                                                  \n",
            " max_pooling2d (MaxPooling2D)   (None, 28, 28, 256)  0           ['conv2_block2_out[0][0]']       \n",
            "                                                                                                  \n",
            " conv2_block3_3_conv (Conv2D)   (None, 28, 28, 256)  16640       ['conv2_block3_2_relu[0][0]']    \n",
            "                                                                                                  \n",
            " conv2_block3_out (Add)         (None, 28, 28, 256)  0           ['max_pooling2d[0][0]',          \n",
            "                                                                  'conv2_block3_3_conv[0][0]']    \n",
            "                                                                                                  \n",
            " conv3_block1_preact_bn (BatchN  (None, 28, 28, 256)  1024       ['conv2_block3_out[0][0]']       \n",
            " ormalization)                                                                                    \n",
            "                                                                                                  \n",
            " conv3_block1_preact_relu (Acti  (None, 28, 28, 256)  0          ['conv3_block1_preact_bn[0][0]'] \n",
            " vation)                                                                                          \n",
            "                                                                                                  \n",
            " conv3_block1_1_conv (Conv2D)   (None, 28, 28, 128)  32768       ['conv3_block1_preact_relu[0][0]'\n",
            "                                                                 ]                                \n",
            "                                                                                                  \n",
            " conv3_block1_1_bn (BatchNormal  (None, 28, 28, 128)  512        ['conv3_block1_1_conv[0][0]']    \n",
            " ization)                                                                                         \n",
            "                                                                                                  \n",
            " conv3_block1_1_relu (Activatio  (None, 28, 28, 128)  0          ['conv3_block1_1_bn[0][0]']      \n",
            " n)                                                                                               \n",
            "                                                                                                  \n",
            " conv3_block1_2_pad (ZeroPaddin  (None, 30, 30, 128)  0          ['conv3_block1_1_relu[0][0]']    \n",
            " g2D)                                                                                             \n",
            "                                                                                                  \n",
            " conv3_block1_2_conv (Conv2D)   (None, 28, 28, 128)  147456      ['conv3_block1_2_pad[0][0]']     \n",
            "                                                                                                  \n",
            " conv3_block1_2_bn (BatchNormal  (None, 28, 28, 128)  512        ['conv3_block1_2_conv[0][0]']    \n",
            " ization)                                                                                         \n",
            "                                                                                                  \n",
            " conv3_block1_2_relu (Activatio  (None, 28, 28, 128)  0          ['conv3_block1_2_bn[0][0]']      \n",
            " n)                                                                                               \n",
            "                                                                                                  \n",
            " conv3_block1_0_conv (Conv2D)   (None, 28, 28, 512)  131584      ['conv3_block1_preact_relu[0][0]'\n",
            "                                                                 ]                                \n",
            "                                                                                                  \n",
            " conv3_block1_3_conv (Conv2D)   (None, 28, 28, 512)  66048       ['conv3_block1_2_relu[0][0]']    \n",
            "                                                                                                  \n",
            " conv3_block1_out (Add)         (None, 28, 28, 512)  0           ['conv3_block1_0_conv[0][0]',    \n",
            "                                                                  'conv3_block1_3_conv[0][0]']    \n",
            "                                                                                                  \n",
            " conv3_block2_preact_bn (BatchN  (None, 28, 28, 512)  2048       ['conv3_block1_out[0][0]']       \n",
            " ormalization)                                                                                    \n",
            "                                                                                                  \n",
            " conv3_block2_preact_relu (Acti  (None, 28, 28, 512)  0          ['conv3_block2_preact_bn[0][0]'] \n",
            " vation)                                                                                          \n",
            "                                                                                                  \n",
            " conv3_block2_1_conv (Conv2D)   (None, 28, 28, 128)  65536       ['conv3_block2_preact_relu[0][0]'\n",
            "                                                                 ]                                \n",
            "                                                                                                  \n",
            " conv3_block2_1_bn (BatchNormal  (None, 28, 28, 128)  512        ['conv3_block2_1_conv[0][0]']    \n",
            " ization)                                                                                         \n",
            "                                                                                                  \n",
            " conv3_block2_1_relu (Activatio  (None, 28, 28, 128)  0          ['conv3_block2_1_bn[0][0]']      \n",
            " n)                                                                                               \n",
            "                                                                                                  \n",
            " conv3_block2_2_pad (ZeroPaddin  (None, 30, 30, 128)  0          ['conv3_block2_1_relu[0][0]']    \n",
            " g2D)                                                                                             \n",
            "                                                                                                  \n",
            " conv3_block2_2_conv (Conv2D)   (None, 28, 28, 128)  147456      ['conv3_block2_2_pad[0][0]']     \n",
            "                                                                                                  \n",
            " conv3_block2_2_bn (BatchNormal  (None, 28, 28, 128)  512        ['conv3_block2_2_conv[0][0]']    \n",
            " ization)                                                                                         \n",
            "                                                                                                  \n",
            " conv3_block2_2_relu (Activatio  (None, 28, 28, 128)  0          ['conv3_block2_2_bn[0][0]']      \n",
            " n)                                                                                               \n",
            "                                                                                                  \n",
            " conv3_block2_3_conv (Conv2D)   (None, 28, 28, 512)  66048       ['conv3_block2_2_relu[0][0]']    \n",
            "                                                                                                  \n",
            " conv3_block2_out (Add)         (None, 28, 28, 512)  0           ['conv3_block1_out[0][0]',       \n",
            "                                                                  'conv3_block2_3_conv[0][0]']    \n",
            "                                                                                                  \n",
            " conv3_block3_preact_bn (BatchN  (None, 28, 28, 512)  2048       ['conv3_block2_out[0][0]']       \n",
            " ormalization)                                                                                    \n",
            "                                                                                                  \n",
            " conv3_block3_preact_relu (Acti  (None, 28, 28, 512)  0          ['conv3_block3_preact_bn[0][0]'] \n",
            " vation)                                                                                          \n",
            "                                                                                                  \n",
            " conv3_block3_1_conv (Conv2D)   (None, 28, 28, 128)  65536       ['conv3_block3_preact_relu[0][0]'\n",
            "                                                                 ]                                \n",
            "                                                                                                  \n",
            " conv3_block3_1_bn (BatchNormal  (None, 28, 28, 128)  512        ['conv3_block3_1_conv[0][0]']    \n",
            " ization)                                                                                         \n",
            "                                                                                                  \n",
            " conv3_block3_1_relu (Activatio  (None, 28, 28, 128)  0          ['conv3_block3_1_bn[0][0]']      \n",
            " n)                                                                                               \n",
            "                                                                                                  \n",
            " conv3_block3_2_pad (ZeroPaddin  (None, 30, 30, 128)  0          ['conv3_block3_1_relu[0][0]']    \n",
            " g2D)                                                                                             \n",
            "                                                                                                  \n",
            " conv3_block3_2_conv (Conv2D)   (None, 28, 28, 128)  147456      ['conv3_block3_2_pad[0][0]']     \n",
            "                                                                                                  \n",
            " conv3_block3_2_bn (BatchNormal  (None, 28, 28, 128)  512        ['conv3_block3_2_conv[0][0]']    \n",
            " ization)                                                                                         \n",
            "                                                                                                  \n",
            " conv3_block3_2_relu (Activatio  (None, 28, 28, 128)  0          ['conv3_block3_2_bn[0][0]']      \n",
            " n)                                                                                               \n",
            "                                                                                                  \n",
            " conv3_block3_3_conv (Conv2D)   (None, 28, 28, 512)  66048       ['conv3_block3_2_relu[0][0]']    \n",
            "                                                                                                  \n",
            " conv3_block3_out (Add)         (None, 28, 28, 512)  0           ['conv3_block2_out[0][0]',       \n",
            "                                                                  'conv3_block3_3_conv[0][0]']    \n",
            "                                                                                                  \n",
            " conv3_block4_preact_bn (BatchN  (None, 28, 28, 512)  2048       ['conv3_block3_out[0][0]']       \n",
            " ormalization)                                                                                    \n",
            "                                                                                                  \n",
            " conv3_block4_preact_relu (Acti  (None, 28, 28, 512)  0          ['conv3_block4_preact_bn[0][0]'] \n",
            " vation)                                                                                          \n",
            "                                                                                                  \n",
            " conv3_block4_1_conv (Conv2D)   (None, 28, 28, 128)  65536       ['conv3_block4_preact_relu[0][0]'\n",
            "                                                                 ]                                \n",
            "                                                                                                  \n",
            " conv3_block4_1_bn (BatchNormal  (None, 28, 28, 128)  512        ['conv3_block4_1_conv[0][0]']    \n",
            " ization)                                                                                         \n",
            "                                                                                                  \n",
            " conv3_block4_1_relu (Activatio  (None, 28, 28, 128)  0          ['conv3_block4_1_bn[0][0]']      \n",
            " n)                                                                                               \n",
            "                                                                                                  \n",
            " conv3_block4_2_pad (ZeroPaddin  (None, 30, 30, 128)  0          ['conv3_block4_1_relu[0][0]']    \n",
            " g2D)                                                                                             \n",
            "                                                                                                  \n",
            " conv3_block4_2_conv (Conv2D)   (None, 14, 14, 128)  147456      ['conv3_block4_2_pad[0][0]']     \n",
            "                                                                                                  \n",
            " conv3_block4_2_bn (BatchNormal  (None, 14, 14, 128)  512        ['conv3_block4_2_conv[0][0]']    \n",
            " ization)                                                                                         \n",
            "                                                                                                  \n",
            " conv3_block4_2_relu (Activatio  (None, 14, 14, 128)  0          ['conv3_block4_2_bn[0][0]']      \n",
            " n)                                                                                               \n",
            "                                                                                                  \n",
            " max_pooling2d_1 (MaxPooling2D)  (None, 14, 14, 512)  0          ['conv3_block3_out[0][0]']       \n",
            "                                                                                                  \n",
            " conv3_block4_3_conv (Conv2D)   (None, 14, 14, 512)  66048       ['conv3_block4_2_relu[0][0]']    \n",
            "                                                                                                  \n",
            " conv3_block4_out (Add)         (None, 14, 14, 512)  0           ['max_pooling2d_1[0][0]',        \n",
            "                                                                  'conv3_block4_3_conv[0][0]']    \n",
            "                                                                                                  \n",
            " conv4_block1_preact_bn (BatchN  (None, 14, 14, 512)  2048       ['conv3_block4_out[0][0]']       \n",
            " ormalization)                                                                                    \n",
            "                                                                                                  \n",
            " conv4_block1_preact_relu (Acti  (None, 14, 14, 512)  0          ['conv4_block1_preact_bn[0][0]'] \n",
            " vation)                                                                                          \n",
            "                                                                                                  \n",
            " conv4_block1_1_conv (Conv2D)   (None, 14, 14, 256)  131072      ['conv4_block1_preact_relu[0][0]'\n",
            "                                                                 ]                                \n",
            "                                                                                                  \n",
            " conv4_block1_1_bn (BatchNormal  (None, 14, 14, 256)  1024       ['conv4_block1_1_conv[0][0]']    \n",
            " ization)                                                                                         \n",
            "                                                                                                  \n",
            " conv4_block1_1_relu (Activatio  (None, 14, 14, 256)  0          ['conv4_block1_1_bn[0][0]']      \n",
            " n)                                                                                               \n",
            "                                                                                                  \n",
            " conv4_block1_2_pad (ZeroPaddin  (None, 16, 16, 256)  0          ['conv4_block1_1_relu[0][0]']    \n",
            " g2D)                                                                                             \n",
            "                                                                                                  \n",
            " conv4_block1_2_conv (Conv2D)   (None, 14, 14, 256)  589824      ['conv4_block1_2_pad[0][0]']     \n",
            "                                                                                                  \n",
            " conv4_block1_2_bn (BatchNormal  (None, 14, 14, 256)  1024       ['conv4_block1_2_conv[0][0]']    \n",
            " ization)                                                                                         \n",
            "                                                                                                  \n",
            " conv4_block1_2_relu (Activatio  (None, 14, 14, 256)  0          ['conv4_block1_2_bn[0][0]']      \n",
            " n)                                                                                               \n",
            "                                                                                                  \n",
            " conv4_block1_0_conv (Conv2D)   (None, 14, 14, 1024  525312      ['conv4_block1_preact_relu[0][0]'\n",
            "                                )                                ]                                \n",
            "                                                                                                  \n",
            " conv4_block1_3_conv (Conv2D)   (None, 14, 14, 1024  263168      ['conv4_block1_2_relu[0][0]']    \n",
            "                                )                                                                 \n",
            "                                                                                                  \n",
            " conv4_block1_out (Add)         (None, 14, 14, 1024  0           ['conv4_block1_0_conv[0][0]',    \n",
            "                                )                                 'conv4_block1_3_conv[0][0]']    \n",
            "                                                                                                  \n",
            " conv4_block2_preact_bn (BatchN  (None, 14, 14, 1024  4096       ['conv4_block1_out[0][0]']       \n",
            " ormalization)                  )                                                                 \n",
            "                                                                                                  \n",
            " conv4_block2_preact_relu (Acti  (None, 14, 14, 1024  0          ['conv4_block2_preact_bn[0][0]'] \n",
            " vation)                        )                                                                 \n",
            "                                                                                                  \n",
            " conv4_block2_1_conv (Conv2D)   (None, 14, 14, 256)  262144      ['conv4_block2_preact_relu[0][0]'\n",
            "                                                                 ]                                \n",
            "                                                                                                  \n",
            " conv4_block2_1_bn (BatchNormal  (None, 14, 14, 256)  1024       ['conv4_block2_1_conv[0][0]']    \n",
            " ization)                                                                                         \n",
            "                                                                                                  \n",
            " conv4_block2_1_relu (Activatio  (None, 14, 14, 256)  0          ['conv4_block2_1_bn[0][0]']      \n",
            " n)                                                                                               \n",
            "                                                                                                  \n",
            " conv4_block2_2_pad (ZeroPaddin  (None, 16, 16, 256)  0          ['conv4_block2_1_relu[0][0]']    \n",
            " g2D)                                                                                             \n",
            "                                                                                                  \n",
            " conv4_block2_2_conv (Conv2D)   (None, 14, 14, 256)  589824      ['conv4_block2_2_pad[0][0]']     \n",
            "                                                                                                  \n",
            " conv4_block2_2_bn (BatchNormal  (None, 14, 14, 256)  1024       ['conv4_block2_2_conv[0][0]']    \n",
            " ization)                                                                                         \n",
            "                                                                                                  \n",
            " conv4_block2_2_relu (Activatio  (None, 14, 14, 256)  0          ['conv4_block2_2_bn[0][0]']      \n",
            " n)                                                                                               \n",
            "                                                                                                  \n",
            " conv4_block2_3_conv (Conv2D)   (None, 14, 14, 1024  263168      ['conv4_block2_2_relu[0][0]']    \n",
            "                                )                                                                 \n",
            "                                                                                                  \n",
            " conv4_block2_out (Add)         (None, 14, 14, 1024  0           ['conv4_block1_out[0][0]',       \n",
            "                                )                                 'conv4_block2_3_conv[0][0]']    \n",
            "                                                                                                  \n",
            " conv4_block3_preact_bn (BatchN  (None, 14, 14, 1024  4096       ['conv4_block2_out[0][0]']       \n",
            " ormalization)                  )                                                                 \n",
            "                                                                                                  \n",
            " conv4_block3_preact_relu (Acti  (None, 14, 14, 1024  0          ['conv4_block3_preact_bn[0][0]'] \n",
            " vation)                        )                                                                 \n",
            "                                                                                                  \n",
            " conv4_block3_1_conv (Conv2D)   (None, 14, 14, 256)  262144      ['conv4_block3_preact_relu[0][0]'\n",
            "                                                                 ]                                \n",
            "                                                                                                  \n",
            " conv4_block3_1_bn (BatchNormal  (None, 14, 14, 256)  1024       ['conv4_block3_1_conv[0][0]']    \n",
            " ization)                                                                                         \n",
            "                                                                                                  \n",
            " conv4_block3_1_relu (Activatio  (None, 14, 14, 256)  0          ['conv4_block3_1_bn[0][0]']      \n",
            " n)                                                                                               \n",
            "                                                                                                  \n",
            " conv4_block3_2_pad (ZeroPaddin  (None, 16, 16, 256)  0          ['conv4_block3_1_relu[0][0]']    \n",
            " g2D)                                                                                             \n",
            "                                                                                                  \n",
            " conv4_block3_2_conv (Conv2D)   (None, 14, 14, 256)  589824      ['conv4_block3_2_pad[0][0]']     \n",
            "                                                                                                  \n",
            " conv4_block3_2_bn (BatchNormal  (None, 14, 14, 256)  1024       ['conv4_block3_2_conv[0][0]']    \n",
            " ization)                                                                                         \n",
            "                                                                                                  \n",
            " conv4_block3_2_relu (Activatio  (None, 14, 14, 256)  0          ['conv4_block3_2_bn[0][0]']      \n",
            " n)                                                                                               \n",
            "                                                                                                  \n",
            " conv4_block3_3_conv (Conv2D)   (None, 14, 14, 1024  263168      ['conv4_block3_2_relu[0][0]']    \n",
            "                                )                                                                 \n",
            "                                                                                                  \n",
            " conv4_block3_out (Add)         (None, 14, 14, 1024  0           ['conv4_block2_out[0][0]',       \n",
            "                                )                                 'conv4_block3_3_conv[0][0]']    \n",
            "                                                                                                  \n",
            " conv4_block4_preact_bn (BatchN  (None, 14, 14, 1024  4096       ['conv4_block3_out[0][0]']       \n",
            " ormalization)                  )                                                                 \n",
            "                                                                                                  \n",
            " conv4_block4_preact_relu (Acti  (None, 14, 14, 1024  0          ['conv4_block4_preact_bn[0][0]'] \n",
            " vation)                        )                                                                 \n",
            "                                                                                                  \n",
            " conv4_block4_1_conv (Conv2D)   (None, 14, 14, 256)  262144      ['conv4_block4_preact_relu[0][0]'\n",
            "                                                                 ]                                \n",
            "                                                                                                  \n",
            " conv4_block4_1_bn (BatchNormal  (None, 14, 14, 256)  1024       ['conv4_block4_1_conv[0][0]']    \n",
            " ization)                                                                                         \n",
            "                                                                                                  \n",
            " conv4_block4_1_relu (Activatio  (None, 14, 14, 256)  0          ['conv4_block4_1_bn[0][0]']      \n",
            " n)                                                                                               \n",
            "                                                                                                  \n",
            " conv4_block4_2_pad (ZeroPaddin  (None, 16, 16, 256)  0          ['conv4_block4_1_relu[0][0]']    \n",
            " g2D)                                                                                             \n",
            "                                                                                                  \n",
            " conv4_block4_2_conv (Conv2D)   (None, 14, 14, 256)  589824      ['conv4_block4_2_pad[0][0]']     \n",
            "                                                                                                  \n",
            " conv4_block4_2_bn (BatchNormal  (None, 14, 14, 256)  1024       ['conv4_block4_2_conv[0][0]']    \n",
            " ization)                                                                                         \n",
            "                                                                                                  \n",
            " conv4_block4_2_relu (Activatio  (None, 14, 14, 256)  0          ['conv4_block4_2_bn[0][0]']      \n",
            " n)                                                                                               \n",
            "                                                                                                  \n",
            " conv4_block4_3_conv (Conv2D)   (None, 14, 14, 1024  263168      ['conv4_block4_2_relu[0][0]']    \n",
            "                                )                                                                 \n",
            "                                                                                                  \n",
            " conv4_block4_out (Add)         (None, 14, 14, 1024  0           ['conv4_block3_out[0][0]',       \n",
            "                                )                                 'conv4_block4_3_conv[0][0]']    \n",
            "                                                                                                  \n",
            " conv4_block5_preact_bn (BatchN  (None, 14, 14, 1024  4096       ['conv4_block4_out[0][0]']       \n",
            " ormalization)                  )                                                                 \n",
            "                                                                                                  \n",
            " conv4_block5_preact_relu (Acti  (None, 14, 14, 1024  0          ['conv4_block5_preact_bn[0][0]'] \n",
            " vation)                        )                                                                 \n",
            "                                                                                                  \n",
            " conv4_block5_1_conv (Conv2D)   (None, 14, 14, 256)  262144      ['conv4_block5_preact_relu[0][0]'\n",
            "                                                                 ]                                \n",
            "                                                                                                  \n",
            " conv4_block5_1_bn (BatchNormal  (None, 14, 14, 256)  1024       ['conv4_block5_1_conv[0][0]']    \n",
            " ization)                                                                                         \n",
            "                                                                                                  \n",
            " conv4_block5_1_relu (Activatio  (None, 14, 14, 256)  0          ['conv4_block5_1_bn[0][0]']      \n",
            " n)                                                                                               \n",
            "                                                                                                  \n",
            " conv4_block5_2_pad (ZeroPaddin  (None, 16, 16, 256)  0          ['conv4_block5_1_relu[0][0]']    \n",
            " g2D)                                                                                             \n",
            "                                                                                                  \n",
            " conv4_block5_2_conv (Conv2D)   (None, 14, 14, 256)  589824      ['conv4_block5_2_pad[0][0]']     \n",
            "                                                                                                  \n",
            " conv4_block5_2_bn (BatchNormal  (None, 14, 14, 256)  1024       ['conv4_block5_2_conv[0][0]']    \n",
            " ization)                                                                                         \n",
            "                                                                                                  \n",
            " conv4_block5_2_relu (Activatio  (None, 14, 14, 256)  0          ['conv4_block5_2_bn[0][0]']      \n",
            " n)                                                                                               \n",
            "                                                                                                  \n",
            " conv4_block5_3_conv (Conv2D)   (None, 14, 14, 1024  263168      ['conv4_block5_2_relu[0][0]']    \n",
            "                                )                                                                 \n",
            "                                                                                                  \n",
            " conv4_block5_out (Add)         (None, 14, 14, 1024  0           ['conv4_block4_out[0][0]',       \n",
            "                                )                                 'conv4_block5_3_conv[0][0]']    \n",
            "                                                                                                  \n",
            " conv4_block6_preact_bn (BatchN  (None, 14, 14, 1024  4096       ['conv4_block5_out[0][0]']       \n",
            " ormalization)                  )                                                                 \n",
            "                                                                                                  \n",
            " conv4_block6_preact_relu (Acti  (None, 14, 14, 1024  0          ['conv4_block6_preact_bn[0][0]'] \n",
            " vation)                        )                                                                 \n",
            "                                                                                                  \n",
            " conv4_block6_1_conv (Conv2D)   (None, 14, 14, 256)  262144      ['conv4_block6_preact_relu[0][0]'\n",
            "                                                                 ]                                \n",
            "                                                                                                  \n",
            " conv4_block6_1_bn (BatchNormal  (None, 14, 14, 256)  1024       ['conv4_block6_1_conv[0][0]']    \n",
            " ization)                                                                                         \n",
            "                                                                                                  \n",
            " conv4_block6_1_relu (Activatio  (None, 14, 14, 256)  0          ['conv4_block6_1_bn[0][0]']      \n",
            " n)                                                                                               \n",
            "                                                                                                  \n",
            " conv4_block6_2_pad (ZeroPaddin  (None, 16, 16, 256)  0          ['conv4_block6_1_relu[0][0]']    \n",
            " g2D)                                                                                             \n",
            "                                                                                                  \n",
            " conv4_block6_2_conv (Conv2D)   (None, 7, 7, 256)    589824      ['conv4_block6_2_pad[0][0]']     \n",
            "                                                                                                  \n",
            " conv4_block6_2_bn (BatchNormal  (None, 7, 7, 256)   1024        ['conv4_block6_2_conv[0][0]']    \n",
            " ization)                                                                                         \n",
            "                                                                                                  \n",
            " conv4_block6_2_relu (Activatio  (None, 7, 7, 256)   0           ['conv4_block6_2_bn[0][0]']      \n",
            " n)                                                                                               \n",
            "                                                                                                  \n",
            " max_pooling2d_2 (MaxPooling2D)  (None, 7, 7, 1024)  0           ['conv4_block5_out[0][0]']       \n",
            "                                                                                                  \n",
            " conv4_block6_3_conv (Conv2D)   (None, 7, 7, 1024)   263168      ['conv4_block6_2_relu[0][0]']    \n",
            "                                                                                                  \n",
            " conv4_block6_out (Add)         (None, 7, 7, 1024)   0           ['max_pooling2d_2[0][0]',        \n",
            "                                                                  'conv4_block6_3_conv[0][0]']    \n",
            "                                                                                                  \n",
            " conv5_block1_preact_bn (BatchN  (None, 7, 7, 1024)  4096        ['conv4_block6_out[0][0]']       \n",
            " ormalization)                                                                                    \n",
            "                                                                                                  \n",
            " conv5_block1_preact_relu (Acti  (None, 7, 7, 1024)  0           ['conv5_block1_preact_bn[0][0]'] \n",
            " vation)                                                                                          \n",
            "                                                                                                  \n",
            " conv5_block1_1_conv (Conv2D)   (None, 7, 7, 512)    524288      ['conv5_block1_preact_relu[0][0]'\n",
            "                                                                 ]                                \n",
            "                                                                                                  \n",
            " conv5_block1_1_bn (BatchNormal  (None, 7, 7, 512)   2048        ['conv5_block1_1_conv[0][0]']    \n",
            " ization)                                                                                         \n",
            "                                                                                                  \n",
            " conv5_block1_1_relu (Activatio  (None, 7, 7, 512)   0           ['conv5_block1_1_bn[0][0]']      \n",
            " n)                                                                                               \n",
            "                                                                                                  \n",
            " conv5_block1_2_pad (ZeroPaddin  (None, 9, 9, 512)   0           ['conv5_block1_1_relu[0][0]']    \n",
            " g2D)                                                                                             \n",
            "                                                                                                  \n",
            " conv5_block1_2_conv (Conv2D)   (None, 7, 7, 512)    2359296     ['conv5_block1_2_pad[0][0]']     \n",
            "                                                                                                  \n",
            " conv5_block1_2_bn (BatchNormal  (None, 7, 7, 512)   2048        ['conv5_block1_2_conv[0][0]']    \n",
            " ization)                                                                                         \n",
            "                                                                                                  \n",
            " conv5_block1_2_relu (Activatio  (None, 7, 7, 512)   0           ['conv5_block1_2_bn[0][0]']      \n",
            " n)                                                                                               \n",
            "                                                                                                  \n",
            " conv5_block1_0_conv (Conv2D)   (None, 7, 7, 2048)   2099200     ['conv5_block1_preact_relu[0][0]'\n",
            "                                                                 ]                                \n",
            "                                                                                                  \n",
            " conv5_block1_3_conv (Conv2D)   (None, 7, 7, 2048)   1050624     ['conv5_block1_2_relu[0][0]']    \n",
            "                                                                                                  \n",
            " conv5_block1_out (Add)         (None, 7, 7, 2048)   0           ['conv5_block1_0_conv[0][0]',    \n",
            "                                                                  'conv5_block1_3_conv[0][0]']    \n",
            "                                                                                                  \n",
            " conv5_block2_preact_bn (BatchN  (None, 7, 7, 2048)  8192        ['conv5_block1_out[0][0]']       \n",
            " ormalization)                                                                                    \n",
            "                                                                                                  \n",
            " conv5_block2_preact_relu (Acti  (None, 7, 7, 2048)  0           ['conv5_block2_preact_bn[0][0]'] \n",
            " vation)                                                                                          \n",
            "                                                                                                  \n",
            " conv5_block2_1_conv (Conv2D)   (None, 7, 7, 512)    1048576     ['conv5_block2_preact_relu[0][0]'\n",
            "                                                                 ]                                \n",
            "                                                                                                  \n",
            " conv5_block2_1_bn (BatchNormal  (None, 7, 7, 512)   2048        ['conv5_block2_1_conv[0][0]']    \n",
            " ization)                                                                                         \n",
            "                                                                                                  \n",
            " conv5_block2_1_relu (Activatio  (None, 7, 7, 512)   0           ['conv5_block2_1_bn[0][0]']      \n",
            " n)                                                                                               \n",
            "                                                                                                  \n",
            " conv5_block2_2_pad (ZeroPaddin  (None, 9, 9, 512)   0           ['conv5_block2_1_relu[0][0]']    \n",
            " g2D)                                                                                             \n",
            "                                                                                                  \n",
            " conv5_block2_2_conv (Conv2D)   (None, 7, 7, 512)    2359296     ['conv5_block2_2_pad[0][0]']     \n",
            "                                                                                                  \n",
            " conv5_block2_2_bn (BatchNormal  (None, 7, 7, 512)   2048        ['conv5_block2_2_conv[0][0]']    \n",
            " ization)                                                                                         \n",
            "                                                                                                  \n",
            " conv5_block2_2_relu (Activatio  (None, 7, 7, 512)   0           ['conv5_block2_2_bn[0][0]']      \n",
            " n)                                                                                               \n",
            "                                                                                                  \n",
            " conv5_block2_3_conv (Conv2D)   (None, 7, 7, 2048)   1050624     ['conv5_block2_2_relu[0][0]']    \n",
            "                                                                                                  \n",
            " conv5_block2_out (Add)         (None, 7, 7, 2048)   0           ['conv5_block1_out[0][0]',       \n",
            "                                                                  'conv5_block2_3_conv[0][0]']    \n",
            "                                                                                                  \n",
            " conv5_block3_preact_bn (BatchN  (None, 7, 7, 2048)  8192        ['conv5_block2_out[0][0]']       \n",
            " ormalization)                                                                                    \n",
            "                                                                                                  \n",
            " conv5_block3_preact_relu (Acti  (None, 7, 7, 2048)  0           ['conv5_block3_preact_bn[0][0]'] \n",
            " vation)                                                                                          \n",
            "                                                                                                  \n",
            " conv5_block3_1_conv (Conv2D)   (None, 7, 7, 512)    1048576     ['conv5_block3_preact_relu[0][0]'\n",
            "                                                                 ]                                \n",
            "                                                                                                  \n",
            " conv5_block3_1_bn (BatchNormal  (None, 7, 7, 512)   2048        ['conv5_block3_1_conv[0][0]']    \n",
            " ization)                                                                                         \n",
            "                                                                                                  \n",
            " conv5_block3_1_relu (Activatio  (None, 7, 7, 512)   0           ['conv5_block3_1_bn[0][0]']      \n",
            " n)                                                                                               \n",
            "                                                                                                  \n",
            " conv5_block3_2_pad (ZeroPaddin  (None, 9, 9, 512)   0           ['conv5_block3_1_relu[0][0]']    \n",
            " g2D)                                                                                             \n",
            "                                                                                                  \n",
            " conv5_block3_2_conv (Conv2D)   (None, 7, 7, 512)    2359296     ['conv5_block3_2_pad[0][0]']     \n",
            "                                                                                                  \n",
            " conv5_block3_2_bn (BatchNormal  (None, 7, 7, 512)   2048        ['conv5_block3_2_conv[0][0]']    \n",
            " ization)                                                                                         \n",
            "                                                                                                  \n",
            " conv5_block3_2_relu (Activatio  (None, 7, 7, 512)   0           ['conv5_block3_2_bn[0][0]']      \n",
            " n)                                                                                               \n",
            "                                                                                                  \n",
            " conv5_block3_3_conv (Conv2D)   (None, 7, 7, 2048)   1050624     ['conv5_block3_2_relu[0][0]']    \n",
            "                                                                                                  \n",
            " conv5_block3_out (Add)         (None, 7, 7, 2048)   0           ['conv5_block2_out[0][0]',       \n",
            "                                                                  'conv5_block3_3_conv[0][0]']    \n",
            "                                                                                                  \n",
            " post_bn (BatchNormalization)   (None, 7, 7, 2048)   8192        ['conv5_block3_out[0][0]']       \n",
            "                                                                                                  \n",
            " post_relu (Activation)         (None, 7, 7, 2048)   0           ['post_bn[0][0]']                \n",
            "                                                                                                  \n",
            " avg_pool (GlobalAveragePooling  (None, 2048)        0           ['post_relu[0][0]']              \n",
            " 2D)                                                                                              \n",
            "                                                                                                  \n",
            " predictions (Dense)            (None, 2)            4098        ['avg_pool[0][0]']               \n",
            "                                                                                                  \n",
            "==================================================================================================\n",
            "Total params: 23,568,898\n",
            "Trainable params: 23,523,458\n",
            "Non-trainable params: 45,440\n",
            "__________________________________________________________________________________________________\n"
          ]
        }
      ],
      "source": [
        "model.compile(loss='categorical_crossentropy', metrics=['accuracy'], optimizer='adam')\n",
        "model.summary()"
      ]
    },
    {
      "cell_type": "code",
      "execution_count": 5,
      "metadata": {
        "colab": {
          "base_uri": "https://localhost:8080/"
        },
        "id": "XTvRldGR_xMC",
        "outputId": "df7acffb-f9ce-487b-abf9-661c8838d5b4"
      },
      "outputs": [
        {
          "output_type": "stream",
          "name": "stdout",
          "text": [
            "Epoch 1/100\n",
            "168/168 [==============================] - 98s 482ms/step - loss: 0.5937 - accuracy: 0.7470 - val_loss: 0.8504 - val_accuracy: 0.5000\n",
            "Epoch 2/100\n",
            "168/168 [==============================] - 20s 119ms/step - loss: 0.4631 - accuracy: 0.7857 - val_loss: 22.8697 - val_accuracy: 0.5000\n",
            "Epoch 3/100\n",
            "168/168 [==============================] - 20s 119ms/step - loss: 0.2835 - accuracy: 0.8929 - val_loss: 391.9794 - val_accuracy: 0.5000\n",
            "Epoch 4/100\n",
            "168/168 [==============================] - 20s 120ms/step - loss: 0.1756 - accuracy: 0.9315 - val_loss: 0.2987 - val_accuracy: 0.9028\n",
            "Epoch 5/100\n",
            "168/168 [==============================] - 20s 119ms/step - loss: 0.0227 - accuracy: 0.9940 - val_loss: 0.0455 - val_accuracy: 1.0000\n",
            "Epoch 6/100\n",
            "168/168 [==============================] - 20s 118ms/step - loss: 0.0105 - accuracy: 1.0000 - val_loss: 0.0048 - val_accuracy: 1.0000\n",
            "Epoch 7/100\n",
            "168/168 [==============================] - 20s 118ms/step - loss: 0.0039 - accuracy: 1.0000 - val_loss: 9.0327e-04 - val_accuracy: 1.0000\n",
            "Epoch 8/100\n",
            "168/168 [==============================] - 20s 118ms/step - loss: 0.0010 - accuracy: 1.0000 - val_loss: 4.0798e-04 - val_accuracy: 1.0000\n",
            "Epoch 9/100\n",
            "168/168 [==============================] - 20s 118ms/step - loss: 0.0018 - accuracy: 1.0000 - val_loss: 3.1126e-04 - val_accuracy: 1.0000\n",
            "Epoch 10/100\n",
            "168/168 [==============================] - 20s 118ms/step - loss: 8.1311e-04 - accuracy: 1.0000 - val_loss: 2.1866e-04 - val_accuracy: 1.0000\n",
            "Epoch 11/100\n",
            "168/168 [==============================] - 20s 119ms/step - loss: 8.7187e-04 - accuracy: 1.0000 - val_loss: 2.0947e-04 - val_accuracy: 1.0000\n",
            "Epoch 12/100\n",
            "168/168 [==============================] - 20s 120ms/step - loss: 5.4424e-04 - accuracy: 1.0000 - val_loss: 7.9803e-04 - val_accuracy: 1.0000\n",
            "Epoch 13/100\n",
            "168/168 [==============================] - 20s 120ms/step - loss: 4.5622e-04 - accuracy: 1.0000 - val_loss: 1.3331e-04 - val_accuracy: 1.0000\n",
            "Epoch 14/100\n",
            "168/168 [==============================] - 20s 120ms/step - loss: 2.7584e-04 - accuracy: 1.0000 - val_loss: 4.8462e-04 - val_accuracy: 1.0000\n",
            "Epoch 15/100\n",
            "168/168 [==============================] - 20s 120ms/step - loss: 2.1965e-04 - accuracy: 1.0000 - val_loss: 1.2783e-04 - val_accuracy: 1.0000\n",
            "Epoch 16/100\n",
            "168/168 [==============================] - 20s 118ms/step - loss: 1.4072e-04 - accuracy: 1.0000 - val_loss: 9.8503e-05 - val_accuracy: 1.0000\n",
            "Epoch 17/100\n",
            "168/168 [==============================] - 20s 119ms/step - loss: 1.0854e-04 - accuracy: 1.0000 - val_loss: 2.7918e-05 - val_accuracy: 1.0000\n",
            "Epoch 18/100\n",
            "168/168 [==============================] - 20s 119ms/step - loss: 9.6404e-05 - accuracy: 1.0000 - val_loss: 5.4590e-05 - val_accuracy: 1.0000\n",
            "Epoch 19/100\n",
            "168/168 [==============================] - 20s 118ms/step - loss: 1.0662e-04 - accuracy: 1.0000 - val_loss: 1.1550e-04 - val_accuracy: 1.0000\n",
            "Epoch 20/100\n",
            "168/168 [==============================] - 20s 119ms/step - loss: 1.3220e-04 - accuracy: 1.0000 - val_loss: 3.9440e-04 - val_accuracy: 1.0000\n",
            "Epoch 21/100\n",
            "168/168 [==============================] - 20s 118ms/step - loss: 1.1020e-04 - accuracy: 1.0000 - val_loss: 1.5307e-04 - val_accuracy: 1.0000\n",
            "Epoch 22/100\n",
            "168/168 [==============================] - 20s 118ms/step - loss: 1.3397e-04 - accuracy: 1.0000 - val_loss: 7.4752e-05 - val_accuracy: 1.0000\n",
            "Epoch 23/100\n",
            "168/168 [==============================] - 20s 119ms/step - loss: 8.6689e-05 - accuracy: 1.0000 - val_loss: 3.8573e-05 - val_accuracy: 1.0000\n",
            "Epoch 24/100\n",
            "168/168 [==============================] - 20s 119ms/step - loss: 2.8843e-04 - accuracy: 1.0000 - val_loss: 0.0299 - val_accuracy: 0.9722\n",
            "Epoch 25/100\n",
            "168/168 [==============================] - 20s 118ms/step - loss: 2.7912e-04 - accuracy: 1.0000 - val_loss: 9.9058e-05 - val_accuracy: 1.0000\n",
            "Epoch 26/100\n",
            "168/168 [==============================] - 20s 119ms/step - loss: 5.6157e-05 - accuracy: 1.0000 - val_loss: 5.6283e-05 - val_accuracy: 1.0000\n",
            "Epoch 27/100\n",
            "168/168 [==============================] - 20s 119ms/step - loss: 4.4315e-05 - accuracy: 1.0000 - val_loss: 7.6585e-05 - val_accuracy: 1.0000\n",
            "Epoch 28/100\n",
            "168/168 [==============================] - 20s 119ms/step - loss: 2.9459e-05 - accuracy: 1.0000 - val_loss: 6.0109e-05 - val_accuracy: 1.0000\n",
            "Epoch 29/100\n",
            "168/168 [==============================] - 20s 118ms/step - loss: 2.2232e-05 - accuracy: 1.0000 - val_loss: 3.1051e-05 - val_accuracy: 1.0000\n",
            "Epoch 30/100\n",
            "168/168 [==============================] - 20s 118ms/step - loss: 2.0633e-05 - accuracy: 1.0000 - val_loss: 2.4125e-05 - val_accuracy: 1.0000\n",
            "Epoch 31/100\n",
            "168/168 [==============================] - 20s 120ms/step - loss: 2.2411e-05 - accuracy: 1.0000 - val_loss: 1.3148e-05 - val_accuracy: 1.0000\n",
            "Epoch 32/100\n",
            "168/168 [==============================] - 20s 120ms/step - loss: 1.4450e-05 - accuracy: 1.0000 - val_loss: 1.8591e-05 - val_accuracy: 1.0000\n",
            "Epoch 33/100\n",
            "168/168 [==============================] - 20s 119ms/step - loss: 1.4259e-05 - accuracy: 1.0000 - val_loss: 2.1899e-05 - val_accuracy: 1.0000\n",
            "Epoch 34/100\n",
            "168/168 [==============================] - 20s 119ms/step - loss: 1.4278e-05 - accuracy: 1.0000 - val_loss: 2.5780e-05 - val_accuracy: 1.0000\n",
            "Epoch 35/100\n",
            "168/168 [==============================] - 20s 119ms/step - loss: 1.1395e-05 - accuracy: 1.0000 - val_loss: 1.8726e-05 - val_accuracy: 1.0000\n",
            "Epoch 36/100\n",
            "168/168 [==============================] - 20s 118ms/step - loss: 9.4860e-06 - accuracy: 1.0000 - val_loss: 1.5221e-05 - val_accuracy: 1.0000\n",
            "Epoch 37/100\n",
            "168/168 [==============================] - 20s 119ms/step - loss: 9.5764e-06 - accuracy: 1.0000 - val_loss: 1.5409e-05 - val_accuracy: 1.0000\n",
            "Epoch 38/100\n",
            "168/168 [==============================] - 20s 119ms/step - loss: 1.1937e-05 - accuracy: 1.0000 - val_loss: 2.1773e-05 - val_accuracy: 1.0000\n",
            "Epoch 39/100\n",
            "168/168 [==============================] - 20s 120ms/step - loss: 6.8292e-06 - accuracy: 1.0000 - val_loss: 1.3365e-05 - val_accuracy: 1.0000\n",
            "Epoch 40/100\n",
            "168/168 [==============================] - 20s 120ms/step - loss: 5.9426e-06 - accuracy: 1.0000 - val_loss: 1.6869e-05 - val_accuracy: 1.0000\n",
            "Epoch 41/100\n",
            "168/168 [==============================] - 20s 119ms/step - loss: 1.7915e-05 - accuracy: 1.0000 - val_loss: 9.2457e-04 - val_accuracy: 1.0000\n",
            "Epoch 42/100\n",
            "168/168 [==============================] - 20s 119ms/step - loss: 7.0069e-06 - accuracy: 1.0000 - val_loss: 4.1996e-05 - val_accuracy: 1.0000\n",
            "Epoch 43/100\n",
            "168/168 [==============================] - 20s 120ms/step - loss: 6.7572e-06 - accuracy: 1.0000 - val_loss: 1.5282e-05 - val_accuracy: 1.0000\n",
            "Epoch 44/100\n",
            "168/168 [==============================] - 20s 119ms/step - loss: 5.5729e-06 - accuracy: 1.0000 - val_loss: 1.6607e-05 - val_accuracy: 1.0000\n",
            "Epoch 45/100\n",
            "168/168 [==============================] - 20s 119ms/step - loss: 8.4448e-06 - accuracy: 1.0000 - val_loss: 2.9272e-06 - val_accuracy: 1.0000\n",
            "Epoch 46/100\n",
            "168/168 [==============================] - 20s 119ms/step - loss: 3.7983e-06 - accuracy: 1.0000 - val_loss: 1.1735e-05 - val_accuracy: 1.0000\n",
            "Epoch 47/100\n",
            "168/168 [==============================] - 20s 119ms/step - loss: 4.7965e-06 - accuracy: 1.0000 - val_loss: 7.8156e-06 - val_accuracy: 1.0000\n",
            "Epoch 48/100\n",
            "168/168 [==============================] - 20s 118ms/step - loss: 6.6201e-06 - accuracy: 1.0000 - val_loss: 4.4320e-05 - val_accuracy: 1.0000\n",
            "Epoch 49/100\n",
            "168/168 [==============================] - 20s 118ms/step - loss: 2.6584e-06 - accuracy: 1.0000 - val_loss: 9.7844e-06 - val_accuracy: 1.0000\n",
            "Epoch 50/100\n",
            "168/168 [==============================] - 20s 119ms/step - loss: 2.4895e-06 - accuracy: 1.0000 - val_loss: 6.8364e-06 - val_accuracy: 1.0000\n",
            "Epoch 51/100\n",
            "168/168 [==============================] - 20s 118ms/step - loss: 2.1983e-06 - accuracy: 1.0000 - val_loss: 9.8892e-06 - val_accuracy: 1.0000\n",
            "Epoch 52/100\n",
            "168/168 [==============================] - 20s 118ms/step - loss: 1.7275e-06 - accuracy: 1.0000 - val_loss: 6.8809e-06 - val_accuracy: 1.0000\n",
            "Epoch 53/100\n",
            "168/168 [==============================] - 20s 118ms/step - loss: 2.4076e-06 - accuracy: 1.0000 - val_loss: 9.2388e-06 - val_accuracy: 1.0000\n",
            "Epoch 54/100\n",
            "168/168 [==============================] - 20s 119ms/step - loss: 1.4901e-06 - accuracy: 1.0000 - val_loss: 8.1210e-06 - val_accuracy: 1.0000\n",
            "Epoch 55/100\n",
            "168/168 [==============================] - 20s 119ms/step - loss: 2.1290e-06 - accuracy: 1.0000 - val_loss: 2.1386e-05 - val_accuracy: 1.0000\n",
            "Epoch 56/100\n",
            "168/168 [==============================] - 20s 119ms/step - loss: 1.4035e-06 - accuracy: 1.0000 - val_loss: 9.4054e-06 - val_accuracy: 1.0000\n",
            "Epoch 57/100\n",
            "168/168 [==============================] - 20s 119ms/step - loss: 1.6494e-06 - accuracy: 1.0000 - val_loss: 8.7810e-06 - val_accuracy: 1.0000\n",
            "Epoch 58/100\n",
            "168/168 [==============================] - 20s 119ms/step - loss: 1.1807e-06 - accuracy: 1.0000 - val_loss: 8.7460e-06 - val_accuracy: 1.0000\n",
            "Epoch 59/100\n",
            "168/168 [==============================] - 20s 120ms/step - loss: 1.3712e-05 - accuracy: 1.0000 - val_loss: 1.2759 - val_accuracy: 0.6875\n",
            "Epoch 60/100\n",
            "168/168 [==============================] - 20s 119ms/step - loss: 7.2616e-06 - accuracy: 1.0000 - val_loss: 1.7473e-05 - val_accuracy: 1.0000\n",
            "Epoch 61/100\n",
            "168/168 [==============================] - 20s 120ms/step - loss: 3.6673e-06 - accuracy: 1.0000 - val_loss: 2.4632e-05 - val_accuracy: 1.0000\n",
            "Epoch 62/100\n",
            "168/168 [==============================] - 20s 120ms/step - loss: 1.4032e-06 - accuracy: 1.0000 - val_loss: 1.2068e-05 - val_accuracy: 1.0000\n",
            "Epoch 63/100\n",
            "168/168 [==============================] - 20s 121ms/step - loss: 1.0381e-06 - accuracy: 1.0000 - val_loss: 1.0189e-05 - val_accuracy: 1.0000\n",
            "Epoch 64/100\n",
            "168/168 [==============================] - 20s 120ms/step - loss: 8.9832e-07 - accuracy: 1.0000 - val_loss: 6.7238e-06 - val_accuracy: 1.0000\n",
            "Epoch 65/100\n",
            "168/168 [==============================] - 20s 120ms/step - loss: 6.6062e-07 - accuracy: 1.0000 - val_loss: 7.2150e-06 - val_accuracy: 1.0000\n",
            "Epoch 66/100\n",
            "168/168 [==============================] - 20s 120ms/step - loss: 9.1145e-07 - accuracy: 1.0000 - val_loss: 2.0617e-05 - val_accuracy: 1.0000\n",
            "Epoch 67/100\n",
            "168/168 [==============================] - 20s 120ms/step - loss: 6.8190e-07 - accuracy: 1.0000 - val_loss: 1.5462e-05 - val_accuracy: 1.0000\n",
            "Epoch 68/100\n",
            "168/168 [==============================] - 20s 120ms/step - loss: 5.2722e-07 - accuracy: 1.0000 - val_loss: 1.0271e-05 - val_accuracy: 1.0000\n",
            "Epoch 69/100\n",
            "168/168 [==============================] - 20s 120ms/step - loss: 7.1986e-07 - accuracy: 1.0000 - val_loss: 7.2224e-06 - val_accuracy: 1.0000\n",
            "Epoch 70/100\n",
            "168/168 [==============================] - 20s 120ms/step - loss: 0.0334 - accuracy: 0.9940 - val_loss: 5917.2397 - val_accuracy: 0.5000\n",
            "Epoch 71/100\n",
            "168/168 [==============================] - 20s 120ms/step - loss: 1.3241 - accuracy: 0.6012 - val_loss: 51.4750 - val_accuracy: 0.5000\n",
            "Epoch 72/100\n",
            "168/168 [==============================] - 20s 120ms/step - loss: 0.4969 - accuracy: 0.7649 - val_loss: 16.3468 - val_accuracy: 0.5000\n",
            "Epoch 73/100\n",
            "168/168 [==============================] - 20s 120ms/step - loss: 0.5503 - accuracy: 0.7381 - val_loss: 0.8699 - val_accuracy: 0.5625\n",
            "Epoch 74/100\n",
            "168/168 [==============================] - 20s 121ms/step - loss: 0.3948 - accuracy: 0.7946 - val_loss: 0.0383 - val_accuracy: 1.0000\n",
            "Epoch 75/100\n",
            "168/168 [==============================] - 20s 120ms/step - loss: 0.2070 - accuracy: 0.9405 - val_loss: 12.9822 - val_accuracy: 0.5000\n",
            "Epoch 76/100\n",
            "168/168 [==============================] - 20s 120ms/step - loss: 0.1463 - accuracy: 0.9405 - val_loss: 1.1050 - val_accuracy: 0.5000\n",
            "Epoch 77/100\n",
            "168/168 [==============================] - 20s 120ms/step - loss: 0.1689 - accuracy: 0.9375 - val_loss: 0.1040 - val_accuracy: 0.9514\n",
            "Epoch 78/100\n",
            "168/168 [==============================] - 20s 121ms/step - loss: 0.0305 - accuracy: 0.9911 - val_loss: 0.0031 - val_accuracy: 1.0000\n",
            "Epoch 79/100\n",
            "168/168 [==============================] - 20s 121ms/step - loss: 0.0060 - accuracy: 1.0000 - val_loss: 0.0012 - val_accuracy: 1.0000\n",
            "Epoch 80/100\n",
            "168/168 [==============================] - 20s 121ms/step - loss: 0.0026 - accuracy: 1.0000 - val_loss: 0.0012 - val_accuracy: 1.0000\n",
            "Epoch 81/100\n",
            "168/168 [==============================] - 20s 120ms/step - loss: 0.0016 - accuracy: 1.0000 - val_loss: 0.0017 - val_accuracy: 1.0000\n",
            "Epoch 82/100\n",
            "168/168 [==============================] - 20s 120ms/step - loss: 0.0011 - accuracy: 1.0000 - val_loss: 7.4172e-04 - val_accuracy: 1.0000\n",
            "Epoch 83/100\n",
            "168/168 [==============================] - 20s 121ms/step - loss: 0.0011 - accuracy: 1.0000 - val_loss: 6.5399e-04 - val_accuracy: 1.0000\n",
            "Epoch 84/100\n",
            "168/168 [==============================] - 20s 121ms/step - loss: 6.7253e-04 - accuracy: 1.0000 - val_loss: 7.2595e-04 - val_accuracy: 1.0000\n",
            "Epoch 85/100\n",
            "168/168 [==============================] - 20s 121ms/step - loss: 5.6469e-04 - accuracy: 1.0000 - val_loss: 2.8075e-04 - val_accuracy: 1.0000\n",
            "Epoch 86/100\n",
            "168/168 [==============================] - 20s 120ms/step - loss: 5.0866e-04 - accuracy: 1.0000 - val_loss: 4.0692e-04 - val_accuracy: 1.0000\n",
            "Epoch 87/100\n",
            "168/168 [==============================] - 20s 121ms/step - loss: 6.5331e-04 - accuracy: 1.0000 - val_loss: 3.1480e-04 - val_accuracy: 1.0000\n",
            "Epoch 88/100\n",
            "168/168 [==============================] - 20s 121ms/step - loss: 2.7592e-04 - accuracy: 1.0000 - val_loss: 1.7148e-04 - val_accuracy: 1.0000\n",
            "Epoch 89/100\n",
            "168/168 [==============================] - 20s 120ms/step - loss: 2.7983e-04 - accuracy: 1.0000 - val_loss: 1.8898e-04 - val_accuracy: 1.0000\n",
            "Epoch 90/100\n",
            "168/168 [==============================] - 20s 121ms/step - loss: 2.1501e-04 - accuracy: 1.0000 - val_loss: 8.5437e-05 - val_accuracy: 1.0000\n",
            "Epoch 91/100\n",
            "168/168 [==============================] - 20s 121ms/step - loss: 2.6504e-04 - accuracy: 1.0000 - val_loss: 1.1593e-04 - val_accuracy: 1.0000\n",
            "Epoch 92/100\n",
            "168/168 [==============================] - 20s 121ms/step - loss: 1.7606e-04 - accuracy: 1.0000 - val_loss: 9.6681e-05 - val_accuracy: 1.0000\n",
            "Epoch 93/100\n",
            "168/168 [==============================] - 20s 121ms/step - loss: 1.9412e-04 - accuracy: 1.0000 - val_loss: 1.0494e-04 - val_accuracy: 1.0000\n",
            "Epoch 94/100\n",
            "168/168 [==============================] - 20s 121ms/step - loss: 2.9074e-04 - accuracy: 1.0000 - val_loss: 0.0030 - val_accuracy: 1.0000\n",
            "Epoch 95/100\n",
            "168/168 [==============================] - 20s 121ms/step - loss: 3.4061e-04 - accuracy: 1.0000 - val_loss: 0.0059 - val_accuracy: 1.0000\n",
            "Epoch 96/100\n",
            "168/168 [==============================] - 20s 122ms/step - loss: 1.8777e-04 - accuracy: 1.0000 - val_loss: 1.6641e-04 - val_accuracy: 1.0000\n",
            "Epoch 97/100\n",
            "168/168 [==============================] - 20s 121ms/step - loss: 1.3956e-04 - accuracy: 1.0000 - val_loss: 1.2451e-04 - val_accuracy: 1.0000\n",
            "Epoch 98/100\n",
            "168/168 [==============================] - 20s 121ms/step - loss: 9.5412e-05 - accuracy: 1.0000 - val_loss: 6.4092e-05 - val_accuracy: 1.0000\n",
            "Epoch 99/100\n",
            "168/168 [==============================] - 20s 121ms/step - loss: 1.1368e-04 - accuracy: 1.0000 - val_loss: 2.7142e-04 - val_accuracy: 1.0000\n",
            "Epoch 100/100\n",
            "168/168 [==============================] - 20s 122ms/step - loss: 1.5875e-04 - accuracy: 1.0000 - val_loss: 0.0017 - val_accuracy: 1.0000\n"
          ]
        },
        {
          "output_type": "execute_result",
          "data": {
            "text/plain": [
              "<keras.callbacks.History at 0x7f03b482d150>"
            ]
          },
          "metadata": {},
          "execution_count": 5
        }
      ],
      "source": [
        "model.fit(train_generator, epochs=100, validation_data=test_generator)"
      ]
    },
    {
      "cell_type": "code",
      "execution_count": 6,
      "metadata": {
        "colab": {
          "base_uri": "https://localhost:8080/"
        },
        "id": "CdkTqwVROEyD",
        "outputId": "4543abfe-27a0-4434-f5b6-c6728612aa42"
      },
      "outputs": [
        {
          "output_type": "stream",
          "name": "stdout",
          "text": [
            "-- Evaluate --\n",
            "72/72 [==============================] - 3s 35ms/step - loss: 0.0017 - accuracy: 1.0000\n",
            "accuracy: 100.00%\n"
          ]
        }
      ],
      "source": [
        "print(\"-- Evaluate --\")\n",
        "scores = model.evaluate(test_generator)\n",
        "print(\"%s: %.2f%%\" %(model.metrics_names[1], scores[1]*100))"
      ]
    },
    {
      "cell_type": "code",
      "execution_count": 7,
      "metadata": {
        "id": "MEGe8D88OFjA"
      },
      "outputs": [],
      "source": [
        "import matplotlib.pyplot as plt"
      ]
    },
    {
      "cell_type": "code",
      "execution_count": 8,
      "metadata": {
        "colab": {
          "base_uri": "https://localhost:8080/",
          "height": 269
        },
        "id": "Wmuqg4XhORwG",
        "outputId": "b7491ea9-dbd6-4894-872b-fe2254ff2f2c"
      },
      "outputs": [
        {
          "output_type": "display_data",
          "data": {
            "image/png": "[encoded data removed]",
            "text/plain": [
              "<Figure size 432x288 with 1 Axes>"
            ]
          },
          "metadata": {
            "needs_background": "light"
          }
        }
      ],
      "source": [
        "img_path = '/content/Lee_dataset/MyDrive/Lee_final/001/0/001.png'\n",
        "img = tf.keras.preprocessing.image.load_img(img_path, target_size=(224, 224))\n",
        "plt.imshow(img)\n",
        "plt.show()"
      ]
    },
    {
      "cell_type": "code",
      "execution_count": 9,
      "metadata": {
        "colab": {
          "base_uri": "https://localhost:8080/"
        },
        "id": "XYfEVtnBlo90",
        "outputId": "ed4d3327-872f-4550-e5a7-035f43f632ee"
      },
      "outputs": [
        {
          "output_type": "stream",
          "name": "stdout",
          "text": [
            "Found 1 images belonging to 1 classes.\n",
            "-- Predict --\n",
            "['0/001.png']\n",
            "{'0': 0}\n",
            "[[1.000 0.000]]\n"
          ]
        }
      ],
      "source": [
        "val_datagen = tf.keras.preprocessing.image.ImageDataGenerator(rescale=1./255)\n",
        "\n",
        "val_generator = val_datagen.flow_from_directory(\n",
        "        '/content/Lee_dataset/MyDrive/Lee_final/001/',\n",
        "        target_size=(pictureWeightHeightSize, pictureWeightHeightSize),    \n",
        "        batch_size=numberOfClass,\n",
        "        class_mode='categorical')\n",
        "print(\"-- Predict --\")\n",
        "output = model.predict(val_generator)\n",
        "np.set_printoptions(formatter={'float': lambda x: \"{0:0.3f}\".format(x)})\n",
        "print(val_generator.filenames)\n",
        "print(val_generator.class_indices)\n",
        "print(output)"
      ]
    },
    {
      "cell_type": "code",
      "execution_count": 10,
      "metadata": {
        "colab": {
          "base_uri": "https://localhost:8080/"
        },
        "id": "D4-uTOIY2LWL",
        "outputId": "88a3e4c6-a800-4917-cee9-aba5fe913775"
      },
      "outputs": [
        {
          "output_type": "stream",
          "name": "stdout",
          "text": [
            "Found 1 images belonging to 1 classes.\n",
            "-- Predict --\n",
            "['0/002.png']\n",
            "{'0': 0}\n",
            "[[0.282 0.718]]\n"
          ]
        }
      ],
      "source": [
        "val_datagen = tf.keras.preprocessing.image.ImageDataGenerator(rescale=1./255)\n",
        "\n",
        "val_generator = val_datagen.flow_from_directory(\n",
        "        '/content/Lee_dataset/MyDrive/Lee_final/002/',\n",
        "        target_size=(pictureWeightHeightSize, pictureWeightHeightSize),    \n",
        "        batch_size=numberOfClass,\n",
        "        class_mode='categorical')\n",
        "print(\"-- Predict --\")\n",
        "output = model.predict(val_generator)\n",
        "np.set_printoptions(formatter={'float': lambda x: \"{0:0.3f}\".format(x)})\n",
        "print(val_generator.filenames)\n",
        "print(val_generator.class_indices)\n",
        "print(output)"
      ]
    },
    {
      "cell_type": "code",
      "execution_count": 11,
      "metadata": {
        "colab": {
          "base_uri": "https://localhost:8080/"
        },
        "id": "wY_ZQkak2Lyx",
        "outputId": "0deb553b-bb52-494b-b658-1cdbd5debc9e"
      },
      "outputs": [
        {
          "output_type": "stream",
          "name": "stdout",
          "text": [
            "Found 1 images belonging to 1 classes.\n",
            "-- Predict --\n",
            "['0/003.png']\n",
            "{'0': 0}\n",
            "[[1.000 0.000]]\n"
          ]
        }
      ],
      "source": [
        "val_datagen = tf.keras.preprocessing.image.ImageDataGenerator(rescale=1./255)\n",
        "\n",
        "val_generator = val_datagen.flow_from_directory(\n",
        "        '/content/Lee_dataset/MyDrive/Lee_final/003/',\n",
        "        target_size=(pictureWeightHeightSize, pictureWeightHeightSize),    \n",
        "        batch_size=numberOfClass,\n",
        "        class_mode='categorical')\n",
        "print(\"-- Predict --\")\n",
        "output = model.predict(val_generator)\n",
        "np.set_printoptions(formatter={'float': lambda x: \"{0:0.3f}\".format(x)})\n",
        "print(val_generator.filenames)\n",
        "print(val_generator.class_indices)\n",
        "print(output)"
      ]
    },
    {
      "cell_type": "code",
      "execution_count": 12,
      "metadata": {
        "colab": {
          "base_uri": "https://localhost:8080/"
        },
        "id": "ngd8fpB32MCp",
        "outputId": "06f88a20-b67a-4a88-b9f2-4793904896c5"
      },
      "outputs": [
        {
          "output_type": "stream",
          "name": "stdout",
          "text": [
            "Found 1 images belonging to 1 classes.\n",
            "-- Predict --\n",
            "['0/004.png']\n",
            "{'0': 0}\n",
            "[[1.000 0.000]]\n"
          ]
        }
      ],
      "source": [
        "val_datagen = tf.keras.preprocessing.image.ImageDataGenerator(rescale=1./255)\n",
        "\n",
        "val_generator = val_datagen.flow_from_directory(\n",
        "        '/content/Lee_dataset/MyDrive/Lee_final/004/',\n",
        "        target_size=(pictureWeightHeightSize, pictureWeightHeightSize),    \n",
        "        batch_size=numberOfClass,\n",
        "        class_mode='categorical')\n",
        "print(\"-- Predict --\")\n",
        "output = model.predict(val_generator)\n",
        "np.set_printoptions(formatter={'float': lambda x: \"{0:0.3f}\".format(x)})\n",
        "print(val_generator.filenames)\n",
        "print(val_generator.class_indices)\n",
        "print(output)"
      ]
    },
    {
      "cell_type": "code",
      "execution_count": 13,
      "metadata": {
        "colab": {
          "base_uri": "https://localhost:8080/"
        },
        "id": "34jvk1km2MOt",
        "outputId": "1f53de7a-41cc-494e-fdb7-d72f3efa3e03"
      },
      "outputs": [
        {
          "output_type": "stream",
          "name": "stdout",
          "text": [
            "Found 1 images belonging to 1 classes.\n",
            "-- Predict --\n",
            "['0/005.png']\n",
            "{'0': 0}\n",
            "[[1.000 0.000]]\n"
          ]
        }
      ],
      "source": [
        "val_datagen = tf.keras.preprocessing.image.ImageDataGenerator(rescale=1./255)\n",
        "\n",
        "val_generator = val_datagen.flow_from_directory(\n",
        "        '/content/Lee_dataset/MyDrive/Lee_final/005/',\n",
        "        target_size=(pictureWeightHeightSize, pictureWeightHeightSize),    \n",
        "        batch_size=numberOfClass,\n",
        "        class_mode='categorical')\n",
        "print(\"-- Predict --\")\n",
        "output = model.predict(val_generator)\n",
        "np.set_printoptions(formatter={'float': lambda x: \"{0:0.3f}\".format(x)})\n",
        "print(val_generator.filenames)\n",
        "print(val_generator.class_indices)\n",
        "print(output)"
      ]
    },
    {
      "cell_type": "code",
      "execution_count": 14,
      "metadata": {
        "colab": {
          "base_uri": "https://localhost:8080/"
        },
        "id": "Gik7eFEj2Mam",
        "outputId": "f2b5fb90-5cdd-48c6-df40-a32e71b45c51"
      },
      "outputs": [
        {
          "output_type": "stream",
          "name": "stdout",
          "text": [
            "Found 1 images belonging to 1 classes.\n",
            "-- Predict --\n",
            "['0/006.png']\n",
            "{'0': 0}\n",
            "[[1.000 0.000]]\n"
          ]
        }
      ],
      "source": [
        "val_datagen = tf.keras.preprocessing.image.ImageDataGenerator(rescale=1./255)\n",
        "\n",
        "val_generator = val_datagen.flow_from_directory(\n",
        "        '/content/Lee_dataset/MyDrive/Lee_final/006/',\n",
        "        target_size=(pictureWeightHeightSize, pictureWeightHeightSize),    \n",
        "        batch_size=numberOfClass,\n",
        "        class_mode='categorical')\n",
        "print(\"-- Predict --\")\n",
        "output = model.predict(val_generator)\n",
        "np.set_printoptions(formatter={'float': lambda x: \"{0:0.3f}\".format(x)})\n",
        "print(val_generator.filenames)\n",
        "print(val_generator.class_indices)\n",
        "print(output)"
      ]
    },
    {
      "cell_type": "code",
      "execution_count": 15,
      "metadata": {
        "colab": {
          "base_uri": "https://localhost:8080/"
        },
        "id": "PoTA8d5o2MlH",
        "outputId": "566ac7d3-6e6c-4628-9a07-8fc49aedccde"
      },
      "outputs": [
        {
          "output_type": "stream",
          "name": "stdout",
          "text": [
            "Found 1 images belonging to 1 classes.\n",
            "-- Predict --\n",
            "['0/007.png']\n",
            "{'0': 0}\n",
            "[[1.000 0.000]]\n"
          ]
        }
      ],
      "source": [
        "val_datagen = tf.keras.preprocessing.image.ImageDataGenerator(rescale=1./255)\n",
        "\n",
        "val_generator = val_datagen.flow_from_directory(\n",
        "        '/content/Lee_dataset/MyDrive/Lee_final/007/',\n",
        "        target_size=(pictureWeightHeightSize, pictureWeightHeightSize),    \n",
        "        batch_size=numberOfClass,\n",
        "        class_mode='categorical')\n",
        "print(\"-- Predict --\")\n",
        "output = model.predict(val_generator)\n",
        "np.set_printoptions(formatter={'float': lambda x: \"{0:0.3f}\".format(x)})\n",
        "print(val_generator.filenames)\n",
        "print(val_generator.class_indices)\n",
        "print(output)"
      ]
    },
    {
      "cell_type": "code",
      "execution_count": 16,
      "metadata": {
        "colab": {
          "base_uri": "https://localhost:8080/"
        },
        "id": "EVh1gPGG2MvD",
        "outputId": "55f7194b-239f-4229-c4a9-7b4795f51b0f"
      },
      "outputs": [
        {
          "output_type": "stream",
          "name": "stdout",
          "text": [
            "Found 1 images belonging to 1 classes.\n",
            "-- Predict --\n",
            "['0/008.png']\n",
            "{'0': 0}\n",
            "[[1.000 0.000]]\n"
          ]
        }
      ],
      "source": [
        "val_datagen = tf.keras.preprocessing.image.ImageDataGenerator(rescale=1./255)\n",
        "\n",
        "val_generator = val_datagen.flow_from_directory(\n",
        "        '/content/Lee_dataset/MyDrive/Lee_final/008/',\n",
        "        target_size=(pictureWeightHeightSize, pictureWeightHeightSize),    \n",
        "        batch_size=numberOfClass,\n",
        "        class_mode='categorical')\n",
        "print(\"-- Predict --\")\n",
        "output = model.predict(val_generator)\n",
        "np.set_printoptions(formatter={'float': lambda x: \"{0:0.3f}\".format(x)})\n",
        "print(val_generator.filenames)\n",
        "print(val_generator.class_indices)\n",
        "print(output)"
      ]
    },
    {
      "cell_type": "code",
      "execution_count": 17,
      "metadata": {
        "colab": {
          "base_uri": "https://localhost:8080/"
        },
        "id": "X9V9G8t62M47",
        "outputId": "9eb6f845-71e2-4b08-d90e-c31849acd5b6"
      },
      "outputs": [
        {
          "output_type": "stream",
          "name": "stdout",
          "text": [
            "Found 1 images belonging to 1 classes.\n",
            "-- Predict --\n",
            "['0/009.png']\n",
            "{'0': 0}\n",
            "[[0.999 0.001]]\n"
          ]
        }
      ],
      "source": [
        "val_datagen = tf.keras.preprocessing.image.ImageDataGenerator(rescale=1./255)\n",
        "\n",
        "val_generator = val_datagen.flow_from_directory(\n",
        "        '/content/Lee_dataset/MyDrive/Lee_final/009/',\n",
        "        target_size=(pictureWeightHeightSize, pictureWeightHeightSize),    \n",
        "        batch_size=numberOfClass,\n",
        "        class_mode='categorical')\n",
        "print(\"-- Predict --\")\n",
        "output = model.predict(val_generator)\n",
        "np.set_printoptions(formatter={'float': lambda x: \"{0:0.3f}\".format(x)})\n",
        "print(val_generator.filenames)\n",
        "print(val_generator.class_indices)\n",
        "print(output)"
      ]
    },
    {
      "cell_type": "code",
      "execution_count": 18,
      "metadata": {
        "colab": {
          "base_uri": "https://localhost:8080/"
        },
        "id": "bCCPArrp2NCd",
        "outputId": "c2d77f0d-826e-4167-990b-82bbf539a1e6"
      },
      "outputs": [
        {
          "output_type": "stream",
          "name": "stdout",
          "text": [
            "Found 1 images belonging to 1 classes.\n",
            "-- Predict --\n",
            "['0/010.png']\n",
            "{'0': 0}\n",
            "[[0.000 1.000]]\n"
          ]
        }
      ],
      "source": [
        "val_datagen = tf.keras.preprocessing.image.ImageDataGenerator(rescale=1./255)\n",
        "\n",
        "val_generator = val_datagen.flow_from_directory(\n",
        "        '/content/Lee_dataset/MyDrive/Lee_final/010/',\n",
        "        target_size=(pictureWeightHeightSize, pictureWeightHeightSize),    \n",
        "        batch_size=numberOfClass,\n",
        "        class_mode='categorical')\n",
        "print(\"-- Predict --\")\n",
        "output = model.predict(val_generator)\n",
        "np.set_printoptions(formatter={'float': lambda x: \"{0:0.3f}\".format(x)})\n",
        "print(val_generator.filenames)\n",
        "print(val_generator.class_indices)\n",
        "print(output)"
      ]
    },
    {
      "cell_type": "code",
      "execution_count": 19,
      "metadata": {
        "colab": {
          "base_uri": "https://localhost:8080/"
        },
        "id": "r8trXat_7o_C",
        "outputId": "7e83384b-c463-42fe-c124-c71305b126e5"
      },
      "outputs": [
        {
          "output_type": "stream",
          "name": "stdout",
          "text": [
            "Found 1 images belonging to 1 classes.\n",
            "-- Predict --\n",
            "['0/011.png']\n",
            "{'0': 0}\n",
            "[[0.999 0.001]]\n"
          ]
        }
      ],
      "source": [
        "val_datagen = tf.keras.preprocessing.image.ImageDataGenerator(rescale=1./255)\n",
        "\n",
        "val_generator = val_datagen.flow_from_directory(\n",
        "        '/content/Lee_dataset/MyDrive/Lee_final/011/',\n",
        "        target_size=(pictureWeightHeightSize, pictureWeightHeightSize),    \n",
        "        batch_size=numberOfClass,\n",
        "        class_mode='categorical')\n",
        "print(\"-- Predict --\")\n",
        "output = model.predict(val_generator)\n",
        "np.set_printoptions(formatter={'float': lambda x: \"{0:0.3f}\".format(x)})\n",
        "print(val_generator.filenames)\n",
        "print(val_generator.class_indices)\n",
        "print(output)"
      ]
    },
    {
      "cell_type": "code",
      "execution_count": 20,
      "metadata": {
        "colab": {
          "base_uri": "https://localhost:8080/"
        },
        "id": "5AN5IL3T7pWH",
        "outputId": "143c9cba-0245-4a3a-f9cd-b5e97b8b5273"
      },
      "outputs": [
        {
          "output_type": "stream",
          "name": "stdout",
          "text": [
            "Found 1 images belonging to 1 classes.\n",
            "-- Predict --\n",
            "['0/012.png']\n",
            "{'0': 0}\n",
            "[[0.000 1.000]]\n"
          ]
        }
      ],
      "source": [
        "val_datagen = tf.keras.preprocessing.image.ImageDataGenerator(rescale=1./255)\n",
        "\n",
        "val_generator = val_datagen.flow_from_directory(\n",
        "        '/content/Lee_dataset/MyDrive/Lee_final/012/',\n",
        "        target_size=(pictureWeightHeightSize, pictureWeightHeightSize),    \n",
        "        batch_size=numberOfClass,\n",
        "        class_mode='categorical')\n",
        "print(\"-- Predict --\")\n",
        "output = model.predict(val_generator)\n",
        "np.set_printoptions(formatter={'float': lambda x: \"{0:0.3f}\".format(x)})\n",
        "print(val_generator.filenames)\n",
        "print(val_generator.class_indices)\n",
        "print(output)"
      ]
    },
    {
      "cell_type": "code",
      "execution_count": 21,
      "metadata": {
        "colab": {
          "base_uri": "https://localhost:8080/"
        },
        "id": "m07ybdNW7phJ",
        "outputId": "ff5305e6-e6ab-4537-f130-24dba3d58e94"
      },
      "outputs": [
        {
          "output_type": "stream",
          "name": "stdout",
          "text": [
            "Found 1 images belonging to 1 classes.\n",
            "-- Predict --\n",
            "['0/013.png']\n",
            "{'0': 0}\n",
            "[[0.002 0.998]]\n"
          ]
        }
      ],
      "source": [
        "val_datagen = tf.keras.preprocessing.image.ImageDataGenerator(rescale=1./255)\n",
        "\n",
        "val_generator = val_datagen.flow_from_directory(\n",
        "        '/content/Lee_dataset/MyDrive/Lee_final/013/',\n",
        "        target_size=(pictureWeightHeightSize, pictureWeightHeightSize),    \n",
        "        batch_size=numberOfClass,\n",
        "        class_mode='categorical')\n",
        "print(\"-- Predict --\")\n",
        "output = model.predict(val_generator)\n",
        "np.set_printoptions(formatter={'float': lambda x: \"{0:0.3f}\".format(x)})\n",
        "print(val_generator.filenames)\n",
        "print(val_generator.class_indices)\n",
        "print(output)"
      ]
    },
    {
      "cell_type": "code",
      "execution_count": 22,
      "metadata": {
        "colab": {
          "base_uri": "https://localhost:8080/"
        },
        "id": "x2YCd8uO7pp8",
        "outputId": "ea6a190c-529d-43a6-8c13-e2fd8045425b"
      },
      "outputs": [
        {
          "output_type": "stream",
          "name": "stdout",
          "text": [
            "Found 1 images belonging to 1 classes.\n",
            "-- Predict --\n",
            "['0/014.png']\n",
            "{'0': 0}\n",
            "[[0.282 0.718]]\n"
          ]
        }
      ],
      "source": [
        "val_datagen = tf.keras.preprocessing.image.ImageDataGenerator(rescale=1./255)\n",
        "\n",
        "val_generator = val_datagen.flow_from_directory(\n",
        "        '/content/Lee_dataset/MyDrive/Lee_final/014/',\n",
        "        target_size=(pictureWeightHeightSize, pictureWeightHeightSize),    \n",
        "        batch_size=numberOfClass,\n",
        "        class_mode='categorical')\n",
        "print(\"-- Predict --\")\n",
        "output = model.predict(val_generator)\n",
        "np.set_printoptions(formatter={'float': lambda x: \"{0:0.3f}\".format(x)})\n",
        "print(val_generator.filenames)\n",
        "print(val_generator.class_indices)\n",
        "print(output)"
      ]
    }
  ],
  "metadata": {
    "accelerator": "GPU",
    "colab": {
      "collapsed_sections": [],
      "name": "ODCuC_220110_Try5A.ipynb",
      "provenance": [],
      "include_colab_link": true
    },
    "kernelspec": {
      "display_name": "Python 3 (ipykernel)",
      "language": "python",
      "name": "python3"
    },
    "language_info": {
      "codemirror_mode": {
        "name": "ipython",
        "version": 3
      },
      "file_extension": ".py",
      "mimetype": "text/x-python",
      "name": "python",
      "nbconvert_exporter": "python",
      "pygments_lexer": "ipython3",
      "version": "3.7.11"
    }
  },
  "nbformat": 4,
  "nbformat_minor": 0
}