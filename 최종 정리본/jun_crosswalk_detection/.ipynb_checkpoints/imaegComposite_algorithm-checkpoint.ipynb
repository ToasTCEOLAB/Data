{
 "cells": [
  {
   "cell_type": "markdown",
   "metadata": {
    "id": "BRtX9dc6x0ko"
   },
   "source": [
    "#init\n"
   ]
  },
  {
   "cell_type": "code",
   "execution_count": 37,
   "metadata": {
    "id": "jNZp3nlowMa0"
   },
   "outputs": [],
   "source": [
    "import cv2\n",
    "from PIL import Image\n",
    "import numpy as np\n",
    "import matplotlib.pyplot as plt\n",
    "import os"
   ]
  },
  {
   "cell_type": "markdown",
   "metadata": {
    "id": "d-qDPzu1zGLQ"
   },
   "source": [
    "# Done\n"
   ]
  },
  {
   "cell_type": "code",
   "execution_count": 84,
   "metadata": {},
   "outputs": [],
   "source": [
    "folder = \"C:/Users/user/Desktop/result/\";\n",
    "T = \"inside/\"\n",
    "S = \"augmentation/\";\n",
    "SP = 'crosswalk_detection/'\n",
    "P = \"person_detection/\";\n",
    "SP_filenames = os.listdir(folder+SP +T)\n",
    "P_filenames = os.listdir(folder+P +T)\n"
   ]
  },
  {
   "cell_type": "code",
   "execution_count": 85,
   "metadata": {
    "id": "n5ZHtJVKzGs5"
   },
   "outputs": [
    {
     "name": "stdout",
     "output_type": "stream",
     "text": [
      "IMG_1_person0.jpg\n",
      "IMG_10_person0.jpg\n",
      "IMG_10test0.jpg\n",
      "IMG_10test1.jpg\n",
      "IMG_10test2.jpg\n",
      "IMG_10test3.jpg\n",
      "IMG_10test4.jpg\n",
      "IMG_10test5.jpg\n",
      "IMG_10test6.jpg\n",
      "IMG_10test7.jpg\n",
      "IMG_10test8.jpg\n",
      "IMG_1test0.jpg\n",
      "IMG_1test1.jpg\n",
      "IMG_1test2.jpg\n",
      "IMG_1test3.jpg\n",
      "IMG_1test4.jpg\n",
      "IMG_1test5.jpg\n",
      "IMG_1test6.jpg\n",
      "IMG_1test7.jpg\n",
      "IMG_1test8.jpg\n",
      "IMG_2_person0.jpg\n",
      "IMG_2test0.jpg\n",
      "IMG_2test1.jpg\n",
      "IMG_2test2.jpg\n",
      "IMG_2test3.jpg\n",
      "IMG_2test4.jpg\n",
      "IMG_2test5.jpg\n",
      "IMG_2test6.jpg\n",
      "IMG_2test7.jpg\n",
      "IMG_2test8.jpg\n",
      "IMG_3_person0.jpg\n",
      "IMG_3test0.jpg\n",
      "IMG_3test1.jpg\n",
      "IMG_3test2.jpg\n",
      "IMG_3test3.jpg\n",
      "IMG_3test4.jpg\n",
      "IMG_3test5.jpg\n",
      "IMG_3test6.jpg\n",
      "IMG_3test7.jpg\n",
      "IMG_3test8.jpg\n",
      "IMG_4_person0.jpg\n",
      "IMG_4test0.jpg\n",
      "IMG_4test1.jpg\n",
      "IMG_4test2.jpg\n",
      "IMG_4test3.jpg\n",
      "IMG_4test4.jpg\n",
      "IMG_4test5.jpg\n",
      "IMG_4test6.jpg\n",
      "IMG_4test7.jpg\n",
      "IMG_4test8.jpg\n",
      "IMG_5_person0.jpg\n",
      "IMG_5test0.jpg\n",
      "IMG_5test1.jpg\n",
      "IMG_5test2.jpg\n",
      "IMG_5test3.jpg\n",
      "IMG_5test4.jpg\n",
      "IMG_5test5.jpg\n",
      "IMG_5test6.jpg\n",
      "IMG_5test7.jpg\n",
      "IMG_5test8.jpg\n",
      "IMG_6_person0.jpg\n",
      "IMG_6test0.jpg\n",
      "IMG_6test1.jpg\n",
      "IMG_6test2.jpg\n",
      "IMG_6test3.jpg\n",
      "IMG_6test4.jpg\n",
      "IMG_6test5.jpg\n",
      "IMG_6test6.jpg\n",
      "IMG_6test7.jpg\n",
      "IMG_6test8.jpg\n",
      "IMG_7_person0.jpg\n",
      "IMG_7test0.jpg\n",
      "IMG_7test1.jpg\n",
      "IMG_7test2.jpg\n",
      "IMG_7test3.jpg\n",
      "IMG_7test4.jpg\n",
      "IMG_7test5.jpg\n",
      "IMG_7test6.jpg\n",
      "IMG_7test7.jpg\n",
      "IMG_7test8.jpg\n",
      "IMG_8_person0.jpg\n",
      "IMG_8test0.jpg\n",
      "IMG_8test1.jpg\n",
      "IMG_8test2.jpg\n",
      "IMG_8test3.jpg\n",
      "IMG_8test4.jpg\n",
      "IMG_8test5.jpg\n",
      "IMG_8test6.jpg\n",
      "IMG_8test7.jpg\n",
      "IMG_8test8.jpg\n",
      "IMG_9_person0.jpg\n",
      "IMG_9test0.jpg\n",
      "IMG_9test1.jpg\n",
      "IMG_9test2.jpg\n",
      "IMG_9test3.jpg\n",
      "IMG_9test4.jpg\n",
      "IMG_9test5.jpg\n",
      "IMG_9test6.jpg\n",
      "IMG_9test7.jpg\n",
      "IMG_9test8.jpg\n"
     ]
    }
   ],
   "source": [
    "for i in range(len(SP_filenames)):\n",
    "    temp = SP_filenames[i]\n",
    "    temp = SP_filenames[i].replace(\".png\",\"_person0.jpg\")\n",
    "    print(temp)"
   ]
  },
  {
   "cell_type": "code",
   "execution_count": 83,
   "metadata": {
    "colab": {
     "base_uri": "https://localhost:8080/",
     "height": 633
    },
    "id": "pujKu_i5y_Gy",
    "outputId": "0a80aad0-b18a-4ada-d89e-4744361de8e3"
   },
   "outputs": [
    {
     "name": "stdout",
     "output_type": "stream",
     "text": [
      "C:/Users/user/Desktop/result/crosswalk_detection/inside/IMG_10.png\n",
      "C:/Users/user/Desktop/result/person_detection/inside/IMG_10test1_person_0.jpg\n"
     ]
    },
    {
     "data": {
      "text/plain": [
       "<matplotlib.image.AxesImage at 0x24d17290e88>"
      ]
     },
     "execution_count": 83,
     "metadata": {},
     "output_type": "execute_result"
    },
    {
     "data": {
      "image/png": "[encoded data removed]",
      "text/plain": [
       "<Figure size 640x480 with 1 Axes>"
      ]
     },
     "metadata": {},
     "output_type": "display_data"
    }
   ],
   "source": [
    "\n",
    "black = cv2.imread(folder+SP+ T+SP_filenames[1])\n",
    "red = cv2.imread(folder+P+ T+P_filenames[1])\n",
    "red = cv2.resize(red,(1000,1000))\n",
    "\n",
    "print(folder+SP+ T+SP_filenames[1])\n",
    "print(folder+P+ T+P_filenames[1])\n",
    "ret ,mask = cv2.threshold(red,100,255,cv2.THRESH_BINARY_INV)\n",
    "b,g,r = cv2.split(mask)\n",
    "\n",
    "bbg_img = cv2.merge((r,r,b))\n",
    "w_img = cv2.merge((g,g,g))\n",
    "\n",
    "\n",
    "plt.imshow(black)\n",
    "# plt.imshow(red)\n"
   ]
  },
  {
   "cell_type": "code",
   "execution_count": 78,
   "metadata": {
    "colab": {
     "base_uri": "https://localhost:8080/",
     "height": 325
    },
    "id": "e1T96dOYzsgL",
    "outputId": "368b1eb4-a496-4be3-a956-c25264e1e225"
   },
   "outputs": [
    {
     "data": {
      "text/plain": [
       "<matplotlib.image.AxesImage at 0x24d16d62208>"
      ]
     },
     "execution_count": 78,
     "metadata": {},
     "output_type": "execute_result"
    },
    {
     "data": {
      "image/png": "[encoded data removed]",
      "text/plain": [
       "<Figure size 640x480 with 1 Axes>"
      ]
     },
     "metadata": {},
     "output_type": "display_data"
    }
   ],
   "source": [
    "b = 255-black\n",
    "ret ,w_mask = cv2.threshold(cv2.add(b,w_img),150,255,cv2.THRESH_BINARY_INV)\n",
    "\n",
    "plt.imshow(cv2.add(w_mask,bbg_img))\n"
   ]
  },
  {
   "cell_type": "code",
   "execution_count": null,
   "metadata": {},
   "outputs": [],
   "source": []
  }
 ],
 "metadata": {
  "colab": {
   "collapsed_sections": [
    "BRtX9dc6x0ko",
    "Dr5L-sL7zFSQ"
   ],
   "provenance": [],
   "toc_visible": true
  },
  "kernelspec": {
   "display_name": "Python 3 (ipykernel)",
   "language": "python",
   "name": "python3"
  },
  "language_info": {
   "codemirror_mode": {
    "name": "ipython",
    "version": 3
   },
   "file_extension": ".py",
   "mimetype": "text/x-python",
   "name": "python",
   "nbconvert_exporter": "python",
   "pygments_lexer": "ipython3",
   "version": "3.7.13"
  }
 },
 "nbformat": 4,
 "nbformat_minor": 1
}
