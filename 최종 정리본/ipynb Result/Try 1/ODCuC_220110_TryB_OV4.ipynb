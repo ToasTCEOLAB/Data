{
  "nbformat": 4,
  "nbformat_minor": 0,
  "metadata": {
    "colab": {
      "name": "ODCuC_220110_TryB_OV4",
      "provenance": [],
      "collapsed_sections": []
    },
    "kernelspec": {
      "name": "python3",
      "display_name": "Python 3"
    },
    "language_info": {
      "name": "python"
    },
    "accelerator": "GPU"
  },
  "cells": [
    {
      "cell_type": "code",
      "execution_count": 1,
      "metadata": {
        "colab": {
          "base_uri": "https://localhost:8080/"
        },
        "id": "xgBO72ZY81tE",
        "outputId": "0097402e-275f-425a-95a9-aea6ef5fccea"
      },
      "outputs": [
        {
          "output_type": "stream",
          "name": "stdout",
          "text": [
            "Mounted at Lee_dataset\n"
          ]
        }
      ],
      "source": [
        "import os\n",
        "import re\n",
        "import glob\n",
        "import cv2\n",
        "import numpy as np\n",
        "from sklearn.model_selection import train_test_split\n",
        "\n",
        "import tensorflow as tf\n",
        "\n",
        "from google.colab import drive\n",
        "drive.mount('Lee_dataset')"
      ]
    },
    {
      "cell_type": "code",
      "source": [
        "numberOfClass = 2\n",
        "pictureWeightHeightSize = 224\n",
        "\n",
        "train_datagen = tf.keras.preprocessing.image.ImageDataGenerator(rescale=1./255)\n",
        "\n",
        "train_generator = train_datagen.flow_from_directory(\n",
        "        '/content/Lee_dataset/MyDrive/version4/TrainData/',\n",
        "        target_size=(pictureWeightHeightSize, pictureWeightHeightSize),\n",
        "        batch_size=numberOfClass,\n",
        "        class_mode='categorical')\n",
        "\n",
        "test_datagen = tf.keras.preprocessing.image.ImageDataGenerator(rescale=1./255)\n",
        "\n",
        "test_generator = test_datagen.flow_from_directory(\n",
        "        '/content/Lee_dataset/MyDrive/version4/ValData/',\n",
        "        target_size=(pictureWeightHeightSize, pictureWeightHeightSize),    \n",
        "        batch_size=numberOfClass,\n",
        "        class_mode='categorical')"
      ],
      "metadata": {
        "colab": {
          "base_uri": "https://localhost:8080/"
        },
        "id": "H9aasxuq-Pia",
        "outputId": "b444904b-4c51-4028-ff72-5f69c5bdac67"
      },
      "execution_count": 3,
      "outputs": [
        {
          "output_type": "stream",
          "name": "stdout",
          "text": [
            "Found 300 images belonging to 2 classes.\n",
            "Found 150 images belonging to 2 classes.\n"
          ]
        }
      ]
    },
    {
      "cell_type": "code",
      "source": [
        "from tensorflow.keras.applications import ResNet50V2\n",
        "\n",
        "model = ResNet50V2(include_top=True, weights=None, input_shape=(224, 224, 3), pooling=max, classes=2)"
      ],
      "metadata": {
        "id": "eFApPT_d-q2g"
      },
      "execution_count": 4,
      "outputs": []
    },
    {
      "cell_type": "code",
      "source": [
        "model.compile(loss='categorical_crossentropy', metrics=['accuracy'], optimizer='adam')\n",
        "model.summary()"
      ],
      "metadata": {
        "colab": {
          "base_uri": "https://localhost:8080/"
        },
        "id": "H6q5upFt_wCq",
        "outputId": "0cac0351-9704-4ce9-e8c2-6176a5ad0423"
      },
      "execution_count": 5,
      "outputs": [
        {
          "output_type": "stream",
          "name": "stdout",
          "text": [
            "Model: \"resnet50v2\"\n",
            "__________________________________________________________________________________________________\n",
            " Layer (type)                   Output Shape         Param #     Connected to                     \n",
            "==================================================================================================\n",
            " input_1 (InputLayer)           [(None, 224, 224, 3  0           []                               \n",
            "                                )]                                                                \n",
            "                                                                                                  \n",
            " conv1_pad (ZeroPadding2D)      (None, 230, 230, 3)  0           ['input_1[0][0]']                \n",
            "                                                                                                  \n",
            " conv1_conv (Conv2D)            (None, 112, 112, 64  9472        ['conv1_pad[0][0]']              \n",
            "                                )                                                                 \n",
            "                                                                                                  \n",
            " pool1_pad (ZeroPadding2D)      (None, 114, 114, 64  0           ['conv1_conv[0][0]']             \n",
            "                                )                                                                 \n",
            "                                                                                                  \n",
            " pool1_pool (MaxPooling2D)      (None, 56, 56, 64)   0           ['pool1_pad[0][0]']              \n",
            "                                                                                                  \n",
            " conv2_block1_preact_bn (BatchN  (None, 56, 56, 64)  256         ['pool1_pool[0][0]']             \n",
            " ormalization)                                                                                    \n",
            "                                                                                                  \n",
            " conv2_block1_preact_relu (Acti  (None, 56, 56, 64)  0           ['conv2_block1_preact_bn[0][0]'] \n",
            " vation)                                                                                          \n",
            "                                                                                                  \n",
            " conv2_block1_1_conv (Conv2D)   (None, 56, 56, 64)   4096        ['conv2_block1_preact_relu[0][0]'\n",
            "                                                                 ]                                \n",
            "                                                                                                  \n",
            " conv2_block1_1_bn (BatchNormal  (None, 56, 56, 64)  256         ['conv2_block1_1_conv[0][0]']    \n",
            " ization)                                                                                         \n",
            "                                                                                                  \n",
            " conv2_block1_1_relu (Activatio  (None, 56, 56, 64)  0           ['conv2_block1_1_bn[0][0]']      \n",
            " n)                                                                                               \n",
            "                                                                                                  \n",
            " conv2_block1_2_pad (ZeroPaddin  (None, 58, 58, 64)  0           ['conv2_block1_1_relu[0][0]']    \n",
            " g2D)                                                                                             \n",
            "                                                                                                  \n",
            " conv2_block1_2_conv (Conv2D)   (None, 56, 56, 64)   36864       ['conv2_block1_2_pad[0][0]']     \n",
            "                                                                                                  \n",
            " conv2_block1_2_bn (BatchNormal  (None, 56, 56, 64)  256         ['conv2_block1_2_conv[0][0]']    \n",
            " ization)                                                                                         \n",
            "                                                                                                  \n",
            " conv2_block1_2_relu (Activatio  (None, 56, 56, 64)  0           ['conv2_block1_2_bn[0][0]']      \n",
            " n)                                                                                               \n",
            "                                                                                                  \n",
            " conv2_block1_0_conv (Conv2D)   (None, 56, 56, 256)  16640       ['conv2_block1_preact_relu[0][0]'\n",
            "                                                                 ]                                \n",
            "                                                                                                  \n",
            " conv2_block1_3_conv (Conv2D)   (None, 56, 56, 256)  16640       ['conv2_block1_2_relu[0][0]']    \n",
            "                                                                                                  \n",
            " conv2_block1_out (Add)         (None, 56, 56, 256)  0           ['conv2_block1_0_conv[0][0]',    \n",
            "                                                                  'conv2_block1_3_conv[0][0]']    \n",
            "                                                                                                  \n",
            " conv2_block2_preact_bn (BatchN  (None, 56, 56, 256)  1024       ['conv2_block1_out[0][0]']       \n",
            " ormalization)                                                                                    \n",
            "                                                                                                  \n",
            " conv2_block2_preact_relu (Acti  (None, 56, 56, 256)  0          ['conv2_block2_preact_bn[0][0]'] \n",
            " vation)                                                                                          \n",
            "                                                                                                  \n",
            " conv2_block2_1_conv (Conv2D)   (None, 56, 56, 64)   16384       ['conv2_block2_preact_relu[0][0]'\n",
            "                                                                 ]                                \n",
            "                                                                                                  \n",
            " conv2_block2_1_bn (BatchNormal  (None, 56, 56, 64)  256         ['conv2_block2_1_conv[0][0]']    \n",
            " ization)                                                                                         \n",
            "                                                                                                  \n",
            " conv2_block2_1_relu (Activatio  (None, 56, 56, 64)  0           ['conv2_block2_1_bn[0][0]']      \n",
            " n)                                                                                               \n",
            "                                                                                                  \n",
            " conv2_block2_2_pad (ZeroPaddin  (None, 58, 58, 64)  0           ['conv2_block2_1_relu[0][0]']    \n",
            " g2D)                                                                                             \n",
            "                                                                                                  \n",
            " conv2_block2_2_conv (Conv2D)   (None, 56, 56, 64)   36864       ['conv2_block2_2_pad[0][0]']     \n",
            "                                                                                                  \n",
            " conv2_block2_2_bn (BatchNormal  (None, 56, 56, 64)  256         ['conv2_block2_2_conv[0][0]']    \n",
            " ization)                                                                                         \n",
            "                                                                                                  \n",
            " conv2_block2_2_relu (Activatio  (None, 56, 56, 64)  0           ['conv2_block2_2_bn[0][0]']      \n",
            " n)                                                                                               \n",
            "                                                                                                  \n",
            " conv2_block2_3_conv (Conv2D)   (None, 56, 56, 256)  16640       ['conv2_block2_2_relu[0][0]']    \n",
            "                                                                                                  \n",
            " conv2_block2_out (Add)         (None, 56, 56, 256)  0           ['conv2_block1_out[0][0]',       \n",
            "                                                                  'conv2_block2_3_conv[0][0]']    \n",
            "                                                                                                  \n",
            " conv2_block3_preact_bn (BatchN  (None, 56, 56, 256)  1024       ['conv2_block2_out[0][0]']       \n",
            " ormalization)                                                                                    \n",
            "                                                                                                  \n",
            " conv2_block3_preact_relu (Acti  (None, 56, 56, 256)  0          ['conv2_block3_preact_bn[0][0]'] \n",
            " vation)                                                                                          \n",
            "                                                                                                  \n",
            " conv2_block3_1_conv (Conv2D)   (None, 56, 56, 64)   16384       ['conv2_block3_preact_relu[0][0]'\n",
            "                                                                 ]                                \n",
            "                                                                                                  \n",
            " conv2_block3_1_bn (BatchNormal  (None, 56, 56, 64)  256         ['conv2_block3_1_conv[0][0]']    \n",
            " ization)                                                                                         \n",
            "                                                                                                  \n",
            " conv2_block3_1_relu (Activatio  (None, 56, 56, 64)  0           ['conv2_block3_1_bn[0][0]']      \n",
            " n)                                                                                               \n",
            "                                                                                                  \n",
            " conv2_block3_2_pad (ZeroPaddin  (None, 58, 58, 64)  0           ['conv2_block3_1_relu[0][0]']    \n",
            " g2D)                                                                                             \n",
            "                                                                                                  \n",
            " conv2_block3_2_conv (Conv2D)   (None, 28, 28, 64)   36864       ['conv2_block3_2_pad[0][0]']     \n",
            "                                                                                                  \n",
            " conv2_block3_2_bn (BatchNormal  (None, 28, 28, 64)  256         ['conv2_block3_2_conv[0][0]']    \n",
            " ization)                                                                                         \n",
            "                                                                                                  \n",
            " conv2_block3_2_relu (Activatio  (None, 28, 28, 64)  0           ['conv2_block3_2_bn[0][0]']      \n",
            " n)                                                                                               \n",
            "                                                                                                  \n",
            " max_pooling2d (MaxPooling2D)   (None, 28, 28, 256)  0           ['conv2_block2_out[0][0]']       \n",
            "                                                                                                  \n",
            " conv2_block3_3_conv (Conv2D)   (None, 28, 28, 256)  16640       ['conv2_block3_2_relu[0][0]']    \n",
            "                                                                                                  \n",
            " conv2_block3_out (Add)         (None, 28, 28, 256)  0           ['max_pooling2d[0][0]',          \n",
            "                                                                  'conv2_block3_3_conv[0][0]']    \n",
            "                                                                                                  \n",
            " conv3_block1_preact_bn (BatchN  (None, 28, 28, 256)  1024       ['conv2_block3_out[0][0]']       \n",
            " ormalization)                                                                                    \n",
            "                                                                                                  \n",
            " conv3_block1_preact_relu (Acti  (None, 28, 28, 256)  0          ['conv3_block1_preact_bn[0][0]'] \n",
            " vation)                                                                                          \n",
            "                                                                                                  \n",
            " conv3_block1_1_conv (Conv2D)   (None, 28, 28, 128)  32768       ['conv3_block1_preact_relu[0][0]'\n",
            "                                                                 ]                                \n",
            "                                                                                                  \n",
            " conv3_block1_1_bn (BatchNormal  (None, 28, 28, 128)  512        ['conv3_block1_1_conv[0][0]']    \n",
            " ization)                                                                                         \n",
            "                                                                                                  \n",
            " conv3_block1_1_relu (Activatio  (None, 28, 28, 128)  0          ['conv3_block1_1_bn[0][0]']      \n",
            " n)                                                                                               \n",
            "                                                                                                  \n",
            " conv3_block1_2_pad (ZeroPaddin  (None, 30, 30, 128)  0          ['conv3_block1_1_relu[0][0]']    \n",
            " g2D)                                                                                             \n",
            "                                                                                                  \n",
            " conv3_block1_2_conv (Conv2D)   (None, 28, 28, 128)  147456      ['conv3_block1_2_pad[0][0]']     \n",
            "                                                                                                  \n",
            " conv3_block1_2_bn (BatchNormal  (None, 28, 28, 128)  512        ['conv3_block1_2_conv[0][0]']    \n",
            " ization)                                                                                         \n",
            "                                                                                                  \n",
            " conv3_block1_2_relu (Activatio  (None, 28, 28, 128)  0          ['conv3_block1_2_bn[0][0]']      \n",
            " n)                                                                                               \n",
            "                                                                                                  \n",
            " conv3_block1_0_conv (Conv2D)   (None, 28, 28, 512)  131584      ['conv3_block1_preact_relu[0][0]'\n",
            "                                                                 ]                                \n",
            "                                                                                                  \n",
            " conv3_block1_3_conv (Conv2D)   (None, 28, 28, 512)  66048       ['conv3_block1_2_relu[0][0]']    \n",
            "                                                                                                  \n",
            " conv3_block1_out (Add)         (None, 28, 28, 512)  0           ['conv3_block1_0_conv[0][0]',    \n",
            "                                                                  'conv3_block1_3_conv[0][0]']    \n",
            "                                                                                                  \n",
            " conv3_block2_preact_bn (BatchN  (None, 28, 28, 512)  2048       ['conv3_block1_out[0][0]']       \n",
            " ormalization)                                                                                    \n",
            "                                                                                                  \n",
            " conv3_block2_preact_relu (Acti  (None, 28, 28, 512)  0          ['conv3_block2_preact_bn[0][0]'] \n",
            " vation)                                                                                          \n",
            "                                                                                                  \n",
            " conv3_block2_1_conv (Conv2D)   (None, 28, 28, 128)  65536       ['conv3_block2_preact_relu[0][0]'\n",
            "                                                                 ]                                \n",
            "                                                                                                  \n",
            " conv3_block2_1_bn (BatchNormal  (None, 28, 28, 128)  512        ['conv3_block2_1_conv[0][0]']    \n",
            " ization)                                                                                         \n",
            "                                                                                                  \n",
            " conv3_block2_1_relu (Activatio  (None, 28, 28, 128)  0          ['conv3_block2_1_bn[0][0]']      \n",
            " n)                                                                                               \n",
            "                                                                                                  \n",
            " conv3_block2_2_pad (ZeroPaddin  (None, 30, 30, 128)  0          ['conv3_block2_1_relu[0][0]']    \n",
            " g2D)                                                                                             \n",
            "                                                                                                  \n",
            " conv3_block2_2_conv (Conv2D)   (None, 28, 28, 128)  147456      ['conv3_block2_2_pad[0][0]']     \n",
            "                                                                                                  \n",
            " conv3_block2_2_bn (BatchNormal  (None, 28, 28, 128)  512        ['conv3_block2_2_conv[0][0]']    \n",
            " ization)                                                                                         \n",
            "                                                                                                  \n",
            " conv3_block2_2_relu (Activatio  (None, 28, 28, 128)  0          ['conv3_block2_2_bn[0][0]']      \n",
            " n)                                                                                               \n",
            "                                                                                                  \n",
            " conv3_block2_3_conv (Conv2D)   (None, 28, 28, 512)  66048       ['conv3_block2_2_relu[0][0]']    \n",
            "                                                                                                  \n",
            " conv3_block2_out (Add)         (None, 28, 28, 512)  0           ['conv3_block1_out[0][0]',       \n",
            "                                                                  'conv3_block2_3_conv[0][0]']    \n",
            "                                                                                                  \n",
            " conv3_block3_preact_bn (BatchN  (None, 28, 28, 512)  2048       ['conv3_block2_out[0][0]']       \n",
            " ormalization)                                                                                    \n",
            "                                                                                                  \n",
            " conv3_block3_preact_relu (Acti  (None, 28, 28, 512)  0          ['conv3_block3_preact_bn[0][0]'] \n",
            " vation)                                                                                          \n",
            "                                                                                                  \n",
            " conv3_block3_1_conv (Conv2D)   (None, 28, 28, 128)  65536       ['conv3_block3_preact_relu[0][0]'\n",
            "                                                                 ]                                \n",
            "                                                                                                  \n",
            " conv3_block3_1_bn (BatchNormal  (None, 28, 28, 128)  512        ['conv3_block3_1_conv[0][0]']    \n",
            " ization)                                                                                         \n",
            "                                                                                                  \n",
            " conv3_block3_1_relu (Activatio  (None, 28, 28, 128)  0          ['conv3_block3_1_bn[0][0]']      \n",
            " n)                                                                                               \n",
            "                                                                                                  \n",
            " conv3_block3_2_pad (ZeroPaddin  (None, 30, 30, 128)  0          ['conv3_block3_1_relu[0][0]']    \n",
            " g2D)                                                                                             \n",
            "                                                                                                  \n",
            " conv3_block3_2_conv (Conv2D)   (None, 28, 28, 128)  147456      ['conv3_block3_2_pad[0][0]']     \n",
            "                                                                                                  \n",
            " conv3_block3_2_bn (BatchNormal  (None, 28, 28, 128)  512        ['conv3_block3_2_conv[0][0]']    \n",
            " ization)                                                                                         \n",
            "                                                                                                  \n",
            " conv3_block3_2_relu (Activatio  (None, 28, 28, 128)  0          ['conv3_block3_2_bn[0][0]']      \n",
            " n)                                                                                               \n",
            "                                                                                                  \n",
            " conv3_block3_3_conv (Conv2D)   (None, 28, 28, 512)  66048       ['conv3_block3_2_relu[0][0]']    \n",
            "                                                                                                  \n",
            " conv3_block3_out (Add)         (None, 28, 28, 512)  0           ['conv3_block2_out[0][0]',       \n",
            "                                                                  'conv3_block3_3_conv[0][0]']    \n",
            "                                                                                                  \n",
            " conv3_block4_preact_bn (BatchN  (None, 28, 28, 512)  2048       ['conv3_block3_out[0][0]']       \n",
            " ormalization)                                                                                    \n",
            "                                                                                                  \n",
            " conv3_block4_preact_relu (Acti  (None, 28, 28, 512)  0          ['conv3_block4_preact_bn[0][0]'] \n",
            " vation)                                                                                          \n",
            "                                                                                                  \n",
            " conv3_block4_1_conv (Conv2D)   (None, 28, 28, 128)  65536       ['conv3_block4_preact_relu[0][0]'\n",
            "                                                                 ]                                \n",
            "                                                                                                  \n",
            " conv3_block4_1_bn (BatchNormal  (None, 28, 28, 128)  512        ['conv3_block4_1_conv[0][0]']    \n",
            " ization)                                                                                         \n",
            "                                                                                                  \n",
            " conv3_block4_1_relu (Activatio  (None, 28, 28, 128)  0          ['conv3_block4_1_bn[0][0]']      \n",
            " n)                                                                                               \n",
            "                                                                                                  \n",
            " conv3_block4_2_pad (ZeroPaddin  (None, 30, 30, 128)  0          ['conv3_block4_1_relu[0][0]']    \n",
            " g2D)                                                                                             \n",
            "                                                                                                  \n",
            " conv3_block4_2_conv (Conv2D)   (None, 14, 14, 128)  147456      ['conv3_block4_2_pad[0][0]']     \n",
            "                                                                                                  \n",
            " conv3_block4_2_bn (BatchNormal  (None, 14, 14, 128)  512        ['conv3_block4_2_conv[0][0]']    \n",
            " ization)                                                                                         \n",
            "                                                                                                  \n",
            " conv3_block4_2_relu (Activatio  (None, 14, 14, 128)  0          ['conv3_block4_2_bn[0][0]']      \n",
            " n)                                                                                               \n",
            "                                                                                                  \n",
            " max_pooling2d_1 (MaxPooling2D)  (None, 14, 14, 512)  0          ['conv3_block3_out[0][0]']       \n",
            "                                                                                                  \n",
            " conv3_block4_3_conv (Conv2D)   (None, 14, 14, 512)  66048       ['conv3_block4_2_relu[0][0]']    \n",
            "                                                                                                  \n",
            " conv3_block4_out (Add)         (None, 14, 14, 512)  0           ['max_pooling2d_1[0][0]',        \n",
            "                                                                  'conv3_block4_3_conv[0][0]']    \n",
            "                                                                                                  \n",
            " conv4_block1_preact_bn (BatchN  (None, 14, 14, 512)  2048       ['conv3_block4_out[0][0]']       \n",
            " ormalization)                                                                                    \n",
            "                                                                                                  \n",
            " conv4_block1_preact_relu (Acti  (None, 14, 14, 512)  0          ['conv4_block1_preact_bn[0][0]'] \n",
            " vation)                                                                                          \n",
            "                                                                                                  \n",
            " conv4_block1_1_conv (Conv2D)   (None, 14, 14, 256)  131072      ['conv4_block1_preact_relu[0][0]'\n",
            "                                                                 ]                                \n",
            "                                                                                                  \n",
            " conv4_block1_1_bn (BatchNormal  (None, 14, 14, 256)  1024       ['conv4_block1_1_conv[0][0]']    \n",
            " ization)                                                                                         \n",
            "                                                                                                  \n",
            " conv4_block1_1_relu (Activatio  (None, 14, 14, 256)  0          ['conv4_block1_1_bn[0][0]']      \n",
            " n)                                                                                               \n",
            "                                                                                                  \n",
            " conv4_block1_2_pad (ZeroPaddin  (None, 16, 16, 256)  0          ['conv4_block1_1_relu[0][0]']    \n",
            " g2D)                                                                                             \n",
            "                                                                                                  \n",
            " conv4_block1_2_conv (Conv2D)   (None, 14, 14, 256)  589824      ['conv4_block1_2_pad[0][0]']     \n",
            "                                                                                                  \n",
            " conv4_block1_2_bn (BatchNormal  (None, 14, 14, 256)  1024       ['conv4_block1_2_conv[0][0]']    \n",
            " ization)                                                                                         \n",
            "                                                                                                  \n",
            " conv4_block1_2_relu (Activatio  (None, 14, 14, 256)  0          ['conv4_block1_2_bn[0][0]']      \n",
            " n)                                                                                               \n",
            "                                                                                                  \n",
            " conv4_block1_0_conv (Conv2D)   (None, 14, 14, 1024  525312      ['conv4_block1_preact_relu[0][0]'\n",
            "                                )                                ]                                \n",
            "                                                                                                  \n",
            " conv4_block1_3_conv (Conv2D)   (None, 14, 14, 1024  263168      ['conv4_block1_2_relu[0][0]']    \n",
            "                                )                                                                 \n",
            "                                                                                                  \n",
            " conv4_block1_out (Add)         (None, 14, 14, 1024  0           ['conv4_block1_0_conv[0][0]',    \n",
            "                                )                                 'conv4_block1_3_conv[0][0]']    \n",
            "                                                                                                  \n",
            " conv4_block2_preact_bn (BatchN  (None, 14, 14, 1024  4096       ['conv4_block1_out[0][0]']       \n",
            " ormalization)                  )                                                                 \n",
            "                                                                                                  \n",
            " conv4_block2_preact_relu (Acti  (None, 14, 14, 1024  0          ['conv4_block2_preact_bn[0][0]'] \n",
            " vation)                        )                                                                 \n",
            "                                                                                                  \n",
            " conv4_block2_1_conv (Conv2D)   (None, 14, 14, 256)  262144      ['conv4_block2_preact_relu[0][0]'\n",
            "                                                                 ]                                \n",
            "                                                                                                  \n",
            " conv4_block2_1_bn (BatchNormal  (None, 14, 14, 256)  1024       ['conv4_block2_1_conv[0][0]']    \n",
            " ization)                                                                                         \n",
            "                                                                                                  \n",
            " conv4_block2_1_relu (Activatio  (None, 14, 14, 256)  0          ['conv4_block2_1_bn[0][0]']      \n",
            " n)                                                                                               \n",
            "                                                                                                  \n",
            " conv4_block2_2_pad (ZeroPaddin  (None, 16, 16, 256)  0          ['conv4_block2_1_relu[0][0]']    \n",
            " g2D)                                                                                             \n",
            "                                                                                                  \n",
            " conv4_block2_2_conv (Conv2D)   (None, 14, 14, 256)  589824      ['conv4_block2_2_pad[0][0]']     \n",
            "                                                                                                  \n",
            " conv4_block2_2_bn (BatchNormal  (None, 14, 14, 256)  1024       ['conv4_block2_2_conv[0][0]']    \n",
            " ization)                                                                                         \n",
            "                                                                                                  \n",
            " conv4_block2_2_relu (Activatio  (None, 14, 14, 256)  0          ['conv4_block2_2_bn[0][0]']      \n",
            " n)                                                                                               \n",
            "                                                                                                  \n",
            " conv4_block2_3_conv (Conv2D)   (None, 14, 14, 1024  263168      ['conv4_block2_2_relu[0][0]']    \n",
            "                                )                                                                 \n",
            "                                                                                                  \n",
            " conv4_block2_out (Add)         (None, 14, 14, 1024  0           ['conv4_block1_out[0][0]',       \n",
            "                                )                                 'conv4_block2_3_conv[0][0]']    \n",
            "                                                                                                  \n",
            " conv4_block3_preact_bn (BatchN  (None, 14, 14, 1024  4096       ['conv4_block2_out[0][0]']       \n",
            " ormalization)                  )                                                                 \n",
            "                                                                                                  \n",
            " conv4_block3_preact_relu (Acti  (None, 14, 14, 1024  0          ['conv4_block3_preact_bn[0][0]'] \n",
            " vation)                        )                                                                 \n",
            "                                                                                                  \n",
            " conv4_block3_1_conv (Conv2D)   (None, 14, 14, 256)  262144      ['conv4_block3_preact_relu[0][0]'\n",
            "                                                                 ]                                \n",
            "                                                                                                  \n",
            " conv4_block3_1_bn (BatchNormal  (None, 14, 14, 256)  1024       ['conv4_block3_1_conv[0][0]']    \n",
            " ization)                                                                                         \n",
            "                                                                                                  \n",
            " conv4_block3_1_relu (Activatio  (None, 14, 14, 256)  0          ['conv4_block3_1_bn[0][0]']      \n",
            " n)                                                                                               \n",
            "                                                                                                  \n",
            " conv4_block3_2_pad (ZeroPaddin  (None, 16, 16, 256)  0          ['conv4_block3_1_relu[0][0]']    \n",
            " g2D)                                                                                             \n",
            "                                                                                                  \n",
            " conv4_block3_2_conv (Conv2D)   (None, 14, 14, 256)  589824      ['conv4_block3_2_pad[0][0]']     \n",
            "                                                                                                  \n",
            " conv4_block3_2_bn (BatchNormal  (None, 14, 14, 256)  1024       ['conv4_block3_2_conv[0][0]']    \n",
            " ization)                                                                                         \n",
            "                                                                                                  \n",
            " conv4_block3_2_relu (Activatio  (None, 14, 14, 256)  0          ['conv4_block3_2_bn[0][0]']      \n",
            " n)                                                                                               \n",
            "                                                                                                  \n",
            " conv4_block3_3_conv (Conv2D)   (None, 14, 14, 1024  263168      ['conv4_block3_2_relu[0][0]']    \n",
            "                                )                                                                 \n",
            "                                                                                                  \n",
            " conv4_block3_out (Add)         (None, 14, 14, 1024  0           ['conv4_block2_out[0][0]',       \n",
            "                                )                                 'conv4_block3_3_conv[0][0]']    \n",
            "                                                                                                  \n",
            " conv4_block4_preact_bn (BatchN  (None, 14, 14, 1024  4096       ['conv4_block3_out[0][0]']       \n",
            " ormalization)                  )                                                                 \n",
            "                                                                                                  \n",
            " conv4_block4_preact_relu (Acti  (None, 14, 14, 1024  0          ['conv4_block4_preact_bn[0][0]'] \n",
            " vation)                        )                                                                 \n",
            "                                                                                                  \n",
            " conv4_block4_1_conv (Conv2D)   (None, 14, 14, 256)  262144      ['conv4_block4_preact_relu[0][0]'\n",
            "                                                                 ]                                \n",
            "                                                                                                  \n",
            " conv4_block4_1_bn (BatchNormal  (None, 14, 14, 256)  1024       ['conv4_block4_1_conv[0][0]']    \n",
            " ization)                                                                                         \n",
            "                                                                                                  \n",
            " conv4_block4_1_relu (Activatio  (None, 14, 14, 256)  0          ['conv4_block4_1_bn[0][0]']      \n",
            " n)                                                                                               \n",
            "                                                                                                  \n",
            " conv4_block4_2_pad (ZeroPaddin  (None, 16, 16, 256)  0          ['conv4_block4_1_relu[0][0]']    \n",
            " g2D)                                                                                             \n",
            "                                                                                                  \n",
            " conv4_block4_2_conv (Conv2D)   (None, 14, 14, 256)  589824      ['conv4_block4_2_pad[0][0]']     \n",
            "                                                                                                  \n",
            " conv4_block4_2_bn (BatchNormal  (None, 14, 14, 256)  1024       ['conv4_block4_2_conv[0][0]']    \n",
            " ization)                                                                                         \n",
            "                                                                                                  \n",
            " conv4_block4_2_relu (Activatio  (None, 14, 14, 256)  0          ['conv4_block4_2_bn[0][0]']      \n",
            " n)                                                                                               \n",
            "                                                                                                  \n",
            " conv4_block4_3_conv (Conv2D)   (None, 14, 14, 1024  263168      ['conv4_block4_2_relu[0][0]']    \n",
            "                                )                                                                 \n",
            "                                                                                                  \n",
            " conv4_block4_out (Add)         (None, 14, 14, 1024  0           ['conv4_block3_out[0][0]',       \n",
            "                                )                                 'conv4_block4_3_conv[0][0]']    \n",
            "                                                                                                  \n",
            " conv4_block5_preact_bn (BatchN  (None, 14, 14, 1024  4096       ['conv4_block4_out[0][0]']       \n",
            " ormalization)                  )                                                                 \n",
            "                                                                                                  \n",
            " conv4_block5_preact_relu (Acti  (None, 14, 14, 1024  0          ['conv4_block5_preact_bn[0][0]'] \n",
            " vation)                        )                                                                 \n",
            "                                                                                                  \n",
            " conv4_block5_1_conv (Conv2D)   (None, 14, 14, 256)  262144      ['conv4_block5_preact_relu[0][0]'\n",
            "                                                                 ]                                \n",
            "                                                                                                  \n",
            " conv4_block5_1_bn (BatchNormal  (None, 14, 14, 256)  1024       ['conv4_block5_1_conv[0][0]']    \n",
            " ization)                                                                                         \n",
            "                                                                                                  \n",
            " conv4_block5_1_relu (Activatio  (None, 14, 14, 256)  0          ['conv4_block5_1_bn[0][0]']      \n",
            " n)                                                                                               \n",
            "                                                                                                  \n",
            " conv4_block5_2_pad (ZeroPaddin  (None, 16, 16, 256)  0          ['conv4_block5_1_relu[0][0]']    \n",
            " g2D)                                                                                             \n",
            "                                                                                                  \n",
            " conv4_block5_2_conv (Conv2D)   (None, 14, 14, 256)  589824      ['conv4_block5_2_pad[0][0]']     \n",
            "                                                                                                  \n",
            " conv4_block5_2_bn (BatchNormal  (None, 14, 14, 256)  1024       ['conv4_block5_2_conv[0][0]']    \n",
            " ization)                                                                                         \n",
            "                                                                                                  \n",
            " conv4_block5_2_relu (Activatio  (None, 14, 14, 256)  0          ['conv4_block5_2_bn[0][0]']      \n",
            " n)                                                                                               \n",
            "                                                                                                  \n",
            " conv4_block5_3_conv (Conv2D)   (None, 14, 14, 1024  263168      ['conv4_block5_2_relu[0][0]']    \n",
            "                                )                                                                 \n",
            "                                                                                                  \n",
            " conv4_block5_out (Add)         (None, 14, 14, 1024  0           ['conv4_block4_out[0][0]',       \n",
            "                                )                                 'conv4_block5_3_conv[0][0]']    \n",
            "                                                                                                  \n",
            " conv4_block6_preact_bn (BatchN  (None, 14, 14, 1024  4096       ['conv4_block5_out[0][0]']       \n",
            " ormalization)                  )                                                                 \n",
            "                                                                                                  \n",
            " conv4_block6_preact_relu (Acti  (None, 14, 14, 1024  0          ['conv4_block6_preact_bn[0][0]'] \n",
            " vation)                        )                                                                 \n",
            "                                                                                                  \n",
            " conv4_block6_1_conv (Conv2D)   (None, 14, 14, 256)  262144      ['conv4_block6_preact_relu[0][0]'\n",
            "                                                                 ]                                \n",
            "                                                                                                  \n",
            " conv4_block6_1_bn (BatchNormal  (None, 14, 14, 256)  1024       ['conv4_block6_1_conv[0][0]']    \n",
            " ization)                                                                                         \n",
            "                                                                                                  \n",
            " conv4_block6_1_relu (Activatio  (None, 14, 14, 256)  0          ['conv4_block6_1_bn[0][0]']      \n",
            " n)                                                                                               \n",
            "                                                                                                  \n",
            " conv4_block6_2_pad (ZeroPaddin  (None, 16, 16, 256)  0          ['conv4_block6_1_relu[0][0]']    \n",
            " g2D)                                                                                             \n",
            "                                                                                                  \n",
            " conv4_block6_2_conv (Conv2D)   (None, 7, 7, 256)    589824      ['conv4_block6_2_pad[0][0]']     \n",
            "                                                                                                  \n",
            " conv4_block6_2_bn (BatchNormal  (None, 7, 7, 256)   1024        ['conv4_block6_2_conv[0][0]']    \n",
            " ization)                                                                                         \n",
            "                                                                                                  \n",
            " conv4_block6_2_relu (Activatio  (None, 7, 7, 256)   0           ['conv4_block6_2_bn[0][0]']      \n",
            " n)                                                                                               \n",
            "                                                                                                  \n",
            " max_pooling2d_2 (MaxPooling2D)  (None, 7, 7, 1024)  0           ['conv4_block5_out[0][0]']       \n",
            "                                                                                                  \n",
            " conv4_block6_3_conv (Conv2D)   (None, 7, 7, 1024)   263168      ['conv4_block6_2_relu[0][0]']    \n",
            "                                                                                                  \n",
            " conv4_block6_out (Add)         (None, 7, 7, 1024)   0           ['max_pooling2d_2[0][0]',        \n",
            "                                                                  'conv4_block6_3_conv[0][0]']    \n",
            "                                                                                                  \n",
            " conv5_block1_preact_bn (BatchN  (None, 7, 7, 1024)  4096        ['conv4_block6_out[0][0]']       \n",
            " ormalization)                                                                                    \n",
            "                                                                                                  \n",
            " conv5_block1_preact_relu (Acti  (None, 7, 7, 1024)  0           ['conv5_block1_preact_bn[0][0]'] \n",
            " vation)                                                                                          \n",
            "                                                                                                  \n",
            " conv5_block1_1_conv (Conv2D)   (None, 7, 7, 512)    524288      ['conv5_block1_preact_relu[0][0]'\n",
            "                                                                 ]                                \n",
            "                                                                                                  \n",
            " conv5_block1_1_bn (BatchNormal  (None, 7, 7, 512)   2048        ['conv5_block1_1_conv[0][0]']    \n",
            " ization)                                                                                         \n",
            "                                                                                                  \n",
            " conv5_block1_1_relu (Activatio  (None, 7, 7, 512)   0           ['conv5_block1_1_bn[0][0]']      \n",
            " n)                                                                                               \n",
            "                                                                                                  \n",
            " conv5_block1_2_pad (ZeroPaddin  (None, 9, 9, 512)   0           ['conv5_block1_1_relu[0][0]']    \n",
            " g2D)                                                                                             \n",
            "                                                                                                  \n",
            " conv5_block1_2_conv (Conv2D)   (None, 7, 7, 512)    2359296     ['conv5_block1_2_pad[0][0]']     \n",
            "                                                                                                  \n",
            " conv5_block1_2_bn (BatchNormal  (None, 7, 7, 512)   2048        ['conv5_block1_2_conv[0][0]']    \n",
            " ization)                                                                                         \n",
            "                                                                                                  \n",
            " conv5_block1_2_relu (Activatio  (None, 7, 7, 512)   0           ['conv5_block1_2_bn[0][0]']      \n",
            " n)                                                                                               \n",
            "                                                                                                  \n",
            " conv5_block1_0_conv (Conv2D)   (None, 7, 7, 2048)   2099200     ['conv5_block1_preact_relu[0][0]'\n",
            "                                                                 ]                                \n",
            "                                                                                                  \n",
            " conv5_block1_3_conv (Conv2D)   (None, 7, 7, 2048)   1050624     ['conv5_block1_2_relu[0][0]']    \n",
            "                                                                                                  \n",
            " conv5_block1_out (Add)         (None, 7, 7, 2048)   0           ['conv5_block1_0_conv[0][0]',    \n",
            "                                                                  'conv5_block1_3_conv[0][0]']    \n",
            "                                                                                                  \n",
            " conv5_block2_preact_bn (BatchN  (None, 7, 7, 2048)  8192        ['conv5_block1_out[0][0]']       \n",
            " ormalization)                                                                                    \n",
            "                                                                                                  \n",
            " conv5_block2_preact_relu (Acti  (None, 7, 7, 2048)  0           ['conv5_block2_preact_bn[0][0]'] \n",
            " vation)                                                                                          \n",
            "                                                                                                  \n",
            " conv5_block2_1_conv (Conv2D)   (None, 7, 7, 512)    1048576     ['conv5_block2_preact_relu[0][0]'\n",
            "                                                                 ]                                \n",
            "                                                                                                  \n",
            " conv5_block2_1_bn (BatchNormal  (None, 7, 7, 512)   2048        ['conv5_block2_1_conv[0][0]']    \n",
            " ization)                                                                                         \n",
            "                                                                                                  \n",
            " conv5_block2_1_relu (Activatio  (None, 7, 7, 512)   0           ['conv5_block2_1_bn[0][0]']      \n",
            " n)                                                                                               \n",
            "                                                                                                  \n",
            " conv5_block2_2_pad (ZeroPaddin  (None, 9, 9, 512)   0           ['conv5_block2_1_relu[0][0]']    \n",
            " g2D)                                                                                             \n",
            "                                                                                                  \n",
            " conv5_block2_2_conv (Conv2D)   (None, 7, 7, 512)    2359296     ['conv5_block2_2_pad[0][0]']     \n",
            "                                                                                                  \n",
            " conv5_block2_2_bn (BatchNormal  (None, 7, 7, 512)   2048        ['conv5_block2_2_conv[0][0]']    \n",
            " ization)                                                                                         \n",
            "                                                                                                  \n",
            " conv5_block2_2_relu (Activatio  (None, 7, 7, 512)   0           ['conv5_block2_2_bn[0][0]']      \n",
            " n)                                                                                               \n",
            "                                                                                                  \n",
            " conv5_block2_3_conv (Conv2D)   (None, 7, 7, 2048)   1050624     ['conv5_block2_2_relu[0][0]']    \n",
            "                                                                                                  \n",
            " conv5_block2_out (Add)         (None, 7, 7, 2048)   0           ['conv5_block1_out[0][0]',       \n",
            "                                                                  'conv5_block2_3_conv[0][0]']    \n",
            "                                                                                                  \n",
            " conv5_block3_preact_bn (BatchN  (None, 7, 7, 2048)  8192        ['conv5_block2_out[0][0]']       \n",
            " ormalization)                                                                                    \n",
            "                                                                                                  \n",
            " conv5_block3_preact_relu (Acti  (None, 7, 7, 2048)  0           ['conv5_block3_preact_bn[0][0]'] \n",
            " vation)                                                                                          \n",
            "                                                                                                  \n",
            " conv5_block3_1_conv (Conv2D)   (None, 7, 7, 512)    1048576     ['conv5_block3_preact_relu[0][0]'\n",
            "                                                                 ]                                \n",
            "                                                                                                  \n",
            " conv5_block3_1_bn (BatchNormal  (None, 7, 7, 512)   2048        ['conv5_block3_1_conv[0][0]']    \n",
            " ization)                                                                                         \n",
            "                                                                                                  \n",
            " conv5_block3_1_relu (Activatio  (None, 7, 7, 512)   0           ['conv5_block3_1_bn[0][0]']      \n",
            " n)                                                                                               \n",
            "                                                                                                  \n",
            " conv5_block3_2_pad (ZeroPaddin  (None, 9, 9, 512)   0           ['conv5_block3_1_relu[0][0]']    \n",
            " g2D)                                                                                             \n",
            "                                                                                                  \n",
            " conv5_block3_2_conv (Conv2D)   (None, 7, 7, 512)    2359296     ['conv5_block3_2_pad[0][0]']     \n",
            "                                                                                                  \n",
            " conv5_block3_2_bn (BatchNormal  (None, 7, 7, 512)   2048        ['conv5_block3_2_conv[0][0]']    \n",
            " ization)                                                                                         \n",
            "                                                                                                  \n",
            " conv5_block3_2_relu (Activatio  (None, 7, 7, 512)   0           ['conv5_block3_2_bn[0][0]']      \n",
            " n)                                                                                               \n",
            "                                                                                                  \n",
            " conv5_block3_3_conv (Conv2D)   (None, 7, 7, 2048)   1050624     ['conv5_block3_2_relu[0][0]']    \n",
            "                                                                                                  \n",
            " conv5_block3_out (Add)         (None, 7, 7, 2048)   0           ['conv5_block2_out[0][0]',       \n",
            "                                                                  'conv5_block3_3_conv[0][0]']    \n",
            "                                                                                                  \n",
            " post_bn (BatchNormalization)   (None, 7, 7, 2048)   8192        ['conv5_block3_out[0][0]']       \n",
            "                                                                                                  \n",
            " post_relu (Activation)         (None, 7, 7, 2048)   0           ['post_bn[0][0]']                \n",
            "                                                                                                  \n",
            " avg_pool (GlobalAveragePooling  (None, 2048)        0           ['post_relu[0][0]']              \n",
            " 2D)                                                                                              \n",
            "                                                                                                  \n",
            " predictions (Dense)            (None, 2)            4098        ['avg_pool[0][0]']               \n",
            "                                                                                                  \n",
            "==================================================================================================\n",
            "Total params: 23,568,898\n",
            "Trainable params: 23,523,458\n",
            "Non-trainable params: 45,440\n",
            "__________________________________________________________________________________________________\n"
          ]
        }
      ]
    },
    {
      "cell_type": "code",
      "source": [
        "model.fit(train_generator, epochs=100, validation_data=test_generator)"
      ],
      "metadata": {
        "colab": {
          "base_uri": "https://localhost:8080/"
        },
        "id": "XTvRldGR_xMC",
        "outputId": "98647d42-aeb1-42f3-e5a8-2644fcbe8144"
      },
      "execution_count": 6,
      "outputs": [
        {
          "output_type": "stream",
          "name": "stdout",
          "text": [
            "Epoch 1/100\n",
            "150/150 [==============================] - 190s 1s/step - loss: 0.7762 - accuracy: 0.5367 - val_loss: 0.9785 - val_accuracy: 0.4000\n",
            "Epoch 2/100\n",
            "150/150 [==============================] - 19s 123ms/step - loss: 0.6073 - accuracy: 0.7033 - val_loss: 430.2897 - val_accuracy: 0.4000\n",
            "Epoch 3/100\n",
            "150/150 [==============================] - 19s 124ms/step - loss: 0.5968 - accuracy: 0.7233 - val_loss: 7.5052 - val_accuracy: 0.4467\n",
            "Epoch 4/100\n",
            "150/150 [==============================] - 19s 124ms/step - loss: 0.4997 - accuracy: 0.7733 - val_loss: 13.9849 - val_accuracy: 0.6000\n",
            "Epoch 5/100\n",
            "150/150 [==============================] - 19s 124ms/step - loss: 0.3934 - accuracy: 0.8233 - val_loss: 79.6840 - val_accuracy: 0.4000\n",
            "Epoch 6/100\n",
            "150/150 [==============================] - 19s 124ms/step - loss: 0.3678 - accuracy: 0.8667 - val_loss: 0.9755 - val_accuracy: 0.8333\n",
            "Epoch 7/100\n",
            "150/150 [==============================] - 19s 124ms/step - loss: 0.2064 - accuracy: 0.9200 - val_loss: 0.0023 - val_accuracy: 1.0000\n",
            "Epoch 8/100\n",
            "150/150 [==============================] - 19s 123ms/step - loss: 0.0813 - accuracy: 0.9700 - val_loss: 0.1890 - val_accuracy: 0.9000\n",
            "Epoch 9/100\n",
            "150/150 [==============================] - 18s 123ms/step - loss: 0.1129 - accuracy: 0.9667 - val_loss: 0.0295 - val_accuracy: 0.9933\n",
            "Epoch 10/100\n",
            "150/150 [==============================] - 19s 124ms/step - loss: 0.0438 - accuracy: 0.9767 - val_loss: 12.2387 - val_accuracy: 0.6000\n",
            "Epoch 11/100\n",
            "150/150 [==============================] - 19s 124ms/step - loss: 0.4390 - accuracy: 0.8133 - val_loss: 14.3831 - val_accuracy: 0.4000\n",
            "Epoch 12/100\n",
            "150/150 [==============================] - 19s 124ms/step - loss: 0.0929 - accuracy: 0.9867 - val_loss: 0.0269 - val_accuracy: 0.9933\n",
            "Epoch 13/100\n",
            "150/150 [==============================] - 18s 123ms/step - loss: 0.0368 - accuracy: 0.9933 - val_loss: 0.0019 - val_accuracy: 1.0000\n",
            "Epoch 14/100\n",
            "150/150 [==============================] - 19s 124ms/step - loss: 0.0136 - accuracy: 0.9967 - val_loss: 0.0014 - val_accuracy: 1.0000\n",
            "Epoch 15/100\n",
            "150/150 [==============================] - 19s 124ms/step - loss: 0.0775 - accuracy: 0.9700 - val_loss: 39.8337 - val_accuracy: 0.6000\n",
            "Epoch 16/100\n",
            "150/150 [==============================] - 19s 124ms/step - loss: 0.0723 - accuracy: 0.9833 - val_loss: 0.0049 - val_accuracy: 1.0000\n",
            "Epoch 17/100\n",
            "150/150 [==============================] - 18s 123ms/step - loss: 0.0360 - accuracy: 0.9900 - val_loss: 0.0112 - val_accuracy: 1.0000\n",
            "Epoch 18/100\n",
            "150/150 [==============================] - 18s 123ms/step - loss: 0.0121 - accuracy: 0.9967 - val_loss: 0.0014 - val_accuracy: 1.0000\n",
            "Epoch 19/100\n",
            "150/150 [==============================] - 19s 124ms/step - loss: 0.0116 - accuracy: 0.9967 - val_loss: 5.5094e-04 - val_accuracy: 1.0000\n",
            "Epoch 20/100\n",
            "150/150 [==============================] - 19s 124ms/step - loss: 0.0076 - accuracy: 0.9967 - val_loss: 0.0019 - val_accuracy: 1.0000\n",
            "Epoch 21/100\n",
            "150/150 [==============================] - 18s 123ms/step - loss: 0.1216 - accuracy: 0.9600 - val_loss: 5.9626e-04 - val_accuracy: 1.0000\n",
            "Epoch 22/100\n",
            "150/150 [==============================] - 18s 123ms/step - loss: 0.3778 - accuracy: 0.8533 - val_loss: 59.4396 - val_accuracy: 0.6000\n",
            "Epoch 23/100\n",
            "150/150 [==============================] - 19s 124ms/step - loss: 0.1291 - accuracy: 0.9700 - val_loss: 0.0018 - val_accuracy: 1.0000\n",
            "Epoch 24/100\n",
            "150/150 [==============================] - 18s 123ms/step - loss: 0.1316 - accuracy: 0.9633 - val_loss: 0.0859 - val_accuracy: 0.9867\n",
            "Epoch 25/100\n",
            "150/150 [==============================] - 18s 123ms/step - loss: 0.0649 - accuracy: 0.9867 - val_loss: 17.1540 - val_accuracy: 0.6000\n",
            "Epoch 26/100\n",
            "150/150 [==============================] - 18s 123ms/step - loss: 0.0208 - accuracy: 0.9933 - val_loss: 0.0022 - val_accuracy: 1.0000\n",
            "Epoch 27/100\n",
            "150/150 [==============================] - 19s 124ms/step - loss: 0.0079 - accuracy: 0.9967 - val_loss: 9.1736e-04 - val_accuracy: 1.0000\n",
            "Epoch 28/100\n",
            "150/150 [==============================] - 18s 123ms/step - loss: 0.0302 - accuracy: 0.9900 - val_loss: 59.8957 - val_accuracy: 0.6000\n",
            "Epoch 29/100\n",
            "150/150 [==============================] - 18s 123ms/step - loss: 0.0297 - accuracy: 0.9933 - val_loss: 2.5866 - val_accuracy: 0.6000\n",
            "Epoch 30/100\n",
            "150/150 [==============================] - 19s 124ms/step - loss: 0.0299 - accuracy: 0.9900 - val_loss: 0.0171 - val_accuracy: 1.0000\n",
            "Epoch 31/100\n",
            "150/150 [==============================] - 18s 123ms/step - loss: 0.0156 - accuracy: 0.9933 - val_loss: 5.1153e-04 - val_accuracy: 1.0000\n",
            "Epoch 32/100\n",
            "150/150 [==============================] - 19s 125ms/step - loss: 0.0055 - accuracy: 0.9967 - val_loss: 1.5976e-04 - val_accuracy: 1.0000\n",
            "Epoch 33/100\n",
            "150/150 [==============================] - 18s 122ms/step - loss: 0.0031 - accuracy: 1.0000 - val_loss: 8.2786e-05 - val_accuracy: 1.0000\n",
            "Epoch 34/100\n",
            "150/150 [==============================] - 18s 122ms/step - loss: 0.0086 - accuracy: 0.9933 - val_loss: 3.5772e-04 - val_accuracy: 1.0000\n",
            "Epoch 35/100\n",
            "150/150 [==============================] - 18s 122ms/step - loss: 0.0321 - accuracy: 0.9967 - val_loss: 1.2105 - val_accuracy: 0.6600\n",
            "Epoch 36/100\n",
            "150/150 [==============================] - 18s 122ms/step - loss: 0.0071 - accuracy: 1.0000 - val_loss: 2.3432e-04 - val_accuracy: 1.0000\n",
            "Epoch 37/100\n",
            "150/150 [==============================] - 18s 122ms/step - loss: 0.0035 - accuracy: 1.0000 - val_loss: 0.0085 - val_accuracy: 1.0000\n",
            "Epoch 38/100\n",
            "150/150 [==============================] - 18s 122ms/step - loss: 0.0468 - accuracy: 0.9767 - val_loss: 40.3681 - val_accuracy: 0.6000\n",
            "Epoch 39/100\n",
            "150/150 [==============================] - 18s 122ms/step - loss: 0.0397 - accuracy: 0.9933 - val_loss: 2.5555e-04 - val_accuracy: 1.0000\n",
            "Epoch 40/100\n",
            "150/150 [==============================] - 18s 122ms/step - loss: 0.0163 - accuracy: 0.9933 - val_loss: 1.7491e-04 - val_accuracy: 1.0000\n",
            "Epoch 41/100\n",
            "150/150 [==============================] - 18s 121ms/step - loss: 0.0223 - accuracy: 0.9933 - val_loss: 18.6525 - val_accuracy: 0.6000\n",
            "Epoch 42/100\n",
            "150/150 [==============================] - 18s 122ms/step - loss: 0.1763 - accuracy: 0.9600 - val_loss: 0.0232 - val_accuracy: 0.9867\n",
            "Epoch 43/100\n",
            "150/150 [==============================] - 18s 122ms/step - loss: 0.0338 - accuracy: 0.9967 - val_loss: 6.0194e-04 - val_accuracy: 1.0000\n",
            "Epoch 44/100\n",
            "150/150 [==============================] - 18s 122ms/step - loss: 0.0054 - accuracy: 0.9967 - val_loss: 0.0028 - val_accuracy: 1.0000\n",
            "Epoch 45/100\n",
            "150/150 [==============================] - 18s 121ms/step - loss: 0.0122 - accuracy: 0.9967 - val_loss: 1.9985e-04 - val_accuracy: 1.0000\n",
            "Epoch 46/100\n",
            "150/150 [==============================] - 18s 122ms/step - loss: 0.0788 - accuracy: 0.9700 - val_loss: 49.9956 - val_accuracy: 0.4000\n",
            "Epoch 47/100\n",
            "150/150 [==============================] - 18s 122ms/step - loss: 0.2107 - accuracy: 0.9567 - val_loss: 21.7096 - val_accuracy: 0.6000\n",
            "Epoch 48/100\n",
            "150/150 [==============================] - 18s 122ms/step - loss: 0.0275 - accuracy: 0.9867 - val_loss: 0.0031 - val_accuracy: 1.0000\n",
            "Epoch 49/100\n",
            "150/150 [==============================] - 18s 121ms/step - loss: 0.0096 - accuracy: 0.9967 - val_loss: 8.9573e-04 - val_accuracy: 1.0000\n",
            "Epoch 50/100\n",
            "150/150 [==============================] - 18s 122ms/step - loss: 0.0042 - accuracy: 1.0000 - val_loss: 3.2729e-04 - val_accuracy: 1.0000\n",
            "Epoch 51/100\n",
            "150/150 [==============================] - 18s 122ms/step - loss: 0.0016 - accuracy: 1.0000 - val_loss: 1.3276e-04 - val_accuracy: 1.0000\n",
            "Epoch 52/100\n",
            "150/150 [==============================] - 18s 122ms/step - loss: 0.0023 - accuracy: 1.0000 - val_loss: 9.8187e-05 - val_accuracy: 1.0000\n",
            "Epoch 53/100\n",
            "150/150 [==============================] - 18s 121ms/step - loss: 0.0379 - accuracy: 0.9933 - val_loss: 7.9647 - val_accuracy: 0.6000\n",
            "Epoch 54/100\n",
            "150/150 [==============================] - 18s 122ms/step - loss: 0.0153 - accuracy: 0.9900 - val_loss: 1.3089e-04 - val_accuracy: 1.0000\n",
            "Epoch 55/100\n",
            "150/150 [==============================] - 18s 122ms/step - loss: 0.0055 - accuracy: 0.9967 - val_loss: 0.0019 - val_accuracy: 1.0000\n",
            "Epoch 56/100\n",
            "150/150 [==============================] - 18s 122ms/step - loss: 0.0030 - accuracy: 1.0000 - val_loss: 2.3321e-04 - val_accuracy: 1.0000\n",
            "Epoch 57/100\n",
            "150/150 [==============================] - 18s 122ms/step - loss: 0.0029 - accuracy: 1.0000 - val_loss: 4.0053e-04 - val_accuracy: 1.0000\n",
            "Epoch 58/100\n",
            "150/150 [==============================] - 18s 122ms/step - loss: 7.6221e-04 - accuracy: 1.0000 - val_loss: 1.7837e-04 - val_accuracy: 1.0000\n",
            "Epoch 59/100\n",
            "150/150 [==============================] - 19s 125ms/step - loss: 7.0725e-04 - accuracy: 1.0000 - val_loss: 1.2988e-04 - val_accuracy: 1.0000\n",
            "Epoch 60/100\n",
            "150/150 [==============================] - 18s 122ms/step - loss: 5.5399e-04 - accuracy: 1.0000 - val_loss: 4.8460e-05 - val_accuracy: 1.0000\n",
            "Epoch 61/100\n",
            "150/150 [==============================] - 18s 122ms/step - loss: 4.8788e-04 - accuracy: 1.0000 - val_loss: 3.6535e-05 - val_accuracy: 1.0000\n",
            "Epoch 62/100\n",
            "150/150 [==============================] - 18s 122ms/step - loss: 5.0779e-04 - accuracy: 1.0000 - val_loss: 3.2726e-04 - val_accuracy: 1.0000\n",
            "Epoch 63/100\n",
            "150/150 [==============================] - 18s 122ms/step - loss: 3.8055e-04 - accuracy: 1.0000 - val_loss: 3.8947e-05 - val_accuracy: 1.0000\n",
            "Epoch 64/100\n",
            "150/150 [==============================] - 18s 123ms/step - loss: 4.0442e-04 - accuracy: 1.0000 - val_loss: 3.2889e-05 - val_accuracy: 1.0000\n",
            "Epoch 65/100\n",
            "150/150 [==============================] - 18s 121ms/step - loss: 1.7905e-04 - accuracy: 1.0000 - val_loss: 1.9405e-05 - val_accuracy: 1.0000\n",
            "Epoch 66/100\n",
            "150/150 [==============================] - 18s 122ms/step - loss: 0.0583 - accuracy: 0.9800 - val_loss: 59.1006 - val_accuracy: 0.6000\n",
            "Epoch 67/100\n",
            "150/150 [==============================] - 18s 121ms/step - loss: 0.1550 - accuracy: 0.9700 - val_loss: 0.0014 - val_accuracy: 1.0000\n",
            "Epoch 68/100\n",
            "150/150 [==============================] - 18s 122ms/step - loss: 0.0070 - accuracy: 1.0000 - val_loss: 7.6077e-04 - val_accuracy: 1.0000\n",
            "Epoch 69/100\n",
            "150/150 [==============================] - 18s 122ms/step - loss: 0.0827 - accuracy: 0.9767 - val_loss: 0.0021 - val_accuracy: 1.0000\n",
            "Epoch 70/100\n",
            "150/150 [==============================] - 18s 122ms/step - loss: 0.0166 - accuracy: 0.9933 - val_loss: 8.7470e-04 - val_accuracy: 1.0000\n",
            "Epoch 71/100\n",
            "150/150 [==============================] - 18s 122ms/step - loss: 0.0072 - accuracy: 0.9967 - val_loss: 0.0026 - val_accuracy: 1.0000\n",
            "Epoch 72/100\n",
            "150/150 [==============================] - 18s 122ms/step - loss: 0.1617 - accuracy: 0.9767 - val_loss: 0.0014 - val_accuracy: 1.0000\n",
            "Epoch 73/100\n",
            "150/150 [==============================] - 18s 122ms/step - loss: 0.0174 - accuracy: 0.9933 - val_loss: 0.0013 - val_accuracy: 1.0000\n",
            "Epoch 74/100\n",
            "150/150 [==============================] - 18s 122ms/step - loss: 0.0053 - accuracy: 1.0000 - val_loss: 2.8237e-04 - val_accuracy: 1.0000\n",
            "Epoch 75/100\n",
            "150/150 [==============================] - 18s 122ms/step - loss: 0.0022 - accuracy: 1.0000 - val_loss: 3.0409e-04 - val_accuracy: 1.0000\n",
            "Epoch 76/100\n",
            "150/150 [==============================] - 18s 122ms/step - loss: 0.0028 - accuracy: 1.0000 - val_loss: 1.3262e-04 - val_accuracy: 1.0000\n",
            "Epoch 77/100\n",
            "150/150 [==============================] - 18s 122ms/step - loss: 0.0302 - accuracy: 0.9900 - val_loss: 2.0420e-04 - val_accuracy: 1.0000\n",
            "Epoch 78/100\n",
            "150/150 [==============================] - 18s 122ms/step - loss: 0.0615 - accuracy: 0.9933 - val_loss: 0.0989 - val_accuracy: 0.9733\n",
            "Epoch 79/100\n",
            "150/150 [==============================] - 18s 122ms/step - loss: 0.0177 - accuracy: 0.9933 - val_loss: 0.0070 - val_accuracy: 0.9933\n",
            "Epoch 80/100\n",
            "150/150 [==============================] - 18s 122ms/step - loss: 0.0192 - accuracy: 0.9933 - val_loss: 0.0039 - val_accuracy: 1.0000\n",
            "Epoch 81/100\n",
            "150/150 [==============================] - 18s 122ms/step - loss: 0.0815 - accuracy: 0.9767 - val_loss: 0.1446 - val_accuracy: 0.9200\n",
            "Epoch 82/100\n",
            "150/150 [==============================] - 18s 123ms/step - loss: 0.0233 - accuracy: 0.9967 - val_loss: 1.5641e-04 - val_accuracy: 1.0000\n",
            "Epoch 83/100\n",
            "150/150 [==============================] - 18s 122ms/step - loss: 0.0116 - accuracy: 0.9967 - val_loss: 0.0018 - val_accuracy: 1.0000\n",
            "Epoch 84/100\n",
            "150/150 [==============================] - 18s 122ms/step - loss: 0.0153 - accuracy: 0.9900 - val_loss: 7.3637e-04 - val_accuracy: 1.0000\n",
            "Epoch 85/100\n",
            "150/150 [==============================] - 18s 122ms/step - loss: 0.0190 - accuracy: 0.9867 - val_loss: 6.7785e-05 - val_accuracy: 1.0000\n",
            "Epoch 86/100\n",
            "150/150 [==============================] - 18s 122ms/step - loss: 0.0260 - accuracy: 0.9900 - val_loss: 1.5725e-04 - val_accuracy: 1.0000\n",
            "Epoch 87/100\n",
            "150/150 [==============================] - 18s 122ms/step - loss: 0.0114 - accuracy: 0.9967 - val_loss: 3.0816e-04 - val_accuracy: 1.0000\n",
            "Epoch 88/100\n",
            "150/150 [==============================] - 18s 122ms/step - loss: 9.3291e-04 - accuracy: 1.0000 - val_loss: 1.8503e-04 - val_accuracy: 1.0000\n",
            "Epoch 89/100\n",
            "150/150 [==============================] - 18s 122ms/step - loss: 0.0052 - accuracy: 0.9967 - val_loss: 2.1812e-04 - val_accuracy: 1.0000\n",
            "Epoch 90/100\n",
            "150/150 [==============================] - 18s 122ms/step - loss: 5.8034e-04 - accuracy: 1.0000 - val_loss: 1.0155e-04 - val_accuracy: 1.0000\n",
            "Epoch 91/100\n",
            "150/150 [==============================] - 18s 122ms/step - loss: 4.5062e-04 - accuracy: 1.0000 - val_loss: 7.4355e-05 - val_accuracy: 1.0000\n",
            "Epoch 92/100\n",
            "150/150 [==============================] - 18s 122ms/step - loss: 0.0841 - accuracy: 0.9800 - val_loss: 0.0615 - val_accuracy: 0.9733\n",
            "Epoch 93/100\n",
            "150/150 [==============================] - 18s 121ms/step - loss: 0.0078 - accuracy: 0.9933 - val_loss: 1.4178e-04 - val_accuracy: 1.0000\n",
            "Epoch 94/100\n",
            "150/150 [==============================] - 18s 122ms/step - loss: 0.0107 - accuracy: 0.9967 - val_loss: 3.3835e-04 - val_accuracy: 1.0000\n",
            "Epoch 95/100\n",
            "150/150 [==============================] - 18s 122ms/step - loss: 0.0046 - accuracy: 0.9967 - val_loss: 5.5444e-05 - val_accuracy: 1.0000\n",
            "Epoch 96/100\n",
            "150/150 [==============================] - 18s 123ms/step - loss: 0.0043 - accuracy: 0.9967 - val_loss: 6.5407e-05 - val_accuracy: 1.0000\n",
            "Epoch 97/100\n",
            "150/150 [==============================] - 18s 122ms/step - loss: 0.0018 - accuracy: 1.0000 - val_loss: 1.9973e-05 - val_accuracy: 1.0000\n",
            "Epoch 98/100\n",
            "150/150 [==============================] - 18s 123ms/step - loss: 0.0030 - accuracy: 1.0000 - val_loss: 5.4611e-05 - val_accuracy: 1.0000\n",
            "Epoch 99/100\n",
            "150/150 [==============================] - 18s 122ms/step - loss: 0.0012 - accuracy: 1.0000 - val_loss: 1.1932e-04 - val_accuracy: 1.0000\n",
            "Epoch 100/100\n",
            "150/150 [==============================] - 18s 123ms/step - loss: 2.2708e-04 - accuracy: 1.0000 - val_loss: 6.7324e-05 - val_accuracy: 1.0000\n"
          ]
        },
        {
          "output_type": "execute_result",
          "data": {
            "text/plain": [
              "<keras.callbacks.History at 0x7fc0b3677a50>"
            ]
          },
          "metadata": {},
          "execution_count": 6
        }
      ]
    },
    {
      "cell_type": "code",
      "source": [
        "print(\"-- Evaluate --\")\n",
        "scores = model.evaluate(test_generator)\n",
        "print(\"%s: %.2f%%\" %(model.metrics_names[1], scores[1]*100))"
      ],
      "metadata": {
        "id": "CdkTqwVROEyD",
        "colab": {
          "base_uri": "https://localhost:8080/"
        },
        "outputId": "ce9542ee-90e1-4e92-ee9e-dc38df1c260d"
      },
      "execution_count": 7,
      "outputs": [
        {
          "output_type": "stream",
          "name": "stdout",
          "text": [
            "-- Evaluate --\n",
            "75/75 [==============================] - 2s 33ms/step - loss: 6.7324e-05 - accuracy: 1.0000\n",
            "accuracy: 100.00%\n"
          ]
        }
      ]
    },
    {
      "cell_type": "code",
      "source": [
        "import matplotlib.pyplot as plt"
      ],
      "metadata": {
        "id": "MEGe8D88OFjA"
      },
      "execution_count": 8,
      "outputs": []
    },
    {
      "cell_type": "code",
      "source": [
        "val_datagen = tf.keras.preprocessing.image.ImageDataGenerator(rescale=1./255)\n",
        "\n",
        "val_generator = val_datagen.flow_from_directory(\n",
        "        '/content/Lee_dataset/MyDrive/13_1/001/',\n",
        "        target_size=(pictureWeightHeightSize, pictureWeightHeightSize),    \n",
        "        batch_size=numberOfClass,\n",
        "        class_mode='categorical')\n",
        "print(\"-- Predict --\")\n",
        "output = model.predict(val_generator)\n",
        "np.set_printoptions(formatter={'float': lambda x: \"{0:0.3f}\".format(x)})\n",
        "print(val_generator.filenames)\n",
        "print(val_generator.class_indices)\n",
        "print(output)"
      ],
      "metadata": {
        "id": "XYfEVtnBlo90",
        "colab": {
          "base_uri": "https://localhost:8080/"
        },
        "outputId": "f41196f2-9c7c-4cac-9ad3-f9d06da688c7"
      },
      "execution_count": 9,
      "outputs": [
        {
          "output_type": "stream",
          "name": "stdout",
          "text": [
            "Found 1 images belonging to 1 classes.\n",
            "-- Predict --\n",
            "['0/001.png']\n",
            "{'0': 0}\n",
            "[[0.000 1.000]]\n"
          ]
        }
      ]
    },
    {
      "cell_type": "code",
      "source": [
        "val_datagen = tf.keras.preprocessing.image.ImageDataGenerator(rescale=1./255)\n",
        "\n",
        "val_generator = val_datagen.flow_from_directory(\n",
        "        '/content/Lee_dataset/MyDrive/13_1/002/',\n",
        "        target_size=(pictureWeightHeightSize, pictureWeightHeightSize),    \n",
        "        batch_size=numberOfClass,\n",
        "        class_mode='categorical')\n",
        "print(\"-- Predict --\")\n",
        "output = model.predict(val_generator)\n",
        "np.set_printoptions(formatter={'float': lambda x: \"{0:0.3f}\".format(x)})\n",
        "print(val_generator.filenames)\n",
        "print(val_generator.class_indices)\n",
        "print(output)"
      ],
      "metadata": {
        "id": "D4-uTOIY2LWL",
        "colab": {
          "base_uri": "https://localhost:8080/"
        },
        "outputId": "3b19815b-8ca5-4e27-e5d5-890c2bb8b46d"
      },
      "execution_count": 10,
      "outputs": [
        {
          "output_type": "stream",
          "name": "stdout",
          "text": [
            "Found 1 images belonging to 1 classes.\n",
            "-- Predict --\n",
            "['0/002.png']\n",
            "{'0': 0}\n",
            "[[0.000 1.000]]\n"
          ]
        }
      ]
    },
    {
      "cell_type": "code",
      "source": [
        "val_datagen = tf.keras.preprocessing.image.ImageDataGenerator(rescale=1./255)\n",
        "\n",
        "val_generator = val_datagen.flow_from_directory(\n",
        "        '/content/Lee_dataset/MyDrive/13_1/003/',\n",
        "        target_size=(pictureWeightHeightSize, pictureWeightHeightSize),    \n",
        "        batch_size=numberOfClass,\n",
        "        class_mode='categorical')\n",
        "print(\"-- Predict --\")\n",
        "output = model.predict(val_generator)\n",
        "np.set_printoptions(formatter={'float': lambda x: \"{0:0.3f}\".format(x)})\n",
        "print(val_generator.filenames)\n",
        "print(val_generator.class_indices)\n",
        "print(output)"
      ],
      "metadata": {
        "id": "wY_ZQkak2Lyx",
        "colab": {
          "base_uri": "https://localhost:8080/"
        },
        "outputId": "46a1c7c3-2c51-4d4a-8330-ddbda7e74610"
      },
      "execution_count": 11,
      "outputs": [
        {
          "output_type": "stream",
          "name": "stdout",
          "text": [
            "Found 1 images belonging to 1 classes.\n",
            "-- Predict --\n",
            "['0/003.png']\n",
            "{'0': 0}\n",
            "[[0.000 1.000]]\n"
          ]
        }
      ]
    },
    {
      "cell_type": "code",
      "source": [
        "val_datagen = tf.keras.preprocessing.image.ImageDataGenerator(rescale=1./255)\n",
        "\n",
        "val_generator = val_datagen.flow_from_directory(\n",
        "        '/content/Lee_dataset/MyDrive/13_1/004/',\n",
        "        target_size=(pictureWeightHeightSize, pictureWeightHeightSize),    \n",
        "        batch_size=numberOfClass,\n",
        "        class_mode='categorical')\n",
        "print(\"-- Predict --\")\n",
        "output = model.predict(val_generator)\n",
        "np.set_printoptions(formatter={'float': lambda x: \"{0:0.3f}\".format(x)})\n",
        "print(val_generator.filenames)\n",
        "print(val_generator.class_indices)\n",
        "print(output)"
      ],
      "metadata": {
        "id": "ngd8fpB32MCp",
        "colab": {
          "base_uri": "https://localhost:8080/"
        },
        "outputId": "5fec195e-e4d4-4188-8740-f2b50789c302"
      },
      "execution_count": 12,
      "outputs": [
        {
          "output_type": "stream",
          "name": "stdout",
          "text": [
            "Found 1 images belonging to 1 classes.\n",
            "-- Predict --\n",
            "['0/004.png']\n",
            "{'0': 0}\n",
            "[[1.000 0.000]]\n"
          ]
        }
      ]
    },
    {
      "cell_type": "code",
      "source": [
        "val_datagen = tf.keras.preprocessing.image.ImageDataGenerator(rescale=1./255)\n",
        "\n",
        "val_generator = val_datagen.flow_from_directory(\n",
        "        '/content/Lee_dataset/MyDrive/13_1/005/',\n",
        "        target_size=(pictureWeightHeightSize, pictureWeightHeightSize),    \n",
        "        batch_size=numberOfClass,\n",
        "        class_mode='categorical')\n",
        "print(\"-- Predict --\")\n",
        "output = model.predict(val_generator)\n",
        "np.set_printoptions(formatter={'float': lambda x: \"{0:0.3f}\".format(x)})\n",
        "print(val_generator.filenames)\n",
        "print(val_generator.class_indices)\n",
        "print(output)"
      ],
      "metadata": {
        "id": "34jvk1km2MOt",
        "colab": {
          "base_uri": "https://localhost:8080/"
        },
        "outputId": "2e1644e9-da46-4a8e-be5d-b4fbbebf90fd"
      },
      "execution_count": 13,
      "outputs": [
        {
          "output_type": "stream",
          "name": "stdout",
          "text": [
            "Found 1 images belonging to 1 classes.\n",
            "-- Predict --\n",
            "['0/005.png']\n",
            "{'0': 0}\n",
            "[[0.000 1.000]]\n"
          ]
        }
      ]
    },
    {
      "cell_type": "code",
      "source": [
        "val_datagen = tf.keras.preprocessing.image.ImageDataGenerator(rescale=1./255)\n",
        "\n",
        "val_generator = val_datagen.flow_from_directory(\n",
        "        '/content/Lee_dataset/MyDrive/13_1/006/',\n",
        "        target_size=(pictureWeightHeightSize, pictureWeightHeightSize),    \n",
        "        batch_size=numberOfClass,\n",
        "        class_mode='categorical')\n",
        "print(\"-- Predict --\")\n",
        "output = model.predict(val_generator)\n",
        "np.set_printoptions(formatter={'float': lambda x: \"{0:0.3f}\".format(x)})\n",
        "print(val_generator.filenames)\n",
        "print(val_generator.class_indices)\n",
        "print(output)"
      ],
      "metadata": {
        "id": "Gik7eFEj2Mam",
        "colab": {
          "base_uri": "https://localhost:8080/"
        },
        "outputId": "2d3c95fc-852e-40d9-b054-1b3147e8deee"
      },
      "execution_count": 14,
      "outputs": [
        {
          "output_type": "stream",
          "name": "stdout",
          "text": [
            "Found 1 images belonging to 1 classes.\n",
            "-- Predict --\n",
            "['0/006.png']\n",
            "{'0': 0}\n",
            "[[1.000 0.000]]\n"
          ]
        }
      ]
    },
    {
      "cell_type": "code",
      "source": [
        "val_datagen = tf.keras.preprocessing.image.ImageDataGenerator(rescale=1./255)\n",
        "\n",
        "val_generator = val_datagen.flow_from_directory(\n",
        "        '/content/Lee_dataset/MyDrive/13_1/007/',\n",
        "        target_size=(pictureWeightHeightSize, pictureWeightHeightSize),    \n",
        "        batch_size=numberOfClass,\n",
        "        class_mode='categorical')\n",
        "print(\"-- Predict --\")\n",
        "output = model.predict(val_generator)\n",
        "np.set_printoptions(formatter={'float': lambda x: \"{0:0.3f}\".format(x)})\n",
        "print(val_generator.filenames)\n",
        "print(val_generator.class_indices)\n",
        "print(output)"
      ],
      "metadata": {
        "id": "PoTA8d5o2MlH",
        "colab": {
          "base_uri": "https://localhost:8080/"
        },
        "outputId": "ad095179-1346-404a-d295-711506ac8344"
      },
      "execution_count": 15,
      "outputs": [
        {
          "output_type": "stream",
          "name": "stdout",
          "text": [
            "Found 1 images belonging to 1 classes.\n",
            "-- Predict --\n",
            "['0/007.png']\n",
            "{'0': 0}\n",
            "[[1.000 0.000]]\n"
          ]
        }
      ]
    },
    {
      "cell_type": "code",
      "source": [
        "val_datagen = tf.keras.preprocessing.image.ImageDataGenerator(rescale=1./255)\n",
        "\n",
        "val_generator = val_datagen.flow_from_directory(\n",
        "        '/content/Lee_dataset/MyDrive/13_1/008/',\n",
        "        target_size=(pictureWeightHeightSize, pictureWeightHeightSize),    \n",
        "        batch_size=numberOfClass,\n",
        "        class_mode='categorical')\n",
        "print(\"-- Predict --\")\n",
        "output = model.predict(val_generator)\n",
        "np.set_printoptions(formatter={'float': lambda x: \"{0:0.3f}\".format(x)})\n",
        "print(val_generator.filenames)\n",
        "print(val_generator.class_indices)\n",
        "print(output)"
      ],
      "metadata": {
        "id": "EVh1gPGG2MvD",
        "colab": {
          "base_uri": "https://localhost:8080/"
        },
        "outputId": "f4f3796a-012c-47a3-cc75-016db0e2dc61"
      },
      "execution_count": 16,
      "outputs": [
        {
          "output_type": "stream",
          "name": "stdout",
          "text": [
            "Found 1 images belonging to 1 classes.\n",
            "-- Predict --\n",
            "['0/008.png']\n",
            "{'0': 0}\n",
            "[[0.000 1.000]]\n"
          ]
        }
      ]
    },
    {
      "cell_type": "code",
      "source": [
        "val_datagen = tf.keras.preprocessing.image.ImageDataGenerator(rescale=1./255)\n",
        "\n",
        "val_generator = val_datagen.flow_from_directory(\n",
        "        '/content/Lee_dataset/MyDrive/13_1/009/',\n",
        "        target_size=(pictureWeightHeightSize, pictureWeightHeightSize),    \n",
        "        batch_size=numberOfClass,\n",
        "        class_mode='categorical')\n",
        "print(\"-- Predict --\")\n",
        "output = model.predict(val_generator)\n",
        "np.set_printoptions(formatter={'float': lambda x: \"{0:0.3f}\".format(x)})\n",
        "print(val_generator.filenames)\n",
        "print(val_generator.class_indices)\n",
        "print(output)"
      ],
      "metadata": {
        "id": "X9V9G8t62M47",
        "colab": {
          "base_uri": "https://localhost:8080/"
        },
        "outputId": "0495de8e-ca79-4b9f-f99a-855d6df7dd6c"
      },
      "execution_count": 17,
      "outputs": [
        {
          "output_type": "stream",
          "name": "stdout",
          "text": [
            "Found 1 images belonging to 1 classes.\n",
            "-- Predict --\n",
            "['0/009.png']\n",
            "{'0': 0}\n",
            "[[0.000 1.000]]\n"
          ]
        }
      ]
    },
    {
      "cell_type": "code",
      "source": [
        "val_datagen = tf.keras.preprocessing.image.ImageDataGenerator(rescale=1./255)\n",
        "\n",
        "val_generator = val_datagen.flow_from_directory(\n",
        "        '/content/Lee_dataset/MyDrive/13_1/010/',\n",
        "        target_size=(pictureWeightHeightSize, pictureWeightHeightSize),    \n",
        "        batch_size=numberOfClass,\n",
        "        class_mode='categorical')\n",
        "print(\"-- Predict --\")\n",
        "output = model.predict(val_generator)\n",
        "np.set_printoptions(formatter={'float': lambda x: \"{0:0.3f}\".format(x)})\n",
        "print(val_generator.filenames)\n",
        "print(val_generator.class_indices)\n",
        "print(output)"
      ],
      "metadata": {
        "id": "bCCPArrp2NCd",
        "colab": {
          "base_uri": "https://localhost:8080/"
        },
        "outputId": "5798037f-ad5b-4589-d73b-f2a66b70cdac"
      },
      "execution_count": 18,
      "outputs": [
        {
          "output_type": "stream",
          "name": "stdout",
          "text": [
            "Found 1 images belonging to 1 classes.\n",
            "-- Predict --\n",
            "['0/010.png']\n",
            "{'0': 0}\n",
            "[[0.000 1.000]]\n"
          ]
        }
      ]
    },
    {
      "cell_type": "code",
      "source": [
        "# 모양 예측\n",
        "val_datagen = tf.keras.preprocessing.image.ImageDataGenerator(rescale=1./255)\n",
        "\n",
        "val_generator = val_datagen.flow_from_directory(\n",
        "        '/content/Lee_dataset/MyDrive/TestCase/TestCase1/001/',\n",
        "        target_size=(pictureWeightHeightSize, pictureWeightHeightSize),    \n",
        "        batch_size=numberOfClass,\n",
        "        class_mode='categorical')\n",
        "print(\"-- Predict --\")\n",
        "output = model.predict(val_generator)\n",
        "np.set_printoptions(formatter={'float': lambda x: \"{0:0.3f}\".format(x)})\n",
        "print(val_generator.filenames)\n",
        "print(val_generator.class_indices)\n",
        "print(output)"
      ],
      "metadata": {
        "id": "7nX-BfhYJp6M",
        "colab": {
          "base_uri": "https://localhost:8080/"
        },
        "outputId": "5c4f1d4c-9acc-4ae2-eb28-4285d919f126"
      },
      "execution_count": 23,
      "outputs": [
        {
          "output_type": "stream",
          "name": "stdout",
          "text": [
            "Found 1 images belonging to 2 classes.\n",
            "-- Predict --\n",
            "['0/001.png']\n",
            "{'.ipynb_checkpoints': 0, '0': 1}\n",
            "[[1.000 0.000]]\n"
          ]
        }
      ]
    },
    {
      "cell_type": "code",
      "source": [
        "# 모양 예측\n",
        "val_datagen = tf.keras.preprocessing.image.ImageDataGenerator(rescale=1./255)\n",
        "\n",
        "val_generator = val_datagen.flow_from_directory(\n",
        "        '/content/Lee_dataset/MyDrive/TestCase/TestCase1/002/',\n",
        "        target_size=(pictureWeightHeightSize, pictureWeightHeightSize),    \n",
        "        batch_size=numberOfClass,\n",
        "        class_mode='categorical')\n",
        "print(\"-- Predict --\")\n",
        "output = model.predict(val_generator)\n",
        "np.set_printoptions(formatter={'float': lambda x: \"{0:0.3f}\".format(x)})\n",
        "print(val_generator.filenames)\n",
        "print(val_generator.class_indices)\n",
        "print(output)"
      ],
      "metadata": {
        "colab": {
          "base_uri": "https://localhost:8080/"
        },
        "id": "abqPT_U5Ta_l",
        "outputId": "abfe5654-0a72-49fc-e18d-f1da4aa34066"
      },
      "execution_count": 24,
      "outputs": [
        {
          "output_type": "stream",
          "name": "stdout",
          "text": [
            "Found 1 images belonging to 2 classes.\n",
            "-- Predict --\n",
            "['0/002.png']\n",
            "{'.ipynb_checkpoints': 0, '0': 1}\n",
            "[[1.000 0.000]]\n"
          ]
        }
      ]
    },
    {
      "cell_type": "code",
      "source": [
        "# 모양 예측\n",
        "val_datagen = tf.keras.preprocessing.image.ImageDataGenerator(rescale=1./255)\n",
        "\n",
        "val_generator = val_datagen.flow_from_directory(\n",
        "        '/content/Lee_dataset/MyDrive/TestCase/TestCase1/003/',\n",
        "        target_size=(pictureWeightHeightSize, pictureWeightHeightSize),    \n",
        "        batch_size=numberOfClass,\n",
        "        class_mode='categorical')\n",
        "print(\"-- Predict --\")\n",
        "output = model.predict(val_generator)\n",
        "np.set_printoptions(formatter={'float': lambda x: \"{0:0.3f}\".format(x)})\n",
        "print(val_generator.filenames)\n",
        "print(val_generator.class_indices)\n",
        "print(output)"
      ],
      "metadata": {
        "colab": {
          "base_uri": "https://localhost:8080/"
        },
        "id": "2JfYKCPrTgTS",
        "outputId": "cc9e8785-13c1-4c5e-a2be-bc4035cdcb1c"
      },
      "execution_count": 25,
      "outputs": [
        {
          "output_type": "stream",
          "name": "stdout",
          "text": [
            "Found 1 images belonging to 2 classes.\n",
            "-- Predict --\n",
            "['0/003.png']\n",
            "{'.ipynb_checkpoints': 0, '0': 1}\n",
            "[[1.000 0.000]]\n"
          ]
        }
      ]
    },
    {
      "cell_type": "code",
      "source": [
        "# 모양 예측\n",
        "val_datagen = tf.keras.preprocessing.image.ImageDataGenerator(rescale=1./255)\n",
        "\n",
        "val_generator = val_datagen.flow_from_directory(\n",
        "        '/content/Lee_dataset/MyDrive/TestCase/TestCase1/004/',\n",
        "        target_size=(pictureWeightHeightSize, pictureWeightHeightSize),    \n",
        "        batch_size=numberOfClass,\n",
        "        class_mode='categorical')\n",
        "print(\"-- Predict --\")\n",
        "output = model.predict(val_generator)\n",
        "np.set_printoptions(formatter={'float': lambda x: \"{0:0.3f}\".format(x)})\n",
        "print(val_generator.filenames)\n",
        "print(val_generator.class_indices)\n",
        "print(output)"
      ],
      "metadata": {
        "colab": {
          "base_uri": "https://localhost:8080/"
        },
        "id": "9-WcfbsFThEb",
        "outputId": "7791ea2a-fefa-41f8-bca5-1aa9c5244578"
      },
      "execution_count": 26,
      "outputs": [
        {
          "output_type": "stream",
          "name": "stdout",
          "text": [
            "Found 1 images belonging to 2 classes.\n",
            "-- Predict --\n",
            "['0/004.png']\n",
            "{'.ipynb_checkpoints': 0, '0': 1}\n",
            "[[1.000 0.000]]\n"
          ]
        }
      ]
    },
    {
      "cell_type": "code",
      "source": [
        "# 모양 예측\n",
        "val_datagen = tf.keras.preprocessing.image.ImageDataGenerator(rescale=1./255)\n",
        "\n",
        "val_generator = val_datagen.flow_from_directory(\n",
        "        '/content/Lee_dataset/MyDrive/TestCase/TestCase1/005/',\n",
        "        target_size=(pictureWeightHeightSize, pictureWeightHeightSize),    \n",
        "        batch_size=numberOfClass,\n",
        "        class_mode='categorical')\n",
        "print(\"-- Predict --\")\n",
        "output = model.predict(val_generator)\n",
        "np.set_printoptions(formatter={'float': lambda x: \"{0:0.3f}\".format(x)})\n",
        "print(val_generator.filenames)\n",
        "print(val_generator.class_indices)\n",
        "print(output)"
      ],
      "metadata": {
        "colab": {
          "base_uri": "https://localhost:8080/"
        },
        "id": "5jPifoBYTh-5",
        "outputId": "649f24bc-2a6b-4932-aa09-8afa81b2abbc"
      },
      "execution_count": 27,
      "outputs": [
        {
          "output_type": "stream",
          "name": "stdout",
          "text": [
            "Found 1 images belonging to 2 classes.\n",
            "-- Predict --\n",
            "['0/005.png']\n",
            "{'.ipynb_checkpoints': 0, '0': 1}\n",
            "[[0.000 1.000]]\n"
          ]
        }
      ]
    },
    {
      "cell_type": "code",
      "source": [
        "# 모양 예측\n",
        "val_datagen = tf.keras.preprocessing.image.ImageDataGenerator(rescale=1./255)\n",
        "\n",
        "val_generator = val_datagen.flow_from_directory(\n",
        "        '/content/Lee_dataset/MyDrive/TestCase/TestCase1/006/',\n",
        "        target_size=(pictureWeightHeightSize, pictureWeightHeightSize),    \n",
        "        batch_size=numberOfClass,\n",
        "        class_mode='categorical')\n",
        "print(\"-- Predict --\")\n",
        "output = model.predict(val_generator)\n",
        "np.set_printoptions(formatter={'float': lambda x: \"{0:0.3f}\".format(x)})\n",
        "print(val_generator.filenames)\n",
        "print(val_generator.class_indices)\n",
        "print(output)"
      ],
      "metadata": {
        "colab": {
          "base_uri": "https://localhost:8080/"
        },
        "id": "U1qi6YwdTio2",
        "outputId": "7099c277-4c5e-4547-9738-e68a30a15e2c"
      },
      "execution_count": 28,
      "outputs": [
        {
          "output_type": "stream",
          "name": "stdout",
          "text": [
            "Found 1 images belonging to 2 classes.\n",
            "-- Predict --\n",
            "['0/006.png']\n",
            "{'.ipynb_checkpoints': 0, '0': 1}\n",
            "[[0.000 1.000]]\n"
          ]
        }
      ]
    },
    {
      "cell_type": "code",
      "source": [
        "# 모양 예측\n",
        "val_datagen = tf.keras.preprocessing.image.ImageDataGenerator(rescale=1./255)\n",
        "\n",
        "val_generator = val_datagen.flow_from_directory(\n",
        "        '/content/Lee_dataset/MyDrive/TestCase/TestCase1/007/',\n",
        "        target_size=(pictureWeightHeightSize, pictureWeightHeightSize),    \n",
        "        batch_size=numberOfClass,\n",
        "        class_mode='categorical')\n",
        "print(\"-- Predict --\")\n",
        "output = model.predict(val_generator)\n",
        "np.set_printoptions(formatter={'float': lambda x: \"{0:0.3f}\".format(x)})\n",
        "print(val_generator.filenames)\n",
        "print(val_generator.class_indices)\n",
        "print(output)"
      ],
      "metadata": {
        "colab": {
          "base_uri": "https://localhost:8080/"
        },
        "id": "Tdys8UhgTjbz",
        "outputId": "56ee8a65-c725-444b-a989-d3aad518bd64"
      },
      "execution_count": 29,
      "outputs": [
        {
          "output_type": "stream",
          "name": "stdout",
          "text": [
            "Found 1 images belonging to 2 classes.\n",
            "-- Predict --\n",
            "['0/007.png']\n",
            "{'.ipynb_checkpoints': 0, '0': 1}\n",
            "[[0.000 1.000]]\n"
          ]
        }
      ]
    },
    {
      "cell_type": "code",
      "source": [
        "# 모양 예측\n",
        "val_datagen = tf.keras.preprocessing.image.ImageDataGenerator(rescale=1./255)\n",
        "\n",
        "val_generator = val_datagen.flow_from_directory(\n",
        "        '/content/Lee_dataset/MyDrive/TestCase/TestCase1/008/',\n",
        "        target_size=(pictureWeightHeightSize, pictureWeightHeightSize),    \n",
        "        batch_size=numberOfClass,\n",
        "        class_mode='categorical')\n",
        "print(\"-- Predict --\")\n",
        "output = model.predict(val_generator)\n",
        "np.set_printoptions(formatter={'float': lambda x: \"{0:0.3f}\".format(x)})\n",
        "print(val_generator.filenames)\n",
        "print(val_generator.class_indices)\n",
        "print(output)"
      ],
      "metadata": {
        "colab": {
          "base_uri": "https://localhost:8080/"
        },
        "id": "cnkk25NkTkUC",
        "outputId": "8daa266a-cb56-4138-d2c3-efd68d4c9dc8"
      },
      "execution_count": 30,
      "outputs": [
        {
          "output_type": "stream",
          "name": "stdout",
          "text": [
            "Found 1 images belonging to 2 classes.\n",
            "-- Predict --\n",
            "['0/008.png']\n",
            "{'.ipynb_checkpoints': 0, '0': 1}\n",
            "[[0.000 1.000]]\n"
          ]
        }
      ]
    },
    {
      "cell_type": "code",
      "source": [
        "# 모양 예측\n",
        "val_datagen = tf.keras.preprocessing.image.ImageDataGenerator(rescale=1./255)\n",
        "\n",
        "val_generator = val_datagen.flow_from_directory(\n",
        "        '/content/Lee_dataset/MyDrive/TestCase/TestCase1/009/',\n",
        "        target_size=(pictureWeightHeightSize, pictureWeightHeightSize),    \n",
        "        batch_size=numberOfClass,\n",
        "        class_mode='categorical')\n",
        "print(\"-- Predict --\")\n",
        "output = model.predict(val_generator)\n",
        "np.set_printoptions(formatter={'float': lambda x: \"{0:0.3f}\".format(x)})\n",
        "print(val_generator.filenames)\n",
        "print(val_generator.class_indices)\n",
        "print(output)"
      ],
      "metadata": {
        "colab": {
          "base_uri": "https://localhost:8080/"
        },
        "id": "UcLKdM1PTlFP",
        "outputId": "f0655f64-fc0e-4884-9343-0e5f6f125c20"
      },
      "execution_count": 31,
      "outputs": [
        {
          "output_type": "stream",
          "name": "stdout",
          "text": [
            "Found 1 images belonging to 2 classes.\n",
            "-- Predict --\n",
            "['0/009.png']\n",
            "{'.ipynb_checkpoints': 0, '0': 1}\n",
            "[[1.000 0.000]]\n"
          ]
        }
      ]
    },
    {
      "cell_type": "code",
      "source": [
        "# 모양 예측\n",
        "val_datagen = tf.keras.preprocessing.image.ImageDataGenerator(rescale=1./255)\n",
        "\n",
        "val_generator = val_datagen.flow_from_directory(\n",
        "        '/content/Lee_dataset/MyDrive/TestCase/TestCase1/010/',\n",
        "        target_size=(pictureWeightHeightSize, pictureWeightHeightSize),    \n",
        "        batch_size=numberOfClass,\n",
        "        class_mode='categorical')\n",
        "print(\"-- Predict --\")\n",
        "output = model.predict(val_generator)\n",
        "np.set_printoptions(formatter={'float': lambda x: \"{0:0.3f}\".format(x)})\n",
        "print(val_generator.filenames)\n",
        "print(val_generator.class_indices)\n",
        "print(output)"
      ],
      "metadata": {
        "colab": {
          "base_uri": "https://localhost:8080/"
        },
        "id": "YQEzZBOMTls0",
        "outputId": "476b7c0a-fc88-4433-faa1-57e72169940a"
      },
      "execution_count": 32,
      "outputs": [
        {
          "output_type": "stream",
          "name": "stdout",
          "text": [
            "Found 1 images belonging to 2 classes.\n",
            "-- Predict --\n",
            "['0/010.png']\n",
            "{'.ipynb_checkpoints': 0, '0': 1}\n",
            "[[1.000 0.000]]\n"
          ]
        }
      ]
    },
    {
      "cell_type": "code",
      "source": [
        "# 모양 예측\n",
        "val_datagen = tf.keras.preprocessing.image.ImageDataGenerator(rescale=1./255)\n",
        "\n",
        "val_generator = val_datagen.flow_from_directory(\n",
        "        '/content/Lee_dataset/MyDrive/TestCase/TestCase1/011/',\n",
        "        target_size=(pictureWeightHeightSize, pictureWeightHeightSize),    \n",
        "        batch_size=numberOfClass,\n",
        "        class_mode='categorical')\n",
        "print(\"-- Predict --\")\n",
        "output = model.predict(val_generator)\n",
        "np.set_printoptions(formatter={'float': lambda x: \"{0:0.3f}\".format(x)})\n",
        "print(val_generator.filenames)\n",
        "print(val_generator.class_indices)\n",
        "print(output)"
      ],
      "metadata": {
        "colab": {
          "base_uri": "https://localhost:8080/"
        },
        "id": "yPOsJtC-Tmax",
        "outputId": "37294094-13c5-44dc-cf32-df7155fd6ff9"
      },
      "execution_count": 33,
      "outputs": [
        {
          "output_type": "stream",
          "name": "stdout",
          "text": [
            "Found 1 images belonging to 2 classes.\n",
            "-- Predict --\n",
            "['0/011.png']\n",
            "{'.ipynb_checkpoints': 0, '0': 1}\n",
            "[[1.000 0.000]]\n"
          ]
        }
      ]
    },
    {
      "cell_type": "code",
      "source": [
        "# 모양 예측\n",
        "val_datagen = tf.keras.preprocessing.image.ImageDataGenerator(rescale=1./255)\n",
        "\n",
        "val_generator = val_datagen.flow_from_directory(\n",
        "        '/content/Lee_dataset/MyDrive/TestCase/TestCase1/012/',\n",
        "        target_size=(pictureWeightHeightSize, pictureWeightHeightSize),    \n",
        "        batch_size=numberOfClass,\n",
        "        class_mode='categorical')\n",
        "print(\"-- Predict --\")\n",
        "output = model.predict(val_generator)\n",
        "np.set_printoptions(formatter={'float': lambda x: \"{0:0.3f}\".format(x)})\n",
        "print(val_generator.filenames)\n",
        "print(val_generator.class_indices)\n",
        "print(output)"
      ],
      "metadata": {
        "colab": {
          "base_uri": "https://localhost:8080/"
        },
        "id": "BaQ_86eGTnMN",
        "outputId": "82b66cdf-b23d-417f-abfc-639e2454c6f4"
      },
      "execution_count": 34,
      "outputs": [
        {
          "output_type": "stream",
          "name": "stdout",
          "text": [
            "Found 1 images belonging to 2 classes.\n",
            "-- Predict --\n",
            "['0/012.png']\n",
            "{'.ipynb_checkpoints': 0, '0': 1}\n",
            "[[1.000 0.000]]\n"
          ]
        }
      ]
    },
    {
      "cell_type": "code",
      "source": [
        "# 모양 예측\n",
        "val_datagen = tf.keras.preprocessing.image.ImageDataGenerator(rescale=1./255)\n",
        "\n",
        "val_generator = val_datagen.flow_from_directory(\n",
        "        '/content/Lee_dataset/MyDrive/TestCase/TestCase1/013/',\n",
        "        target_size=(pictureWeightHeightSize, pictureWeightHeightSize),    \n",
        "        batch_size=numberOfClass,\n",
        "        class_mode='categorical')\n",
        "print(\"-- Predict --\")\n",
        "output = model.predict(val_generator)\n",
        "np.set_printoptions(formatter={'float': lambda x: \"{0:0.3f}\".format(x)})\n",
        "print(val_generator.filenames)\n",
        "print(val_generator.class_indices)\n",
        "print(output)"
      ],
      "metadata": {
        "colab": {
          "base_uri": "https://localhost:8080/"
        },
        "id": "8gSpfSEgTn3v",
        "outputId": "bc95b038-b86e-4ea2-ee32-8aa7fbc4cae0"
      },
      "execution_count": 35,
      "outputs": [
        {
          "output_type": "stream",
          "name": "stdout",
          "text": [
            "Found 1 images belonging to 2 classes.\n",
            "-- Predict --\n",
            "['0/013.png']\n",
            "{'.ipynb_checkpoints': 0, '0': 1}\n",
            "[[0.000 1.000]]\n"
          ]
        }
      ]
    },
    {
      "cell_type": "code",
      "source": [
        "# 모양 예측\n",
        "val_datagen = tf.keras.preprocessing.image.ImageDataGenerator(rescale=1./255)\n",
        "\n",
        "val_generator = val_datagen.flow_from_directory(\n",
        "        '/content/Lee_dataset/MyDrive/TestCase/TestCase1/014/',\n",
        "        target_size=(pictureWeightHeightSize, pictureWeightHeightSize),    \n",
        "        batch_size=numberOfClass,\n",
        "        class_mode='categorical')\n",
        "print(\"-- Predict --\")\n",
        "output = model.predict(val_generator)\n",
        "np.set_printoptions(formatter={'float': lambda x: \"{0:0.3f}\".format(x)})\n",
        "print(val_generator.filenames)\n",
        "print(val_generator.class_indices)\n",
        "print(output)"
      ],
      "metadata": {
        "colab": {
          "base_uri": "https://localhost:8080/"
        },
        "id": "tjgt9AutTomP",
        "outputId": "c2aa511a-533c-4986-b2a7-cb1d56d23e07"
      },
      "execution_count": 36,
      "outputs": [
        {
          "output_type": "stream",
          "name": "stdout",
          "text": [
            "Found 1 images belonging to 2 classes.\n",
            "-- Predict --\n",
            "['0/014.png']\n",
            "{'.ipynb_checkpoints': 0, '0': 1}\n",
            "[[0.000 1.000]]\n"
          ]
        }
      ]
    },
    {
      "cell_type": "code",
      "source": [
        "# 모양 예측\n",
        "val_datagen = tf.keras.preprocessing.image.ImageDataGenerator(rescale=1./255)\n",
        "\n",
        "val_generator = val_datagen.flow_from_directory(\n",
        "        '/content/Lee_dataset/MyDrive/TestCase/TestCase1/015/',\n",
        "        target_size=(pictureWeightHeightSize, pictureWeightHeightSize),    \n",
        "        batch_size=numberOfClass,\n",
        "        class_mode='categorical')\n",
        "print(\"-- Predict --\")\n",
        "output = model.predict(val_generator)\n",
        "np.set_printoptions(formatter={'float': lambda x: \"{0:0.3f}\".format(x)})\n",
        "print(val_generator.filenames)\n",
        "print(val_generator.class_indices)\n",
        "print(output)"
      ],
      "metadata": {
        "colab": {
          "base_uri": "https://localhost:8080/"
        },
        "id": "pb28PrwKTpVE",
        "outputId": "c7bf2a76-8937-4527-a917-0cc4ddbadddf"
      },
      "execution_count": 37,
      "outputs": [
        {
          "output_type": "stream",
          "name": "stdout",
          "text": [
            "Found 1 images belonging to 2 classes.\n",
            "-- Predict --\n",
            "['0/015.png']\n",
            "{'.ipynb_checkpoints': 0, '0': 1}\n",
            "[[0.000 1.000]]\n"
          ]
        }
      ]
    },
    {
      "cell_type": "code",
      "source": [
        "# 모양 예측\n",
        "val_datagen = tf.keras.preprocessing.image.ImageDataGenerator(rescale=1./255)\n",
        "\n",
        "val_generator = val_datagen.flow_from_directory(\n",
        "        '/content/Lee_dataset/MyDrive/TestCase/TestCase1/016/',\n",
        "        target_size=(pictureWeightHeightSize, pictureWeightHeightSize),    \n",
        "        batch_size=numberOfClass,\n",
        "        class_mode='categorical')\n",
        "print(\"-- Predict --\")\n",
        "output = model.predict(val_generator)\n",
        "np.set_printoptions(formatter={'float': lambda x: \"{0:0.3f}\".format(x)})\n",
        "print(val_generator.filenames)\n",
        "print(val_generator.class_indices)\n",
        "print(output)"
      ],
      "metadata": {
        "colab": {
          "base_uri": "https://localhost:8080/"
        },
        "id": "dcNl6TLtTqCp",
        "outputId": "fcc0a303-df84-41cc-cb44-402d0b4a2619"
      },
      "execution_count": 38,
      "outputs": [
        {
          "output_type": "stream",
          "name": "stdout",
          "text": [
            "Found 1 images belonging to 2 classes.\n",
            "-- Predict --\n",
            "['0/016.png']\n",
            "{'.ipynb_checkpoints': 0, '0': 1}\n",
            "[[0.000 1.000]]\n"
          ]
        }
      ]
    },
    {
      "cell_type": "code",
      "source": [
        "# 민감도 예측\n",
        "val_datagen = tf.keras.preprocessing.image.ImageDataGenerator(rescale=1./255)\n",
        "\n",
        "val_generator = val_datagen.flow_from_directory(\n",
        "        '/content/Lee_dataset/MyDrive/TestCase/TestCase2/001/',\n",
        "        target_size=(pictureWeightHeightSize, pictureWeightHeightSize),    \n",
        "        batch_size=numberOfClass,\n",
        "        class_mode='categorical')\n",
        "print(\"-- Predict --\")\n",
        "output = model.predict(val_generator)\n",
        "np.set_printoptions(formatter={'float': lambda x: \"{0:0.3f}\".format(x)})\n",
        "print(val_generator.filenames)\n",
        "print(val_generator.class_indices)\n",
        "print(output)"
      ],
      "metadata": {
        "colab": {
          "base_uri": "https://localhost:8080/"
        },
        "id": "2LszRPBMTrNP",
        "outputId": "579a72fc-2b25-4074-ab75-f8a11aef8130"
      },
      "execution_count": 42,
      "outputs": [
        {
          "output_type": "stream",
          "name": "stdout",
          "text": [
            "Found 1 images belonging to 2 classes.\n",
            "-- Predict --\n",
            "['0/001.png']\n",
            "{'.ipynb_checkpoints': 0, '0': 1}\n",
            "[[0.000 1.000]]\n"
          ]
        }
      ]
    },
    {
      "cell_type": "code",
      "source": [
        "# 민감도 예측\n",
        "val_datagen = tf.keras.preprocessing.image.ImageDataGenerator(rescale=1./255)\n",
        "\n",
        "val_generator = val_datagen.flow_from_directory(\n",
        "        '/content/Lee_dataset/MyDrive/TestCase/TestCase2/002/',\n",
        "        target_size=(pictureWeightHeightSize, pictureWeightHeightSize),    \n",
        "        batch_size=numberOfClass,\n",
        "        class_mode='categorical')\n",
        "print(\"-- Predict --\")\n",
        "output = model.predict(val_generator)\n",
        "np.set_printoptions(formatter={'float': lambda x: \"{0:0.3f}\".format(x)})\n",
        "print(val_generator.filenames)\n",
        "print(val_generator.class_indices)\n",
        "print(output)"
      ],
      "metadata": {
        "colab": {
          "base_uri": "https://localhost:8080/"
        },
        "id": "L2f8gM_QTtfZ",
        "outputId": "bdcf86d9-1fab-4f1a-8774-665920f69267"
      },
      "execution_count": 43,
      "outputs": [
        {
          "output_type": "stream",
          "name": "stdout",
          "text": [
            "Found 1 images belonging to 2 classes.\n",
            "-- Predict --\n",
            "['0/002.png']\n",
            "{'.ipynb_checkpoints': 0, '0': 1}\n",
            "[[0.001 0.999]]\n"
          ]
        }
      ]
    },
    {
      "cell_type": "code",
      "source": [
        "# 민감도 예측\n",
        "val_datagen = tf.keras.preprocessing.image.ImageDataGenerator(rescale=1./255)\n",
        "\n",
        "val_generator = val_datagen.flow_from_directory(\n",
        "        '/content/Lee_dataset/MyDrive/TestCase/TestCase2/003/',\n",
        "        target_size=(pictureWeightHeightSize, pictureWeightHeightSize),    \n",
        "        batch_size=numberOfClass,\n",
        "        class_mode='categorical')\n",
        "print(\"-- Predict --\")\n",
        "output = model.predict(val_generator)\n",
        "np.set_printoptions(formatter={'float': lambda x: \"{0:0.3f}\".format(x)})\n",
        "print(val_generator.filenames)\n",
        "print(val_generator.class_indices)\n",
        "print(output)"
      ],
      "metadata": {
        "colab": {
          "base_uri": "https://localhost:8080/"
        },
        "id": "g3ZOaZOhTuAe",
        "outputId": "fb585b44-62fe-45c0-fba2-ce800d55afb9"
      },
      "execution_count": 44,
      "outputs": [
        {
          "output_type": "stream",
          "name": "stdout",
          "text": [
            "Found 1 images belonging to 2 classes.\n",
            "-- Predict --\n",
            "['0/003.png']\n",
            "{'.ipynb_checkpoints': 0, '0': 1}\n",
            "[[0.648 0.352]]\n"
          ]
        }
      ]
    },
    {
      "cell_type": "code",
      "source": [
        "# 민감도 예측\n",
        "val_datagen = tf.keras.preprocessing.image.ImageDataGenerator(rescale=1./255)\n",
        "\n",
        "val_generator = val_datagen.flow_from_directory(\n",
        "        '/content/Lee_dataset/MyDrive/TestCase/TestCase2/004/',\n",
        "        target_size=(pictureWeightHeightSize, pictureWeightHeightSize),    \n",
        "        batch_size=numberOfClass,\n",
        "        class_mode='categorical')\n",
        "print(\"-- Predict --\")\n",
        "output = model.predict(val_generator)\n",
        "np.set_printoptions(formatter={'float': lambda x: \"{0:0.3f}\".format(x)})\n",
        "print(val_generator.filenames)\n",
        "print(val_generator.class_indices)\n",
        "print(output)"
      ],
      "metadata": {
        "colab": {
          "base_uri": "https://localhost:8080/"
        },
        "id": "svV_trWbTuky",
        "outputId": "3c23a26c-82cb-455e-9b0a-524790f6e6ce"
      },
      "execution_count": 45,
      "outputs": [
        {
          "output_type": "stream",
          "name": "stdout",
          "text": [
            "Found 1 images belonging to 2 classes.\n",
            "-- Predict --\n",
            "['0/004.png']\n",
            "{'.ipynb_checkpoints': 0, '0': 1}\n",
            "[[0.996 0.004]]\n"
          ]
        }
      ]
    },
    {
      "cell_type": "code",
      "source": [
        "# 민감도 예측\n",
        "val_datagen = tf.keras.preprocessing.image.ImageDataGenerator(rescale=1./255)\n",
        "\n",
        "val_generator = val_datagen.flow_from_directory(\n",
        "        '/content/Lee_dataset/MyDrive/TestCase/TestCase2/005/',\n",
        "        target_size=(pictureWeightHeightSize, pictureWeightHeightSize),    \n",
        "        batch_size=numberOfClass,\n",
        "        class_mode='categorical')\n",
        "print(\"-- Predict --\")\n",
        "output = model.predict(val_generator)\n",
        "np.set_printoptions(formatter={'float': lambda x: \"{0:0.3f}\".format(x)})\n",
        "print(val_generator.filenames)\n",
        "print(val_generator.class_indices)\n",
        "print(output)"
      ],
      "metadata": {
        "colab": {
          "base_uri": "https://localhost:8080/"
        },
        "id": "bIUkJQThTvG-",
        "outputId": "5a46480f-079e-4d93-f54b-85248a86a281"
      },
      "execution_count": 46,
      "outputs": [
        {
          "output_type": "stream",
          "name": "stdout",
          "text": [
            "Found 1 images belonging to 2 classes.\n",
            "-- Predict --\n",
            "['0/005.png']\n",
            "{'.ipynb_checkpoints': 0, '0': 1}\n",
            "[[0.999 0.001]]\n"
          ]
        }
      ]
    },
    {
      "cell_type": "code",
      "source": [
        "# 민감도 예측\n",
        "val_datagen = tf.keras.preprocessing.image.ImageDataGenerator(rescale=1./255)\n",
        "\n",
        "val_generator = val_datagen.flow_from_directory(\n",
        "        '/content/Lee_dataset/MyDrive/TestCase/TestCase2/006/',\n",
        "        target_size=(pictureWeightHeightSize, pictureWeightHeightSize),    \n",
        "        batch_size=numberOfClass,\n",
        "        class_mode='categorical')\n",
        "print(\"-- Predict --\")\n",
        "output = model.predict(val_generator)\n",
        "np.set_printoptions(formatter={'float': lambda x: \"{0:0.3f}\".format(x)})\n",
        "print(val_generator.filenames)\n",
        "print(val_generator.class_indices)\n",
        "print(output)"
      ],
      "metadata": {
        "colab": {
          "base_uri": "https://localhost:8080/"
        },
        "id": "oh79ytmlTw-M",
        "outputId": "0fca581a-e231-4b3c-ce78-2cf4167183ee"
      },
      "execution_count": 47,
      "outputs": [
        {
          "output_type": "stream",
          "name": "stdout",
          "text": [
            "Found 1 images belonging to 2 classes.\n",
            "-- Predict --\n",
            "['0/006.png']\n",
            "{'.ipynb_checkpoints': 0, '0': 1}\n",
            "[[1.000 0.000]]\n"
          ]
        }
      ]
    },
    {
      "cell_type": "code",
      "source": [
        "# 민감도 예측\n",
        "val_datagen = tf.keras.preprocessing.image.ImageDataGenerator(rescale=1./255)\n",
        "\n",
        "val_generator = val_datagen.flow_from_directory(\n",
        "        '/content/Lee_dataset/MyDrive/TestCase/TestCase2/007/',\n",
        "        target_size=(pictureWeightHeightSize, pictureWeightHeightSize),    \n",
        "        batch_size=numberOfClass,\n",
        "        class_mode='categorical')\n",
        "print(\"-- Predict --\")\n",
        "output = model.predict(val_generator)\n",
        "np.set_printoptions(formatter={'float': lambda x: \"{0:0.3f}\".format(x)})\n",
        "print(val_generator.filenames)\n",
        "print(val_generator.class_indices)\n",
        "print(output)"
      ],
      "metadata": {
        "colab": {
          "base_uri": "https://localhost:8080/"
        },
        "id": "-kum1fzsTx3x",
        "outputId": "ac62b548-6818-4cdf-a51b-d235226a400b"
      },
      "execution_count": 48,
      "outputs": [
        {
          "output_type": "stream",
          "name": "stdout",
          "text": [
            "Found 1 images belonging to 2 classes.\n",
            "-- Predict --\n",
            "['0/007.png']\n",
            "{'.ipynb_checkpoints': 0, '0': 1}\n",
            "[[1.000 0.000]]\n"
          ]
        }
      ]
    },
    {
      "cell_type": "code",
      "source": [
        ""
      ],
      "metadata": {
        "id": "s0D9wYreTyZr"
      },
      "execution_count": null,
      "outputs": []
    }
  ]
}