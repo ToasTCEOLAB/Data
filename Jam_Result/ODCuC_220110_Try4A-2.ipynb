{
  "cells": [
    {
      "cell_type": "markdown",
      "metadata": {
        "id": "view-in-github",
        "colab_type": "text"
      },
      "source": [
        "<a href=\"https://colab.research.google.com/github/NewTAs/ODCuC/blob/main/ODCuC_220110_Try4A-2.ipynb\" target=\"_parent\"><img src=\"https://colab.research.google.com/assets/colab-badge.svg\" alt=\"Open In Colab\"/></a>"
      ]
    },
    {
      "cell_type": "code",
      "execution_count": 1,
      "metadata": {
        "colab": {
          "base_uri": "https://localhost:8080/"
        },
        "id": "xgBO72ZY81tE",
        "outputId": "2877403d-14ab-4955-99f2-1fa501b2fc7a"
      },
      "outputs": [
        {
          "output_type": "stream",
          "name": "stdout",
          "text": [
            "Mounted at Lee_dataset\n"
          ]
        }
      ],
      "source": [
        "import os\n",
        "import re\n",
        "import glob\n",
        "import cv2\n",
        "import numpy as np\n",
        "from sklearn.model_selection import train_test_split\n",
        "\n",
        "import tensorflow as tf\n",
        "\n",
        "from google.colab import drive\n",
        "drive.mount('Lee_dataset')"
      ]
    },
    {
      "cell_type": "code",
      "execution_count": 2,
      "metadata": {
        "colab": {
          "base_uri": "https://localhost:8080/"
        },
        "id": "H9aasxuq-Pia",
        "outputId": "e42209c3-9cc4-41c3-ab93-fe3f0a2c929b"
      },
      "outputs": [
        {
          "output_type": "stream",
          "name": "stdout",
          "text": [
            "Found 336 images belonging to 2 classes.\n",
            "Found 144 images belonging to 2 classes.\n"
          ]
        }
      ],
      "source": [
        "numberOfClass = 2\n",
        "pictureWeightHeightSize = 224\n",
        "\n",
        "train_datagen = tf.keras.preprocessing.image.ImageDataGenerator(rescale=1./255)\n",
        "\n",
        "train_generator = train_datagen.flow_from_directory(\n",
        "        '/content/Lee_dataset/MyDrive/Lee_Datasets/11/',\n",
        "        target_size=(pictureWeightHeightSize, pictureWeightHeightSize),\n",
        "        batch_size=numberOfClass,\n",
        "        class_mode='categorical')\n",
        "\n",
        "test_datagen = tf.keras.preprocessing.image.ImageDataGenerator(rescale=1./255)\n",
        "\n",
        "test_generator = test_datagen.flow_from_directory(\n",
        "        '/content/Lee_dataset/MyDrive/Lee_Datasets/12/',\n",
        "        target_size=(pictureWeightHeightSize, pictureWeightHeightSize),    \n",
        "        batch_size=numberOfClass,\n",
        "        class_mode='categorical')"
      ]
    },
    {
      "cell_type": "code",
      "execution_count": 3,
      "metadata": {
        "id": "eFApPT_d-q2g"
      },
      "outputs": [],
      "source": [
        "from tensorflow.keras.applications import ResNet50V2\n",
        "\n",
        "model = ResNet50V2(include_top=True, weights=None, input_shape=(224, 224, 3), pooling=max, classes=2)"
      ]
    },
    {
      "cell_type": "code",
      "execution_count": 4,
      "metadata": {
        "colab": {
          "base_uri": "https://localhost:8080/"
        },
        "id": "H6q5upFt_wCq",
        "outputId": "23d9e852-79fa-40b0-f7db-880d3cc48245"
      },
      "outputs": [
        {
          "output_type": "stream",
          "name": "stdout",
          "text": [
            "Model: \"resnet50v2\"\n",
            "__________________________________________________________________________________________________\n",
            " Layer (type)                   Output Shape         Param #     Connected to                     \n",
            "==================================================================================================\n",
            " input_1 (InputLayer)           [(None, 224, 224, 3  0           []                               \n",
            "                                )]                                                                \n",
            "                                                                                                  \n",
            " conv1_pad (ZeroPadding2D)      (None, 230, 230, 3)  0           ['input_1[0][0]']                \n",
            "                                                                                                  \n",
            " conv1_conv (Conv2D)            (None, 112, 112, 64  9472        ['conv1_pad[0][0]']              \n",
            "                                )                                                                 \n",
            "                                                                                                  \n",
            " pool1_pad (ZeroPadding2D)      (None, 114, 114, 64  0           ['conv1_conv[0][0]']             \n",
            "                                )                                                                 \n",
            "                                                                                                  \n",
            " pool1_pool (MaxPooling2D)      (None, 56, 56, 64)   0           ['pool1_pad[0][0]']              \n",
            "                                                                                                  \n",
            " conv2_block1_preact_bn (BatchN  (None, 56, 56, 64)  256         ['pool1_pool[0][0]']             \n",
            " ormalization)                                                                                    \n",
            "                                                                                                  \n",
            " conv2_block1_preact_relu (Acti  (None, 56, 56, 64)  0           ['conv2_block1_preact_bn[0][0]'] \n",
            " vation)                                                                                          \n",
            "                                                                                                  \n",
            " conv2_block1_1_conv (Conv2D)   (None, 56, 56, 64)   4096        ['conv2_block1_preact_relu[0][0]'\n",
            "                                                                 ]                                \n",
            "                                                                                                  \n",
            " conv2_block1_1_bn (BatchNormal  (None, 56, 56, 64)  256         ['conv2_block1_1_conv[0][0]']    \n",
            " ization)                                                                                         \n",
            "                                                                                                  \n",
            " conv2_block1_1_relu (Activatio  (None, 56, 56, 64)  0           ['conv2_block1_1_bn[0][0]']      \n",
            " n)                                                                                               \n",
            "                                                                                                  \n",
            " conv2_block1_2_pad (ZeroPaddin  (None, 58, 58, 64)  0           ['conv2_block1_1_relu[0][0]']    \n",
            " g2D)                                                                                             \n",
            "                                                                                                  \n",
            " conv2_block1_2_conv (Conv2D)   (None, 56, 56, 64)   36864       ['conv2_block1_2_pad[0][0]']     \n",
            "                                                                                                  \n",
            " conv2_block1_2_bn (BatchNormal  (None, 56, 56, 64)  256         ['conv2_block1_2_conv[0][0]']    \n",
            " ization)                                                                                         \n",
            "                                                                                                  \n",
            " conv2_block1_2_relu (Activatio  (None, 56, 56, 64)  0           ['conv2_block1_2_bn[0][0]']      \n",
            " n)                                                                                               \n",
            "                                                                                                  \n",
            " conv2_block1_0_conv (Conv2D)   (None, 56, 56, 256)  16640       ['conv2_block1_preact_relu[0][0]'\n",
            "                                                                 ]                                \n",
            "                                                                                                  \n",
            " conv2_block1_3_conv (Conv2D)   (None, 56, 56, 256)  16640       ['conv2_block1_2_relu[0][0]']    \n",
            "                                                                                                  \n",
            " conv2_block1_out (Add)         (None, 56, 56, 256)  0           ['conv2_block1_0_conv[0][0]',    \n",
            "                                                                  'conv2_block1_3_conv[0][0]']    \n",
            "                                                                                                  \n",
            " conv2_block2_preact_bn (BatchN  (None, 56, 56, 256)  1024       ['conv2_block1_out[0][0]']       \n",
            " ormalization)                                                                                    \n",
            "                                                                                                  \n",
            " conv2_block2_preact_relu (Acti  (None, 56, 56, 256)  0          ['conv2_block2_preact_bn[0][0]'] \n",
            " vation)                                                                                          \n",
            "                                                                                                  \n",
            " conv2_block2_1_conv (Conv2D)   (None, 56, 56, 64)   16384       ['conv2_block2_preact_relu[0][0]'\n",
            "                                                                 ]                                \n",
            "                                                                                                  \n",
            " conv2_block2_1_bn (BatchNormal  (None, 56, 56, 64)  256         ['conv2_block2_1_conv[0][0]']    \n",
            " ization)                                                                                         \n",
            "                                                                                                  \n",
            " conv2_block2_1_relu (Activatio  (None, 56, 56, 64)  0           ['conv2_block2_1_bn[0][0]']      \n",
            " n)                                                                                               \n",
            "                                                                                                  \n",
            " conv2_block2_2_pad (ZeroPaddin  (None, 58, 58, 64)  0           ['conv2_block2_1_relu[0][0]']    \n",
            " g2D)                                                                                             \n",
            "                                                                                                  \n",
            " conv2_block2_2_conv (Conv2D)   (None, 56, 56, 64)   36864       ['conv2_block2_2_pad[0][0]']     \n",
            "                                                                                                  \n",
            " conv2_block2_2_bn (BatchNormal  (None, 56, 56, 64)  256         ['conv2_block2_2_conv[0][0]']    \n",
            " ization)                                                                                         \n",
            "                                                                                                  \n",
            " conv2_block2_2_relu (Activatio  (None, 56, 56, 64)  0           ['conv2_block2_2_bn[0][0]']      \n",
            " n)                                                                                               \n",
            "                                                                                                  \n",
            " conv2_block2_3_conv (Conv2D)   (None, 56, 56, 256)  16640       ['conv2_block2_2_relu[0][0]']    \n",
            "                                                                                                  \n",
            " conv2_block2_out (Add)         (None, 56, 56, 256)  0           ['conv2_block1_out[0][0]',       \n",
            "                                                                  'conv2_block2_3_conv[0][0]']    \n",
            "                                                                                                  \n",
            " conv2_block3_preact_bn (BatchN  (None, 56, 56, 256)  1024       ['conv2_block2_out[0][0]']       \n",
            " ormalization)                                                                                    \n",
            "                                                                                                  \n",
            " conv2_block3_preact_relu (Acti  (None, 56, 56, 256)  0          ['conv2_block3_preact_bn[0][0]'] \n",
            " vation)                                                                                          \n",
            "                                                                                                  \n",
            " conv2_block3_1_conv (Conv2D)   (None, 56, 56, 64)   16384       ['conv2_block3_preact_relu[0][0]'\n",
            "                                                                 ]                                \n",
            "                                                                                                  \n",
            " conv2_block3_1_bn (BatchNormal  (None, 56, 56, 64)  256         ['conv2_block3_1_conv[0][0]']    \n",
            " ization)                                                                                         \n",
            "                                                                                                  \n",
            " conv2_block3_1_relu (Activatio  (None, 56, 56, 64)  0           ['conv2_block3_1_bn[0][0]']      \n",
            " n)                                                                                               \n",
            "                                                                                                  \n",
            " conv2_block3_2_pad (ZeroPaddin  (None, 58, 58, 64)  0           ['conv2_block3_1_relu[0][0]']    \n",
            " g2D)                                                                                             \n",
            "                                                                                                  \n",
            " conv2_block3_2_conv (Conv2D)   (None, 28, 28, 64)   36864       ['conv2_block3_2_pad[0][0]']     \n",
            "                                                                                                  \n",
            " conv2_block3_2_bn (BatchNormal  (None, 28, 28, 64)  256         ['conv2_block3_2_conv[0][0]']    \n",
            " ization)                                                                                         \n",
            "                                                                                                  \n",
            " conv2_block3_2_relu (Activatio  (None, 28, 28, 64)  0           ['conv2_block3_2_bn[0][0]']      \n",
            " n)                                                                                               \n",
            "                                                                                                  \n",
            " max_pooling2d (MaxPooling2D)   (None, 28, 28, 256)  0           ['conv2_block2_out[0][0]']       \n",
            "                                                                                                  \n",
            " conv2_block3_3_conv (Conv2D)   (None, 28, 28, 256)  16640       ['conv2_block3_2_relu[0][0]']    \n",
            "                                                                                                  \n",
            " conv2_block3_out (Add)         (None, 28, 28, 256)  0           ['max_pooling2d[0][0]',          \n",
            "                                                                  'conv2_block3_3_conv[0][0]']    \n",
            "                                                                                                  \n",
            " conv3_block1_preact_bn (BatchN  (None, 28, 28, 256)  1024       ['conv2_block3_out[0][0]']       \n",
            " ormalization)                                                                                    \n",
            "                                                                                                  \n",
            " conv3_block1_preact_relu (Acti  (None, 28, 28, 256)  0          ['conv3_block1_preact_bn[0][0]'] \n",
            " vation)                                                                                          \n",
            "                                                                                                  \n",
            " conv3_block1_1_conv (Conv2D)   (None, 28, 28, 128)  32768       ['conv3_block1_preact_relu[0][0]'\n",
            "                                                                 ]                                \n",
            "                                                                                                  \n",
            " conv3_block1_1_bn (BatchNormal  (None, 28, 28, 128)  512        ['conv3_block1_1_conv[0][0]']    \n",
            " ization)                                                                                         \n",
            "                                                                                                  \n",
            " conv3_block1_1_relu (Activatio  (None, 28, 28, 128)  0          ['conv3_block1_1_bn[0][0]']      \n",
            " n)                                                                                               \n",
            "                                                                                                  \n",
            " conv3_block1_2_pad (ZeroPaddin  (None, 30, 30, 128)  0          ['conv3_block1_1_relu[0][0]']    \n",
            " g2D)                                                                                             \n",
            "                                                                                                  \n",
            " conv3_block1_2_conv (Conv2D)   (None, 28, 28, 128)  147456      ['conv3_block1_2_pad[0][0]']     \n",
            "                                                                                                  \n",
            " conv3_block1_2_bn (BatchNormal  (None, 28, 28, 128)  512        ['conv3_block1_2_conv[0][0]']    \n",
            " ization)                                                                                         \n",
            "                                                                                                  \n",
            " conv3_block1_2_relu (Activatio  (None, 28, 28, 128)  0          ['conv3_block1_2_bn[0][0]']      \n",
            " n)                                                                                               \n",
            "                                                                                                  \n",
            " conv3_block1_0_conv (Conv2D)   (None, 28, 28, 512)  131584      ['conv3_block1_preact_relu[0][0]'\n",
            "                                                                 ]                                \n",
            "                                                                                                  \n",
            " conv3_block1_3_conv (Conv2D)   (None, 28, 28, 512)  66048       ['conv3_block1_2_relu[0][0]']    \n",
            "                                                                                                  \n",
            " conv3_block1_out (Add)         (None, 28, 28, 512)  0           ['conv3_block1_0_conv[0][0]',    \n",
            "                                                                  'conv3_block1_3_conv[0][0]']    \n",
            "                                                                                                  \n",
            " conv3_block2_preact_bn (BatchN  (None, 28, 28, 512)  2048       ['conv3_block1_out[0][0]']       \n",
            " ormalization)                                                                                    \n",
            "                                                                                                  \n",
            " conv3_block2_preact_relu (Acti  (None, 28, 28, 512)  0          ['conv3_block2_preact_bn[0][0]'] \n",
            " vation)                                                                                          \n",
            "                                                                                                  \n",
            " conv3_block2_1_conv (Conv2D)   (None, 28, 28, 128)  65536       ['conv3_block2_preact_relu[0][0]'\n",
            "                                                                 ]                                \n",
            "                                                                                                  \n",
            " conv3_block2_1_bn (BatchNormal  (None, 28, 28, 128)  512        ['conv3_block2_1_conv[0][0]']    \n",
            " ization)                                                                                         \n",
            "                                                                                                  \n",
            " conv3_block2_1_relu (Activatio  (None, 28, 28, 128)  0          ['conv3_block2_1_bn[0][0]']      \n",
            " n)                                                                                               \n",
            "                                                                                                  \n",
            " conv3_block2_2_pad (ZeroPaddin  (None, 30, 30, 128)  0          ['conv3_block2_1_relu[0][0]']    \n",
            " g2D)                                                                                             \n",
            "                                                                                                  \n",
            " conv3_block2_2_conv (Conv2D)   (None, 28, 28, 128)  147456      ['conv3_block2_2_pad[0][0]']     \n",
            "                                                                                                  \n",
            " conv3_block2_2_bn (BatchNormal  (None, 28, 28, 128)  512        ['conv3_block2_2_conv[0][0]']    \n",
            " ization)                                                                                         \n",
            "                                                                                                  \n",
            " conv3_block2_2_relu (Activatio  (None, 28, 28, 128)  0          ['conv3_block2_2_bn[0][0]']      \n",
            " n)                                                                                               \n",
            "                                                                                                  \n",
            " conv3_block2_3_conv (Conv2D)   (None, 28, 28, 512)  66048       ['conv3_block2_2_relu[0][0]']    \n",
            "                                                                                                  \n",
            " conv3_block2_out (Add)         (None, 28, 28, 512)  0           ['conv3_block1_out[0][0]',       \n",
            "                                                                  'conv3_block2_3_conv[0][0]']    \n",
            "                                                                                                  \n",
            " conv3_block3_preact_bn (BatchN  (None, 28, 28, 512)  2048       ['conv3_block2_out[0][0]']       \n",
            " ormalization)                                                                                    \n",
            "                                                                                                  \n",
            " conv3_block3_preact_relu (Acti  (None, 28, 28, 512)  0          ['conv3_block3_preact_bn[0][0]'] \n",
            " vation)                                                                                          \n",
            "                                                                                                  \n",
            " conv3_block3_1_conv (Conv2D)   (None, 28, 28, 128)  65536       ['conv3_block3_preact_relu[0][0]'\n",
            "                                                                 ]                                \n",
            "                                                                                                  \n",
            " conv3_block3_1_bn (BatchNormal  (None, 28, 28, 128)  512        ['conv3_block3_1_conv[0][0]']    \n",
            " ization)                                                                                         \n",
            "                                                                                                  \n",
            " conv3_block3_1_relu (Activatio  (None, 28, 28, 128)  0          ['conv3_block3_1_bn[0][0]']      \n",
            " n)                                                                                               \n",
            "                                                                                                  \n",
            " conv3_block3_2_pad (ZeroPaddin  (None, 30, 30, 128)  0          ['conv3_block3_1_relu[0][0]']    \n",
            " g2D)                                                                                             \n",
            "                                                                                                  \n",
            " conv3_block3_2_conv (Conv2D)   (None, 28, 28, 128)  147456      ['conv3_block3_2_pad[0][0]']     \n",
            "                                                                                                  \n",
            " conv3_block3_2_bn (BatchNormal  (None, 28, 28, 128)  512        ['conv3_block3_2_conv[0][0]']    \n",
            " ization)                                                                                         \n",
            "                                                                                                  \n",
            " conv3_block3_2_relu (Activatio  (None, 28, 28, 128)  0          ['conv3_block3_2_bn[0][0]']      \n",
            " n)                                                                                               \n",
            "                                                                                                  \n",
            " conv3_block3_3_conv (Conv2D)   (None, 28, 28, 512)  66048       ['conv3_block3_2_relu[0][0]']    \n",
            "                                                                                                  \n",
            " conv3_block3_out (Add)         (None, 28, 28, 512)  0           ['conv3_block2_out[0][0]',       \n",
            "                                                                  'conv3_block3_3_conv[0][0]']    \n",
            "                                                                                                  \n",
            " conv3_block4_preact_bn (BatchN  (None, 28, 28, 512)  2048       ['conv3_block3_out[0][0]']       \n",
            " ormalization)                                                                                    \n",
            "                                                                                                  \n",
            " conv3_block4_preact_relu (Acti  (None, 28, 28, 512)  0          ['conv3_block4_preact_bn[0][0]'] \n",
            " vation)                                                                                          \n",
            "                                                                                                  \n",
            " conv3_block4_1_conv (Conv2D)   (None, 28, 28, 128)  65536       ['conv3_block4_preact_relu[0][0]'\n",
            "                                                                 ]                                \n",
            "                                                                                                  \n",
            " conv3_block4_1_bn (BatchNormal  (None, 28, 28, 128)  512        ['conv3_block4_1_conv[0][0]']    \n",
            " ization)                                                                                         \n",
            "                                                                                                  \n",
            " conv3_block4_1_relu (Activatio  (None, 28, 28, 128)  0          ['conv3_block4_1_bn[0][0]']      \n",
            " n)                                                                                               \n",
            "                                                                                                  \n",
            " conv3_block4_2_pad (ZeroPaddin  (None, 30, 30, 128)  0          ['conv3_block4_1_relu[0][0]']    \n",
            " g2D)                                                                                             \n",
            "                                                                                                  \n",
            " conv3_block4_2_conv (Conv2D)   (None, 14, 14, 128)  147456      ['conv3_block4_2_pad[0][0]']     \n",
            "                                                                                                  \n",
            " conv3_block4_2_bn (BatchNormal  (None, 14, 14, 128)  512        ['conv3_block4_2_conv[0][0]']    \n",
            " ization)                                                                                         \n",
            "                                                                                                  \n",
            " conv3_block4_2_relu (Activatio  (None, 14, 14, 128)  0          ['conv3_block4_2_bn[0][0]']      \n",
            " n)                                                                                               \n",
            "                                                                                                  \n",
            " max_pooling2d_1 (MaxPooling2D)  (None, 14, 14, 512)  0          ['conv3_block3_out[0][0]']       \n",
            "                                                                                                  \n",
            " conv3_block4_3_conv (Conv2D)   (None, 14, 14, 512)  66048       ['conv3_block4_2_relu[0][0]']    \n",
            "                                                                                                  \n",
            " conv3_block4_out (Add)         (None, 14, 14, 512)  0           ['max_pooling2d_1[0][0]',        \n",
            "                                                                  'conv3_block4_3_conv[0][0]']    \n",
            "                                                                                                  \n",
            " conv4_block1_preact_bn (BatchN  (None, 14, 14, 512)  2048       ['conv3_block4_out[0][0]']       \n",
            " ormalization)                                                                                    \n",
            "                                                                                                  \n",
            " conv4_block1_preact_relu (Acti  (None, 14, 14, 512)  0          ['conv4_block1_preact_bn[0][0]'] \n",
            " vation)                                                                                          \n",
            "                                                                                                  \n",
            " conv4_block1_1_conv (Conv2D)   (None, 14, 14, 256)  131072      ['conv4_block1_preact_relu[0][0]'\n",
            "                                                                 ]                                \n",
            "                                                                                                  \n",
            " conv4_block1_1_bn (BatchNormal  (None, 14, 14, 256)  1024       ['conv4_block1_1_conv[0][0]']    \n",
            " ization)                                                                                         \n",
            "                                                                                                  \n",
            " conv4_block1_1_relu (Activatio  (None, 14, 14, 256)  0          ['conv4_block1_1_bn[0][0]']      \n",
            " n)                                                                                               \n",
            "                                                                                                  \n",
            " conv4_block1_2_pad (ZeroPaddin  (None, 16, 16, 256)  0          ['conv4_block1_1_relu[0][0]']    \n",
            " g2D)                                                                                             \n",
            "                                                                                                  \n",
            " conv4_block1_2_conv (Conv2D)   (None, 14, 14, 256)  589824      ['conv4_block1_2_pad[0][0]']     \n",
            "                                                                                                  \n",
            " conv4_block1_2_bn (BatchNormal  (None, 14, 14, 256)  1024       ['conv4_block1_2_conv[0][0]']    \n",
            " ization)                                                                                         \n",
            "                                                                                                  \n",
            " conv4_block1_2_relu (Activatio  (None, 14, 14, 256)  0          ['conv4_block1_2_bn[0][0]']      \n",
            " n)                                                                                               \n",
            "                                                                                                  \n",
            " conv4_block1_0_conv (Conv2D)   (None, 14, 14, 1024  525312      ['conv4_block1_preact_relu[0][0]'\n",
            "                                )                                ]                                \n",
            "                                                                                                  \n",
            " conv4_block1_3_conv (Conv2D)   (None, 14, 14, 1024  263168      ['conv4_block1_2_relu[0][0]']    \n",
            "                                )                                                                 \n",
            "                                                                                                  \n",
            " conv4_block1_out (Add)         (None, 14, 14, 1024  0           ['conv4_block1_0_conv[0][0]',    \n",
            "                                )                                 'conv4_block1_3_conv[0][0]']    \n",
            "                                                                                                  \n",
            " conv4_block2_preact_bn (BatchN  (None, 14, 14, 1024  4096       ['conv4_block1_out[0][0]']       \n",
            " ormalization)                  )                                                                 \n",
            "                                                                                                  \n",
            " conv4_block2_preact_relu (Acti  (None, 14, 14, 1024  0          ['conv4_block2_preact_bn[0][0]'] \n",
            " vation)                        )                                                                 \n",
            "                                                                                                  \n",
            " conv4_block2_1_conv (Conv2D)   (None, 14, 14, 256)  262144      ['conv4_block2_preact_relu[0][0]'\n",
            "                                                                 ]                                \n",
            "                                                                                                  \n",
            " conv4_block2_1_bn (BatchNormal  (None, 14, 14, 256)  1024       ['conv4_block2_1_conv[0][0]']    \n",
            " ization)                                                                                         \n",
            "                                                                                                  \n",
            " conv4_block2_1_relu (Activatio  (None, 14, 14, 256)  0          ['conv4_block2_1_bn[0][0]']      \n",
            " n)                                                                                               \n",
            "                                                                                                  \n",
            " conv4_block2_2_pad (ZeroPaddin  (None, 16, 16, 256)  0          ['conv4_block2_1_relu[0][0]']    \n",
            " g2D)                                                                                             \n",
            "                                                                                                  \n",
            " conv4_block2_2_conv (Conv2D)   (None, 14, 14, 256)  589824      ['conv4_block2_2_pad[0][0]']     \n",
            "                                                                                                  \n",
            " conv4_block2_2_bn (BatchNormal  (None, 14, 14, 256)  1024       ['conv4_block2_2_conv[0][0]']    \n",
            " ization)                                                                                         \n",
            "                                                                                                  \n",
            " conv4_block2_2_relu (Activatio  (None, 14, 14, 256)  0          ['conv4_block2_2_bn[0][0]']      \n",
            " n)                                                                                               \n",
            "                                                                                                  \n",
            " conv4_block2_3_conv (Conv2D)   (None, 14, 14, 1024  263168      ['conv4_block2_2_relu[0][0]']    \n",
            "                                )                                                                 \n",
            "                                                                                                  \n",
            " conv4_block2_out (Add)         (None, 14, 14, 1024  0           ['conv4_block1_out[0][0]',       \n",
            "                                )                                 'conv4_block2_3_conv[0][0]']    \n",
            "                                                                                                  \n",
            " conv4_block3_preact_bn (BatchN  (None, 14, 14, 1024  4096       ['conv4_block2_out[0][0]']       \n",
            " ormalization)                  )                                                                 \n",
            "                                                                                                  \n",
            " conv4_block3_preact_relu (Acti  (None, 14, 14, 1024  0          ['conv4_block3_preact_bn[0][0]'] \n",
            " vation)                        )                                                                 \n",
            "                                                                                                  \n",
            " conv4_block3_1_conv (Conv2D)   (None, 14, 14, 256)  262144      ['conv4_block3_preact_relu[0][0]'\n",
            "                                                                 ]                                \n",
            "                                                                                                  \n",
            " conv4_block3_1_bn (BatchNormal  (None, 14, 14, 256)  1024       ['conv4_block3_1_conv[0][0]']    \n",
            " ization)                                                                                         \n",
            "                                                                                                  \n",
            " conv4_block3_1_relu (Activatio  (None, 14, 14, 256)  0          ['conv4_block3_1_bn[0][0]']      \n",
            " n)                                                                                               \n",
            "                                                                                                  \n",
            " conv4_block3_2_pad (ZeroPaddin  (None, 16, 16, 256)  0          ['conv4_block3_1_relu[0][0]']    \n",
            " g2D)                                                                                             \n",
            "                                                                                                  \n",
            " conv4_block3_2_conv (Conv2D)   (None, 14, 14, 256)  589824      ['conv4_block3_2_pad[0][0]']     \n",
            "                                                                                                  \n",
            " conv4_block3_2_bn (BatchNormal  (None, 14, 14, 256)  1024       ['conv4_block3_2_conv[0][0]']    \n",
            " ization)                                                                                         \n",
            "                                                                                                  \n",
            " conv4_block3_2_relu (Activatio  (None, 14, 14, 256)  0          ['conv4_block3_2_bn[0][0]']      \n",
            " n)                                                                                               \n",
            "                                                                                                  \n",
            " conv4_block3_3_conv (Conv2D)   (None, 14, 14, 1024  263168      ['conv4_block3_2_relu[0][0]']    \n",
            "                                )                                                                 \n",
            "                                                                                                  \n",
            " conv4_block3_out (Add)         (None, 14, 14, 1024  0           ['conv4_block2_out[0][0]',       \n",
            "                                )                                 'conv4_block3_3_conv[0][0]']    \n",
            "                                                                                                  \n",
            " conv4_block4_preact_bn (BatchN  (None, 14, 14, 1024  4096       ['conv4_block3_out[0][0]']       \n",
            " ormalization)                  )                                                                 \n",
            "                                                                                                  \n",
            " conv4_block4_preact_relu (Acti  (None, 14, 14, 1024  0          ['conv4_block4_preact_bn[0][0]'] \n",
            " vation)                        )                                                                 \n",
            "                                                                                                  \n",
            " conv4_block4_1_conv (Conv2D)   (None, 14, 14, 256)  262144      ['conv4_block4_preact_relu[0][0]'\n",
            "                                                                 ]                                \n",
            "                                                                                                  \n",
            " conv4_block4_1_bn (BatchNormal  (None, 14, 14, 256)  1024       ['conv4_block4_1_conv[0][0]']    \n",
            " ization)                                                                                         \n",
            "                                                                                                  \n",
            " conv4_block4_1_relu (Activatio  (None, 14, 14, 256)  0          ['conv4_block4_1_bn[0][0]']      \n",
            " n)                                                                                               \n",
            "                                                                                                  \n",
            " conv4_block4_2_pad (ZeroPaddin  (None, 16, 16, 256)  0          ['conv4_block4_1_relu[0][0]']    \n",
            " g2D)                                                                                             \n",
            "                                                                                                  \n",
            " conv4_block4_2_conv (Conv2D)   (None, 14, 14, 256)  589824      ['conv4_block4_2_pad[0][0]']     \n",
            "                                                                                                  \n",
            " conv4_block4_2_bn (BatchNormal  (None, 14, 14, 256)  1024       ['conv4_block4_2_conv[0][0]']    \n",
            " ization)                                                                                         \n",
            "                                                                                                  \n",
            " conv4_block4_2_relu (Activatio  (None, 14, 14, 256)  0          ['conv4_block4_2_bn[0][0]']      \n",
            " n)                                                                                               \n",
            "                                                                                                  \n",
            " conv4_block4_3_conv (Conv2D)   (None, 14, 14, 1024  263168      ['conv4_block4_2_relu[0][0]']    \n",
            "                                )                                                                 \n",
            "                                                                                                  \n",
            " conv4_block4_out (Add)         (None, 14, 14, 1024  0           ['conv4_block3_out[0][0]',       \n",
            "                                )                                 'conv4_block4_3_conv[0][0]']    \n",
            "                                                                                                  \n",
            " conv4_block5_preact_bn (BatchN  (None, 14, 14, 1024  4096       ['conv4_block4_out[0][0]']       \n",
            " ormalization)                  )                                                                 \n",
            "                                                                                                  \n",
            " conv4_block5_preact_relu (Acti  (None, 14, 14, 1024  0          ['conv4_block5_preact_bn[0][0]'] \n",
            " vation)                        )                                                                 \n",
            "                                                                                                  \n",
            " conv4_block5_1_conv (Conv2D)   (None, 14, 14, 256)  262144      ['conv4_block5_preact_relu[0][0]'\n",
            "                                                                 ]                                \n",
            "                                                                                                  \n",
            " conv4_block5_1_bn (BatchNormal  (None, 14, 14, 256)  1024       ['conv4_block5_1_conv[0][0]']    \n",
            " ization)                                                                                         \n",
            "                                                                                                  \n",
            " conv4_block5_1_relu (Activatio  (None, 14, 14, 256)  0          ['conv4_block5_1_bn[0][0]']      \n",
            " n)                                                                                               \n",
            "                                                                                                  \n",
            " conv4_block5_2_pad (ZeroPaddin  (None, 16, 16, 256)  0          ['conv4_block5_1_relu[0][0]']    \n",
            " g2D)                                                                                             \n",
            "                                                                                                  \n",
            " conv4_block5_2_conv (Conv2D)   (None, 14, 14, 256)  589824      ['conv4_block5_2_pad[0][0]']     \n",
            "                                                                                                  \n",
            " conv4_block5_2_bn (BatchNormal  (None, 14, 14, 256)  1024       ['conv4_block5_2_conv[0][0]']    \n",
            " ization)                                                                                         \n",
            "                                                                                                  \n",
            " conv4_block5_2_relu (Activatio  (None, 14, 14, 256)  0          ['conv4_block5_2_bn[0][0]']      \n",
            " n)                                                                                               \n",
            "                                                                                                  \n",
            " conv4_block5_3_conv (Conv2D)   (None, 14, 14, 1024  263168      ['conv4_block5_2_relu[0][0]']    \n",
            "                                )                                                                 \n",
            "                                                                                                  \n",
            " conv4_block5_out (Add)         (None, 14, 14, 1024  0           ['conv4_block4_out[0][0]',       \n",
            "                                )                                 'conv4_block5_3_conv[0][0]']    \n",
            "                                                                                                  \n",
            " conv4_block6_preact_bn (BatchN  (None, 14, 14, 1024  4096       ['conv4_block5_out[0][0]']       \n",
            " ormalization)                  )                                                                 \n",
            "                                                                                                  \n",
            " conv4_block6_preact_relu (Acti  (None, 14, 14, 1024  0          ['conv4_block6_preact_bn[0][0]'] \n",
            " vation)                        )                                                                 \n",
            "                                                                                                  \n",
            " conv4_block6_1_conv (Conv2D)   (None, 14, 14, 256)  262144      ['conv4_block6_preact_relu[0][0]'\n",
            "                                                                 ]                                \n",
            "                                                                                                  \n",
            " conv4_block6_1_bn (BatchNormal  (None, 14, 14, 256)  1024       ['conv4_block6_1_conv[0][0]']    \n",
            " ization)                                                                                         \n",
            "                                                                                                  \n",
            " conv4_block6_1_relu (Activatio  (None, 14, 14, 256)  0          ['conv4_block6_1_bn[0][0]']      \n",
            " n)                                                                                               \n",
            "                                                                                                  \n",
            " conv4_block6_2_pad (ZeroPaddin  (None, 16, 16, 256)  0          ['conv4_block6_1_relu[0][0]']    \n",
            " g2D)                                                                                             \n",
            "                                                                                                  \n",
            " conv4_block6_2_conv (Conv2D)   (None, 7, 7, 256)    589824      ['conv4_block6_2_pad[0][0]']     \n",
            "                                                                                                  \n",
            " conv4_block6_2_bn (BatchNormal  (None, 7, 7, 256)   1024        ['conv4_block6_2_conv[0][0]']    \n",
            " ization)                                                                                         \n",
            "                                                                                                  \n",
            " conv4_block6_2_relu (Activatio  (None, 7, 7, 256)   0           ['conv4_block6_2_bn[0][0]']      \n",
            " n)                                                                                               \n",
            "                                                                                                  \n",
            " max_pooling2d_2 (MaxPooling2D)  (None, 7, 7, 1024)  0           ['conv4_block5_out[0][0]']       \n",
            "                                                                                                  \n",
            " conv4_block6_3_conv (Conv2D)   (None, 7, 7, 1024)   263168      ['conv4_block6_2_relu[0][0]']    \n",
            "                                                                                                  \n",
            " conv4_block6_out (Add)         (None, 7, 7, 1024)   0           ['max_pooling2d_2[0][0]',        \n",
            "                                                                  'conv4_block6_3_conv[0][0]']    \n",
            "                                                                                                  \n",
            " conv5_block1_preact_bn (BatchN  (None, 7, 7, 1024)  4096        ['conv4_block6_out[0][0]']       \n",
            " ormalization)                                                                                    \n",
            "                                                                                                  \n",
            " conv5_block1_preact_relu (Acti  (None, 7, 7, 1024)  0           ['conv5_block1_preact_bn[0][0]'] \n",
            " vation)                                                                                          \n",
            "                                                                                                  \n",
            " conv5_block1_1_conv (Conv2D)   (None, 7, 7, 512)    524288      ['conv5_block1_preact_relu[0][0]'\n",
            "                                                                 ]                                \n",
            "                                                                                                  \n",
            " conv5_block1_1_bn (BatchNormal  (None, 7, 7, 512)   2048        ['conv5_block1_1_conv[0][0]']    \n",
            " ization)                                                                                         \n",
            "                                                                                                  \n",
            " conv5_block1_1_relu (Activatio  (None, 7, 7, 512)   0           ['conv5_block1_1_bn[0][0]']      \n",
            " n)                                                                                               \n",
            "                                                                                                  \n",
            " conv5_block1_2_pad (ZeroPaddin  (None, 9, 9, 512)   0           ['conv5_block1_1_relu[0][0]']    \n",
            " g2D)                                                                                             \n",
            "                                                                                                  \n",
            " conv5_block1_2_conv (Conv2D)   (None, 7, 7, 512)    2359296     ['conv5_block1_2_pad[0][0]']     \n",
            "                                                                                                  \n",
            " conv5_block1_2_bn (BatchNormal  (None, 7, 7, 512)   2048        ['conv5_block1_2_conv[0][0]']    \n",
            " ization)                                                                                         \n",
            "                                                                                                  \n",
            " conv5_block1_2_relu (Activatio  (None, 7, 7, 512)   0           ['conv5_block1_2_bn[0][0]']      \n",
            " n)                                                                                               \n",
            "                                                                                                  \n",
            " conv5_block1_0_conv (Conv2D)   (None, 7, 7, 2048)   2099200     ['conv5_block1_preact_relu[0][0]'\n",
            "                                                                 ]                                \n",
            "                                                                                                  \n",
            " conv5_block1_3_conv (Conv2D)   (None, 7, 7, 2048)   1050624     ['conv5_block1_2_relu[0][0]']    \n",
            "                                                                                                  \n",
            " conv5_block1_out (Add)         (None, 7, 7, 2048)   0           ['conv5_block1_0_conv[0][0]',    \n",
            "                                                                  'conv5_block1_3_conv[0][0]']    \n",
            "                                                                                                  \n",
            " conv5_block2_preact_bn (BatchN  (None, 7, 7, 2048)  8192        ['conv5_block1_out[0][0]']       \n",
            " ormalization)                                                                                    \n",
            "                                                                                                  \n",
            " conv5_block2_preact_relu (Acti  (None, 7, 7, 2048)  0           ['conv5_block2_preact_bn[0][0]'] \n",
            " vation)                                                                                          \n",
            "                                                                                                  \n",
            " conv5_block2_1_conv (Conv2D)   (None, 7, 7, 512)    1048576     ['conv5_block2_preact_relu[0][0]'\n",
            "                                                                 ]                                \n",
            "                                                                                                  \n",
            " conv5_block2_1_bn (BatchNormal  (None, 7, 7, 512)   2048        ['conv5_block2_1_conv[0][0]']    \n",
            " ization)                                                                                         \n",
            "                                                                                                  \n",
            " conv5_block2_1_relu (Activatio  (None, 7, 7, 512)   0           ['conv5_block2_1_bn[0][0]']      \n",
            " n)                                                                                               \n",
            "                                                                                                  \n",
            " conv5_block2_2_pad (ZeroPaddin  (None, 9, 9, 512)   0           ['conv5_block2_1_relu[0][0]']    \n",
            " g2D)                                                                                             \n",
            "                                                                                                  \n",
            " conv5_block2_2_conv (Conv2D)   (None, 7, 7, 512)    2359296     ['conv5_block2_2_pad[0][0]']     \n",
            "                                                                                                  \n",
            " conv5_block2_2_bn (BatchNormal  (None, 7, 7, 512)   2048        ['conv5_block2_2_conv[0][0]']    \n",
            " ization)                                                                                         \n",
            "                                                                                                  \n",
            " conv5_block2_2_relu (Activatio  (None, 7, 7, 512)   0           ['conv5_block2_2_bn[0][0]']      \n",
            " n)                                                                                               \n",
            "                                                                                                  \n",
            " conv5_block2_3_conv (Conv2D)   (None, 7, 7, 2048)   1050624     ['conv5_block2_2_relu[0][0]']    \n",
            "                                                                                                  \n",
            " conv5_block2_out (Add)         (None, 7, 7, 2048)   0           ['conv5_block1_out[0][0]',       \n",
            "                                                                  'conv5_block2_3_conv[0][0]']    \n",
            "                                                                                                  \n",
            " conv5_block3_preact_bn (BatchN  (None, 7, 7, 2048)  8192        ['conv5_block2_out[0][0]']       \n",
            " ormalization)                                                                                    \n",
            "                                                                                                  \n",
            " conv5_block3_preact_relu (Acti  (None, 7, 7, 2048)  0           ['conv5_block3_preact_bn[0][0]'] \n",
            " vation)                                                                                          \n",
            "                                                                                                  \n",
            " conv5_block3_1_conv (Conv2D)   (None, 7, 7, 512)    1048576     ['conv5_block3_preact_relu[0][0]'\n",
            "                                                                 ]                                \n",
            "                                                                                                  \n",
            " conv5_block3_1_bn (BatchNormal  (None, 7, 7, 512)   2048        ['conv5_block3_1_conv[0][0]']    \n",
            " ization)                                                                                         \n",
            "                                                                                                  \n",
            " conv5_block3_1_relu (Activatio  (None, 7, 7, 512)   0           ['conv5_block3_1_bn[0][0]']      \n",
            " n)                                                                                               \n",
            "                                                                                                  \n",
            " conv5_block3_2_pad (ZeroPaddin  (None, 9, 9, 512)   0           ['conv5_block3_1_relu[0][0]']    \n",
            " g2D)                                                                                             \n",
            "                                                                                                  \n",
            " conv5_block3_2_conv (Conv2D)   (None, 7, 7, 512)    2359296     ['conv5_block3_2_pad[0][0]']     \n",
            "                                                                                                  \n",
            " conv5_block3_2_bn (BatchNormal  (None, 7, 7, 512)   2048        ['conv5_block3_2_conv[0][0]']    \n",
            " ization)                                                                                         \n",
            "                                                                                                  \n",
            " conv5_block3_2_relu (Activatio  (None, 7, 7, 512)   0           ['conv5_block3_2_bn[0][0]']      \n",
            " n)                                                                                               \n",
            "                                                                                                  \n",
            " conv5_block3_3_conv (Conv2D)   (None, 7, 7, 2048)   1050624     ['conv5_block3_2_relu[0][0]']    \n",
            "                                                                                                  \n",
            " conv5_block3_out (Add)         (None, 7, 7, 2048)   0           ['conv5_block2_out[0][0]',       \n",
            "                                                                  'conv5_block3_3_conv[0][0]']    \n",
            "                                                                                                  \n",
            " post_bn (BatchNormalization)   (None, 7, 7, 2048)   8192        ['conv5_block3_out[0][0]']       \n",
            "                                                                                                  \n",
            " post_relu (Activation)         (None, 7, 7, 2048)   0           ['post_bn[0][0]']                \n",
            "                                                                                                  \n",
            " avg_pool (GlobalAveragePooling  (None, 2048)        0           ['post_relu[0][0]']              \n",
            " 2D)                                                                                              \n",
            "                                                                                                  \n",
            " predictions (Dense)            (None, 2)            4098        ['avg_pool[0][0]']               \n",
            "                                                                                                  \n",
            "==================================================================================================\n",
            "Total params: 23,568,898\n",
            "Trainable params: 23,523,458\n",
            "Non-trainable params: 45,440\n",
            "__________________________________________________________________________________________________\n"
          ]
        }
      ],
      "source": [
        "model.compile(loss='categorical_crossentropy', metrics=['accuracy'], optimizer='adam')\n",
        "model.summary()"
      ]
    },
    {
      "cell_type": "code",
      "execution_count": 5,
      "metadata": {
        "colab": {
          "base_uri": "https://localhost:8080/"
        },
        "id": "XTvRldGR_xMC",
        "outputId": "1e54a169-30cb-459f-f945-673250fe6627"
      },
      "outputs": [
        {
          "output_type": "stream",
          "name": "stdout",
          "text": [
            "Epoch 1/100\n",
            "168/168 [==============================] - 83s 392ms/step - loss: 0.8823 - accuracy: 0.6458 - val_loss: 0.7028 - val_accuracy: 0.5000\n",
            "Epoch 2/100\n",
            "168/168 [==============================] - 21s 122ms/step - loss: 0.3038 - accuracy: 0.8542 - val_loss: 0.0309 - val_accuracy: 1.0000\n",
            "Epoch 3/100\n",
            "168/168 [==============================] - 20s 122ms/step - loss: 0.1189 - accuracy: 0.9643 - val_loss: 4.5113 - val_accuracy: 0.5000\n",
            "Epoch 4/100\n",
            "168/168 [==============================] - 20s 121ms/step - loss: 0.1891 - accuracy: 0.9196 - val_loss: 2.4832 - val_accuracy: 0.5000\n",
            "Epoch 5/100\n",
            "168/168 [==============================] - 20s 122ms/step - loss: 0.1153 - accuracy: 0.9613 - val_loss: 0.5068 - val_accuracy: 0.7153\n",
            "Epoch 6/100\n",
            "168/168 [==============================] - 20s 121ms/step - loss: 0.0204 - accuracy: 1.0000 - val_loss: 0.0385 - val_accuracy: 1.0000\n",
            "Epoch 7/100\n",
            "168/168 [==============================] - 20s 122ms/step - loss: 0.0031 - accuracy: 1.0000 - val_loss: 0.0014 - val_accuracy: 1.0000\n",
            "Epoch 8/100\n",
            "168/168 [==============================] - 20s 121ms/step - loss: 0.0017 - accuracy: 1.0000 - val_loss: 5.5409e-04 - val_accuracy: 1.0000\n",
            "Epoch 9/100\n",
            "168/168 [==============================] - 20s 122ms/step - loss: 9.9017e-04 - accuracy: 1.0000 - val_loss: 2.7217e-04 - val_accuracy: 1.0000\n",
            "Epoch 10/100\n",
            "168/168 [==============================] - 20s 122ms/step - loss: 9.0463e-04 - accuracy: 1.0000 - val_loss: 2.0594e-04 - val_accuracy: 1.0000\n",
            "Epoch 11/100\n",
            "168/168 [==============================] - 20s 121ms/step - loss: 6.0768e-04 - accuracy: 1.0000 - val_loss: 2.1558e-04 - val_accuracy: 1.0000\n",
            "Epoch 12/100\n",
            "168/168 [==============================] - 20s 121ms/step - loss: 4.9881e-04 - accuracy: 1.0000 - val_loss: 1.5036e-04 - val_accuracy: 1.0000\n",
            "Epoch 13/100\n",
            "168/168 [==============================] - 20s 122ms/step - loss: 4.7753e-04 - accuracy: 1.0000 - val_loss: 2.1982e-04 - val_accuracy: 1.0000\n",
            "Epoch 14/100\n",
            "168/168 [==============================] - 20s 122ms/step - loss: 3.1736e-04 - accuracy: 1.0000 - val_loss: 1.9597e-04 - val_accuracy: 1.0000\n",
            "Epoch 15/100\n",
            "168/168 [==============================] - 20s 122ms/step - loss: 2.9713e-04 - accuracy: 1.0000 - val_loss: 2.4291e-04 - val_accuracy: 1.0000\n",
            "Epoch 16/100\n",
            "168/168 [==============================] - 20s 122ms/step - loss: 2.7975e-04 - accuracy: 1.0000 - val_loss: 1.2026e-04 - val_accuracy: 1.0000\n",
            "Epoch 17/100\n",
            "168/168 [==============================] - 21s 122ms/step - loss: 2.2509e-04 - accuracy: 1.0000 - val_loss: 1.1583e-04 - val_accuracy: 1.0000\n",
            "Epoch 18/100\n",
            "168/168 [==============================] - 20s 122ms/step - loss: 1.7548e-04 - accuracy: 1.0000 - val_loss: 7.3954e-05 - val_accuracy: 1.0000\n",
            "Epoch 19/100\n",
            "168/168 [==============================] - 20s 122ms/step - loss: 1.7248e-04 - accuracy: 1.0000 - val_loss: 1.0582e-04 - val_accuracy: 1.0000\n",
            "Epoch 20/100\n",
            "168/168 [==============================] - 20s 122ms/step - loss: 1.2571e-04 - accuracy: 1.0000 - val_loss: 8.6472e-05 - val_accuracy: 1.0000\n",
            "Epoch 21/100\n",
            "168/168 [==============================] - 20s 122ms/step - loss: 1.1373e-04 - accuracy: 1.0000 - val_loss: 8.9094e-05 - val_accuracy: 1.0000\n",
            "Epoch 22/100\n",
            "168/168 [==============================] - 20s 121ms/step - loss: 1.0204e-04 - accuracy: 1.0000 - val_loss: 1.1485e-04 - val_accuracy: 1.0000\n",
            "Epoch 23/100\n",
            "168/168 [==============================] - 20s 121ms/step - loss: 7.8362e-05 - accuracy: 1.0000 - val_loss: 9.0707e-05 - val_accuracy: 1.0000\n",
            "Epoch 24/100\n",
            "168/168 [==============================] - 20s 122ms/step - loss: 7.9841e-05 - accuracy: 1.0000 - val_loss: 1.0475e-04 - val_accuracy: 1.0000\n",
            "Epoch 25/100\n",
            "168/168 [==============================] - 20s 122ms/step - loss: 5.4989e-05 - accuracy: 1.0000 - val_loss: 7.2269e-05 - val_accuracy: 1.0000\n",
            "Epoch 26/100\n",
            "168/168 [==============================] - 20s 122ms/step - loss: 5.5615e-05 - accuracy: 1.0000 - val_loss: 9.6473e-05 - val_accuracy: 1.0000\n",
            "Epoch 27/100\n",
            "168/168 [==============================] - 20s 122ms/step - loss: 6.2493e-05 - accuracy: 1.0000 - val_loss: 7.1706e-05 - val_accuracy: 1.0000\n",
            "Epoch 28/100\n",
            "168/168 [==============================] - 20s 122ms/step - loss: 5.1110e-05 - accuracy: 1.0000 - val_loss: 9.0012e-05 - val_accuracy: 1.0000\n",
            "Epoch 29/100\n",
            "168/168 [==============================] - 20s 121ms/step - loss: 4.0605e-05 - accuracy: 1.0000 - val_loss: 8.5091e-05 - val_accuracy: 1.0000\n",
            "Epoch 30/100\n",
            "168/168 [==============================] - 20s 122ms/step - loss: 4.6161e-05 - accuracy: 1.0000 - val_loss: 9.2516e-05 - val_accuracy: 1.0000\n",
            "Epoch 31/100\n",
            "168/168 [==============================] - 20s 122ms/step - loss: 3.7389e-05 - accuracy: 1.0000 - val_loss: 6.2935e-05 - val_accuracy: 1.0000\n",
            "Epoch 32/100\n",
            "168/168 [==============================] - 20s 121ms/step - loss: 2.7669e-05 - accuracy: 1.0000 - val_loss: 4.1656e-05 - val_accuracy: 1.0000\n",
            "Epoch 33/100\n",
            "168/168 [==============================] - 20s 122ms/step - loss: 2.2951e-05 - accuracy: 1.0000 - val_loss: 6.1386e-05 - val_accuracy: 1.0000\n",
            "Epoch 34/100\n",
            "168/168 [==============================] - 20s 121ms/step - loss: 2.4273e-05 - accuracy: 1.0000 - val_loss: 5.1133e-05 - val_accuracy: 1.0000\n",
            "Epoch 35/100\n",
            "168/168 [==============================] - 20s 122ms/step - loss: 2.1857e-05 - accuracy: 1.0000 - val_loss: 4.8742e-05 - val_accuracy: 1.0000\n",
            "Epoch 36/100\n",
            "168/168 [==============================] - 20s 121ms/step - loss: 1.9115e-05 - accuracy: 1.0000 - val_loss: 4.1608e-05 - val_accuracy: 1.0000\n",
            "Epoch 37/100\n",
            "168/168 [==============================] - 20s 121ms/step - loss: 1.9584e-05 - accuracy: 1.0000 - val_loss: 5.4681e-05 - val_accuracy: 1.0000\n",
            "Epoch 38/100\n",
            "168/168 [==============================] - 20s 121ms/step - loss: 1.6882e-05 - accuracy: 1.0000 - val_loss: 5.3534e-05 - val_accuracy: 1.0000\n",
            "Epoch 39/100\n",
            "168/168 [==============================] - 20s 121ms/step - loss: 1.5104e-05 - accuracy: 1.0000 - val_loss: 2.0684e-05 - val_accuracy: 1.0000\n",
            "Epoch 40/100\n",
            "168/168 [==============================] - 20s 121ms/step - loss: 1.3788e-05 - accuracy: 1.0000 - val_loss: 4.0038e-05 - val_accuracy: 1.0000\n",
            "Epoch 41/100\n",
            "168/168 [==============================] - 20s 121ms/step - loss: 1.0920e-05 - accuracy: 1.0000 - val_loss: 3.4116e-05 - val_accuracy: 1.0000\n",
            "Epoch 42/100\n",
            "168/168 [==============================] - 20s 121ms/step - loss: 1.1351e-05 - accuracy: 1.0000 - val_loss: 2.8259e-05 - val_accuracy: 1.0000\n",
            "Epoch 43/100\n",
            "168/168 [==============================] - 20s 121ms/step - loss: 1.0238e-05 - accuracy: 1.0000 - val_loss: 4.0486e-05 - val_accuracy: 1.0000\n",
            "Epoch 44/100\n",
            "168/168 [==============================] - 20s 121ms/step - loss: 9.3432e-06 - accuracy: 1.0000 - val_loss: 3.5772e-05 - val_accuracy: 1.0000\n",
            "Epoch 45/100\n",
            "168/168 [==============================] - 21s 123ms/step - loss: 6.7494e-06 - accuracy: 1.0000 - val_loss: 3.9658e-05 - val_accuracy: 1.0000\n",
            "Epoch 46/100\n",
            "168/168 [==============================] - 20s 121ms/step - loss: 7.6983e-06 - accuracy: 1.0000 - val_loss: 5.5391e-05 - val_accuracy: 1.0000\n",
            "Epoch 47/100\n",
            "168/168 [==============================] - 20s 121ms/step - loss: 8.0893e-06 - accuracy: 1.0000 - val_loss: 1.8283e-05 - val_accuracy: 1.0000\n",
            "Epoch 48/100\n",
            "168/168 [==============================] - 20s 121ms/step - loss: 6.4386e-06 - accuracy: 1.0000 - val_loss: 3.2487e-05 - val_accuracy: 1.0000\n",
            "Epoch 49/100\n",
            "168/168 [==============================] - 20s 121ms/step - loss: 4.4941e-06 - accuracy: 1.0000 - val_loss: 3.3946e-05 - val_accuracy: 1.0000\n",
            "Epoch 50/100\n",
            "168/168 [==============================] - 20s 121ms/step - loss: 5.0685e-06 - accuracy: 1.0000 - val_loss: 3.9030e-05 - val_accuracy: 1.0000\n",
            "Epoch 51/100\n",
            "168/168 [==============================] - 20s 121ms/step - loss: 3.4932e-06 - accuracy: 1.0000 - val_loss: 4.4402e-05 - val_accuracy: 1.0000\n",
            "Epoch 52/100\n",
            "168/168 [==============================] - 20s 121ms/step - loss: 4.0282e-06 - accuracy: 1.0000 - val_loss: 3.8696e-05 - val_accuracy: 1.0000\n",
            "Epoch 53/100\n",
            "168/168 [==============================] - 20s 121ms/step - loss: 4.1542e-06 - accuracy: 1.0000 - val_loss: 1.3713e-05 - val_accuracy: 1.0000\n",
            "Epoch 54/100\n",
            "168/168 [==============================] - 20s 121ms/step - loss: 3.8001e-06 - accuracy: 1.0000 - val_loss: 3.1983e-05 - val_accuracy: 1.0000\n",
            "Epoch 55/100\n",
            "168/168 [==============================] - 21s 122ms/step - loss: 2.4885e-06 - accuracy: 1.0000 - val_loss: 1.0412e-05 - val_accuracy: 1.0000\n",
            "Epoch 56/100\n",
            "168/168 [==============================] - 20s 121ms/step - loss: 3.0757e-06 - accuracy: 1.0000 - val_loss: 2.8618e-05 - val_accuracy: 1.0000\n",
            "Epoch 57/100\n",
            "168/168 [==============================] - 20s 121ms/step - loss: 2.3086e-06 - accuracy: 1.0000 - val_loss: 2.4112e-05 - val_accuracy: 1.0000\n",
            "Epoch 58/100\n",
            "168/168 [==============================] - 20s 121ms/step - loss: 1.8779e-06 - accuracy: 1.0000 - val_loss: 3.0111e-05 - val_accuracy: 1.0000\n",
            "Epoch 59/100\n",
            "168/168 [==============================] - 20s 121ms/step - loss: 1.8970e-06 - accuracy: 1.0000 - val_loss: 1.3754e-05 - val_accuracy: 1.0000\n",
            "Epoch 60/100\n",
            "168/168 [==============================] - 20s 121ms/step - loss: 1.8332e-06 - accuracy: 1.0000 - val_loss: 2.0566e-05 - val_accuracy: 1.0000\n",
            "Epoch 61/100\n",
            "168/168 [==============================] - 20s 121ms/step - loss: 1.7686e-06 - accuracy: 1.0000 - val_loss: 2.2348e-05 - val_accuracy: 1.0000\n",
            "Epoch 62/100\n",
            "168/168 [==============================] - 20s 122ms/step - loss: 1.6657e-06 - accuracy: 1.0000 - val_loss: 1.2284e-05 - val_accuracy: 1.0000\n",
            "Epoch 63/100\n",
            "168/168 [==============================] - 20s 121ms/step - loss: 1.5838e-06 - accuracy: 1.0000 - val_loss: 2.4201e-05 - val_accuracy: 1.0000\n",
            "Epoch 64/100\n",
            "168/168 [==============================] - 20s 121ms/step - loss: 1.3684e-06 - accuracy: 1.0000 - val_loss: 2.2119e-05 - val_accuracy: 1.0000\n",
            "Epoch 65/100\n",
            "168/168 [==============================] - 20s 121ms/step - loss: 1.1900e-06 - accuracy: 1.0000 - val_loss: 2.8935e-05 - val_accuracy: 1.0000\n",
            "Epoch 66/100\n",
            "168/168 [==============================] - 20s 121ms/step - loss: 1.0005e-06 - accuracy: 1.0000 - val_loss: 2.7938e-05 - val_accuracy: 1.0000\n",
            "Epoch 67/100\n",
            "168/168 [==============================] - 20s 121ms/step - loss: 1.1123e-06 - accuracy: 1.0000 - val_loss: 1.7388e-05 - val_accuracy: 1.0000\n",
            "Epoch 68/100\n",
            "168/168 [==============================] - 20s 121ms/step - loss: 9.5899e-07 - accuracy: 1.0000 - val_loss: 1.5616e-05 - val_accuracy: 1.0000\n",
            "Epoch 69/100\n",
            "168/168 [==============================] - 20s 120ms/step - loss: 8.6888e-07 - accuracy: 1.0000 - val_loss: 1.4279e-05 - val_accuracy: 1.0000\n",
            "Epoch 70/100\n",
            "168/168 [==============================] - 20s 121ms/step - loss: 7.1064e-07 - accuracy: 1.0000 - val_loss: 2.3764e-05 - val_accuracy: 1.0000\n",
            "Epoch 71/100\n",
            "168/168 [==============================] - 20s 121ms/step - loss: 6.9823e-07 - accuracy: 1.0000 - val_loss: 1.1567e-05 - val_accuracy: 1.0000\n",
            "Epoch 72/100\n",
            "168/168 [==============================] - 20s 122ms/step - loss: 7.0142e-07 - accuracy: 1.0000 - val_loss: 1.5594e-05 - val_accuracy: 1.0000\n",
            "Epoch 73/100\n",
            "168/168 [==============================] - 20s 122ms/step - loss: 5.9817e-07 - accuracy: 1.0000 - val_loss: 9.7257e-06 - val_accuracy: 1.0000\n",
            "Epoch 74/100\n",
            "168/168 [==============================] - 20s 122ms/step - loss: 4.7719e-07 - accuracy: 1.0000 - val_loss: 6.3496e-06 - val_accuracy: 1.0000\n",
            "Epoch 75/100\n",
            "168/168 [==============================] - 20s 121ms/step - loss: 4.8429e-07 - accuracy: 1.0000 - val_loss: 1.1585e-05 - val_accuracy: 1.0000\n",
            "Epoch 76/100\n",
            "168/168 [==============================] - 20s 121ms/step - loss: 4.1191e-07 - accuracy: 1.0000 - val_loss: 6.8940e-06 - val_accuracy: 1.0000\n",
            "Epoch 77/100\n",
            "168/168 [==============================] - 20s 122ms/step - loss: 6.8651e-07 - accuracy: 1.0000 - val_loss: 3.5717e-06 - val_accuracy: 1.0000\n",
            "Epoch 78/100\n",
            "168/168 [==============================] - 20s 121ms/step - loss: 3.7643e-07 - accuracy: 1.0000 - val_loss: 1.2321e-05 - val_accuracy: 1.0000\n",
            "Epoch 79/100\n",
            "168/168 [==============================] - 20s 122ms/step - loss: 3.1860e-07 - accuracy: 1.0000 - val_loss: 9.8531e-06 - val_accuracy: 1.0000\n",
            "Epoch 80/100\n",
            "168/168 [==============================] - 20s 121ms/step - loss: 3.3492e-07 - accuracy: 1.0000 - val_loss: 7.8742e-06 - val_accuracy: 1.0000\n",
            "Epoch 81/100\n",
            "168/168 [==============================] - 21s 122ms/step - loss: 3.3705e-07 - accuracy: 1.0000 - val_loss: 8.8275e-06 - val_accuracy: 1.0000\n",
            "Epoch 82/100\n",
            "168/168 [==============================] - 20s 122ms/step - loss: 3.4379e-07 - accuracy: 1.0000 - val_loss: 1.8985e-05 - val_accuracy: 1.0000\n",
            "Epoch 83/100\n",
            "168/168 [==============================] - 20s 122ms/step - loss: 2.5545e-07 - accuracy: 1.0000 - val_loss: 1.6451e-05 - val_accuracy: 1.0000\n",
            "Epoch 84/100\n",
            "168/168 [==============================] - 20s 122ms/step - loss: 2.1110e-07 - accuracy: 1.0000 - val_loss: 1.2019e-05 - val_accuracy: 1.0000\n",
            "Epoch 85/100\n",
            "168/168 [==============================] - 20s 122ms/step - loss: 2.1039e-07 - accuracy: 1.0000 - val_loss: 1.3968e-05 - val_accuracy: 1.0000\n",
            "Epoch 86/100\n",
            "168/168 [==============================] - 20s 121ms/step - loss: 2.0755e-07 - accuracy: 1.0000 - val_loss: 2.5867e-05 - val_accuracy: 1.0000\n",
            "Epoch 87/100\n",
            "168/168 [==============================] - 20s 121ms/step - loss: 1.6320e-07 - accuracy: 1.0000 - val_loss: 1.1736e-05 - val_accuracy: 1.0000\n",
            "Epoch 88/100\n",
            "168/168 [==============================] - 20s 122ms/step - loss: 1.5646e-07 - accuracy: 1.0000 - val_loss: 6.7508e-06 - val_accuracy: 1.0000\n",
            "Epoch 89/100\n",
            "168/168 [==============================] - 20s 122ms/step - loss: 1.7988e-07 - accuracy: 1.0000 - val_loss: 3.9888e-06 - val_accuracy: 1.0000\n",
            "Epoch 90/100\n",
            "168/168 [==============================] - 21s 122ms/step - loss: 1.6107e-07 - accuracy: 1.0000 - val_loss: 9.5294e-06 - val_accuracy: 1.0000\n",
            "Epoch 91/100\n",
            "168/168 [==============================] - 21s 122ms/step - loss: 1.4475e-07 - accuracy: 1.0000 - val_loss: 8.7130e-06 - val_accuracy: 1.0000\n",
            "Epoch 92/100\n",
            "168/168 [==============================] - 21s 122ms/step - loss: 1.2666e-07 - accuracy: 1.0000 - val_loss: 1.7574e-05 - val_accuracy: 1.0000\n",
            "Epoch 93/100\n",
            "168/168 [==============================] - 21s 122ms/step - loss: 1.2311e-07 - accuracy: 1.0000 - val_loss: 3.7603e-06 - val_accuracy: 1.0000\n",
            "Epoch 94/100\n",
            "168/168 [==============================] - 21s 122ms/step - loss: 1.0786e-07 - accuracy: 1.0000 - val_loss: 3.9978e-06 - val_accuracy: 1.0000\n",
            "Epoch 95/100\n",
            "168/168 [==============================] - 20s 122ms/step - loss: 9.4374e-08 - accuracy: 1.0000 - val_loss: 1.6241e-05 - val_accuracy: 1.0000\n",
            "Epoch 96/100\n",
            "168/168 [==============================] - 20s 122ms/step - loss: 8.2311e-08 - accuracy: 1.0000 - val_loss: 1.7857e-05 - val_accuracy: 1.0000\n",
            "Epoch 97/100\n",
            "168/168 [==============================] - 20s 122ms/step - loss: 6.9894e-08 - accuracy: 1.0000 - val_loss: 1.4655e-05 - val_accuracy: 1.0000\n",
            "Epoch 98/100\n",
            "168/168 [==============================] - 21s 122ms/step - loss: 6.3153e-08 - accuracy: 1.0000 - val_loss: 6.8061e-06 - val_accuracy: 1.0000\n",
            "Epoch 99/100\n",
            "168/168 [==============================] - 20s 122ms/step - loss: 6.4926e-08 - accuracy: 1.0000 - val_loss: 1.0213e-05 - val_accuracy: 1.0000\n",
            "Epoch 100/100\n",
            "168/168 [==============================] - 21s 122ms/step - loss: 7.0248e-08 - accuracy: 1.0000 - val_loss: 1.4893e-05 - val_accuracy: 1.0000\n"
          ]
        },
        {
          "output_type": "execute_result",
          "data": {
            "text/plain": [
              "<keras.callbacks.History at 0x7fd52b2e0c10>"
            ]
          },
          "metadata": {},
          "execution_count": 5
        }
      ],
      "source": [
        "model.fit(train_generator, epochs=100, validation_data=test_generator)"
      ]
    },
    {
      "cell_type": "code",
      "execution_count": 6,
      "metadata": {
        "colab": {
          "base_uri": "https://localhost:8080/"
        },
        "id": "CdkTqwVROEyD",
        "outputId": "052eb01a-10ce-41f6-a7d3-765ac874d7fa"
      },
      "outputs": [
        {
          "output_type": "stream",
          "name": "stdout",
          "text": [
            "-- Evaluate --\n",
            "72/72 [==============================] - 3s 34ms/step - loss: 1.4893e-05 - accuracy: 1.0000\n",
            "accuracy: 100.00%\n"
          ]
        }
      ],
      "source": [
        "print(\"-- Evaluate --\")\n",
        "scores = model.evaluate(test_generator)\n",
        "print(\"%s: %.2f%%\" %(model.metrics_names[1], scores[1]*100))"
      ]
    },
    {
      "cell_type": "code",
      "execution_count": 7,
      "metadata": {
        "id": "MEGe8D88OFjA"
      },
      "outputs": [],
      "source": [
        "import matplotlib.pyplot as plt"
      ]
    },
    {
      "cell_type": "code",
      "execution_count": 8,
      "metadata": {
        "colab": {
          "base_uri": "https://localhost:8080/",
          "height": 269
        },
        "id": "Wmuqg4XhORwG",
        "outputId": "eda94888-6dfe-4342-f20d-b455df870d8f"
      },
      "outputs": [
        {
          "output_type": "display_data",
          "data": {
            "image/png": "[encoded data removed]",
            "text/plain": [
              "<Figure size 432x288 with 1 Axes>"
            ]
          },
          "metadata": {
            "needs_background": "light"
          }
        }
      ],
      "source": [
        "img_path = '/content/Lee_dataset/MyDrive/Lee_final/001/0/001.png'\n",
        "img = tf.keras.preprocessing.image.load_img(img_path, target_size=(224, 224))\n",
        "plt.imshow(img)\n",
        "plt.show()"
      ]
    },
    {
      "cell_type": "code",
      "execution_count": 9,
      "metadata": {
        "colab": {
          "base_uri": "https://localhost:8080/"
        },
        "id": "XYfEVtnBlo90",
        "outputId": "4c04f565-cd7b-46e3-ec02-f16f5c398c97"
      },
      "outputs": [
        {
          "output_type": "stream",
          "name": "stdout",
          "text": [
            "Found 1 images belonging to 1 classes.\n",
            "-- Predict --\n",
            "['0/001.png']\n",
            "{'0': 0}\n",
            "[[1.000 0.000]]\n"
          ]
        }
      ],
      "source": [
        "val_datagen = tf.keras.preprocessing.image.ImageDataGenerator(rescale=1./255)\n",
        "\n",
        "val_generator = val_datagen.flow_from_directory(\n",
        "        '/content/Lee_dataset/MyDrive/Lee_final/001/',\n",
        "        target_size=(pictureWeightHeightSize, pictureWeightHeightSize),    \n",
        "        batch_size=numberOfClass,\n",
        "        class_mode='categorical')\n",
        "print(\"-- Predict --\")\n",
        "output = model.predict(val_generator)\n",
        "np.set_printoptions(formatter={'float': lambda x: \"{0:0.3f}\".format(x)})\n",
        "print(val_generator.filenames)\n",
        "print(val_generator.class_indices)\n",
        "print(output)"
      ]
    },
    {
      "cell_type": "code",
      "execution_count": 10,
      "metadata": {
        "colab": {
          "base_uri": "https://localhost:8080/"
        },
        "id": "D4-uTOIY2LWL",
        "outputId": "2be375c7-ff3c-4dd1-a093-5b2f4071b0b8"
      },
      "outputs": [
        {
          "output_type": "stream",
          "name": "stdout",
          "text": [
            "Found 1 images belonging to 1 classes.\n",
            "-- Predict --\n",
            "['0/002.png']\n",
            "{'0': 0}\n",
            "[[1.000 0.000]]\n"
          ]
        }
      ],
      "source": [
        "val_datagen = tf.keras.preprocessing.image.ImageDataGenerator(rescale=1./255)\n",
        "\n",
        "val_generator = val_datagen.flow_from_directory(\n",
        "        '/content/Lee_dataset/MyDrive/Lee_final/002/',\n",
        "        target_size=(pictureWeightHeightSize, pictureWeightHeightSize),    \n",
        "        batch_size=numberOfClass,\n",
        "        class_mode='categorical')\n",
        "print(\"-- Predict --\")\n",
        "output = model.predict(val_generator)\n",
        "np.set_printoptions(formatter={'float': lambda x: \"{0:0.3f}\".format(x)})\n",
        "print(val_generator.filenames)\n",
        "print(val_generator.class_indices)\n",
        "print(output)"
      ]
    },
    {
      "cell_type": "code",
      "execution_count": 11,
      "metadata": {
        "colab": {
          "base_uri": "https://localhost:8080/"
        },
        "id": "wY_ZQkak2Lyx",
        "outputId": "8049f887-5687-43a6-a450-359dde6ce2aa"
      },
      "outputs": [
        {
          "output_type": "stream",
          "name": "stdout",
          "text": [
            "Found 1 images belonging to 1 classes.\n",
            "-- Predict --\n",
            "['0/003.png']\n",
            "{'0': 0}\n",
            "[[1.000 0.000]]\n"
          ]
        }
      ],
      "source": [
        "val_datagen = tf.keras.preprocessing.image.ImageDataGenerator(rescale=1./255)\n",
        "\n",
        "val_generator = val_datagen.flow_from_directory(\n",
        "        '/content/Lee_dataset/MyDrive/Lee_final/003/',\n",
        "        target_size=(pictureWeightHeightSize, pictureWeightHeightSize),    \n",
        "        batch_size=numberOfClass,\n",
        "        class_mode='categorical')\n",
        "print(\"-- Predict --\")\n",
        "output = model.predict(val_generator)\n",
        "np.set_printoptions(formatter={'float': lambda x: \"{0:0.3f}\".format(x)})\n",
        "print(val_generator.filenames)\n",
        "print(val_generator.class_indices)\n",
        "print(output)"
      ]
    },
    {
      "cell_type": "code",
      "execution_count": 12,
      "metadata": {
        "colab": {
          "base_uri": "https://localhost:8080/"
        },
        "id": "ngd8fpB32MCp",
        "outputId": "53d0870a-55ca-4726-e02f-01e3208764b8"
      },
      "outputs": [
        {
          "output_type": "stream",
          "name": "stdout",
          "text": [
            "Found 1 images belonging to 1 classes.\n",
            "-- Predict --\n",
            "['0/004.png']\n",
            "{'0': 0}\n",
            "[[1.000 0.000]]\n"
          ]
        }
      ],
      "source": [
        "val_datagen = tf.keras.preprocessing.image.ImageDataGenerator(rescale=1./255)\n",
        "\n",
        "val_generator = val_datagen.flow_from_directory(\n",
        "        '/content/Lee_dataset/MyDrive/Lee_final/004/',\n",
        "        target_size=(pictureWeightHeightSize, pictureWeightHeightSize),    \n",
        "        batch_size=numberOfClass,\n",
        "        class_mode='categorical')\n",
        "print(\"-- Predict --\")\n",
        "output = model.predict(val_generator)\n",
        "np.set_printoptions(formatter={'float': lambda x: \"{0:0.3f}\".format(x)})\n",
        "print(val_generator.filenames)\n",
        "print(val_generator.class_indices)\n",
        "print(output)"
      ]
    },
    {
      "cell_type": "code",
      "execution_count": 13,
      "metadata": {
        "colab": {
          "base_uri": "https://localhost:8080/"
        },
        "id": "34jvk1km2MOt",
        "outputId": "8ddb1317-d1ca-4307-ca15-e268524c44eb"
      },
      "outputs": [
        {
          "output_type": "stream",
          "name": "stdout",
          "text": [
            "Found 1 images belonging to 1 classes.\n",
            "-- Predict --\n",
            "['0/005.png']\n",
            "{'0': 0}\n",
            "[[0.000 1.000]]\n"
          ]
        }
      ],
      "source": [
        "val_datagen = tf.keras.preprocessing.image.ImageDataGenerator(rescale=1./255)\n",
        "\n",
        "val_generator = val_datagen.flow_from_directory(\n",
        "        '/content/Lee_dataset/MyDrive/Lee_final/005/',\n",
        "        target_size=(pictureWeightHeightSize, pictureWeightHeightSize),    \n",
        "        batch_size=numberOfClass,\n",
        "        class_mode='categorical')\n",
        "print(\"-- Predict --\")\n",
        "output = model.predict(val_generator)\n",
        "np.set_printoptions(formatter={'float': lambda x: \"{0:0.3f}\".format(x)})\n",
        "print(val_generator.filenames)\n",
        "print(val_generator.class_indices)\n",
        "print(output)"
      ]
    },
    {
      "cell_type": "code",
      "execution_count": 14,
      "metadata": {
        "colab": {
          "base_uri": "https://localhost:8080/"
        },
        "id": "Gik7eFEj2Mam",
        "outputId": "6823ae6c-e0bd-45d8-e2e8-b2bbd0708f0d"
      },
      "outputs": [
        {
          "output_type": "stream",
          "name": "stdout",
          "text": [
            "Found 1 images belonging to 1 classes.\n",
            "-- Predict --\n",
            "['0/006.png']\n",
            "{'0': 0}\n",
            "[[0.000 1.000]]\n"
          ]
        }
      ],
      "source": [
        "val_datagen = tf.keras.preprocessing.image.ImageDataGenerator(rescale=1./255)\n",
        "\n",
        "val_generator = val_datagen.flow_from_directory(\n",
        "        '/content/Lee_dataset/MyDrive/Lee_final/006/',\n",
        "        target_size=(pictureWeightHeightSize, pictureWeightHeightSize),    \n",
        "        batch_size=numberOfClass,\n",
        "        class_mode='categorical')\n",
        "print(\"-- Predict --\")\n",
        "output = model.predict(val_generator)\n",
        "np.set_printoptions(formatter={'float': lambda x: \"{0:0.3f}\".format(x)})\n",
        "print(val_generator.filenames)\n",
        "print(val_generator.class_indices)\n",
        "print(output)"
      ]
    },
    {
      "cell_type": "code",
      "execution_count": 15,
      "metadata": {
        "colab": {
          "base_uri": "https://localhost:8080/"
        },
        "id": "PoTA8d5o2MlH",
        "outputId": "bc34b070-9880-4117-9f8b-157f31135202"
      },
      "outputs": [
        {
          "output_type": "stream",
          "name": "stdout",
          "text": [
            "Found 1 images belonging to 1 classes.\n",
            "-- Predict --\n",
            "['0/007.png']\n",
            "{'0': 0}\n",
            "[[0.000 1.000]]\n"
          ]
        }
      ],
      "source": [
        "val_datagen = tf.keras.preprocessing.image.ImageDataGenerator(rescale=1./255)\n",
        "\n",
        "val_generator = val_datagen.flow_from_directory(\n",
        "        '/content/Lee_dataset/MyDrive/Lee_final/007/',\n",
        "        target_size=(pictureWeightHeightSize, pictureWeightHeightSize),    \n",
        "        batch_size=numberOfClass,\n",
        "        class_mode='categorical')\n",
        "print(\"-- Predict --\")\n",
        "output = model.predict(val_generator)\n",
        "np.set_printoptions(formatter={'float': lambda x: \"{0:0.3f}\".format(x)})\n",
        "print(val_generator.filenames)\n",
        "print(val_generator.class_indices)\n",
        "print(output)"
      ]
    },
    {
      "cell_type": "code",
      "execution_count": 16,
      "metadata": {
        "colab": {
          "base_uri": "https://localhost:8080/"
        },
        "id": "EVh1gPGG2MvD",
        "outputId": "8db3eeb0-d3ed-44b7-9bfd-d111a212099d"
      },
      "outputs": [
        {
          "output_type": "stream",
          "name": "stdout",
          "text": [
            "Found 1 images belonging to 1 classes.\n",
            "-- Predict --\n",
            "['0/008.png']\n",
            "{'0': 0}\n",
            "[[0.000 1.000]]\n"
          ]
        }
      ],
      "source": [
        "val_datagen = tf.keras.preprocessing.image.ImageDataGenerator(rescale=1./255)\n",
        "\n",
        "val_generator = val_datagen.flow_from_directory(\n",
        "        '/content/Lee_dataset/MyDrive/Lee_final/008/',\n",
        "        target_size=(pictureWeightHeightSize, pictureWeightHeightSize),    \n",
        "        batch_size=numberOfClass,\n",
        "        class_mode='categorical')\n",
        "print(\"-- Predict --\")\n",
        "output = model.predict(val_generator)\n",
        "np.set_printoptions(formatter={'float': lambda x: \"{0:0.3f}\".format(x)})\n",
        "print(val_generator.filenames)\n",
        "print(val_generator.class_indices)\n",
        "print(output)"
      ]
    },
    {
      "cell_type": "code",
      "execution_count": 17,
      "metadata": {
        "colab": {
          "base_uri": "https://localhost:8080/"
        },
        "id": "X9V9G8t62M47",
        "outputId": "e33a4778-8323-4665-c84b-08e26de0c7c8"
      },
      "outputs": [
        {
          "output_type": "stream",
          "name": "stdout",
          "text": [
            "Found 1 images belonging to 1 classes.\n",
            "-- Predict --\n",
            "['0/009.png']\n",
            "{'0': 0}\n",
            "[[1.000 0.000]]\n"
          ]
        }
      ],
      "source": [
        "val_datagen = tf.keras.preprocessing.image.ImageDataGenerator(rescale=1./255)\n",
        "\n",
        "val_generator = val_datagen.flow_from_directory(\n",
        "        '/content/Lee_dataset/MyDrive/Lee_final/009/',\n",
        "        target_size=(pictureWeightHeightSize, pictureWeightHeightSize),    \n",
        "        batch_size=numberOfClass,\n",
        "        class_mode='categorical')\n",
        "print(\"-- Predict --\")\n",
        "output = model.predict(val_generator)\n",
        "np.set_printoptions(formatter={'float': lambda x: \"{0:0.3f}\".format(x)})\n",
        "print(val_generator.filenames)\n",
        "print(val_generator.class_indices)\n",
        "print(output)"
      ]
    },
    {
      "cell_type": "code",
      "execution_count": 18,
      "metadata": {
        "colab": {
          "base_uri": "https://localhost:8080/"
        },
        "id": "bCCPArrp2NCd",
        "outputId": "88d6cb0d-48c8-49fe-f24b-8709ea55694d"
      },
      "outputs": [
        {
          "output_type": "stream",
          "name": "stdout",
          "text": [
            "Found 1 images belonging to 1 classes.\n",
            "-- Predict --\n",
            "['0/010.png']\n",
            "{'0': 0}\n",
            "[[1.000 0.000]]\n"
          ]
        }
      ],
      "source": [
        "val_datagen = tf.keras.preprocessing.image.ImageDataGenerator(rescale=1./255)\n",
        "\n",
        "val_generator = val_datagen.flow_from_directory(\n",
        "        '/content/Lee_dataset/MyDrive/Lee_final/010/',\n",
        "        target_size=(pictureWeightHeightSize, pictureWeightHeightSize),    \n",
        "        batch_size=numberOfClass,\n",
        "        class_mode='categorical')\n",
        "print(\"-- Predict --\")\n",
        "output = model.predict(val_generator)\n",
        "np.set_printoptions(formatter={'float': lambda x: \"{0:0.3f}\".format(x)})\n",
        "print(val_generator.filenames)\n",
        "print(val_generator.class_indices)\n",
        "print(output)"
      ]
    },
    {
      "cell_type": "code",
      "execution_count": 19,
      "metadata": {
        "colab": {
          "base_uri": "https://localhost:8080/"
        },
        "id": "r8trXat_7o_C",
        "outputId": "2fdbe825-68db-4083-fa6a-d1fc23b44f8c"
      },
      "outputs": [
        {
          "output_type": "stream",
          "name": "stdout",
          "text": [
            "Found 1 images belonging to 1 classes.\n",
            "-- Predict --\n",
            "['0/011.png']\n",
            "{'0': 0}\n",
            "[[1.000 0.000]]\n"
          ]
        }
      ],
      "source": [
        "val_datagen = tf.keras.preprocessing.image.ImageDataGenerator(rescale=1./255)\n",
        "\n",
        "val_generator = val_datagen.flow_from_directory(\n",
        "        '/content/Lee_dataset/MyDrive/Lee_final/011/',\n",
        "        target_size=(pictureWeightHeightSize, pictureWeightHeightSize),    \n",
        "        batch_size=numberOfClass,\n",
        "        class_mode='categorical')\n",
        "print(\"-- Predict --\")\n",
        "output = model.predict(val_generator)\n",
        "np.set_printoptions(formatter={'float': lambda x: \"{0:0.3f}\".format(x)})\n",
        "print(val_generator.filenames)\n",
        "print(val_generator.class_indices)\n",
        "print(output)"
      ]
    },
    {
      "cell_type": "code",
      "execution_count": 20,
      "metadata": {
        "colab": {
          "base_uri": "https://localhost:8080/"
        },
        "id": "5AN5IL3T7pWH",
        "outputId": "32542841-b0a1-4abe-b245-fcac566239d3"
      },
      "outputs": [
        {
          "output_type": "stream",
          "name": "stdout",
          "text": [
            "Found 1 images belonging to 1 classes.\n",
            "-- Predict --\n",
            "['0/012.png']\n",
            "{'0': 0}\n",
            "[[1.000 0.000]]\n"
          ]
        }
      ],
      "source": [
        "val_datagen = tf.keras.preprocessing.image.ImageDataGenerator(rescale=1./255)\n",
        "\n",
        "val_generator = val_datagen.flow_from_directory(\n",
        "        '/content/Lee_dataset/MyDrive/Lee_final/012/',\n",
        "        target_size=(pictureWeightHeightSize, pictureWeightHeightSize),    \n",
        "        batch_size=numberOfClass,\n",
        "        class_mode='categorical')\n",
        "print(\"-- Predict --\")\n",
        "output = model.predict(val_generator)\n",
        "np.set_printoptions(formatter={'float': lambda x: \"{0:0.3f}\".format(x)})\n",
        "print(val_generator.filenames)\n",
        "print(val_generator.class_indices)\n",
        "print(output)"
      ]
    },
    {
      "cell_type": "code",
      "execution_count": 28,
      "metadata": {
        "colab": {
          "base_uri": "https://localhost:8080/"
        },
        "id": "m07ybdNW7phJ",
        "outputId": "5482f74c-0e2e-4458-b74b-d5214db90aa2"
      },
      "outputs": [
        {
          "output_type": "stream",
          "name": "stdout",
          "text": [
            "Found 1 images belonging to 1 classes.\n",
            "-- Predict --\n",
            "['0/013.png']\n",
            "{'0': 0}\n",
            "[[0.309 0.691]]\n"
          ]
        }
      ],
      "source": [
        "val_datagen = tf.keras.preprocessing.image.ImageDataGenerator(rescale=1./255)\n",
        "\n",
        "val_generator = val_datagen.flow_from_directory(\n",
        "        '/content/Lee_dataset/MyDrive/Lee_final/013/',\n",
        "        target_size=(pictureWeightHeightSize, pictureWeightHeightSize),    \n",
        "        batch_size=numberOfClass,\n",
        "        class_mode='categorical')\n",
        "print(\"-- Predict --\")\n",
        "output = model.predict(val_generator)\n",
        "np.set_printoptions(formatter={'float': lambda x: \"{0:0.3f}\".format(x)})\n",
        "print(val_generator.filenames)\n",
        "print(val_generator.class_indices)\n",
        "print(output)"
      ]
    },
    {
      "cell_type": "code",
      "execution_count": 27,
      "metadata": {
        "colab": {
          "base_uri": "https://localhost:8080/"
        },
        "id": "x2YCd8uO7pp8",
        "outputId": "2eaf3929-d526-4776-91f3-edf83b527dee"
      },
      "outputs": [
        {
          "output_type": "stream",
          "name": "stdout",
          "text": [
            "Found 1 images belonging to 1 classes.\n",
            "-- Predict --\n",
            "['0/014.png']\n",
            "{'0': 0}\n",
            "[[0.005 0.995]]\n"
          ]
        }
      ],
      "source": [
        "val_datagen = tf.keras.preprocessing.image.ImageDataGenerator(rescale=1./255)\n",
        "\n",
        "val_generator = val_datagen.flow_from_directory(\n",
        "        '/content/Lee_dataset/MyDrive/Lee_final/014/',\n",
        "        target_size=(pictureWeightHeightSize, pictureWeightHeightSize),    \n",
        "        batch_size=numberOfClass,\n",
        "        class_mode='categorical')\n",
        "print(\"-- Predict --\")\n",
        "output = model.predict(val_generator)\n",
        "np.set_printoptions(formatter={'float': lambda x: \"{0:0.3f}\".format(x)})\n",
        "print(val_generator.filenames)\n",
        "print(val_generator.class_indices)\n",
        "print(output)"
      ]
    },
    {
      "cell_type": "code",
      "execution_count": 26,
      "metadata": {
        "colab": {
          "base_uri": "https://localhost:8080/"
        },
        "id": "1VycsWFx7pz0",
        "outputId": "77fe6a4c-8ec0-4e6a-f32a-6aec25c0bbe2"
      },
      "outputs": [
        {
          "output_type": "stream",
          "name": "stdout",
          "text": [
            "Found 1 images belonging to 1 classes.\n",
            "-- Predict --\n",
            "['0/015.png']\n",
            "{'0': 0}\n",
            "[[0.000 1.000]]\n"
          ]
        }
      ],
      "source": [
        "val_datagen = tf.keras.preprocessing.image.ImageDataGenerator(rescale=1./255)\n",
        "\n",
        "val_generator = val_datagen.flow_from_directory(\n",
        "        '/content/Lee_dataset/MyDrive/Lee_final/015/',\n",
        "        target_size=(pictureWeightHeightSize, pictureWeightHeightSize),    \n",
        "        batch_size=numberOfClass,\n",
        "        class_mode='categorical')\n",
        "print(\"-- Predict --\")\n",
        "output = model.predict(val_generator)\n",
        "np.set_printoptions(formatter={'float': lambda x: \"{0:0.3f}\".format(x)})\n",
        "print(val_generator.filenames)\n",
        "print(val_generator.class_indices)\n",
        "print(output)"
      ]
    },
    {
      "cell_type": "code",
      "execution_count": 31,
      "metadata": {
        "colab": {
          "base_uri": "https://localhost:8080/"
        },
        "id": "psqIWkiU7p_d",
        "outputId": "bc6703c7-a056-4b70-e399-0a7ec0d7eb31"
      },
      "outputs": [
        {
          "output_type": "stream",
          "name": "stdout",
          "text": [
            "Found 1 images belonging to 1 classes.\n",
            "-- Predict --\n",
            "['0/001.png']\n",
            "{'0': 0}\n",
            "[[0.000 1.000]]\n"
          ]
        }
      ],
      "source": [
        "val_datagen = tf.keras.preprocessing.image.ImageDataGenerator(rescale=1./255)\n",
        "\n",
        "val_generator = val_datagen.flow_from_directory(\n",
        "        '/content/Lee_dataset/MyDrive/Lee_final/100/',\n",
        "        target_size=(pictureWeightHeightSize, pictureWeightHeightSize),    \n",
        "        batch_size=numberOfClass,\n",
        "        class_mode='categorical')\n",
        "print(\"-- Predict --\")\n",
        "output = model.predict(val_generator)\n",
        "np.set_printoptions(formatter={'float': lambda x: \"{0:0.3f}\".format(x)})\n",
        "print(val_generator.filenames)\n",
        "print(val_generator.class_indices)\n",
        "print(output)"
      ]
    },
    {
      "cell_type": "code",
      "source": [
        "val_datagen = tf.keras.preprocessing.image.ImageDataGenerator(rescale=1./255)\n",
        "\n",
        "val_generator = val_datagen.flow_from_directory(\n",
        "        '/content/Lee_dataset/MyDrive/Lee_final/101/',\n",
        "        target_size=(pictureWeightHeightSize, pictureWeightHeightSize),    \n",
        "        batch_size=numberOfClass,\n",
        "        class_mode='categorical')\n",
        "print(\"-- Predict --\")\n",
        "output = model.predict(val_generator)\n",
        "np.set_printoptions(formatter={'float': lambda x: \"{0:0.3f}\".format(x)})\n",
        "print(val_generator.filenames)\n",
        "print(val_generator.class_indices)\n",
        "print(output)"
      ],
      "metadata": {
        "colab": {
          "base_uri": "https://localhost:8080/"
        },
        "id": "fQaFdu9nj9lM",
        "outputId": "297de4b7-ab63-475b-bda7-4b3531ad5500"
      },
      "execution_count": 32,
      "outputs": [
        {
          "output_type": "stream",
          "name": "stdout",
          "text": [
            "Found 1 images belonging to 1 classes.\n",
            "-- Predict --\n",
            "['0/002.png']\n",
            "{'0': 0}\n",
            "[[0.000 1.000]]\n"
          ]
        }
      ]
    },
    {
      "cell_type": "code",
      "source": [
        "val_datagen = tf.keras.preprocessing.image.ImageDataGenerator(rescale=1./255)\n",
        "\n",
        "val_generator = val_datagen.flow_from_directory(\n",
        "        '/content/Lee_dataset/MyDrive/Lee_final/102/',\n",
        "        target_size=(pictureWeightHeightSize, pictureWeightHeightSize),    \n",
        "        batch_size=numberOfClass,\n",
        "        class_mode='categorical')\n",
        "print(\"-- Predict --\")\n",
        "output = model.predict(val_generator)\n",
        "np.set_printoptions(formatter={'float': lambda x: \"{0:0.3f}\".format(x)})\n",
        "print(val_generator.filenames)\n",
        "print(val_generator.class_indices)\n",
        "print(output)"
      ],
      "metadata": {
        "colab": {
          "base_uri": "https://localhost:8080/"
        },
        "id": "NsXZObG9j9qH",
        "outputId": "73dfeb31-df65-4b0d-bc06-911c533b7635"
      },
      "execution_count": 33,
      "outputs": [
        {
          "output_type": "stream",
          "name": "stdout",
          "text": [
            "Found 1 images belonging to 1 classes.\n",
            "-- Predict --\n",
            "['0/003.png']\n",
            "{'0': 0}\n",
            "[[0.050 0.950]]\n"
          ]
        }
      ]
    },
    {
      "cell_type": "code",
      "source": [
        "val_datagen = tf.keras.preprocessing.image.ImageDataGenerator(rescale=1./255)\n",
        "\n",
        "val_generator = val_datagen.flow_from_directory(\n",
        "        '/content/Lee_dataset/MyDrive/Lee_final/103/',\n",
        "        target_size=(pictureWeightHeightSize, pictureWeightHeightSize),    \n",
        "        batch_size=numberOfClass,\n",
        "        class_mode='categorical')\n",
        "print(\"-- Predict --\")\n",
        "output = model.predict(val_generator)\n",
        "np.set_printoptions(formatter={'float': lambda x: \"{0:0.3f}\".format(x)})\n",
        "print(val_generator.filenames)\n",
        "print(val_generator.class_indices)\n",
        "print(output)"
      ],
      "metadata": {
        "colab": {
          "base_uri": "https://localhost:8080/"
        },
        "id": "XTghJlbzj_XL",
        "outputId": "5a900ab5-0224-401d-f728-98ff0d3fd109"
      },
      "execution_count": 34,
      "outputs": [
        {
          "output_type": "stream",
          "name": "stdout",
          "text": [
            "Found 1 images belonging to 1 classes.\n",
            "-- Predict --\n",
            "['0/004.png']\n",
            "{'0': 0}\n",
            "[[0.998 0.002]]\n"
          ]
        }
      ]
    },
    {
      "cell_type": "code",
      "source": [
        "val_datagen = tf.keras.preprocessing.image.ImageDataGenerator(rescale=1./255)\n",
        "\n",
        "val_generator = val_datagen.flow_from_directory(\n",
        "        '/content/Lee_dataset/MyDrive/Lee_final/104/',\n",
        "        target_size=(pictureWeightHeightSize, pictureWeightHeightSize),    \n",
        "        batch_size=numberOfClass,\n",
        "        class_mode='categorical')\n",
        "print(\"-- Predict --\")\n",
        "output = model.predict(val_generator)\n",
        "np.set_printoptions(formatter={'float': lambda x: \"{0:0.3f}\".format(x)})\n",
        "print(val_generator.filenames)\n",
        "print(val_generator.class_indices)\n",
        "print(output)"
      ],
      "metadata": {
        "colab": {
          "base_uri": "https://localhost:8080/"
        },
        "id": "yKfZeDxYj_jM",
        "outputId": "9cbba4a5-9308-4cd7-8f53-037afe7b2920"
      },
      "execution_count": 35,
      "outputs": [
        {
          "output_type": "stream",
          "name": "stdout",
          "text": [
            "Found 1 images belonging to 1 classes.\n",
            "-- Predict --\n",
            "['0/005.png']\n",
            "{'0': 0}\n",
            "[[0.999 0.001]]\n"
          ]
        }
      ]
    },
    {
      "cell_type": "code",
      "source": [
        "val_datagen = tf.keras.preprocessing.image.ImageDataGenerator(rescale=1./255)\n",
        "\n",
        "val_generator = val_datagen.flow_from_directory(\n",
        "        '/content/Lee_dataset/MyDrive/Lee_final/105/',\n",
        "        target_size=(pictureWeightHeightSize, pictureWeightHeightSize),    \n",
        "        batch_size=numberOfClass,\n",
        "        class_mode='categorical')\n",
        "print(\"-- Predict --\")\n",
        "output = model.predict(val_generator)\n",
        "np.set_printoptions(formatter={'float': lambda x: \"{0:0.3f}\".format(x)})\n",
        "print(val_generator.filenames)\n",
        "print(val_generator.class_indices)\n",
        "print(output)"
      ],
      "metadata": {
        "colab": {
          "base_uri": "https://localhost:8080/"
        },
        "id": "oSjVbPTWj_sq",
        "outputId": "a3268eb6-00b1-490b-a8b8-5eb1687a19a4"
      },
      "execution_count": 36,
      "outputs": [
        {
          "output_type": "stream",
          "name": "stdout",
          "text": [
            "Found 1 images belonging to 1 classes.\n",
            "-- Predict --\n",
            "['0/006.png']\n",
            "{'0': 0}\n",
            "[[0.999 0.001]]\n"
          ]
        }
      ]
    },
    {
      "cell_type": "code",
      "source": [
        "val_datagen = tf.keras.preprocessing.image.ImageDataGenerator(rescale=1./255)\n",
        "\n",
        "val_generator = val_datagen.flow_from_directory(\n",
        "        '/content/Lee_dataset/MyDrive/Lee_final/106/',\n",
        "        target_size=(pictureWeightHeightSize, pictureWeightHeightSize),    \n",
        "        batch_size=numberOfClass,\n",
        "        class_mode='categorical')\n",
        "print(\"-- Predict --\")\n",
        "output = model.predict(val_generator)\n",
        "np.set_printoptions(formatter={'float': lambda x: \"{0:0.3f}\".format(x)})\n",
        "print(val_generator.filenames)\n",
        "print(val_generator.class_indices)\n",
        "print(output)"
      ],
      "metadata": {
        "colab": {
          "base_uri": "https://localhost:8080/"
        },
        "id": "5sYQAiB8j_8s",
        "outputId": "30e965ed-35eb-473b-d2f5-ff70854ecf98"
      },
      "execution_count": 38,
      "outputs": [
        {
          "output_type": "stream",
          "name": "stdout",
          "text": [
            "Found 1 images belonging to 1 classes.\n",
            "-- Predict --\n",
            "['0/007.png']\n",
            "{'0': 0}\n",
            "[[1.000 0.000]]\n"
          ]
        }
      ]
    }
  ],
  "metadata": {
    "accelerator": "GPU",
    "colab": {
      "collapsed_sections": [],
      "name": "ODCuC_220110_Try4A.ipynb",
      "provenance": [],
      "include_colab_link": true
    },
    "kernelspec": {
      "display_name": "Python 3 (ipykernel)",
      "language": "python",
      "name": "python3"
    },
    "language_info": {
      "codemirror_mode": {
        "name": "ipython",
        "version": 3
      },
      "file_extension": ".py",
      "mimetype": "text/x-python",
      "name": "python",
      "nbconvert_exporter": "python",
      "pygments_lexer": "ipython3",
      "version": "3.7.11"
    }
  },
  "nbformat": 4,
  "nbformat_minor": 0
}