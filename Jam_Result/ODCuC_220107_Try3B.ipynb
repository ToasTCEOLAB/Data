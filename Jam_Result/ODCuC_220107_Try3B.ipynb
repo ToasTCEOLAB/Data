{
  "nbformat": 4,
  "nbformat_minor": 0,
  "metadata": {
    "colab": {
      "name": "ODCuC_220107_Try3B.ipynb",
      "provenance": [],
      "collapsed_sections": [],
      "include_colab_link": true
    },
    "kernelspec": {
      "name": "python3",
      "display_name": "Python 3"
    },
    "language_info": {
      "name": "python"
    },
    "accelerator": "GPU"
  },
  "cells": [
    {
      "cell_type": "markdown",
      "metadata": {
        "id": "view-in-github",
        "colab_type": "text"
      },
      "source": [
        "<a href=\"https://colab.research.google.com/github/NewTAs/ODCuC/blob/main/ODCuC_220107_Try3B.ipynb\" target=\"_parent\"><img src=\"https://colab.research.google.com/assets/colab-badge.svg\" alt=\"Open In Colab\"/></a>"
      ]
    },
    {
      "cell_type": "code",
      "execution_count": 1,
      "metadata": {
        "colab": {
          "base_uri": "https://localhost:8080/"
        },
        "id": "xgBO72ZY81tE",
        "outputId": "ecbad356-ec45-422e-b356-d96f231eb864"
      },
      "outputs": [
        {
          "output_type": "stream",
          "name": "stdout",
          "text": [
            "Mounted at Lee_dataset\n"
          ]
        }
      ],
      "source": [
        "import os\n",
        "import re\n",
        "import glob\n",
        "import cv2\n",
        "import numpy as np\n",
        "from sklearn.model_selection import train_test_split\n",
        "\n",
        "import tensorflow as tf\n",
        "\n",
        "from google.colab import drive\n",
        "drive.mount('Lee_dataset')"
      ]
    },
    {
      "cell_type": "code",
      "source": [
        "numberOfClass = 2\n",
        "pictureWeightHeightSize = 224\n",
        "\n",
        "train_datagen = tf.keras.preprocessing.image.ImageDataGenerator(rescale=1./255)\n",
        "\n",
        "train_generator = train_datagen.flow_from_directory(\n",
        "        '/content/Lee_dataset/MyDrive/Lee_Datasets/11/',\n",
        "        target_size=(pictureWeightHeightSize, pictureWeightHeightSize),\n",
        "        batch_size=numberOfClass,\n",
        "        class_mode='categorical')\n",
        "\n",
        "test_datagen = tf.keras.preprocessing.image.ImageDataGenerator(rescale=1./255)\n",
        "\n",
        "test_generator = test_datagen.flow_from_directory(\n",
        "        '/content/Lee_dataset/MyDrive/Lee_Datasets/12/',\n",
        "        target_size=(pictureWeightHeightSize, pictureWeightHeightSize),    \n",
        "        batch_size=numberOfClass,\n",
        "        class_mode='categorical')"
      ],
      "metadata": {
        "colab": {
          "base_uri": "https://localhost:8080/"
        },
        "id": "H9aasxuq-Pia",
        "outputId": "f3c987f3-d8ba-4d63-858b-4ef9dd73013e"
      },
      "execution_count": 2,
      "outputs": [
        {
          "output_type": "stream",
          "name": "stdout",
          "text": [
            "Found 360 images belonging to 2 classes.\n",
            "Found 120 images belonging to 2 classes.\n"
          ]
        }
      ]
    },
    {
      "cell_type": "code",
      "source": [
        "from tensorflow.keras.applications import ResNet50V2\n",
        "\n",
        "model = ResNet50V2(include_top=True, weights=None, input_shape=(224, 224, 3), pooling=max, classes=2)"
      ],
      "metadata": {
        "id": "eFApPT_d-q2g"
      },
      "execution_count": 3,
      "outputs": []
    },
    {
      "cell_type": "code",
      "source": [
        "model.compile(loss='categorical_crossentropy', metrics=['accuracy'], optimizer='adam')\n",
        "model.summary()"
      ],
      "metadata": {
        "colab": {
          "base_uri": "https://localhost:8080/"
        },
        "id": "H6q5upFt_wCq",
        "outputId": "43ecf57d-4858-4ae9-c0db-aa9d5074c061"
      },
      "execution_count": 4,
      "outputs": [
        {
          "output_type": "stream",
          "name": "stdout",
          "text": [
            "Model: \"resnet50v2\"\n",
            "__________________________________________________________________________________________________\n",
            " Layer (type)                   Output Shape         Param #     Connected to                     \n",
            "==================================================================================================\n",
            " input_1 (InputLayer)           [(None, 224, 224, 3  0           []                               \n",
            "                                )]                                                                \n",
            "                                                                                                  \n",
            " conv1_pad (ZeroPadding2D)      (None, 230, 230, 3)  0           ['input_1[0][0]']                \n",
            "                                                                                                  \n",
            " conv1_conv (Conv2D)            (None, 112, 112, 64  9472        ['conv1_pad[0][0]']              \n",
            "                                )                                                                 \n",
            "                                                                                                  \n",
            " pool1_pad (ZeroPadding2D)      (None, 114, 114, 64  0           ['conv1_conv[0][0]']             \n",
            "                                )                                                                 \n",
            "                                                                                                  \n",
            " pool1_pool (MaxPooling2D)      (None, 56, 56, 64)   0           ['pool1_pad[0][0]']              \n",
            "                                                                                                  \n",
            " conv2_block1_preact_bn (BatchN  (None, 56, 56, 64)  256         ['pool1_pool[0][0]']             \n",
            " ormalization)                                                                                    \n",
            "                                                                                                  \n",
            " conv2_block1_preact_relu (Acti  (None, 56, 56, 64)  0           ['conv2_block1_preact_bn[0][0]'] \n",
            " vation)                                                                                          \n",
            "                                                                                                  \n",
            " conv2_block1_1_conv (Conv2D)   (None, 56, 56, 64)   4096        ['conv2_block1_preact_relu[0][0]'\n",
            "                                                                 ]                                \n",
            "                                                                                                  \n",
            " conv2_block1_1_bn (BatchNormal  (None, 56, 56, 64)  256         ['conv2_block1_1_conv[0][0]']    \n",
            " ization)                                                                                         \n",
            "                                                                                                  \n",
            " conv2_block1_1_relu (Activatio  (None, 56, 56, 64)  0           ['conv2_block1_1_bn[0][0]']      \n",
            " n)                                                                                               \n",
            "                                                                                                  \n",
            " conv2_block1_2_pad (ZeroPaddin  (None, 58, 58, 64)  0           ['conv2_block1_1_relu[0][0]']    \n",
            " g2D)                                                                                             \n",
            "                                                                                                  \n",
            " conv2_block1_2_conv (Conv2D)   (None, 56, 56, 64)   36864       ['conv2_block1_2_pad[0][0]']     \n",
            "                                                                                                  \n",
            " conv2_block1_2_bn (BatchNormal  (None, 56, 56, 64)  256         ['conv2_block1_2_conv[0][0]']    \n",
            " ization)                                                                                         \n",
            "                                                                                                  \n",
            " conv2_block1_2_relu (Activatio  (None, 56, 56, 64)  0           ['conv2_block1_2_bn[0][0]']      \n",
            " n)                                                                                               \n",
            "                                                                                                  \n",
            " conv2_block1_0_conv (Conv2D)   (None, 56, 56, 256)  16640       ['conv2_block1_preact_relu[0][0]'\n",
            "                                                                 ]                                \n",
            "                                                                                                  \n",
            " conv2_block1_3_conv (Conv2D)   (None, 56, 56, 256)  16640       ['conv2_block1_2_relu[0][0]']    \n",
            "                                                                                                  \n",
            " conv2_block1_out (Add)         (None, 56, 56, 256)  0           ['conv2_block1_0_conv[0][0]',    \n",
            "                                                                  'conv2_block1_3_conv[0][0]']    \n",
            "                                                                                                  \n",
            " conv2_block2_preact_bn (BatchN  (None, 56, 56, 256)  1024       ['conv2_block1_out[0][0]']       \n",
            " ormalization)                                                                                    \n",
            "                                                                                                  \n",
            " conv2_block2_preact_relu (Acti  (None, 56, 56, 256)  0          ['conv2_block2_preact_bn[0][0]'] \n",
            " vation)                                                                                          \n",
            "                                                                                                  \n",
            " conv2_block2_1_conv (Conv2D)   (None, 56, 56, 64)   16384       ['conv2_block2_preact_relu[0][0]'\n",
            "                                                                 ]                                \n",
            "                                                                                                  \n",
            " conv2_block2_1_bn (BatchNormal  (None, 56, 56, 64)  256         ['conv2_block2_1_conv[0][0]']    \n",
            " ization)                                                                                         \n",
            "                                                                                                  \n",
            " conv2_block2_1_relu (Activatio  (None, 56, 56, 64)  0           ['conv2_block2_1_bn[0][0]']      \n",
            " n)                                                                                               \n",
            "                                                                                                  \n",
            " conv2_block2_2_pad (ZeroPaddin  (None, 58, 58, 64)  0           ['conv2_block2_1_relu[0][0]']    \n",
            " g2D)                                                                                             \n",
            "                                                                                                  \n",
            " conv2_block2_2_conv (Conv2D)   (None, 56, 56, 64)   36864       ['conv2_block2_2_pad[0][0]']     \n",
            "                                                                                                  \n",
            " conv2_block2_2_bn (BatchNormal  (None, 56, 56, 64)  256         ['conv2_block2_2_conv[0][0]']    \n",
            " ization)                                                                                         \n",
            "                                                                                                  \n",
            " conv2_block2_2_relu (Activatio  (None, 56, 56, 64)  0           ['conv2_block2_2_bn[0][0]']      \n",
            " n)                                                                                               \n",
            "                                                                                                  \n",
            " conv2_block2_3_conv (Conv2D)   (None, 56, 56, 256)  16640       ['conv2_block2_2_relu[0][0]']    \n",
            "                                                                                                  \n",
            " conv2_block2_out (Add)         (None, 56, 56, 256)  0           ['conv2_block1_out[0][0]',       \n",
            "                                                                  'conv2_block2_3_conv[0][0]']    \n",
            "                                                                                                  \n",
            " conv2_block3_preact_bn (BatchN  (None, 56, 56, 256)  1024       ['conv2_block2_out[0][0]']       \n",
            " ormalization)                                                                                    \n",
            "                                                                                                  \n",
            " conv2_block3_preact_relu (Acti  (None, 56, 56, 256)  0          ['conv2_block3_preact_bn[0][0]'] \n",
            " vation)                                                                                          \n",
            "                                                                                                  \n",
            " conv2_block3_1_conv (Conv2D)   (None, 56, 56, 64)   16384       ['conv2_block3_preact_relu[0][0]'\n",
            "                                                                 ]                                \n",
            "                                                                                                  \n",
            " conv2_block3_1_bn (BatchNormal  (None, 56, 56, 64)  256         ['conv2_block3_1_conv[0][0]']    \n",
            " ization)                                                                                         \n",
            "                                                                                                  \n",
            " conv2_block3_1_relu (Activatio  (None, 56, 56, 64)  0           ['conv2_block3_1_bn[0][0]']      \n",
            " n)                                                                                               \n",
            "                                                                                                  \n",
            " conv2_block3_2_pad (ZeroPaddin  (None, 58, 58, 64)  0           ['conv2_block3_1_relu[0][0]']    \n",
            " g2D)                                                                                             \n",
            "                                                                                                  \n",
            " conv2_block3_2_conv (Conv2D)   (None, 28, 28, 64)   36864       ['conv2_block3_2_pad[0][0]']     \n",
            "                                                                                                  \n",
            " conv2_block3_2_bn (BatchNormal  (None, 28, 28, 64)  256         ['conv2_block3_2_conv[0][0]']    \n",
            " ization)                                                                                         \n",
            "                                                                                                  \n",
            " conv2_block3_2_relu (Activatio  (None, 28, 28, 64)  0           ['conv2_block3_2_bn[0][0]']      \n",
            " n)                                                                                               \n",
            "                                                                                                  \n",
            " max_pooling2d (MaxPooling2D)   (None, 28, 28, 256)  0           ['conv2_block2_out[0][0]']       \n",
            "                                                                                                  \n",
            " conv2_block3_3_conv (Conv2D)   (None, 28, 28, 256)  16640       ['conv2_block3_2_relu[0][0]']    \n",
            "                                                                                                  \n",
            " conv2_block3_out (Add)         (None, 28, 28, 256)  0           ['max_pooling2d[0][0]',          \n",
            "                                                                  'conv2_block3_3_conv[0][0]']    \n",
            "                                                                                                  \n",
            " conv3_block1_preact_bn (BatchN  (None, 28, 28, 256)  1024       ['conv2_block3_out[0][0]']       \n",
            " ormalization)                                                                                    \n",
            "                                                                                                  \n",
            " conv3_block1_preact_relu (Acti  (None, 28, 28, 256)  0          ['conv3_block1_preact_bn[0][0]'] \n",
            " vation)                                                                                          \n",
            "                                                                                                  \n",
            " conv3_block1_1_conv (Conv2D)   (None, 28, 28, 128)  32768       ['conv3_block1_preact_relu[0][0]'\n",
            "                                                                 ]                                \n",
            "                                                                                                  \n",
            " conv3_block1_1_bn (BatchNormal  (None, 28, 28, 128)  512        ['conv3_block1_1_conv[0][0]']    \n",
            " ization)                                                                                         \n",
            "                                                                                                  \n",
            " conv3_block1_1_relu (Activatio  (None, 28, 28, 128)  0          ['conv3_block1_1_bn[0][0]']      \n",
            " n)                                                                                               \n",
            "                                                                                                  \n",
            " conv3_block1_2_pad (ZeroPaddin  (None, 30, 30, 128)  0          ['conv3_block1_1_relu[0][0]']    \n",
            " g2D)                                                                                             \n",
            "                                                                                                  \n",
            " conv3_block1_2_conv (Conv2D)   (None, 28, 28, 128)  147456      ['conv3_block1_2_pad[0][0]']     \n",
            "                                                                                                  \n",
            " conv3_block1_2_bn (BatchNormal  (None, 28, 28, 128)  512        ['conv3_block1_2_conv[0][0]']    \n",
            " ization)                                                                                         \n",
            "                                                                                                  \n",
            " conv3_block1_2_relu (Activatio  (None, 28, 28, 128)  0          ['conv3_block1_2_bn[0][0]']      \n",
            " n)                                                                                               \n",
            "                                                                                                  \n",
            " conv3_block1_0_conv (Conv2D)   (None, 28, 28, 512)  131584      ['conv3_block1_preact_relu[0][0]'\n",
            "                                                                 ]                                \n",
            "                                                                                                  \n",
            " conv3_block1_3_conv (Conv2D)   (None, 28, 28, 512)  66048       ['conv3_block1_2_relu[0][0]']    \n",
            "                                                                                                  \n",
            " conv3_block1_out (Add)         (None, 28, 28, 512)  0           ['conv3_block1_0_conv[0][0]',    \n",
            "                                                                  'conv3_block1_3_conv[0][0]']    \n",
            "                                                                                                  \n",
            " conv3_block2_preact_bn (BatchN  (None, 28, 28, 512)  2048       ['conv3_block1_out[0][0]']       \n",
            " ormalization)                                                                                    \n",
            "                                                                                                  \n",
            " conv3_block2_preact_relu (Acti  (None, 28, 28, 512)  0          ['conv3_block2_preact_bn[0][0]'] \n",
            " vation)                                                                                          \n",
            "                                                                                                  \n",
            " conv3_block2_1_conv (Conv2D)   (None, 28, 28, 128)  65536       ['conv3_block2_preact_relu[0][0]'\n",
            "                                                                 ]                                \n",
            "                                                                                                  \n",
            " conv3_block2_1_bn (BatchNormal  (None, 28, 28, 128)  512        ['conv3_block2_1_conv[0][0]']    \n",
            " ization)                                                                                         \n",
            "                                                                                                  \n",
            " conv3_block2_1_relu (Activatio  (None, 28, 28, 128)  0          ['conv3_block2_1_bn[0][0]']      \n",
            " n)                                                                                               \n",
            "                                                                                                  \n",
            " conv3_block2_2_pad (ZeroPaddin  (None, 30, 30, 128)  0          ['conv3_block2_1_relu[0][0]']    \n",
            " g2D)                                                                                             \n",
            "                                                                                                  \n",
            " conv3_block2_2_conv (Conv2D)   (None, 28, 28, 128)  147456      ['conv3_block2_2_pad[0][0]']     \n",
            "                                                                                                  \n",
            " conv3_block2_2_bn (BatchNormal  (None, 28, 28, 128)  512        ['conv3_block2_2_conv[0][0]']    \n",
            " ization)                                                                                         \n",
            "                                                                                                  \n",
            " conv3_block2_2_relu (Activatio  (None, 28, 28, 128)  0          ['conv3_block2_2_bn[0][0]']      \n",
            " n)                                                                                               \n",
            "                                                                                                  \n",
            " conv3_block2_3_conv (Conv2D)   (None, 28, 28, 512)  66048       ['conv3_block2_2_relu[0][0]']    \n",
            "                                                                                                  \n",
            " conv3_block2_out (Add)         (None, 28, 28, 512)  0           ['conv3_block1_out[0][0]',       \n",
            "                                                                  'conv3_block2_3_conv[0][0]']    \n",
            "                                                                                                  \n",
            " conv3_block3_preact_bn (BatchN  (None, 28, 28, 512)  2048       ['conv3_block2_out[0][0]']       \n",
            " ormalization)                                                                                    \n",
            "                                                                                                  \n",
            " conv3_block3_preact_relu (Acti  (None, 28, 28, 512)  0          ['conv3_block3_preact_bn[0][0]'] \n",
            " vation)                                                                                          \n",
            "                                                                                                  \n",
            " conv3_block3_1_conv (Conv2D)   (None, 28, 28, 128)  65536       ['conv3_block3_preact_relu[0][0]'\n",
            "                                                                 ]                                \n",
            "                                                                                                  \n",
            " conv3_block3_1_bn (BatchNormal  (None, 28, 28, 128)  512        ['conv3_block3_1_conv[0][0]']    \n",
            " ization)                                                                                         \n",
            "                                                                                                  \n",
            " conv3_block3_1_relu (Activatio  (None, 28, 28, 128)  0          ['conv3_block3_1_bn[0][0]']      \n",
            " n)                                                                                               \n",
            "                                                                                                  \n",
            " conv3_block3_2_pad (ZeroPaddin  (None, 30, 30, 128)  0          ['conv3_block3_1_relu[0][0]']    \n",
            " g2D)                                                                                             \n",
            "                                                                                                  \n",
            " conv3_block3_2_conv (Conv2D)   (None, 28, 28, 128)  147456      ['conv3_block3_2_pad[0][0]']     \n",
            "                                                                                                  \n",
            " conv3_block3_2_bn (BatchNormal  (None, 28, 28, 128)  512        ['conv3_block3_2_conv[0][0]']    \n",
            " ization)                                                                                         \n",
            "                                                                                                  \n",
            " conv3_block3_2_relu (Activatio  (None, 28, 28, 128)  0          ['conv3_block3_2_bn[0][0]']      \n",
            " n)                                                                                               \n",
            "                                                                                                  \n",
            " conv3_block3_3_conv (Conv2D)   (None, 28, 28, 512)  66048       ['conv3_block3_2_relu[0][0]']    \n",
            "                                                                                                  \n",
            " conv3_block3_out (Add)         (None, 28, 28, 512)  0           ['conv3_block2_out[0][0]',       \n",
            "                                                                  'conv3_block3_3_conv[0][0]']    \n",
            "                                                                                                  \n",
            " conv3_block4_preact_bn (BatchN  (None, 28, 28, 512)  2048       ['conv3_block3_out[0][0]']       \n",
            " ormalization)                                                                                    \n",
            "                                                                                                  \n",
            " conv3_block4_preact_relu (Acti  (None, 28, 28, 512)  0          ['conv3_block4_preact_bn[0][0]'] \n",
            " vation)                                                                                          \n",
            "                                                                                                  \n",
            " conv3_block4_1_conv (Conv2D)   (None, 28, 28, 128)  65536       ['conv3_block4_preact_relu[0][0]'\n",
            "                                                                 ]                                \n",
            "                                                                                                  \n",
            " conv3_block4_1_bn (BatchNormal  (None, 28, 28, 128)  512        ['conv3_block4_1_conv[0][0]']    \n",
            " ization)                                                                                         \n",
            "                                                                                                  \n",
            " conv3_block4_1_relu (Activatio  (None, 28, 28, 128)  0          ['conv3_block4_1_bn[0][0]']      \n",
            " n)                                                                                               \n",
            "                                                                                                  \n",
            " conv3_block4_2_pad (ZeroPaddin  (None, 30, 30, 128)  0          ['conv3_block4_1_relu[0][0]']    \n",
            " g2D)                                                                                             \n",
            "                                                                                                  \n",
            " conv3_block4_2_conv (Conv2D)   (None, 14, 14, 128)  147456      ['conv3_block4_2_pad[0][0]']     \n",
            "                                                                                                  \n",
            " conv3_block4_2_bn (BatchNormal  (None, 14, 14, 128)  512        ['conv3_block4_2_conv[0][0]']    \n",
            " ization)                                                                                         \n",
            "                                                                                                  \n",
            " conv3_block4_2_relu (Activatio  (None, 14, 14, 128)  0          ['conv3_block4_2_bn[0][0]']      \n",
            " n)                                                                                               \n",
            "                                                                                                  \n",
            " max_pooling2d_1 (MaxPooling2D)  (None, 14, 14, 512)  0          ['conv3_block3_out[0][0]']       \n",
            "                                                                                                  \n",
            " conv3_block4_3_conv (Conv2D)   (None, 14, 14, 512)  66048       ['conv3_block4_2_relu[0][0]']    \n",
            "                                                                                                  \n",
            " conv3_block4_out (Add)         (None, 14, 14, 512)  0           ['max_pooling2d_1[0][0]',        \n",
            "                                                                  'conv3_block4_3_conv[0][0]']    \n",
            "                                                                                                  \n",
            " conv4_block1_preact_bn (BatchN  (None, 14, 14, 512)  2048       ['conv3_block4_out[0][0]']       \n",
            " ormalization)                                                                                    \n",
            "                                                                                                  \n",
            " conv4_block1_preact_relu (Acti  (None, 14, 14, 512)  0          ['conv4_block1_preact_bn[0][0]'] \n",
            " vation)                                                                                          \n",
            "                                                                                                  \n",
            " conv4_block1_1_conv (Conv2D)   (None, 14, 14, 256)  131072      ['conv4_block1_preact_relu[0][0]'\n",
            "                                                                 ]                                \n",
            "                                                                                                  \n",
            " conv4_block1_1_bn (BatchNormal  (None, 14, 14, 256)  1024       ['conv4_block1_1_conv[0][0]']    \n",
            " ization)                                                                                         \n",
            "                                                                                                  \n",
            " conv4_block1_1_relu (Activatio  (None, 14, 14, 256)  0          ['conv4_block1_1_bn[0][0]']      \n",
            " n)                                                                                               \n",
            "                                                                                                  \n",
            " conv4_block1_2_pad (ZeroPaddin  (None, 16, 16, 256)  0          ['conv4_block1_1_relu[0][0]']    \n",
            " g2D)                                                                                             \n",
            "                                                                                                  \n",
            " conv4_block1_2_conv (Conv2D)   (None, 14, 14, 256)  589824      ['conv4_block1_2_pad[0][0]']     \n",
            "                                                                                                  \n",
            " conv4_block1_2_bn (BatchNormal  (None, 14, 14, 256)  1024       ['conv4_block1_2_conv[0][0]']    \n",
            " ization)                                                                                         \n",
            "                                                                                                  \n",
            " conv4_block1_2_relu (Activatio  (None, 14, 14, 256)  0          ['conv4_block1_2_bn[0][0]']      \n",
            " n)                                                                                               \n",
            "                                                                                                  \n",
            " conv4_block1_0_conv (Conv2D)   (None, 14, 14, 1024  525312      ['conv4_block1_preact_relu[0][0]'\n",
            "                                )                                ]                                \n",
            "                                                                                                  \n",
            " conv4_block1_3_conv (Conv2D)   (None, 14, 14, 1024  263168      ['conv4_block1_2_relu[0][0]']    \n",
            "                                )                                                                 \n",
            "                                                                                                  \n",
            " conv4_block1_out (Add)         (None, 14, 14, 1024  0           ['conv4_block1_0_conv[0][0]',    \n",
            "                                )                                 'conv4_block1_3_conv[0][0]']    \n",
            "                                                                                                  \n",
            " conv4_block2_preact_bn (BatchN  (None, 14, 14, 1024  4096       ['conv4_block1_out[0][0]']       \n",
            " ormalization)                  )                                                                 \n",
            "                                                                                                  \n",
            " conv4_block2_preact_relu (Acti  (None, 14, 14, 1024  0          ['conv4_block2_preact_bn[0][0]'] \n",
            " vation)                        )                                                                 \n",
            "                                                                                                  \n",
            " conv4_block2_1_conv (Conv2D)   (None, 14, 14, 256)  262144      ['conv4_block2_preact_relu[0][0]'\n",
            "                                                                 ]                                \n",
            "                                                                                                  \n",
            " conv4_block2_1_bn (BatchNormal  (None, 14, 14, 256)  1024       ['conv4_block2_1_conv[0][0]']    \n",
            " ization)                                                                                         \n",
            "                                                                                                  \n",
            " conv4_block2_1_relu (Activatio  (None, 14, 14, 256)  0          ['conv4_block2_1_bn[0][0]']      \n",
            " n)                                                                                               \n",
            "                                                                                                  \n",
            " conv4_block2_2_pad (ZeroPaddin  (None, 16, 16, 256)  0          ['conv4_block2_1_relu[0][0]']    \n",
            " g2D)                                                                                             \n",
            "                                                                                                  \n",
            " conv4_block2_2_conv (Conv2D)   (None, 14, 14, 256)  589824      ['conv4_block2_2_pad[0][0]']     \n",
            "                                                                                                  \n",
            " conv4_block2_2_bn (BatchNormal  (None, 14, 14, 256)  1024       ['conv4_block2_2_conv[0][0]']    \n",
            " ization)                                                                                         \n",
            "                                                                                                  \n",
            " conv4_block2_2_relu (Activatio  (None, 14, 14, 256)  0          ['conv4_block2_2_bn[0][0]']      \n",
            " n)                                                                                               \n",
            "                                                                                                  \n",
            " conv4_block2_3_conv (Conv2D)   (None, 14, 14, 1024  263168      ['conv4_block2_2_relu[0][0]']    \n",
            "                                )                                                                 \n",
            "                                                                                                  \n",
            " conv4_block2_out (Add)         (None, 14, 14, 1024  0           ['conv4_block1_out[0][0]',       \n",
            "                                )                                 'conv4_block2_3_conv[0][0]']    \n",
            "                                                                                                  \n",
            " conv4_block3_preact_bn (BatchN  (None, 14, 14, 1024  4096       ['conv4_block2_out[0][0]']       \n",
            " ormalization)                  )                                                                 \n",
            "                                                                                                  \n",
            " conv4_block3_preact_relu (Acti  (None, 14, 14, 1024  0          ['conv4_block3_preact_bn[0][0]'] \n",
            " vation)                        )                                                                 \n",
            "                                                                                                  \n",
            " conv4_block3_1_conv (Conv2D)   (None, 14, 14, 256)  262144      ['conv4_block3_preact_relu[0][0]'\n",
            "                                                                 ]                                \n",
            "                                                                                                  \n",
            " conv4_block3_1_bn (BatchNormal  (None, 14, 14, 256)  1024       ['conv4_block3_1_conv[0][0]']    \n",
            " ization)                                                                                         \n",
            "                                                                                                  \n",
            " conv4_block3_1_relu (Activatio  (None, 14, 14, 256)  0          ['conv4_block3_1_bn[0][0]']      \n",
            " n)                                                                                               \n",
            "                                                                                                  \n",
            " conv4_block3_2_pad (ZeroPaddin  (None, 16, 16, 256)  0          ['conv4_block3_1_relu[0][0]']    \n",
            " g2D)                                                                                             \n",
            "                                                                                                  \n",
            " conv4_block3_2_conv (Conv2D)   (None, 14, 14, 256)  589824      ['conv4_block3_2_pad[0][0]']     \n",
            "                                                                                                  \n",
            " conv4_block3_2_bn (BatchNormal  (None, 14, 14, 256)  1024       ['conv4_block3_2_conv[0][0]']    \n",
            " ization)                                                                                         \n",
            "                                                                                                  \n",
            " conv4_block3_2_relu (Activatio  (None, 14, 14, 256)  0          ['conv4_block3_2_bn[0][0]']      \n",
            " n)                                                                                               \n",
            "                                                                                                  \n",
            " conv4_block3_3_conv (Conv2D)   (None, 14, 14, 1024  263168      ['conv4_block3_2_relu[0][0]']    \n",
            "                                )                                                                 \n",
            "                                                                                                  \n",
            " conv4_block3_out (Add)         (None, 14, 14, 1024  0           ['conv4_block2_out[0][0]',       \n",
            "                                )                                 'conv4_block3_3_conv[0][0]']    \n",
            "                                                                                                  \n",
            " conv4_block4_preact_bn (BatchN  (None, 14, 14, 1024  4096       ['conv4_block3_out[0][0]']       \n",
            " ormalization)                  )                                                                 \n",
            "                                                                                                  \n",
            " conv4_block4_preact_relu (Acti  (None, 14, 14, 1024  0          ['conv4_block4_preact_bn[0][0]'] \n",
            " vation)                        )                                                                 \n",
            "                                                                                                  \n",
            " conv4_block4_1_conv (Conv2D)   (None, 14, 14, 256)  262144      ['conv4_block4_preact_relu[0][0]'\n",
            "                                                                 ]                                \n",
            "                                                                                                  \n",
            " conv4_block4_1_bn (BatchNormal  (None, 14, 14, 256)  1024       ['conv4_block4_1_conv[0][0]']    \n",
            " ization)                                                                                         \n",
            "                                                                                                  \n",
            " conv4_block4_1_relu (Activatio  (None, 14, 14, 256)  0          ['conv4_block4_1_bn[0][0]']      \n",
            " n)                                                                                               \n",
            "                                                                                                  \n",
            " conv4_block4_2_pad (ZeroPaddin  (None, 16, 16, 256)  0          ['conv4_block4_1_relu[0][0]']    \n",
            " g2D)                                                                                             \n",
            "                                                                                                  \n",
            " conv4_block4_2_conv (Conv2D)   (None, 14, 14, 256)  589824      ['conv4_block4_2_pad[0][0]']     \n",
            "                                                                                                  \n",
            " conv4_block4_2_bn (BatchNormal  (None, 14, 14, 256)  1024       ['conv4_block4_2_conv[0][0]']    \n",
            " ization)                                                                                         \n",
            "                                                                                                  \n",
            " conv4_block4_2_relu (Activatio  (None, 14, 14, 256)  0          ['conv4_block4_2_bn[0][0]']      \n",
            " n)                                                                                               \n",
            "                                                                                                  \n",
            " conv4_block4_3_conv (Conv2D)   (None, 14, 14, 1024  263168      ['conv4_block4_2_relu[0][0]']    \n",
            "                                )                                                                 \n",
            "                                                                                                  \n",
            " conv4_block4_out (Add)         (None, 14, 14, 1024  0           ['conv4_block3_out[0][0]',       \n",
            "                                )                                 'conv4_block4_3_conv[0][0]']    \n",
            "                                                                                                  \n",
            " conv4_block5_preact_bn (BatchN  (None, 14, 14, 1024  4096       ['conv4_block4_out[0][0]']       \n",
            " ormalization)                  )                                                                 \n",
            "                                                                                                  \n",
            " conv4_block5_preact_relu (Acti  (None, 14, 14, 1024  0          ['conv4_block5_preact_bn[0][0]'] \n",
            " vation)                        )                                                                 \n",
            "                                                                                                  \n",
            " conv4_block5_1_conv (Conv2D)   (None, 14, 14, 256)  262144      ['conv4_block5_preact_relu[0][0]'\n",
            "                                                                 ]                                \n",
            "                                                                                                  \n",
            " conv4_block5_1_bn (BatchNormal  (None, 14, 14, 256)  1024       ['conv4_block5_1_conv[0][0]']    \n",
            " ization)                                                                                         \n",
            "                                                                                                  \n",
            " conv4_block5_1_relu (Activatio  (None, 14, 14, 256)  0          ['conv4_block5_1_bn[0][0]']      \n",
            " n)                                                                                               \n",
            "                                                                                                  \n",
            " conv4_block5_2_pad (ZeroPaddin  (None, 16, 16, 256)  0          ['conv4_block5_1_relu[0][0]']    \n",
            " g2D)                                                                                             \n",
            "                                                                                                  \n",
            " conv4_block5_2_conv (Conv2D)   (None, 14, 14, 256)  589824      ['conv4_block5_2_pad[0][0]']     \n",
            "                                                                                                  \n",
            " conv4_block5_2_bn (BatchNormal  (None, 14, 14, 256)  1024       ['conv4_block5_2_conv[0][0]']    \n",
            " ization)                                                                                         \n",
            "                                                                                                  \n",
            " conv4_block5_2_relu (Activatio  (None, 14, 14, 256)  0          ['conv4_block5_2_bn[0][0]']      \n",
            " n)                                                                                               \n",
            "                                                                                                  \n",
            " conv4_block5_3_conv (Conv2D)   (None, 14, 14, 1024  263168      ['conv4_block5_2_relu[0][0]']    \n",
            "                                )                                                                 \n",
            "                                                                                                  \n",
            " conv4_block5_out (Add)         (None, 14, 14, 1024  0           ['conv4_block4_out[0][0]',       \n",
            "                                )                                 'conv4_block5_3_conv[0][0]']    \n",
            "                                                                                                  \n",
            " conv4_block6_preact_bn (BatchN  (None, 14, 14, 1024  4096       ['conv4_block5_out[0][0]']       \n",
            " ormalization)                  )                                                                 \n",
            "                                                                                                  \n",
            " conv4_block6_preact_relu (Acti  (None, 14, 14, 1024  0          ['conv4_block6_preact_bn[0][0]'] \n",
            " vation)                        )                                                                 \n",
            "                                                                                                  \n",
            " conv4_block6_1_conv (Conv2D)   (None, 14, 14, 256)  262144      ['conv4_block6_preact_relu[0][0]'\n",
            "                                                                 ]                                \n",
            "                                                                                                  \n",
            " conv4_block6_1_bn (BatchNormal  (None, 14, 14, 256)  1024       ['conv4_block6_1_conv[0][0]']    \n",
            " ization)                                                                                         \n",
            "                                                                                                  \n",
            " conv4_block6_1_relu (Activatio  (None, 14, 14, 256)  0          ['conv4_block6_1_bn[0][0]']      \n",
            " n)                                                                                               \n",
            "                                                                                                  \n",
            " conv4_block6_2_pad (ZeroPaddin  (None, 16, 16, 256)  0          ['conv4_block6_1_relu[0][0]']    \n",
            " g2D)                                                                                             \n",
            "                                                                                                  \n",
            " conv4_block6_2_conv (Conv2D)   (None, 7, 7, 256)    589824      ['conv4_block6_2_pad[0][0]']     \n",
            "                                                                                                  \n",
            " conv4_block6_2_bn (BatchNormal  (None, 7, 7, 256)   1024        ['conv4_block6_2_conv[0][0]']    \n",
            " ization)                                                                                         \n",
            "                                                                                                  \n",
            " conv4_block6_2_relu (Activatio  (None, 7, 7, 256)   0           ['conv4_block6_2_bn[0][0]']      \n",
            " n)                                                                                               \n",
            "                                                                                                  \n",
            " max_pooling2d_2 (MaxPooling2D)  (None, 7, 7, 1024)  0           ['conv4_block5_out[0][0]']       \n",
            "                                                                                                  \n",
            " conv4_block6_3_conv (Conv2D)   (None, 7, 7, 1024)   263168      ['conv4_block6_2_relu[0][0]']    \n",
            "                                                                                                  \n",
            " conv4_block6_out (Add)         (None, 7, 7, 1024)   0           ['max_pooling2d_2[0][0]',        \n",
            "                                                                  'conv4_block6_3_conv[0][0]']    \n",
            "                                                                                                  \n",
            " conv5_block1_preact_bn (BatchN  (None, 7, 7, 1024)  4096        ['conv4_block6_out[0][0]']       \n",
            " ormalization)                                                                                    \n",
            "                                                                                                  \n",
            " conv5_block1_preact_relu (Acti  (None, 7, 7, 1024)  0           ['conv5_block1_preact_bn[0][0]'] \n",
            " vation)                                                                                          \n",
            "                                                                                                  \n",
            " conv5_block1_1_conv (Conv2D)   (None, 7, 7, 512)    524288      ['conv5_block1_preact_relu[0][0]'\n",
            "                                                                 ]                                \n",
            "                                                                                                  \n",
            " conv5_block1_1_bn (BatchNormal  (None, 7, 7, 512)   2048        ['conv5_block1_1_conv[0][0]']    \n",
            " ization)                                                                                         \n",
            "                                                                                                  \n",
            " conv5_block1_1_relu (Activatio  (None, 7, 7, 512)   0           ['conv5_block1_1_bn[0][0]']      \n",
            " n)                                                                                               \n",
            "                                                                                                  \n",
            " conv5_block1_2_pad (ZeroPaddin  (None, 9, 9, 512)   0           ['conv5_block1_1_relu[0][0]']    \n",
            " g2D)                                                                                             \n",
            "                                                                                                  \n",
            " conv5_block1_2_conv (Conv2D)   (None, 7, 7, 512)    2359296     ['conv5_block1_2_pad[0][0]']     \n",
            "                                                                                                  \n",
            " conv5_block1_2_bn (BatchNormal  (None, 7, 7, 512)   2048        ['conv5_block1_2_conv[0][0]']    \n",
            " ization)                                                                                         \n",
            "                                                                                                  \n",
            " conv5_block1_2_relu (Activatio  (None, 7, 7, 512)   0           ['conv5_block1_2_bn[0][0]']      \n",
            " n)                                                                                               \n",
            "                                                                                                  \n",
            " conv5_block1_0_conv (Conv2D)   (None, 7, 7, 2048)   2099200     ['conv5_block1_preact_relu[0][0]'\n",
            "                                                                 ]                                \n",
            "                                                                                                  \n",
            " conv5_block1_3_conv (Conv2D)   (None, 7, 7, 2048)   1050624     ['conv5_block1_2_relu[0][0]']    \n",
            "                                                                                                  \n",
            " conv5_block1_out (Add)         (None, 7, 7, 2048)   0           ['conv5_block1_0_conv[0][0]',    \n",
            "                                                                  'conv5_block1_3_conv[0][0]']    \n",
            "                                                                                                  \n",
            " conv5_block2_preact_bn (BatchN  (None, 7, 7, 2048)  8192        ['conv5_block1_out[0][0]']       \n",
            " ormalization)                                                                                    \n",
            "                                                                                                  \n",
            " conv5_block2_preact_relu (Acti  (None, 7, 7, 2048)  0           ['conv5_block2_preact_bn[0][0]'] \n",
            " vation)                                                                                          \n",
            "                                                                                                  \n",
            " conv5_block2_1_conv (Conv2D)   (None, 7, 7, 512)    1048576     ['conv5_block2_preact_relu[0][0]'\n",
            "                                                                 ]                                \n",
            "                                                                                                  \n",
            " conv5_block2_1_bn (BatchNormal  (None, 7, 7, 512)   2048        ['conv5_block2_1_conv[0][0]']    \n",
            " ization)                                                                                         \n",
            "                                                                                                  \n",
            " conv5_block2_1_relu (Activatio  (None, 7, 7, 512)   0           ['conv5_block2_1_bn[0][0]']      \n",
            " n)                                                                                               \n",
            "                                                                                                  \n",
            " conv5_block2_2_pad (ZeroPaddin  (None, 9, 9, 512)   0           ['conv5_block2_1_relu[0][0]']    \n",
            " g2D)                                                                                             \n",
            "                                                                                                  \n",
            " conv5_block2_2_conv (Conv2D)   (None, 7, 7, 512)    2359296     ['conv5_block2_2_pad[0][0]']     \n",
            "                                                                                                  \n",
            " conv5_block2_2_bn (BatchNormal  (None, 7, 7, 512)   2048        ['conv5_block2_2_conv[0][0]']    \n",
            " ization)                                                                                         \n",
            "                                                                                                  \n",
            " conv5_block2_2_relu (Activatio  (None, 7, 7, 512)   0           ['conv5_block2_2_bn[0][0]']      \n",
            " n)                                                                                               \n",
            "                                                                                                  \n",
            " conv5_block2_3_conv (Conv2D)   (None, 7, 7, 2048)   1050624     ['conv5_block2_2_relu[0][0]']    \n",
            "                                                                                                  \n",
            " conv5_block2_out (Add)         (None, 7, 7, 2048)   0           ['conv5_block1_out[0][0]',       \n",
            "                                                                  'conv5_block2_3_conv[0][0]']    \n",
            "                                                                                                  \n",
            " conv5_block3_preact_bn (BatchN  (None, 7, 7, 2048)  8192        ['conv5_block2_out[0][0]']       \n",
            " ormalization)                                                                                    \n",
            "                                                                                                  \n",
            " conv5_block3_preact_relu (Acti  (None, 7, 7, 2048)  0           ['conv5_block3_preact_bn[0][0]'] \n",
            " vation)                                                                                          \n",
            "                                                                                                  \n",
            " conv5_block3_1_conv (Conv2D)   (None, 7, 7, 512)    1048576     ['conv5_block3_preact_relu[0][0]'\n",
            "                                                                 ]                                \n",
            "                                                                                                  \n",
            " conv5_block3_1_bn (BatchNormal  (None, 7, 7, 512)   2048        ['conv5_block3_1_conv[0][0]']    \n",
            " ization)                                                                                         \n",
            "                                                                                                  \n",
            " conv5_block3_1_relu (Activatio  (None, 7, 7, 512)   0           ['conv5_block3_1_bn[0][0]']      \n",
            " n)                                                                                               \n",
            "                                                                                                  \n",
            " conv5_block3_2_pad (ZeroPaddin  (None, 9, 9, 512)   0           ['conv5_block3_1_relu[0][0]']    \n",
            " g2D)                                                                                             \n",
            "                                                                                                  \n",
            " conv5_block3_2_conv (Conv2D)   (None, 7, 7, 512)    2359296     ['conv5_block3_2_pad[0][0]']     \n",
            "                                                                                                  \n",
            " conv5_block3_2_bn (BatchNormal  (None, 7, 7, 512)   2048        ['conv5_block3_2_conv[0][0]']    \n",
            " ization)                                                                                         \n",
            "                                                                                                  \n",
            " conv5_block3_2_relu (Activatio  (None, 7, 7, 512)   0           ['conv5_block3_2_bn[0][0]']      \n",
            " n)                                                                                               \n",
            "                                                                                                  \n",
            " conv5_block3_3_conv (Conv2D)   (None, 7, 7, 2048)   1050624     ['conv5_block3_2_relu[0][0]']    \n",
            "                                                                                                  \n",
            " conv5_block3_out (Add)         (None, 7, 7, 2048)   0           ['conv5_block2_out[0][0]',       \n",
            "                                                                  'conv5_block3_3_conv[0][0]']    \n",
            "                                                                                                  \n",
            " post_bn (BatchNormalization)   (None, 7, 7, 2048)   8192        ['conv5_block3_out[0][0]']       \n",
            "                                                                                                  \n",
            " post_relu (Activation)         (None, 7, 7, 2048)   0           ['post_bn[0][0]']                \n",
            "                                                                                                  \n",
            " avg_pool (GlobalAveragePooling  (None, 2048)        0           ['post_relu[0][0]']              \n",
            " 2D)                                                                                              \n",
            "                                                                                                  \n",
            " predictions (Dense)            (None, 2)            4098        ['avg_pool[0][0]']               \n",
            "                                                                                                  \n",
            "==================================================================================================\n",
            "Total params: 23,568,898\n",
            "Trainable params: 23,523,458\n",
            "Non-trainable params: 45,440\n",
            "__________________________________________________________________________________________________\n"
          ]
        }
      ]
    },
    {
      "cell_type": "code",
      "source": [
        "model.fit(train_generator, epochs=100, validation_data=test_generator)"
      ],
      "metadata": {
        "colab": {
          "base_uri": "https://localhost:8080/"
        },
        "id": "XTvRldGR_xMC",
        "outputId": "21a00d4c-3478-4338-ca2a-a65e889f3788"
      },
      "execution_count": 5,
      "outputs": [
        {
          "output_type": "stream",
          "name": "stdout",
          "text": [
            "Epoch 1/100\n",
            "180/180 [==============================] - 75s 323ms/step - loss: 0.4392 - accuracy: 0.8222 - val_loss: 1.2878 - val_accuracy: 0.5000\n",
            "Epoch 2/100\n",
            "180/180 [==============================] - 21s 116ms/step - loss: 0.1497 - accuracy: 0.9472 - val_loss: 0.0013 - val_accuracy: 1.0000\n",
            "Epoch 3/100\n",
            "180/180 [==============================] - 21s 116ms/step - loss: 0.0027 - accuracy: 1.0000 - val_loss: 5.6089e-04 - val_accuracy: 1.0000\n",
            "Epoch 4/100\n",
            "180/180 [==============================] - 22s 120ms/step - loss: 0.0011 - accuracy: 1.0000 - val_loss: 1.8813e-04 - val_accuracy: 1.0000\n",
            "Epoch 5/100\n",
            "180/180 [==============================] - 21s 116ms/step - loss: 8.8627e-04 - accuracy: 1.0000 - val_loss: 9.7311e-05 - val_accuracy: 1.0000\n",
            "Epoch 6/100\n",
            "180/180 [==============================] - 21s 116ms/step - loss: 3.6642e-04 - accuracy: 1.0000 - val_loss: 6.3782e-05 - val_accuracy: 1.0000\n",
            "Epoch 7/100\n",
            "180/180 [==============================] - 21s 116ms/step - loss: 2.9609e-04 - accuracy: 1.0000 - val_loss: 4.5582e-05 - val_accuracy: 1.0000\n",
            "Epoch 8/100\n",
            "180/180 [==============================] - 21s 116ms/step - loss: 1.7541e-04 - accuracy: 1.0000 - val_loss: 4.7929e-05 - val_accuracy: 1.0000\n",
            "Epoch 9/100\n",
            "180/180 [==============================] - 21s 116ms/step - loss: 1.5858e-04 - accuracy: 1.0000 - val_loss: 2.3922e-05 - val_accuracy: 1.0000\n",
            "Epoch 10/100\n",
            "180/180 [==============================] - 21s 116ms/step - loss: 1.3622e-04 - accuracy: 1.0000 - val_loss: 1.7073e-05 - val_accuracy: 1.0000\n",
            "Epoch 11/100\n",
            "180/180 [==============================] - 21s 117ms/step - loss: 1.9129e-04 - accuracy: 1.0000 - val_loss: 1.3982e-05 - val_accuracy: 1.0000\n",
            "Epoch 12/100\n",
            "180/180 [==============================] - 21s 116ms/step - loss: 9.3575e-05 - accuracy: 1.0000 - val_loss: 9.9357e-06 - val_accuracy: 1.0000\n",
            "Epoch 13/100\n",
            "180/180 [==============================] - 21s 116ms/step - loss: 8.4166e-05 - accuracy: 1.0000 - val_loss: 8.7964e-06 - val_accuracy: 1.0000\n",
            "Epoch 14/100\n",
            "180/180 [==============================] - 21s 116ms/step - loss: 6.0134e-05 - accuracy: 1.0000 - val_loss: 9.3924e-06 - val_accuracy: 1.0000\n",
            "Epoch 15/100\n",
            "180/180 [==============================] - 21s 116ms/step - loss: 5.0476e-05 - accuracy: 1.0000 - val_loss: 8.5460e-06 - val_accuracy: 1.0000\n",
            "Epoch 16/100\n",
            "180/180 [==============================] - 21s 117ms/step - loss: 3.8237e-05 - accuracy: 1.0000 - val_loss: 9.4401e-06 - val_accuracy: 1.0000\n",
            "Epoch 17/100\n",
            "180/180 [==============================] - 21s 117ms/step - loss: 4.5253e-05 - accuracy: 1.0000 - val_loss: 5.8809e-06 - val_accuracy: 1.0000\n",
            "Epoch 18/100\n",
            "180/180 [==============================] - 21s 117ms/step - loss: 3.6235e-05 - accuracy: 1.0000 - val_loss: 5.6385e-06 - val_accuracy: 1.0000\n",
            "Epoch 19/100\n",
            "180/180 [==============================] - 21s 116ms/step - loss: 3.2054e-05 - accuracy: 1.0000 - val_loss: 3.9766e-06 - val_accuracy: 1.0000\n",
            "Epoch 20/100\n",
            "180/180 [==============================] - 21s 116ms/step - loss: 2.9153e-05 - accuracy: 1.0000 - val_loss: 3.3726e-06 - val_accuracy: 1.0000\n",
            "Epoch 21/100\n",
            "180/180 [==============================] - 21s 116ms/step - loss: 2.0837e-05 - accuracy: 1.0000 - val_loss: 4.7891e-06 - val_accuracy: 1.0000\n",
            "Epoch 22/100\n",
            "180/180 [==============================] - 21s 116ms/step - loss: 2.0480e-05 - accuracy: 1.0000 - val_loss: 3.8186e-06 - val_accuracy: 1.0000\n",
            "Epoch 23/100\n",
            "180/180 [==============================] - 21s 116ms/step - loss: 1.8152e-05 - accuracy: 1.0000 - val_loss: 3.6189e-06 - val_accuracy: 1.0000\n",
            "Epoch 24/100\n",
            "180/180 [==============================] - 21s 116ms/step - loss: 1.7505e-05 - accuracy: 1.0000 - val_loss: 2.7100e-06 - val_accuracy: 1.0000\n",
            "Epoch 25/100\n",
            "180/180 [==============================] - 21s 116ms/step - loss: 1.5192e-05 - accuracy: 1.0000 - val_loss: 2.2441e-06 - val_accuracy: 1.0000\n",
            "Epoch 26/100\n",
            "180/180 [==============================] - 21s 117ms/step - loss: 1.4023e-05 - accuracy: 1.0000 - val_loss: 1.6818e-06 - val_accuracy: 1.0000\n",
            "Epoch 27/100\n",
            "180/180 [==============================] - 21s 116ms/step - loss: 1.3052e-05 - accuracy: 1.0000 - val_loss: 1.3888e-06 - val_accuracy: 1.0000\n",
            "Epoch 28/100\n",
            "180/180 [==============================] - 21s 116ms/step - loss: 1.2656e-05 - accuracy: 1.0000 - val_loss: 1.2110e-06 - val_accuracy: 1.0000\n",
            "Epoch 29/100\n",
            "180/180 [==============================] - 21s 116ms/step - loss: 9.8191e-06 - accuracy: 1.0000 - val_loss: 1.7385e-06 - val_accuracy: 1.0000\n",
            "Epoch 30/100\n",
            "180/180 [==============================] - 21s 116ms/step - loss: 9.9588e-06 - accuracy: 1.0000 - val_loss: 1.1871e-06 - val_accuracy: 1.0000\n",
            "Epoch 31/100\n",
            "180/180 [==============================] - 21s 116ms/step - loss: 7.9131e-06 - accuracy: 1.0000 - val_loss: 1.1384e-06 - val_accuracy: 1.0000\n",
            "Epoch 32/100\n",
            "180/180 [==============================] - 21s 116ms/step - loss: 7.7975e-06 - accuracy: 1.0000 - val_loss: 1.2626e-06 - val_accuracy: 1.0000\n",
            "Epoch 33/100\n",
            "180/180 [==============================] - 21s 116ms/step - loss: 6.1714e-06 - accuracy: 1.0000 - val_loss: 1.0401e-06 - val_accuracy: 1.0000\n",
            "Epoch 34/100\n",
            "180/180 [==============================] - 21s 116ms/step - loss: 5.8747e-06 - accuracy: 1.0000 - val_loss: 9.1691e-07 - val_accuracy: 1.0000\n",
            "Epoch 35/100\n",
            "180/180 [==============================] - 21s 117ms/step - loss: 5.5995e-06 - accuracy: 1.0000 - val_loss: 9.0499e-07 - val_accuracy: 1.0000\n",
            "Epoch 36/100\n",
            "180/180 [==============================] - 21s 116ms/step - loss: 5.1356e-06 - accuracy: 1.0000 - val_loss: 5.1757e-07 - val_accuracy: 1.0000\n",
            "Epoch 37/100\n",
            "180/180 [==============================] - 21s 116ms/step - loss: 4.5836e-06 - accuracy: 1.0000 - val_loss: 6.1989e-07 - val_accuracy: 1.0000\n",
            "Epoch 38/100\n",
            "180/180 [==============================] - 21s 116ms/step - loss: 3.9316e-06 - accuracy: 1.0000 - val_loss: 1.0788e-06 - val_accuracy: 1.0000\n",
            "Epoch 39/100\n",
            "180/180 [==============================] - 21s 116ms/step - loss: 3.8915e-06 - accuracy: 1.0000 - val_loss: 8.6029e-07 - val_accuracy: 1.0000\n",
            "Epoch 40/100\n",
            "180/180 [==============================] - 21s 117ms/step - loss: 3.8312e-06 - accuracy: 1.0000 - val_loss: 4.2816e-07 - val_accuracy: 1.0000\n",
            "Epoch 41/100\n",
            "180/180 [==============================] - 21s 116ms/step - loss: 2.8600e-06 - accuracy: 1.0000 - val_loss: 5.1359e-07 - val_accuracy: 1.0000\n",
            "Epoch 42/100\n",
            "180/180 [==============================] - 21s 116ms/step - loss: 2.7454e-06 - accuracy: 1.0000 - val_loss: 1.1027e-06 - val_accuracy: 1.0000\n",
            "Epoch 43/100\n",
            "180/180 [==============================] - 21s 116ms/step - loss: 2.4567e-06 - accuracy: 1.0000 - val_loss: 4.7485e-07 - val_accuracy: 1.0000\n",
            "Epoch 44/100\n",
            "180/180 [==============================] - 21s 116ms/step - loss: 2.4587e-06 - accuracy: 1.0000 - val_loss: 4.1425e-07 - val_accuracy: 1.0000\n",
            "Epoch 45/100\n",
            "180/180 [==============================] - 21s 116ms/step - loss: 2.0964e-06 - accuracy: 1.0000 - val_loss: 4.1823e-07 - val_accuracy: 1.0000\n",
            "Epoch 46/100\n",
            "180/180 [==============================] - 21s 116ms/step - loss: 1.5351e-06 - accuracy: 1.0000 - val_loss: 5.4637e-07 - val_accuracy: 1.0000\n",
            "Epoch 47/100\n",
            "180/180 [==============================] - 21s 116ms/step - loss: 1.6418e-06 - accuracy: 1.0000 - val_loss: 7.6492e-07 - val_accuracy: 1.0000\n",
            "Epoch 48/100\n",
            "180/180 [==============================] - 21s 116ms/step - loss: 1.3543e-06 - accuracy: 1.0000 - val_loss: 4.3511e-07 - val_accuracy: 1.0000\n",
            "Epoch 49/100\n",
            "180/180 [==============================] - 21s 116ms/step - loss: 1.6474e-06 - accuracy: 1.0000 - val_loss: 3.4571e-07 - val_accuracy: 1.0000\n",
            "Epoch 50/100\n",
            "180/180 [==============================] - 21s 116ms/step - loss: 1.3832e-06 - accuracy: 1.0000 - val_loss: 2.3941e-07 - val_accuracy: 1.0000\n",
            "Epoch 51/100\n",
            "180/180 [==============================] - 21s 116ms/step - loss: 1.1742e-06 - accuracy: 1.0000 - val_loss: 3.6259e-07 - val_accuracy: 1.0000\n",
            "Epoch 52/100\n",
            "180/180 [==============================] - 21s 117ms/step - loss: 1.1775e-06 - accuracy: 1.0000 - val_loss: 2.8014e-07 - val_accuracy: 1.0000\n",
            "Epoch 53/100\n",
            "180/180 [==============================] - 21s 116ms/step - loss: 8.9738e-07 - accuracy: 1.0000 - val_loss: 1.8676e-07 - val_accuracy: 1.0000\n",
            "Epoch 54/100\n",
            "180/180 [==============================] - 21s 116ms/step - loss: 8.4937e-07 - accuracy: 1.0000 - val_loss: 2.5928e-07 - val_accuracy: 1.0000\n",
            "Epoch 55/100\n",
            "180/180 [==============================] - 21s 116ms/step - loss: 8.8248e-07 - accuracy: 1.0000 - val_loss: 3.8048e-07 - val_accuracy: 1.0000\n",
            "Epoch 56/100\n",
            "180/180 [==============================] - 21s 116ms/step - loss: 8.8612e-07 - accuracy: 1.0000 - val_loss: 2.2451e-07 - val_accuracy: 1.0000\n",
            "Epoch 57/100\n",
            "180/180 [==============================] - 21s 116ms/step - loss: 6.6890e-07 - accuracy: 1.0000 - val_loss: 2.5431e-07 - val_accuracy: 1.0000\n",
            "Epoch 58/100\n",
            "180/180 [==============================] - 22s 121ms/step - loss: 5.1624e-07 - accuracy: 1.0000 - val_loss: 5.3445e-07 - val_accuracy: 1.0000\n",
            "Epoch 59/100\n",
            "180/180 [==============================] - 21s 116ms/step - loss: 5.5532e-07 - accuracy: 1.0000 - val_loss: 2.9306e-07 - val_accuracy: 1.0000\n",
            "Epoch 60/100\n",
            "180/180 [==============================] - 21s 116ms/step - loss: 4.2419e-07 - accuracy: 1.0000 - val_loss: 2.5431e-07 - val_accuracy: 1.0000\n",
            "Epoch 61/100\n",
            "180/180 [==============================] - 21s 116ms/step - loss: 4.7319e-07 - accuracy: 1.0000 - val_loss: 3.2882e-07 - val_accuracy: 1.0000\n",
            "Epoch 62/100\n",
            "180/180 [==============================] - 21s 116ms/step - loss: 3.5332e-07 - accuracy: 1.0000 - val_loss: 2.2153e-07 - val_accuracy: 1.0000\n",
            "Epoch 63/100\n",
            "180/180 [==============================] - 21s 116ms/step - loss: 3.6988e-07 - accuracy: 1.0000 - val_loss: 3.5961e-07 - val_accuracy: 1.0000\n",
            "Epoch 64/100\n",
            "180/180 [==============================] - 21s 116ms/step - loss: 3.1723e-07 - accuracy: 1.0000 - val_loss: 1.8279e-07 - val_accuracy: 1.0000\n",
            "Epoch 65/100\n",
            "180/180 [==============================] - 21s 116ms/step - loss: 2.8378e-07 - accuracy: 1.0000 - val_loss: 3.1888e-07 - val_accuracy: 1.0000\n",
            "Epoch 66/100\n",
            "180/180 [==============================] - 21s 116ms/step - loss: 3.1193e-07 - accuracy: 1.0000 - val_loss: 2.5233e-07 - val_accuracy: 1.0000\n",
            "Epoch 67/100\n",
            "180/180 [==============================] - 21s 117ms/step - loss: 2.3743e-07 - accuracy: 1.0000 - val_loss: 2.2451e-07 - val_accuracy: 1.0000\n",
            "Epoch 68/100\n",
            "180/180 [==============================] - 21s 116ms/step - loss: 2.5332e-07 - accuracy: 1.0000 - val_loss: 2.7815e-07 - val_accuracy: 1.0000\n",
            "Epoch 69/100\n",
            "180/180 [==============================] - 21s 116ms/step - loss: 2.0133e-07 - accuracy: 1.0000 - val_loss: 3.0398e-07 - val_accuracy: 1.0000\n",
            "Epoch 70/100\n",
            "180/180 [==============================] - 21s 116ms/step - loss: 0.4014 - accuracy: 0.8639 - val_loss: 77.8591 - val_accuracy: 0.5000\n",
            "Epoch 71/100\n",
            "180/180 [==============================] - 21s 117ms/step - loss: 0.0581 - accuracy: 0.9889 - val_loss: 0.0220 - val_accuracy: 1.0000\n",
            "Epoch 72/100\n",
            "180/180 [==============================] - 21s 116ms/step - loss: 0.0052 - accuracy: 1.0000 - val_loss: 0.0041 - val_accuracy: 1.0000\n",
            "Epoch 73/100\n",
            "180/180 [==============================] - 21s 116ms/step - loss: 0.0018 - accuracy: 1.0000 - val_loss: 7.7298e-04 - val_accuracy: 1.0000\n",
            "Epoch 74/100\n",
            "180/180 [==============================] - 21s 116ms/step - loss: 0.0013 - accuracy: 1.0000 - val_loss: 4.8025e-04 - val_accuracy: 1.0000\n",
            "Epoch 75/100\n",
            "180/180 [==============================] - 21s 117ms/step - loss: 8.5772e-04 - accuracy: 1.0000 - val_loss: 1.9414e-04 - val_accuracy: 1.0000\n",
            "Epoch 76/100\n",
            "180/180 [==============================] - 21s 116ms/step - loss: 7.6111e-04 - accuracy: 1.0000 - val_loss: 1.2063e-04 - val_accuracy: 1.0000\n",
            "Epoch 77/100\n",
            "180/180 [==============================] - 21s 117ms/step - loss: 5.7849e-04 - accuracy: 1.0000 - val_loss: 1.0985e-04 - val_accuracy: 1.0000\n",
            "Epoch 78/100\n",
            "180/180 [==============================] - 21s 116ms/step - loss: 2.9235e-04 - accuracy: 1.0000 - val_loss: 8.7425e-05 - val_accuracy: 1.0000\n",
            "Epoch 79/100\n",
            "180/180 [==============================] - 21s 116ms/step - loss: 3.9355e-04 - accuracy: 1.0000 - val_loss: 1.1390e-04 - val_accuracy: 1.0000\n",
            "Epoch 80/100\n",
            "180/180 [==============================] - 21s 116ms/step - loss: 3.3372e-04 - accuracy: 1.0000 - val_loss: 6.8962e-05 - val_accuracy: 1.0000\n",
            "Epoch 81/100\n",
            "180/180 [==============================] - 21s 116ms/step - loss: 2.6029e-04 - accuracy: 1.0000 - val_loss: 8.0137e-05 - val_accuracy: 1.0000\n",
            "Epoch 82/100\n",
            "180/180 [==============================] - 21s 116ms/step - loss: 2.5715e-04 - accuracy: 1.0000 - val_loss: 5.7889e-05 - val_accuracy: 1.0000\n",
            "Epoch 83/100\n",
            "180/180 [==============================] - 21s 117ms/step - loss: 1.9733e-04 - accuracy: 1.0000 - val_loss: 1.2152e-04 - val_accuracy: 1.0000\n",
            "Epoch 84/100\n",
            "180/180 [==============================] - 21s 116ms/step - loss: 1.5186e-04 - accuracy: 1.0000 - val_loss: 8.2162e-05 - val_accuracy: 1.0000\n",
            "Epoch 85/100\n",
            "180/180 [==============================] - 21s 117ms/step - loss: 1.2824e-04 - accuracy: 1.0000 - val_loss: 1.7237e-04 - val_accuracy: 1.0000\n",
            "Epoch 86/100\n",
            "180/180 [==============================] - 21s 116ms/step - loss: 1.1095e-04 - accuracy: 1.0000 - val_loss: 4.7557e-05 - val_accuracy: 1.0000\n",
            "Epoch 87/100\n",
            "180/180 [==============================] - 21s 117ms/step - loss: 1.1322e-04 - accuracy: 1.0000 - val_loss: 2.4735e-05 - val_accuracy: 1.0000\n",
            "Epoch 88/100\n",
            "180/180 [==============================] - 21s 117ms/step - loss: 8.5708e-05 - accuracy: 1.0000 - val_loss: 4.8381e-05 - val_accuracy: 1.0000\n",
            "Epoch 89/100\n",
            "180/180 [==============================] - 21s 117ms/step - loss: 6.2655e-05 - accuracy: 1.0000 - val_loss: 3.2175e-05 - val_accuracy: 1.0000\n",
            "Epoch 90/100\n",
            "180/180 [==============================] - 21s 117ms/step - loss: 6.8569e-05 - accuracy: 1.0000 - val_loss: 4.3992e-05 - val_accuracy: 1.0000\n",
            "Epoch 91/100\n",
            "180/180 [==============================] - 21s 116ms/step - loss: 5.1367e-05 - accuracy: 1.0000 - val_loss: 3.2032e-05 - val_accuracy: 1.0000\n",
            "Epoch 92/100\n",
            "180/180 [==============================] - 21s 116ms/step - loss: 5.6371e-05 - accuracy: 1.0000 - val_loss: 2.3772e-05 - val_accuracy: 1.0000\n",
            "Epoch 93/100\n",
            "180/180 [==============================] - 21s 116ms/step - loss: 4.6645e-05 - accuracy: 1.0000 - val_loss: 4.6565e-05 - val_accuracy: 1.0000\n",
            "Epoch 94/100\n",
            "180/180 [==============================] - 21s 117ms/step - loss: 4.1713e-05 - accuracy: 1.0000 - val_loss: 1.1335e-04 - val_accuracy: 1.0000\n",
            "Epoch 95/100\n",
            "180/180 [==============================] - 21s 117ms/step - loss: 4.0259e-05 - accuracy: 1.0000 - val_loss: 1.7752e-05 - val_accuracy: 1.0000\n",
            "Epoch 96/100\n",
            "180/180 [==============================] - 21s 116ms/step - loss: 2.7875e-05 - accuracy: 1.0000 - val_loss: 5.9392e-05 - val_accuracy: 1.0000\n",
            "Epoch 97/100\n",
            "180/180 [==============================] - 21s 117ms/step - loss: 3.4058e-05 - accuracy: 1.0000 - val_loss: 6.3971e-04 - val_accuracy: 1.0000\n",
            "Epoch 98/100\n",
            "180/180 [==============================] - 21s 117ms/step - loss: 2.3274e-05 - accuracy: 1.0000 - val_loss: 2.1373e-05 - val_accuracy: 1.0000\n",
            "Epoch 99/100\n",
            "180/180 [==============================] - 21s 117ms/step - loss: 2.5440e-05 - accuracy: 1.0000 - val_loss: 2.6774e-05 - val_accuracy: 1.0000\n",
            "Epoch 100/100\n",
            "180/180 [==============================] - 21s 116ms/step - loss: 1.8944e-05 - accuracy: 1.0000 - val_loss: 2.4441e-05 - val_accuracy: 1.0000\n"
          ]
        },
        {
          "output_type": "execute_result",
          "data": {
            "text/plain": [
              "<keras.callbacks.History at 0x7fac8f7a2290>"
            ]
          },
          "metadata": {},
          "execution_count": 5
        }
      ]
    },
    {
      "cell_type": "code",
      "source": [
        "print(\"-- Evaluate --\")\n",
        "scores = model.evaluate(test_generator)\n",
        "print(\"%s: %.2f%%\" %(model.metrics_names[1], scores[1]*100))"
      ],
      "metadata": {
        "id": "CdkTqwVROEyD",
        "colab": {
          "base_uri": "https://localhost:8080/"
        },
        "outputId": "14fd5b35-a801-425b-d673-8a733eaf0a98"
      },
      "execution_count": 6,
      "outputs": [
        {
          "output_type": "stream",
          "name": "stdout",
          "text": [
            "-- Evaluate --\n",
            "60/60 [==============================] - 2s 32ms/step - loss: 2.4441e-05 - accuracy: 1.0000\n",
            "accuracy: 100.00%\n"
          ]
        }
      ]
    },
    {
      "cell_type": "code",
      "source": [
        "import matplotlib.pyplot as plt"
      ],
      "metadata": {
        "id": "MEGe8D88OFjA"
      },
      "execution_count": 7,
      "outputs": []
    },
    {
      "cell_type": "code",
      "source": [
        "img_path = '/content/Lee_dataset/MyDrive/Lee_final/001/0/001.png'\n",
        "img = tf.keras.preprocessing.image.load_img(img_path, target_size=(224, 224))\n",
        "plt.imshow(img)\n",
        "plt.show()"
      ],
      "metadata": {
        "id": "Wmuqg4XhORwG",
        "colab": {
          "base_uri": "https://localhost:8080/",
          "height": 269
        },
        "outputId": "f44f6163-f426-4615-cec8-ffec98b0f242"
      },
      "execution_count": 8,
      "outputs": [
        {
          "output_type": "display_data",
          "data": {
            "image/png": "[encoded data removed]",
            "text/plain": [
              "<Figure size 432x288 with 1 Axes>"
            ]
          },
          "metadata": {
            "needs_background": "light"
          }
        }
      ]
    },
    {
      "cell_type": "code",
      "source": [
        "val_datagen = tf.keras.preprocessing.image.ImageDataGenerator(rescale=1./255)\n",
        "\n",
        "val_generator = val_datagen.flow_from_directory(\n",
        "        '/content/Lee_dataset/MyDrive/Lee_final/001/',\n",
        "        target_size=(pictureWeightHeightSize, pictureWeightHeightSize),    \n",
        "        batch_size=numberOfClass,\n",
        "        class_mode='categorical')\n",
        "print(\"-- Predict --\")\n",
        "output = model.predict(val_generator)\n",
        "np.set_printoptions(formatter={'float': lambda x: \"{0:0.3f}\".format(x)})\n",
        "print(val_generator.filenames)\n",
        "print(val_generator.class_indices)\n",
        "print(output)"
      ],
      "metadata": {
        "id": "XYfEVtnBlo90",
        "colab": {
          "base_uri": "https://localhost:8080/"
        },
        "outputId": "019df5ad-5192-4b4b-aeaa-aec9a3ea2fc6"
      },
      "execution_count": 9,
      "outputs": [
        {
          "output_type": "stream",
          "name": "stdout",
          "text": [
            "Found 1 images belonging to 1 classes.\n",
            "-- Predict --\n",
            "['0/001.png']\n",
            "{'0': 0}\n",
            "[[1.000 0.000]]\n"
          ]
        }
      ]
    },
    {
      "cell_type": "code",
      "source": [
        "val_datagen = tf.keras.preprocessing.image.ImageDataGenerator(rescale=1./255)\n",
        "\n",
        "val_generator = val_datagen.flow_from_directory(\n",
        "        '/content/Lee_dataset/MyDrive/Lee_final/002/',\n",
        "        target_size=(pictureWeightHeightSize, pictureWeightHeightSize),    \n",
        "        batch_size=numberOfClass,\n",
        "        class_mode='categorical')\n",
        "print(\"-- Predict --\")\n",
        "output = model.predict(val_generator)\n",
        "np.set_printoptions(formatter={'float': lambda x: \"{0:0.3f}\".format(x)})\n",
        "print(val_generator.filenames)\n",
        "print(val_generator.class_indices)\n",
        "print(output)"
      ],
      "metadata": {
        "id": "D4-uTOIY2LWL",
        "colab": {
          "base_uri": "https://localhost:8080/"
        },
        "outputId": "f320b0f0-a3dc-4526-ca39-8ed762204c06"
      },
      "execution_count": 10,
      "outputs": [
        {
          "output_type": "stream",
          "name": "stdout",
          "text": [
            "Found 1 images belonging to 1 classes.\n",
            "-- Predict --\n",
            "['0/002.png']\n",
            "{'0': 0}\n",
            "[[1.000 0.000]]\n"
          ]
        }
      ]
    },
    {
      "cell_type": "code",
      "source": [
        "val_datagen = tf.keras.preprocessing.image.ImageDataGenerator(rescale=1./255)\n",
        "\n",
        "val_generator = val_datagen.flow_from_directory(\n",
        "        '/content/Lee_dataset/MyDrive/Lee_final/003/',\n",
        "        target_size=(pictureWeightHeightSize, pictureWeightHeightSize),    \n",
        "        batch_size=numberOfClass,\n",
        "        class_mode='categorical')\n",
        "print(\"-- Predict --\")\n",
        "output = model.predict(val_generator)\n",
        "np.set_printoptions(formatter={'float': lambda x: \"{0:0.3f}\".format(x)})\n",
        "print(val_generator.filenames)\n",
        "print(val_generator.class_indices)\n",
        "print(output)"
      ],
      "metadata": {
        "id": "wY_ZQkak2Lyx",
        "colab": {
          "base_uri": "https://localhost:8080/"
        },
        "outputId": "e7d6812d-27c0-4063-d930-871cf351d1ee"
      },
      "execution_count": 11,
      "outputs": [
        {
          "output_type": "stream",
          "name": "stdout",
          "text": [
            "Found 1 images belonging to 1 classes.\n",
            "-- Predict --\n",
            "['0/003.png']\n",
            "{'0': 0}\n",
            "[[1.000 0.000]]\n"
          ]
        }
      ]
    },
    {
      "cell_type": "code",
      "source": [
        "val_datagen = tf.keras.preprocessing.image.ImageDataGenerator(rescale=1./255)\n",
        "\n",
        "val_generator = val_datagen.flow_from_directory(\n",
        "        '/content/Lee_dataset/MyDrive/Lee_final/004/',\n",
        "        target_size=(pictureWeightHeightSize, pictureWeightHeightSize),    \n",
        "        batch_size=numberOfClass,\n",
        "        class_mode='categorical')\n",
        "print(\"-- Predict --\")\n",
        "output = model.predict(val_generator)\n",
        "np.set_printoptions(formatter={'float': lambda x: \"{0:0.3f}\".format(x)})\n",
        "print(val_generator.filenames)\n",
        "print(val_generator.class_indices)\n",
        "print(output)"
      ],
      "metadata": {
        "id": "ngd8fpB32MCp",
        "colab": {
          "base_uri": "https://localhost:8080/"
        },
        "outputId": "d805abff-310c-493a-97cb-85fff7165ebe"
      },
      "execution_count": 12,
      "outputs": [
        {
          "output_type": "stream",
          "name": "stdout",
          "text": [
            "Found 1 images belonging to 1 classes.\n",
            "-- Predict --\n",
            "['0/004.png']\n",
            "{'0': 0}\n",
            "[[1.000 0.000]]\n"
          ]
        }
      ]
    },
    {
      "cell_type": "code",
      "source": [
        "val_datagen = tf.keras.preprocessing.image.ImageDataGenerator(rescale=1./255)\n",
        "\n",
        "val_generator = val_datagen.flow_from_directory(\n",
        "        '/content/Lee_dataset/MyDrive/Lee_final/005/',\n",
        "        target_size=(pictureWeightHeightSize, pictureWeightHeightSize),    \n",
        "        batch_size=numberOfClass,\n",
        "        class_mode='categorical')\n",
        "print(\"-- Predict --\")\n",
        "output = model.predict(val_generator)\n",
        "np.set_printoptions(formatter={'float': lambda x: \"{0:0.3f}\".format(x)})\n",
        "print(val_generator.filenames)\n",
        "print(val_generator.class_indices)\n",
        "print(output)"
      ],
      "metadata": {
        "id": "34jvk1km2MOt",
        "colab": {
          "base_uri": "https://localhost:8080/"
        },
        "outputId": "8f6ffc54-1250-40f8-d61f-ef0f4541d3f3"
      },
      "execution_count": 13,
      "outputs": [
        {
          "output_type": "stream",
          "name": "stdout",
          "text": [
            "Found 1 images belonging to 1 classes.\n",
            "-- Predict --\n",
            "['0/005.png']\n",
            "{'0': 0}\n",
            "[[0.000 1.000]]\n"
          ]
        }
      ]
    },
    {
      "cell_type": "code",
      "source": [
        "val_datagen = tf.keras.preprocessing.image.ImageDataGenerator(rescale=1./255)\n",
        "\n",
        "val_generator = val_datagen.flow_from_directory(\n",
        "        '/content/Lee_dataset/MyDrive/Lee_final/006/',\n",
        "        target_size=(pictureWeightHeightSize, pictureWeightHeightSize),    \n",
        "        batch_size=numberOfClass,\n",
        "        class_mode='categorical')\n",
        "print(\"-- Predict --\")\n",
        "output = model.predict(val_generator)\n",
        "np.set_printoptions(formatter={'float': lambda x: \"{0:0.3f}\".format(x)})\n",
        "print(val_generator.filenames)\n",
        "print(val_generator.class_indices)\n",
        "print(output)"
      ],
      "metadata": {
        "id": "Gik7eFEj2Mam",
        "colab": {
          "base_uri": "https://localhost:8080/"
        },
        "outputId": "4adbb73a-2802-4640-92b2-fef33d0abb3d"
      },
      "execution_count": 14,
      "outputs": [
        {
          "output_type": "stream",
          "name": "stdout",
          "text": [
            "Found 1 images belonging to 1 classes.\n",
            "-- Predict --\n",
            "['0/006.png']\n",
            "{'0': 0}\n",
            "[[0.000 1.000]]\n"
          ]
        }
      ]
    },
    {
      "cell_type": "code",
      "source": [
        "val_datagen = tf.keras.preprocessing.image.ImageDataGenerator(rescale=1./255)\n",
        "\n",
        "val_generator = val_datagen.flow_from_directory(\n",
        "        '/content/Lee_dataset/MyDrive/Lee_final/007/',\n",
        "        target_size=(pictureWeightHeightSize, pictureWeightHeightSize),    \n",
        "        batch_size=numberOfClass,\n",
        "        class_mode='categorical')\n",
        "print(\"-- Predict --\")\n",
        "output = model.predict(val_generator)\n",
        "np.set_printoptions(formatter={'float': lambda x: \"{0:0.3f}\".format(x)})\n",
        "print(val_generator.filenames)\n",
        "print(val_generator.class_indices)\n",
        "print(output)"
      ],
      "metadata": {
        "id": "PoTA8d5o2MlH",
        "colab": {
          "base_uri": "https://localhost:8080/"
        },
        "outputId": "5ca91c4a-81db-47a9-e9ee-5fb2c1130d91"
      },
      "execution_count": 15,
      "outputs": [
        {
          "output_type": "stream",
          "name": "stdout",
          "text": [
            "Found 1 images belonging to 1 classes.\n",
            "-- Predict --\n",
            "['0/007.png']\n",
            "{'0': 0}\n",
            "[[0.000 1.000]]\n"
          ]
        }
      ]
    },
    {
      "cell_type": "code",
      "source": [
        "val_datagen = tf.keras.preprocessing.image.ImageDataGenerator(rescale=1./255)\n",
        "\n",
        "val_generator = val_datagen.flow_from_directory(\n",
        "        '/content/Lee_dataset/MyDrive/Lee_final/008/',\n",
        "        target_size=(pictureWeightHeightSize, pictureWeightHeightSize),    \n",
        "        batch_size=numberOfClass,\n",
        "        class_mode='categorical')\n",
        "print(\"-- Predict --\")\n",
        "output = model.predict(val_generator)\n",
        "np.set_printoptions(formatter={'float': lambda x: \"{0:0.3f}\".format(x)})\n",
        "print(val_generator.filenames)\n",
        "print(val_generator.class_indices)\n",
        "print(output)"
      ],
      "metadata": {
        "id": "EVh1gPGG2MvD",
        "colab": {
          "base_uri": "https://localhost:8080/"
        },
        "outputId": "4ead8e0c-1192-40cb-9b04-efa29e027365"
      },
      "execution_count": 16,
      "outputs": [
        {
          "output_type": "stream",
          "name": "stdout",
          "text": [
            "Found 1 images belonging to 1 classes.\n",
            "-- Predict --\n",
            "['0/008.png']\n",
            "{'0': 0}\n",
            "[[0.000 1.000]]\n"
          ]
        }
      ]
    },
    {
      "cell_type": "code",
      "source": [
        "val_datagen = tf.keras.preprocessing.image.ImageDataGenerator(rescale=1./255)\n",
        "\n",
        "val_generator = val_datagen.flow_from_directory(\n",
        "        '/content/Lee_dataset/MyDrive/Lee_final/009/',\n",
        "        target_size=(pictureWeightHeightSize, pictureWeightHeightSize),    \n",
        "        batch_size=numberOfClass,\n",
        "        class_mode='categorical')\n",
        "print(\"-- Predict --\")\n",
        "output = model.predict(val_generator)\n",
        "np.set_printoptions(formatter={'float': lambda x: \"{0:0.3f}\".format(x)})\n",
        "print(val_generator.filenames)\n",
        "print(val_generator.class_indices)\n",
        "print(output)"
      ],
      "metadata": {
        "id": "X9V9G8t62M47",
        "colab": {
          "base_uri": "https://localhost:8080/"
        },
        "outputId": "2d223472-48ea-44af-e294-db7c773d86f7"
      },
      "execution_count": 17,
      "outputs": [
        {
          "output_type": "stream",
          "name": "stdout",
          "text": [
            "Found 1 images belonging to 1 classes.\n",
            "-- Predict --\n",
            "['0/009.png']\n",
            "{'0': 0}\n",
            "[[0.998 0.002]]\n"
          ]
        }
      ]
    },
    {
      "cell_type": "code",
      "source": [
        "val_datagen = tf.keras.preprocessing.image.ImageDataGenerator(rescale=1./255)\n",
        "\n",
        "val_generator = val_datagen.flow_from_directory(\n",
        "        '/content/Lee_dataset/MyDrive/Lee_final/010/',\n",
        "        target_size=(pictureWeightHeightSize, pictureWeightHeightSize),    \n",
        "        batch_size=numberOfClass,\n",
        "        class_mode='categorical')\n",
        "print(\"-- Predict --\")\n",
        "output = model.predict(val_generator)\n",
        "np.set_printoptions(formatter={'float': lambda x: \"{0:0.3f}\".format(x)})\n",
        "print(val_generator.filenames)\n",
        "print(val_generator.class_indices)\n",
        "print(output)"
      ],
      "metadata": {
        "id": "bCCPArrp2NCd",
        "colab": {
          "base_uri": "https://localhost:8080/"
        },
        "outputId": "783cb6a3-dd61-4a59-a56a-e4e8c035aec2"
      },
      "execution_count": 18,
      "outputs": [
        {
          "output_type": "stream",
          "name": "stdout",
          "text": [
            "Found 1 images belonging to 1 classes.\n",
            "-- Predict --\n",
            "['0/010.png']\n",
            "{'0': 0}\n",
            "[[0.999 0.001]]\n"
          ]
        }
      ]
    },
    {
      "cell_type": "code",
      "source": [
        "val_datagen = tf.keras.preprocessing.image.ImageDataGenerator(rescale=1./255)\n",
        "\n",
        "val_generator = val_datagen.flow_from_directory(\n",
        "        '/content/Lee_dataset/MyDrive/Lee_final/011/',\n",
        "        target_size=(pictureWeightHeightSize, pictureWeightHeightSize),    \n",
        "        batch_size=numberOfClass,\n",
        "        class_mode='categorical')\n",
        "print(\"-- Predict --\")\n",
        "output = model.predict(val_generator)\n",
        "np.set_printoptions(formatter={'float': lambda x: \"{0:0.3f}\".format(x)})\n",
        "print(val_generator.filenames)\n",
        "print(val_generator.class_indices)\n",
        "print(output)"
      ],
      "metadata": {
        "colab": {
          "base_uri": "https://localhost:8080/"
        },
        "id": "r8trXat_7o_C",
        "outputId": "3ec7a7aa-732d-47d1-9430-aa2d847c0f58"
      },
      "execution_count": 19,
      "outputs": [
        {
          "output_type": "stream",
          "name": "stdout",
          "text": [
            "Found 1 images belonging to 1 classes.\n",
            "-- Predict --\n",
            "['0/011.png']\n",
            "{'0': 0}\n",
            "[[1.000 0.000]]\n"
          ]
        }
      ]
    },
    {
      "cell_type": "code",
      "source": [
        "val_datagen = tf.keras.preprocessing.image.ImageDataGenerator(rescale=1./255)\n",
        "\n",
        "val_generator = val_datagen.flow_from_directory(\n",
        "        '/content/Lee_dataset/MyDrive/Lee_final/012/',\n",
        "        target_size=(pictureWeightHeightSize, pictureWeightHeightSize),    \n",
        "        batch_size=numberOfClass,\n",
        "        class_mode='categorical')\n",
        "print(\"-- Predict --\")\n",
        "output = model.predict(val_generator)\n",
        "np.set_printoptions(formatter={'float': lambda x: \"{0:0.3f}\".format(x)})\n",
        "print(val_generator.filenames)\n",
        "print(val_generator.class_indices)\n",
        "print(output)"
      ],
      "metadata": {
        "colab": {
          "base_uri": "https://localhost:8080/"
        },
        "id": "5AN5IL3T7pWH",
        "outputId": "8e051854-8147-45ba-ef3c-ab4f12719014"
      },
      "execution_count": 20,
      "outputs": [
        {
          "output_type": "stream",
          "name": "stdout",
          "text": [
            "Found 1 images belonging to 1 classes.\n",
            "-- Predict --\n",
            "['0/012.png']\n",
            "{'0': 0}\n",
            "[[1.000 0.000]]\n"
          ]
        }
      ]
    },
    {
      "cell_type": "code",
      "source": [
        "val_datagen = tf.keras.preprocessing.image.ImageDataGenerator(rescale=1./255)\n",
        "\n",
        "val_generator = val_datagen.flow_from_directory(\n",
        "        '/content/Lee_dataset/MyDrive/Lee_final/013/',\n",
        "        target_size=(pictureWeightHeightSize, pictureWeightHeightSize),    \n",
        "        batch_size=numberOfClass,\n",
        "        class_mode='categorical')\n",
        "print(\"-- Predict --\")\n",
        "output = model.predict(val_generator)\n",
        "np.set_printoptions(formatter={'float': lambda x: \"{0:0.3f}\".format(x)})\n",
        "print(val_generator.filenames)\n",
        "print(val_generator.class_indices)\n",
        "print(output)"
      ],
      "metadata": {
        "colab": {
          "base_uri": "https://localhost:8080/"
        },
        "id": "m07ybdNW7phJ",
        "outputId": "614de281-311c-4235-f936-8abcb7391b29"
      },
      "execution_count": 21,
      "outputs": [
        {
          "output_type": "stream",
          "name": "stdout",
          "text": [
            "Found 1 images belonging to 1 classes.\n",
            "-- Predict --\n",
            "['013/013.png']\n",
            "{'013': 0}\n",
            "[[0.891 0.109]]\n"
          ]
        }
      ]
    },
    {
      "cell_type": "code",
      "source": [
        "val_datagen = tf.keras.preprocessing.image.ImageDataGenerator(rescale=1./255)\n",
        "\n",
        "val_generator = val_datagen.flow_from_directory(\n",
        "        '/content/Lee_dataset/MyDrive/Lee_final/014/',\n",
        "        target_size=(pictureWeightHeightSize, pictureWeightHeightSize),    \n",
        "        batch_size=numberOfClass,\n",
        "        class_mode='categorical')\n",
        "print(\"-- Predict --\")\n",
        "output = model.predict(val_generator)\n",
        "np.set_printoptions(formatter={'float': lambda x: \"{0:0.3f}\".format(x)})\n",
        "print(val_generator.filenames)\n",
        "print(val_generator.class_indices)\n",
        "print(output)"
      ],
      "metadata": {
        "colab": {
          "base_uri": "https://localhost:8080/"
        },
        "id": "x2YCd8uO7pp8",
        "outputId": "e952cb98-b45c-40f0-e9ef-b38f8712be57"
      },
      "execution_count": 22,
      "outputs": [
        {
          "output_type": "stream",
          "name": "stdout",
          "text": [
            "Found 1 images belonging to 1 classes.\n",
            "-- Predict --\n",
            "['0/014.png']\n",
            "{'0': 0}\n",
            "[[0.021 0.979]]\n"
          ]
        }
      ]
    },
    {
      "cell_type": "code",
      "source": [
        "val_datagen = tf.keras.preprocessing.image.ImageDataGenerator(rescale=1./255)\n",
        "\n",
        "val_generator = val_datagen.flow_from_directory(\n",
        "        '/content/Lee_dataset/MyDrive/Lee_final/015/',\n",
        "        target_size=(pictureWeightHeightSize, pictureWeightHeightSize),    \n",
        "        batch_size=numberOfClass,\n",
        "        class_mode='categorical')\n",
        "print(\"-- Predict --\")\n",
        "output = model.predict(val_generator)\n",
        "np.set_printoptions(formatter={'float': lambda x: \"{0:0.3f}\".format(x)})\n",
        "print(val_generator.filenames)\n",
        "print(val_generator.class_indices)\n",
        "print(output)"
      ],
      "metadata": {
        "colab": {
          "base_uri": "https://localhost:8080/"
        },
        "id": "1VycsWFx7pz0",
        "outputId": "ba3a4460-e5c5-4e09-e216-1c04907b3f37"
      },
      "execution_count": 23,
      "outputs": [
        {
          "output_type": "stream",
          "name": "stdout",
          "text": [
            "Found 1 images belonging to 1 classes.\n",
            "-- Predict --\n",
            "['0/015.png']\n",
            "{'0': 0}\n",
            "[[0.708 0.292]]\n"
          ]
        }
      ]
    },
    {
      "cell_type": "code",
      "source": [
        "val_datagen = tf.keras.preprocessing.image.ImageDataGenerator(rescale=1./255)\n",
        "\n",
        "val_generator = val_datagen.flow_from_directory(\n",
        "        '/content/Lee_dataset/MyDrive/Lee_final/016/',\n",
        "        target_size=(pictureWeightHeightSize, pictureWeightHeightSize),    \n",
        "        batch_size=numberOfClass,\n",
        "        class_mode='categorical')\n",
        "print(\"-- Predict --\")\n",
        "output = model.predict(val_generator)\n",
        "np.set_printoptions(formatter={'float': lambda x: \"{0:0.3f}\".format(x)})\n",
        "print(val_generator.filenames)\n",
        "print(val_generator.class_indices)\n",
        "print(output)"
      ],
      "metadata": {
        "colab": {
          "base_uri": "https://localhost:8080/"
        },
        "id": "psqIWkiU7p_d",
        "outputId": "6ced0c44-13cc-4313-f441-209daa501d03"
      },
      "execution_count": 24,
      "outputs": [
        {
          "output_type": "stream",
          "name": "stdout",
          "text": [
            "Found 1 images belonging to 1 classes.\n",
            "-- Predict --\n",
            "['0/016.png']\n",
            "{'0': 0}\n",
            "[[0.999 0.001]]\n"
          ]
        }
      ]
    }
  ]
}