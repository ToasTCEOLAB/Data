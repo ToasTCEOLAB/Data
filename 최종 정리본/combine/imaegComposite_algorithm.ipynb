{
  "nbformat": 4,
  "nbformat_minor": 0,
  "metadata": {
    "colab": {
      "provenance": [],
      "collapsed_sections": [
        "BRtX9dc6x0ko",
        "Dr5L-sL7zFSQ"
      ],
      "toc_visible": true
    },
    "kernelspec": {
      "name": "python3",
      "display_name": "Python 3"
    },
    "language_info": {
      "name": "python"
    }
  },
  "cells": [
    {
      "cell_type": "markdown",
      "source": [
        "#init\n"
      ],
      "metadata": {
        "id": "BRtX9dc6x0ko"
      }
    },
    {
      "cell_type": "code",
      "execution_count": 1,
      "metadata": {
        "id": "jNZp3nlowMa0"
      },
      "outputs": [],
      "source": [
        "import cv2\n",
        "from PIL import Image\n",
        "import numpy as np\n",
        "from google.colab.patches import cv2_imshow\n",
        "import matplotlib.pyplot as plt"
      ]
    },
    {
      "cell_type": "code",
      "source": [
        "from google.colab import drive\n",
        "drive.mount('/content/drive')"
      ],
      "metadata": {
        "colab": {
          "base_uri": "https://localhost:8080/"
        },
        "id": "7Dovg7aCxvUL",
        "outputId": "512c3360-b45c-4690-e543-5da2a78c4ee9"
      },
      "execution_count": 2,
      "outputs": [
        {
          "output_type": "stream",
          "name": "stdout",
          "text": [
            "Mounted at /content/drive\n"
          ]
        }
      ]
    },
    {
      "cell_type": "markdown",
      "source": [
        "# Done\n"
      ],
      "metadata": {
        "id": "d-qDPzu1zGLQ"
      }
    },
    {
      "cell_type": "code",
      "source": [
        "black = cv2.imread(\"/content/drive/MyDrive/be_Composited_image/black.png\")\n",
        "red = cv2.imread(\"/content/drive/MyDrive/be_Composited_image/red.png\")\n",
        "red = cv2.resize(red,(453,308))"
      ],
      "metadata": {
        "id": "n5ZHtJVKzGs5"
      },
      "execution_count": 265,
      "outputs": []
    },
    {
      "cell_type": "code",
      "source": [
        "ret ,mask = cv2.threshold(red,150,255,cv2.THRESH_BINARY_INV)\n",
        "b,g,r = cv2.split(mask)\n",
        "\n",
        "bbg_img = cv2.merge((r,r,b))\n",
        "w_img = cv2.merge((g,g,g))\n",
        "\n",
        "cv2_imshow(w_img)\n",
        "cv2_imshow(bbg_img)"
      ],
      "metadata": {
        "colab": {
          "base_uri": "https://localhost:8080/",
          "height": 633
        },
        "id": "pujKu_i5y_Gy",
        "outputId": "0a80aad0-b18a-4ada-d89e-4744361de8e3"
      },
      "execution_count": 266,
      "outputs": [
        {
          "output_type": "display_data",
          "data": {
            "text/plain": [
              "<PIL.Image.Image image mode=RGB size=453x308 at 0x7F11C9DCC3D0>"
            ],
            "image/png": "[encoded data removed]"
          },
          "metadata": {}
        },
        {
          "output_type": "display_data",
          "data": {
            "text/plain": [
              "<PIL.Image.Image image mode=RGB size=453x308 at 0x7F11C9DCC490>"
            ],
            "image/png": "[encoded data removed]"
          },
          "metadata": {}
        }
      ]
    },
    {
      "cell_type": "code",
      "source": [
        "b = 255-black\n",
        "ret ,w_mask = cv2.threshold(cv2.add(b,w_img),150,255,cv2.THRESH_BINARY_INV)\n",
        "cv2_imshow(cv2.add(w_mask,bbg_img))"
      ],
      "metadata": {
        "colab": {
          "base_uri": "https://localhost:8080/",
          "height": 325
        },
        "id": "e1T96dOYzsgL",
        "outputId": "368b1eb4-a496-4be3-a956-c25264e1e225"
      },
      "execution_count": 267,
      "outputs": [
        {
          "output_type": "display_data",
          "data": {
            "text/plain": [
              "<PIL.Image.Image image mode=RGB size=453x308 at 0x7F11C9DB4050>"
            ],
            "image/png": "[encoded data removed]"
          },
          "metadata": {}
        }
      ]
    }
  ]
}