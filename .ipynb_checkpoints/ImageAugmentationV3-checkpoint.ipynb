{
 "cells": [
  {
   "cell_type": "code",
   "execution_count": 1,
   "id": "1c6a7474",
   "metadata": {},
   "outputs": [],
   "source": [
    "# example of horizontal shift image augmentation\n",
    "from numpy import expand_dims\n",
    "from keras.preprocessing.image import load_img\n",
    "from keras.preprocessing.image import img_to_array\n",
    "from keras.preprocessing.image import ImageDataGenerator"
   ]
  },
  {
   "cell_type": "code",
   "execution_count": 2,
   "id": "e0dd1100",
   "metadata": {},
   "outputs": [],
   "source": [
    "from matplotlib import pyplot\n",
    "import cv2\n"
   ]
  },
  {
   "cell_type": "code",
   "execution_count": 3,
   "id": "d774b654",
   "metadata": {},
   "outputs": [],
   "source": [
    "import os \n",
    "\n",
    "listOfFolderName = []\n",
    "\n",
    "def search(dirname):\n",
    "    filenames = os.listdir(dirname)\n",
    "    for filename in filenames:\n",
    "        #full_filename = os.path.join(dirname, filename)\n",
    "        listOfFolderName.append(filename)\n",
    "\n",
    "search(\"C:/Users/user/Desktop/LearningSet/\")"
   ]
  },
  {
   "cell_type": "code",
   "execution_count": 6,
   "id": "f22cadde",
   "metadata": {},
   "outputs": [
    {
     "data": {
      "text/plain": [
       "['N_Data_Inside (10).jpg',\n",
       " 'N_Data_Inside (12).jpg',\n",
       " 'N_Data_Inside (13).jpg',\n",
       " 'N_Data_Inside (14).jpg',\n",
       " 'N_Data_Inside (15).jpg',\n",
       " 'N_Data_Inside (17).jpg',\n",
       " 'N_Data_Inside (25).jpg',\n",
       " 'N_Data_Inside (27).jpg',\n",
       " 'N_Data_Inside (30).jpg',\n",
       " 'N_Data_Inside (34).jpg',\n",
       " 'N_Data_Inside (36).jpg',\n",
       " 'N_Data_Inside (37).jpg',\n",
       " 'N_Data_Inside (38).jpg',\n",
       " 'N_Data_Inside (39).jpg',\n",
       " 'N_Data_Inside (4).jpg',\n",
       " 'N_Data_Inside (40).jpg',\n",
       " 'N_Data_Inside (42).jpg',\n",
       " 'N_Data_Inside (43).jpg',\n",
       " 'N_Data_Inside (44).jpg',\n",
       " 'N_Data_Inside (45).jpg',\n",
       " 'N_Data_Inside (46).jpg',\n",
       " 'N_Data_Inside (47).jpg',\n",
       " 'N_Data_Inside (48).jpg',\n",
       " 'N_Data_Inside (49).jpg',\n",
       " 'N_Data_Inside (50).jpg',\n",
       " 'N_Data_Inside (51).jpg',\n",
       " 'N_Data_Inside (52).jpg',\n",
       " 'N_Data_Inside (54).jpg',\n",
       " 'N_Data_Inside (55).jpg',\n",
       " 'N_Data_Inside (56).jpg',\n",
       " 'N_Data_Inside (57).jpg',\n",
       " 'N_Data_Inside (6).jpg',\n",
       " 'N_Data_Inside (60).jpg',\n",
       " 'N_Data_Inside (61).jpg',\n",
       " 'N_Data_Inside (63).jpg',\n",
       " 'N_Data_Inside (64).jpg',\n",
       " 'N_Data_Inside (65).jpg',\n",
       " 'N_Data_Inside (66).jpg',\n",
       " 'N_Data_Inside (67).jpg',\n",
       " 'N_Data_Inside (69).jpg',\n",
       " 'N_Data_Inside (7).jpg',\n",
       " 'N_Data_Inside (70).jpg',\n",
       " 'N_Data_Inside (71).jpg',\n",
       " 'N_Data_Inside (72).jpg',\n",
       " 'N_Data_Inside (73).jpg',\n",
       " 'N_Data_Inside (75).jpg',\n",
       " 'N_Data_Inside (79).jpg',\n",
       " 'N_Data_Inside (8).jpg',\n",
       " 'N_Data_Inside (80).jpg',\n",
       " 'N_Data_Inside (81).jpg',\n",
       " 'N_Data_Inside (82).jpg',\n",
       " 'N_Data_Inside (87).jpg',\n",
       " 'N_Data_Inside (88).jpg',\n",
       " 'N_Data_Inside (89).jpg',\n",
       " 'N_Data_Inside (9).jpg',\n",
       " 'N_Data_Inside (92).jpg',\n",
       " 'N_Data_Inside (93).jpg',\n",
       " 'N_Data_Inside (94).jpg',\n",
       " 'N_Data_Inside (95).jpg',\n",
       " 'N_Data_Inside (96).jpg']"
      ]
     },
     "execution_count": 6,
     "metadata": {},
     "output_type": "execute_result"
    }
   ],
   "source": [
    "for foldername in listOfFolderName:\n",
    "    data_path = 'C:/Users/user/Desktop/LearningSet/learning_datasets_inside_normal/'\n",
    "    folder = os.listdir(data_path)\n",
    "    \n",
    "folder"
   ]
  },
  {
   "cell_type": "code",
   "execution_count": 7,
   "id": "ce955553",
   "metadata": {},
   "outputs": [],
   "source": [
    "#만들고자하는 갯수\n",
    "num = 2\n",
    "for file in folder:\n",
    "    name = file.split(\".\")[0]\n",
    "\n",
    "    # load the image\n",
    "    img = cv2.imread(data_path + name + \".jpg\")\n",
    "    mageRGB = cv2.cvtColor(img, cv2.COLOR_BGR2RGB)\n",
    "\n",
    "    # convert to numpy array\n",
    "    data = img_to_array(img)\n",
    "    # expand dimension to one sample\n",
    "    samples = expand_dims(data, 0)\n",
    "    # create image data augmentation generator\n",
    "#     datagen = ImageDataGenerator(rotation_range=60, height_shift_range=0.1 )\n",
    "    datagen = ImageDataGenerator(rotation_range=0, height_shift_range=0.1, width_shift_range=0.1 )\n",
    "\n",
    "    # prepare iterator\n",
    "    it = datagen.flow(samples, batch_size=1)\n",
    "    for i in range(num):   \n",
    "        batch = it.next()\n",
    "        # convert to unsigned integers for viewing\n",
    "        image = batch[0].astype('uint8')\n",
    "        cv2.imwrite(data_path + name + \"test\"+ str(i) +\".png\", image)"
   ]
  },
  {
   "cell_type": "code",
   "execution_count": null,
   "id": "060d2bec",
   "metadata": {},
   "outputs": [],
   "source": []
  },
  {
   "cell_type": "code",
   "execution_count": null,
   "id": "4b86e1c5",
   "metadata": {},
   "outputs": [],
   "source": []
  }
 ],
 "metadata": {
  "kernelspec": {
   "display_name": "Python 3 (ipykernel)",
   "language": "python",
   "name": "python3"
  },
  "language_info": {
   "codemirror_mode": {
    "name": "ipython",
    "version": 3
   },
   "file_extension": ".py",
   "mimetype": "text/x-python",
   "name": "python",
   "nbconvert_exporter": "python",
   "pygments_lexer": "ipython3",
   "version": "3.9.7"
  }
 },
 "nbformat": 4,
 "nbformat_minor": 5
}
