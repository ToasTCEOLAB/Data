{
  "nbformat": 4,
  "nbformat_minor": 0,
  "metadata": {
    "colab": {
      "name": "ODCuC_220107_Try2A.ipynb",
      "provenance": [],
      "collapsed_sections": [],
      "include_colab_link": true
    },
    "kernelspec": {
      "name": "python3",
      "display_name": "Python 3"
    },
    "language_info": {
      "name": "python"
    },
    "accelerator": "GPU"
  },
  "cells": [
    {
      "cell_type": "markdown",
      "metadata": {
        "id": "view-in-github",
        "colab_type": "text"
      },
      "source": [
        "<a href=\"https://colab.research.google.com/github/NewTAs/ODCuC/blob/main/ODCuC_220107_Try2A.ipynb\" target=\"_parent\"><img src=\"https://colab.research.google.com/assets/colab-badge.svg\" alt=\"Open In Colab\"/></a>"
      ]
    },
    {
      "cell_type": "code",
      "execution_count": 1,
      "metadata": {
        "colab": {
          "base_uri": "https://localhost:8080/"
        },
        "id": "xgBO72ZY81tE",
        "outputId": "c5711270-4ff8-4c35-df3b-76ec6f0503bc"
      },
      "outputs": [
        {
          "output_type": "stream",
          "name": "stdout",
          "text": [
            "Mounted at Lee_dataset\n"
          ]
        }
      ],
      "source": [
        "import os\n",
        "import re\n",
        "import glob\n",
        "import cv2\n",
        "import numpy as np\n",
        "from sklearn.model_selection import train_test_split\n",
        "\n",
        "import tensorflow as tf\n",
        "\n",
        "from google.colab import drive\n",
        "drive.mount('Lee_dataset')"
      ]
    },
    {
      "cell_type": "code",
      "source": [
        "numberOfClass = 2\n",
        "pictureWeightHeightSize = 224\n",
        "\n",
        "train_datagen = tf.keras.preprocessing.image.ImageDataGenerator(rescale=1./255)\n",
        "\n",
        "train_generator = train_datagen.flow_from_directory(\n",
        "        '/content/Lee_dataset/MyDrive/Lee_Datasets/11/',\n",
        "        target_size=(pictureWeightHeightSize, pictureWeightHeightSize),\n",
        "        batch_size=numberOfClass,\n",
        "        class_mode='categorical')\n",
        "\n",
        "test_datagen = tf.keras.preprocessing.image.ImageDataGenerator(rescale=1./255)\n",
        "\n",
        "test_generator = test_datagen.flow_from_directory(\n",
        "        '/content/Lee_dataset/MyDrive/Lee_Datasets/12/',\n",
        "        target_size=(pictureWeightHeightSize, pictureWeightHeightSize),    \n",
        "        batch_size=numberOfClass,\n",
        "        class_mode='categorical')"
      ],
      "metadata": {
        "colab": {
          "base_uri": "https://localhost:8080/"
        },
        "id": "H9aasxuq-Pia",
        "outputId": "bf4b4beb-c0f9-425a-840e-f7094c8df38e"
      },
      "execution_count": 2,
      "outputs": [
        {
          "output_type": "stream",
          "name": "stdout",
          "text": [
            "Found 360 images belonging to 2 classes.\n",
            "Found 120 images belonging to 2 classes.\n"
          ]
        }
      ]
    },
    {
      "cell_type": "code",
      "source": [
        "from tensorflow.keras.applications import Xception\n",
        "\n",
        "model = Xception(include_top=True, weights=None, input_shape=(224, 224, 3), pooling=max, classes=2)"
      ],
      "metadata": {
        "id": "eFApPT_d-q2g"
      },
      "execution_count": 3,
      "outputs": []
    },
    {
      "cell_type": "code",
      "source": [
        "model.compile(loss='categorical_crossentropy', metrics=['accuracy'], optimizer='adam')\n",
        "model.summary()"
      ],
      "metadata": {
        "colab": {
          "base_uri": "https://localhost:8080/"
        },
        "id": "H6q5upFt_wCq",
        "outputId": "41360bf0-b5af-4409-bc22-64d2a836dd57"
      },
      "execution_count": 4,
      "outputs": [
        {
          "output_type": "stream",
          "name": "stdout",
          "text": [
            "Model: \"xception\"\n",
            "__________________________________________________________________________________________________\n",
            " Layer (type)                   Output Shape         Param #     Connected to                     \n",
            "==================================================================================================\n",
            " input_1 (InputLayer)           [(None, 224, 224, 3  0           []                               \n",
            "                                )]                                                                \n",
            "                                                                                                  \n",
            " block1_conv1 (Conv2D)          (None, 111, 111, 32  864         ['input_1[0][0]']                \n",
            "                                )                                                                 \n",
            "                                                                                                  \n",
            " block1_conv1_bn (BatchNormaliz  (None, 111, 111, 32  128        ['block1_conv1[0][0]']           \n",
            " ation)                         )                                                                 \n",
            "                                                                                                  \n",
            " block1_conv1_act (Activation)  (None, 111, 111, 32  0           ['block1_conv1_bn[0][0]']        \n",
            "                                )                                                                 \n",
            "                                                                                                  \n",
            " block1_conv2 (Conv2D)          (None, 109, 109, 64  18432       ['block1_conv1_act[0][0]']       \n",
            "                                )                                                                 \n",
            "                                                                                                  \n",
            " block1_conv2_bn (BatchNormaliz  (None, 109, 109, 64  256        ['block1_conv2[0][0]']           \n",
            " ation)                         )                                                                 \n",
            "                                                                                                  \n",
            " block1_conv2_act (Activation)  (None, 109, 109, 64  0           ['block1_conv2_bn[0][0]']        \n",
            "                                )                                                                 \n",
            "                                                                                                  \n",
            " block2_sepconv1 (SeparableConv  (None, 109, 109, 12  8768       ['block1_conv2_act[0][0]']       \n",
            " 2D)                            8)                                                                \n",
            "                                                                                                  \n",
            " block2_sepconv1_bn (BatchNorma  (None, 109, 109, 12  512        ['block2_sepconv1[0][0]']        \n",
            " lization)                      8)                                                                \n",
            "                                                                                                  \n",
            " block2_sepconv2_act (Activatio  (None, 109, 109, 12  0          ['block2_sepconv1_bn[0][0]']     \n",
            " n)                             8)                                                                \n",
            "                                                                                                  \n",
            " block2_sepconv2 (SeparableConv  (None, 109, 109, 12  17536      ['block2_sepconv2_act[0][0]']    \n",
            " 2D)                            8)                                                                \n",
            "                                                                                                  \n",
            " block2_sepconv2_bn (BatchNorma  (None, 109, 109, 12  512        ['block2_sepconv2[0][0]']        \n",
            " lization)                      8)                                                                \n",
            "                                                                                                  \n",
            " conv2d (Conv2D)                (None, 55, 55, 128)  8192        ['block1_conv2_act[0][0]']       \n",
            "                                                                                                  \n",
            " block2_pool (MaxPooling2D)     (None, 55, 55, 128)  0           ['block2_sepconv2_bn[0][0]']     \n",
            "                                                                                                  \n",
            " batch_normalization (BatchNorm  (None, 55, 55, 128)  512        ['conv2d[0][0]']                 \n",
            " alization)                                                                                       \n",
            "                                                                                                  \n",
            " add (Add)                      (None, 55, 55, 128)  0           ['block2_pool[0][0]',            \n",
            "                                                                  'batch_normalization[0][0]']    \n",
            "                                                                                                  \n",
            " block3_sepconv1_act (Activatio  (None, 55, 55, 128)  0          ['add[0][0]']                    \n",
            " n)                                                                                               \n",
            "                                                                                                  \n",
            " block3_sepconv1 (SeparableConv  (None, 55, 55, 256)  33920      ['block3_sepconv1_act[0][0]']    \n",
            " 2D)                                                                                              \n",
            "                                                                                                  \n",
            " block3_sepconv1_bn (BatchNorma  (None, 55, 55, 256)  1024       ['block3_sepconv1[0][0]']        \n",
            " lization)                                                                                        \n",
            "                                                                                                  \n",
            " block3_sepconv2_act (Activatio  (None, 55, 55, 256)  0          ['block3_sepconv1_bn[0][0]']     \n",
            " n)                                                                                               \n",
            "                                                                                                  \n",
            " block3_sepconv2 (SeparableConv  (None, 55, 55, 256)  67840      ['block3_sepconv2_act[0][0]']    \n",
            " 2D)                                                                                              \n",
            "                                                                                                  \n",
            " block3_sepconv2_bn (BatchNorma  (None, 55, 55, 256)  1024       ['block3_sepconv2[0][0]']        \n",
            " lization)                                                                                        \n",
            "                                                                                                  \n",
            " conv2d_1 (Conv2D)              (None, 28, 28, 256)  32768       ['add[0][0]']                    \n",
            "                                                                                                  \n",
            " block3_pool (MaxPooling2D)     (None, 28, 28, 256)  0           ['block3_sepconv2_bn[0][0]']     \n",
            "                                                                                                  \n",
            " batch_normalization_1 (BatchNo  (None, 28, 28, 256)  1024       ['conv2d_1[0][0]']               \n",
            " rmalization)                                                                                     \n",
            "                                                                                                  \n",
            " add_1 (Add)                    (None, 28, 28, 256)  0           ['block3_pool[0][0]',            \n",
            "                                                                  'batch_normalization_1[0][0]']  \n",
            "                                                                                                  \n",
            " block4_sepconv1_act (Activatio  (None, 28, 28, 256)  0          ['add_1[0][0]']                  \n",
            " n)                                                                                               \n",
            "                                                                                                  \n",
            " block4_sepconv1 (SeparableConv  (None, 28, 28, 728)  188672     ['block4_sepconv1_act[0][0]']    \n",
            " 2D)                                                                                              \n",
            "                                                                                                  \n",
            " block4_sepconv1_bn (BatchNorma  (None, 28, 28, 728)  2912       ['block4_sepconv1[0][0]']        \n",
            " lization)                                                                                        \n",
            "                                                                                                  \n",
            " block4_sepconv2_act (Activatio  (None, 28, 28, 728)  0          ['block4_sepconv1_bn[0][0]']     \n",
            " n)                                                                                               \n",
            "                                                                                                  \n",
            " block4_sepconv2 (SeparableConv  (None, 28, 28, 728)  536536     ['block4_sepconv2_act[0][0]']    \n",
            " 2D)                                                                                              \n",
            "                                                                                                  \n",
            " block4_sepconv2_bn (BatchNorma  (None, 28, 28, 728)  2912       ['block4_sepconv2[0][0]']        \n",
            " lization)                                                                                        \n",
            "                                                                                                  \n",
            " conv2d_2 (Conv2D)              (None, 14, 14, 728)  186368      ['add_1[0][0]']                  \n",
            "                                                                                                  \n",
            " block4_pool (MaxPooling2D)     (None, 14, 14, 728)  0           ['block4_sepconv2_bn[0][0]']     \n",
            "                                                                                                  \n",
            " batch_normalization_2 (BatchNo  (None, 14, 14, 728)  2912       ['conv2d_2[0][0]']               \n",
            " rmalization)                                                                                     \n",
            "                                                                                                  \n",
            " add_2 (Add)                    (None, 14, 14, 728)  0           ['block4_pool[0][0]',            \n",
            "                                                                  'batch_normalization_2[0][0]']  \n",
            "                                                                                                  \n",
            " block5_sepconv1_act (Activatio  (None, 14, 14, 728)  0          ['add_2[0][0]']                  \n",
            " n)                                                                                               \n",
            "                                                                                                  \n",
            " block5_sepconv1 (SeparableConv  (None, 14, 14, 728)  536536     ['block5_sepconv1_act[0][0]']    \n",
            " 2D)                                                                                              \n",
            "                                                                                                  \n",
            " block5_sepconv1_bn (BatchNorma  (None, 14, 14, 728)  2912       ['block5_sepconv1[0][0]']        \n",
            " lization)                                                                                        \n",
            "                                                                                                  \n",
            " block5_sepconv2_act (Activatio  (None, 14, 14, 728)  0          ['block5_sepconv1_bn[0][0]']     \n",
            " n)                                                                                               \n",
            "                                                                                                  \n",
            " block5_sepconv2 (SeparableConv  (None, 14, 14, 728)  536536     ['block5_sepconv2_act[0][0]']    \n",
            " 2D)                                                                                              \n",
            "                                                                                                  \n",
            " block5_sepconv2_bn (BatchNorma  (None, 14, 14, 728)  2912       ['block5_sepconv2[0][0]']        \n",
            " lization)                                                                                        \n",
            "                                                                                                  \n",
            " block5_sepconv3_act (Activatio  (None, 14, 14, 728)  0          ['block5_sepconv2_bn[0][0]']     \n",
            " n)                                                                                               \n",
            "                                                                                                  \n",
            " block5_sepconv3 (SeparableConv  (None, 14, 14, 728)  536536     ['block5_sepconv3_act[0][0]']    \n",
            " 2D)                                                                                              \n",
            "                                                                                                  \n",
            " block5_sepconv3_bn (BatchNorma  (None, 14, 14, 728)  2912       ['block5_sepconv3[0][0]']        \n",
            " lization)                                                                                        \n",
            "                                                                                                  \n",
            " add_3 (Add)                    (None, 14, 14, 728)  0           ['block5_sepconv3_bn[0][0]',     \n",
            "                                                                  'add_2[0][0]']                  \n",
            "                                                                                                  \n",
            " block6_sepconv1_act (Activatio  (None, 14, 14, 728)  0          ['add_3[0][0]']                  \n",
            " n)                                                                                               \n",
            "                                                                                                  \n",
            " block6_sepconv1 (SeparableConv  (None, 14, 14, 728)  536536     ['block6_sepconv1_act[0][0]']    \n",
            " 2D)                                                                                              \n",
            "                                                                                                  \n",
            " block6_sepconv1_bn (BatchNorma  (None, 14, 14, 728)  2912       ['block6_sepconv1[0][0]']        \n",
            " lization)                                                                                        \n",
            "                                                                                                  \n",
            " block6_sepconv2_act (Activatio  (None, 14, 14, 728)  0          ['block6_sepconv1_bn[0][0]']     \n",
            " n)                                                                                               \n",
            "                                                                                                  \n",
            " block6_sepconv2 (SeparableConv  (None, 14, 14, 728)  536536     ['block6_sepconv2_act[0][0]']    \n",
            " 2D)                                                                                              \n",
            "                                                                                                  \n",
            " block6_sepconv2_bn (BatchNorma  (None, 14, 14, 728)  2912       ['block6_sepconv2[0][0]']        \n",
            " lization)                                                                                        \n",
            "                                                                                                  \n",
            " block6_sepconv3_act (Activatio  (None, 14, 14, 728)  0          ['block6_sepconv2_bn[0][0]']     \n",
            " n)                                                                                               \n",
            "                                                                                                  \n",
            " block6_sepconv3 (SeparableConv  (None, 14, 14, 728)  536536     ['block6_sepconv3_act[0][0]']    \n",
            " 2D)                                                                                              \n",
            "                                                                                                  \n",
            " block6_sepconv3_bn (BatchNorma  (None, 14, 14, 728)  2912       ['block6_sepconv3[0][0]']        \n",
            " lization)                                                                                        \n",
            "                                                                                                  \n",
            " add_4 (Add)                    (None, 14, 14, 728)  0           ['block6_sepconv3_bn[0][0]',     \n",
            "                                                                  'add_3[0][0]']                  \n",
            "                                                                                                  \n",
            " block7_sepconv1_act (Activatio  (None, 14, 14, 728)  0          ['add_4[0][0]']                  \n",
            " n)                                                                                               \n",
            "                                                                                                  \n",
            " block7_sepconv1 (SeparableConv  (None, 14, 14, 728)  536536     ['block7_sepconv1_act[0][0]']    \n",
            " 2D)                                                                                              \n",
            "                                                                                                  \n",
            " block7_sepconv1_bn (BatchNorma  (None, 14, 14, 728)  2912       ['block7_sepconv1[0][0]']        \n",
            " lization)                                                                                        \n",
            "                                                                                                  \n",
            " block7_sepconv2_act (Activatio  (None, 14, 14, 728)  0          ['block7_sepconv1_bn[0][0]']     \n",
            " n)                                                                                               \n",
            "                                                                                                  \n",
            " block7_sepconv2 (SeparableConv  (None, 14, 14, 728)  536536     ['block7_sepconv2_act[0][0]']    \n",
            " 2D)                                                                                              \n",
            "                                                                                                  \n",
            " block7_sepconv2_bn (BatchNorma  (None, 14, 14, 728)  2912       ['block7_sepconv2[0][0]']        \n",
            " lization)                                                                                        \n",
            "                                                                                                  \n",
            " block7_sepconv3_act (Activatio  (None, 14, 14, 728)  0          ['block7_sepconv2_bn[0][0]']     \n",
            " n)                                                                                               \n",
            "                                                                                                  \n",
            " block7_sepconv3 (SeparableConv  (None, 14, 14, 728)  536536     ['block7_sepconv3_act[0][0]']    \n",
            " 2D)                                                                                              \n",
            "                                                                                                  \n",
            " block7_sepconv3_bn (BatchNorma  (None, 14, 14, 728)  2912       ['block7_sepconv3[0][0]']        \n",
            " lization)                                                                                        \n",
            "                                                                                                  \n",
            " add_5 (Add)                    (None, 14, 14, 728)  0           ['block7_sepconv3_bn[0][0]',     \n",
            "                                                                  'add_4[0][0]']                  \n",
            "                                                                                                  \n",
            " block8_sepconv1_act (Activatio  (None, 14, 14, 728)  0          ['add_5[0][0]']                  \n",
            " n)                                                                                               \n",
            "                                                                                                  \n",
            " block8_sepconv1 (SeparableConv  (None, 14, 14, 728)  536536     ['block8_sepconv1_act[0][0]']    \n",
            " 2D)                                                                                              \n",
            "                                                                                                  \n",
            " block8_sepconv1_bn (BatchNorma  (None, 14, 14, 728)  2912       ['block8_sepconv1[0][0]']        \n",
            " lization)                                                                                        \n",
            "                                                                                                  \n",
            " block8_sepconv2_act (Activatio  (None, 14, 14, 728)  0          ['block8_sepconv1_bn[0][0]']     \n",
            " n)                                                                                               \n",
            "                                                                                                  \n",
            " block8_sepconv2 (SeparableConv  (None, 14, 14, 728)  536536     ['block8_sepconv2_act[0][0]']    \n",
            " 2D)                                                                                              \n",
            "                                                                                                  \n",
            " block8_sepconv2_bn (BatchNorma  (None, 14, 14, 728)  2912       ['block8_sepconv2[0][0]']        \n",
            " lization)                                                                                        \n",
            "                                                                                                  \n",
            " block8_sepconv3_act (Activatio  (None, 14, 14, 728)  0          ['block8_sepconv2_bn[0][0]']     \n",
            " n)                                                                                               \n",
            "                                                                                                  \n",
            " block8_sepconv3 (SeparableConv  (None, 14, 14, 728)  536536     ['block8_sepconv3_act[0][0]']    \n",
            " 2D)                                                                                              \n",
            "                                                                                                  \n",
            " block8_sepconv3_bn (BatchNorma  (None, 14, 14, 728)  2912       ['block8_sepconv3[0][0]']        \n",
            " lization)                                                                                        \n",
            "                                                                                                  \n",
            " add_6 (Add)                    (None, 14, 14, 728)  0           ['block8_sepconv3_bn[0][0]',     \n",
            "                                                                  'add_5[0][0]']                  \n",
            "                                                                                                  \n",
            " block9_sepconv1_act (Activatio  (None, 14, 14, 728)  0          ['add_6[0][0]']                  \n",
            " n)                                                                                               \n",
            "                                                                                                  \n",
            " block9_sepconv1 (SeparableConv  (None, 14, 14, 728)  536536     ['block9_sepconv1_act[0][0]']    \n",
            " 2D)                                                                                              \n",
            "                                                                                                  \n",
            " block9_sepconv1_bn (BatchNorma  (None, 14, 14, 728)  2912       ['block9_sepconv1[0][0]']        \n",
            " lization)                                                                                        \n",
            "                                                                                                  \n",
            " block9_sepconv2_act (Activatio  (None, 14, 14, 728)  0          ['block9_sepconv1_bn[0][0]']     \n",
            " n)                                                                                               \n",
            "                                                                                                  \n",
            " block9_sepconv2 (SeparableConv  (None, 14, 14, 728)  536536     ['block9_sepconv2_act[0][0]']    \n",
            " 2D)                                                                                              \n",
            "                                                                                                  \n",
            " block9_sepconv2_bn (BatchNorma  (None, 14, 14, 728)  2912       ['block9_sepconv2[0][0]']        \n",
            " lization)                                                                                        \n",
            "                                                                                                  \n",
            " block9_sepconv3_act (Activatio  (None, 14, 14, 728)  0          ['block9_sepconv2_bn[0][0]']     \n",
            " n)                                                                                               \n",
            "                                                                                                  \n",
            " block9_sepconv3 (SeparableConv  (None, 14, 14, 728)  536536     ['block9_sepconv3_act[0][0]']    \n",
            " 2D)                                                                                              \n",
            "                                                                                                  \n",
            " block9_sepconv3_bn (BatchNorma  (None, 14, 14, 728)  2912       ['block9_sepconv3[0][0]']        \n",
            " lization)                                                                                        \n",
            "                                                                                                  \n",
            " add_7 (Add)                    (None, 14, 14, 728)  0           ['block9_sepconv3_bn[0][0]',     \n",
            "                                                                  'add_6[0][0]']                  \n",
            "                                                                                                  \n",
            " block10_sepconv1_act (Activati  (None, 14, 14, 728)  0          ['add_7[0][0]']                  \n",
            " on)                                                                                              \n",
            "                                                                                                  \n",
            " block10_sepconv1 (SeparableCon  (None, 14, 14, 728)  536536     ['block10_sepconv1_act[0][0]']   \n",
            " v2D)                                                                                             \n",
            "                                                                                                  \n",
            " block10_sepconv1_bn (BatchNorm  (None, 14, 14, 728)  2912       ['block10_sepconv1[0][0]']       \n",
            " alization)                                                                                       \n",
            "                                                                                                  \n",
            " block10_sepconv2_act (Activati  (None, 14, 14, 728)  0          ['block10_sepconv1_bn[0][0]']    \n",
            " on)                                                                                              \n",
            "                                                                                                  \n",
            " block10_sepconv2 (SeparableCon  (None, 14, 14, 728)  536536     ['block10_sepconv2_act[0][0]']   \n",
            " v2D)                                                                                             \n",
            "                                                                                                  \n",
            " block10_sepconv2_bn (BatchNorm  (None, 14, 14, 728)  2912       ['block10_sepconv2[0][0]']       \n",
            " alization)                                                                                       \n",
            "                                                                                                  \n",
            " block10_sepconv3_act (Activati  (None, 14, 14, 728)  0          ['block10_sepconv2_bn[0][0]']    \n",
            " on)                                                                                              \n",
            "                                                                                                  \n",
            " block10_sepconv3 (SeparableCon  (None, 14, 14, 728)  536536     ['block10_sepconv3_act[0][0]']   \n",
            " v2D)                                                                                             \n",
            "                                                                                                  \n",
            " block10_sepconv3_bn (BatchNorm  (None, 14, 14, 728)  2912       ['block10_sepconv3[0][0]']       \n",
            " alization)                                                                                       \n",
            "                                                                                                  \n",
            " add_8 (Add)                    (None, 14, 14, 728)  0           ['block10_sepconv3_bn[0][0]',    \n",
            "                                                                  'add_7[0][0]']                  \n",
            "                                                                                                  \n",
            " block11_sepconv1_act (Activati  (None, 14, 14, 728)  0          ['add_8[0][0]']                  \n",
            " on)                                                                                              \n",
            "                                                                                                  \n",
            " block11_sepconv1 (SeparableCon  (None, 14, 14, 728)  536536     ['block11_sepconv1_act[0][0]']   \n",
            " v2D)                                                                                             \n",
            "                                                                                                  \n",
            " block11_sepconv1_bn (BatchNorm  (None, 14, 14, 728)  2912       ['block11_sepconv1[0][0]']       \n",
            " alization)                                                                                       \n",
            "                                                                                                  \n",
            " block11_sepconv2_act (Activati  (None, 14, 14, 728)  0          ['block11_sepconv1_bn[0][0]']    \n",
            " on)                                                                                              \n",
            "                                                                                                  \n",
            " block11_sepconv2 (SeparableCon  (None, 14, 14, 728)  536536     ['block11_sepconv2_act[0][0]']   \n",
            " v2D)                                                                                             \n",
            "                                                                                                  \n",
            " block11_sepconv2_bn (BatchNorm  (None, 14, 14, 728)  2912       ['block11_sepconv2[0][0]']       \n",
            " alization)                                                                                       \n",
            "                                                                                                  \n",
            " block11_sepconv3_act (Activati  (None, 14, 14, 728)  0          ['block11_sepconv2_bn[0][0]']    \n",
            " on)                                                                                              \n",
            "                                                                                                  \n",
            " block11_sepconv3 (SeparableCon  (None, 14, 14, 728)  536536     ['block11_sepconv3_act[0][0]']   \n",
            " v2D)                                                                                             \n",
            "                                                                                                  \n",
            " block11_sepconv3_bn (BatchNorm  (None, 14, 14, 728)  2912       ['block11_sepconv3[0][0]']       \n",
            " alization)                                                                                       \n",
            "                                                                                                  \n",
            " add_9 (Add)                    (None, 14, 14, 728)  0           ['block11_sepconv3_bn[0][0]',    \n",
            "                                                                  'add_8[0][0]']                  \n",
            "                                                                                                  \n",
            " block12_sepconv1_act (Activati  (None, 14, 14, 728)  0          ['add_9[0][0]']                  \n",
            " on)                                                                                              \n",
            "                                                                                                  \n",
            " block12_sepconv1 (SeparableCon  (None, 14, 14, 728)  536536     ['block12_sepconv1_act[0][0]']   \n",
            " v2D)                                                                                             \n",
            "                                                                                                  \n",
            " block12_sepconv1_bn (BatchNorm  (None, 14, 14, 728)  2912       ['block12_sepconv1[0][0]']       \n",
            " alization)                                                                                       \n",
            "                                                                                                  \n",
            " block12_sepconv2_act (Activati  (None, 14, 14, 728)  0          ['block12_sepconv1_bn[0][0]']    \n",
            " on)                                                                                              \n",
            "                                                                                                  \n",
            " block12_sepconv2 (SeparableCon  (None, 14, 14, 728)  536536     ['block12_sepconv2_act[0][0]']   \n",
            " v2D)                                                                                             \n",
            "                                                                                                  \n",
            " block12_sepconv2_bn (BatchNorm  (None, 14, 14, 728)  2912       ['block12_sepconv2[0][0]']       \n",
            " alization)                                                                                       \n",
            "                                                                                                  \n",
            " block12_sepconv3_act (Activati  (None, 14, 14, 728)  0          ['block12_sepconv2_bn[0][0]']    \n",
            " on)                                                                                              \n",
            "                                                                                                  \n",
            " block12_sepconv3 (SeparableCon  (None, 14, 14, 728)  536536     ['block12_sepconv3_act[0][0]']   \n",
            " v2D)                                                                                             \n",
            "                                                                                                  \n",
            " block12_sepconv3_bn (BatchNorm  (None, 14, 14, 728)  2912       ['block12_sepconv3[0][0]']       \n",
            " alization)                                                                                       \n",
            "                                                                                                  \n",
            " add_10 (Add)                   (None, 14, 14, 728)  0           ['block12_sepconv3_bn[0][0]',    \n",
            "                                                                  'add_9[0][0]']                  \n",
            "                                                                                                  \n",
            " block13_sepconv1_act (Activati  (None, 14, 14, 728)  0          ['add_10[0][0]']                 \n",
            " on)                                                                                              \n",
            "                                                                                                  \n",
            " block13_sepconv1 (SeparableCon  (None, 14, 14, 728)  536536     ['block13_sepconv1_act[0][0]']   \n",
            " v2D)                                                                                             \n",
            "                                                                                                  \n",
            " block13_sepconv1_bn (BatchNorm  (None, 14, 14, 728)  2912       ['block13_sepconv1[0][0]']       \n",
            " alization)                                                                                       \n",
            "                                                                                                  \n",
            " block13_sepconv2_act (Activati  (None, 14, 14, 728)  0          ['block13_sepconv1_bn[0][0]']    \n",
            " on)                                                                                              \n",
            "                                                                                                  \n",
            " block13_sepconv2 (SeparableCon  (None, 14, 14, 1024  752024     ['block13_sepconv2_act[0][0]']   \n",
            " v2D)                           )                                                                 \n",
            "                                                                                                  \n",
            " block13_sepconv2_bn (BatchNorm  (None, 14, 14, 1024  4096       ['block13_sepconv2[0][0]']       \n",
            " alization)                     )                                                                 \n",
            "                                                                                                  \n",
            " conv2d_3 (Conv2D)              (None, 7, 7, 1024)   745472      ['add_10[0][0]']                 \n",
            "                                                                                                  \n",
            " block13_pool (MaxPooling2D)    (None, 7, 7, 1024)   0           ['block13_sepconv2_bn[0][0]']    \n",
            "                                                                                                  \n",
            " batch_normalization_3 (BatchNo  (None, 7, 7, 1024)  4096        ['conv2d_3[0][0]']               \n",
            " rmalization)                                                                                     \n",
            "                                                                                                  \n",
            " add_11 (Add)                   (None, 7, 7, 1024)   0           ['block13_pool[0][0]',           \n",
            "                                                                  'batch_normalization_3[0][0]']  \n",
            "                                                                                                  \n",
            " block14_sepconv1 (SeparableCon  (None, 7, 7, 1536)  1582080     ['add_11[0][0]']                 \n",
            " v2D)                                                                                             \n",
            "                                                                                                  \n",
            " block14_sepconv1_bn (BatchNorm  (None, 7, 7, 1536)  6144        ['block14_sepconv1[0][0]']       \n",
            " alization)                                                                                       \n",
            "                                                                                                  \n",
            " block14_sepconv1_act (Activati  (None, 7, 7, 1536)  0           ['block14_sepconv1_bn[0][0]']    \n",
            " on)                                                                                              \n",
            "                                                                                                  \n",
            " block14_sepconv2 (SeparableCon  (None, 7, 7, 2048)  3159552     ['block14_sepconv1_act[0][0]']   \n",
            " v2D)                                                                                             \n",
            "                                                                                                  \n",
            " block14_sepconv2_bn (BatchNorm  (None, 7, 7, 2048)  8192        ['block14_sepconv2[0][0]']       \n",
            " alization)                                                                                       \n",
            "                                                                                                  \n",
            " block14_sepconv2_act (Activati  (None, 7, 7, 2048)  0           ['block14_sepconv2_bn[0][0]']    \n",
            " on)                                                                                              \n",
            "                                                                                                  \n",
            " avg_pool (GlobalAveragePooling  (None, 2048)        0           ['block14_sepconv2_act[0][0]']   \n",
            " 2D)                                                                                              \n",
            "                                                                                                  \n",
            " predictions (Dense)            (None, 2)            4098        ['avg_pool[0][0]']               \n",
            "                                                                                                  \n",
            "==================================================================================================\n",
            "Total params: 20,865,578\n",
            "Trainable params: 20,811,050\n",
            "Non-trainable params: 54,528\n",
            "__________________________________________________________________________________________________\n"
          ]
        }
      ]
    },
    {
      "cell_type": "code",
      "source": [
        "model.fit(train_generator, epochs=100, validation_data=test_generator)"
      ],
      "metadata": {
        "colab": {
          "base_uri": "https://localhost:8080/"
        },
        "id": "XTvRldGR_xMC",
        "outputId": "06ad4edf-a3ea-4485-bfe3-d85c7fdb4e23"
      },
      "execution_count": 5,
      "outputs": [
        {
          "output_type": "stream",
          "name": "stdout",
          "text": [
            "Epoch 1/100\n",
            "180/180 [==============================] - 82s 362ms/step - loss: 0.5432 - accuracy: 0.7583 - val_loss: 0.7368 - val_accuracy: 0.5000\n",
            "Epoch 2/100\n",
            "180/180 [==============================] - 27s 150ms/step - loss: 0.2615 - accuracy: 0.9028 - val_loss: 1.1121 - val_accuracy: 0.5000\n",
            "Epoch 3/100\n",
            "180/180 [==============================] - 27s 149ms/step - loss: 0.2384 - accuracy: 0.9111 - val_loss: 0.0327 - val_accuracy: 0.9917\n",
            "Epoch 4/100\n",
            "180/180 [==============================] - 27s 148ms/step - loss: 0.0485 - accuracy: 0.9833 - val_loss: 0.0022 - val_accuracy: 1.0000\n",
            "Epoch 5/100\n",
            "180/180 [==============================] - 27s 148ms/step - loss: 0.0835 - accuracy: 0.9694 - val_loss: 1.1261 - val_accuracy: 0.8333\n",
            "Epoch 6/100\n",
            "180/180 [==============================] - 27s 148ms/step - loss: 0.0556 - accuracy: 0.9778 - val_loss: 0.0050 - val_accuracy: 1.0000\n",
            "Epoch 7/100\n",
            "180/180 [==============================] - 27s 148ms/step - loss: 0.0028 - accuracy: 1.0000 - val_loss: 7.5724e-04 - val_accuracy: 1.0000\n",
            "Epoch 8/100\n",
            "180/180 [==============================] - 27s 148ms/step - loss: 0.0016 - accuracy: 1.0000 - val_loss: 3.7475e-04 - val_accuracy: 1.0000\n",
            "Epoch 9/100\n",
            "180/180 [==============================] - 27s 149ms/step - loss: 8.7659e-04 - accuracy: 1.0000 - val_loss: 1.8904e-04 - val_accuracy: 1.0000\n",
            "Epoch 10/100\n",
            "180/180 [==============================] - 27s 148ms/step - loss: 6.6574e-04 - accuracy: 1.0000 - val_loss: 1.3238e-04 - val_accuracy: 1.0000\n",
            "Epoch 11/100\n",
            "180/180 [==============================] - 27s 152ms/step - loss: 5.6107e-04 - accuracy: 1.0000 - val_loss: 1.0684e-04 - val_accuracy: 1.0000\n",
            "Epoch 12/100\n",
            "180/180 [==============================] - 27s 149ms/step - loss: 4.1067e-04 - accuracy: 1.0000 - val_loss: 8.2472e-05 - val_accuracy: 1.0000\n",
            "Epoch 13/100\n",
            "180/180 [==============================] - 27s 149ms/step - loss: 3.6905e-04 - accuracy: 1.0000 - val_loss: 5.6277e-05 - val_accuracy: 1.0000\n",
            "Epoch 14/100\n",
            "180/180 [==============================] - 27s 149ms/step - loss: 2.8221e-04 - accuracy: 1.0000 - val_loss: 4.7926e-05 - val_accuracy: 1.0000\n",
            "Epoch 15/100\n",
            "180/180 [==============================] - 26s 147ms/step - loss: 2.4654e-04 - accuracy: 1.0000 - val_loss: 3.4212e-05 - val_accuracy: 1.0000\n",
            "Epoch 16/100\n",
            "180/180 [==============================] - 26s 147ms/step - loss: 2.6258e-04 - accuracy: 1.0000 - val_loss: 3.6897e-05 - val_accuracy: 1.0000\n",
            "Epoch 17/100\n",
            "180/180 [==============================] - 26s 146ms/step - loss: 2.0734e-04 - accuracy: 1.0000 - val_loss: 2.4643e-05 - val_accuracy: 1.0000\n",
            "Epoch 18/100\n",
            "180/180 [==============================] - 26s 146ms/step - loss: 1.7577e-04 - accuracy: 1.0000 - val_loss: 1.9809e-05 - val_accuracy: 1.0000\n",
            "Epoch 19/100\n",
            "180/180 [==============================] - 27s 148ms/step - loss: 1.3726e-04 - accuracy: 1.0000 - val_loss: 2.4044e-05 - val_accuracy: 1.0000\n",
            "Epoch 20/100\n",
            "180/180 [==============================] - 27s 148ms/step - loss: 1.1833e-04 - accuracy: 1.0000 - val_loss: 1.9627e-05 - val_accuracy: 1.0000\n",
            "Epoch 21/100\n",
            "180/180 [==============================] - 27s 148ms/step - loss: 1.2030e-04 - accuracy: 1.0000 - val_loss: 1.5128e-05 - val_accuracy: 1.0000\n",
            "Epoch 22/100\n",
            "180/180 [==============================] - 26s 147ms/step - loss: 1.2263e-04 - accuracy: 1.0000 - val_loss: 1.4093e-05 - val_accuracy: 1.0000\n",
            "Epoch 23/100\n",
            "180/180 [==============================] - 26s 146ms/step - loss: 9.3360e-05 - accuracy: 1.0000 - val_loss: 1.5100e-05 - val_accuracy: 1.0000\n",
            "Epoch 24/100\n",
            "180/180 [==============================] - 27s 147ms/step - loss: 7.1642e-05 - accuracy: 1.0000 - val_loss: 1.1905e-05 - val_accuracy: 1.0000\n",
            "Epoch 25/100\n",
            "180/180 [==============================] - 27s 148ms/step - loss: 7.1287e-05 - accuracy: 1.0000 - val_loss: 1.0777e-05 - val_accuracy: 1.0000\n",
            "Epoch 26/100\n",
            "180/180 [==============================] - 27s 147ms/step - loss: 6.0024e-05 - accuracy: 1.0000 - val_loss: 6.3856e-06 - val_accuracy: 1.0000\n",
            "Epoch 27/100\n",
            "180/180 [==============================] - 27s 148ms/step - loss: 6.0556e-05 - accuracy: 1.0000 - val_loss: 7.9919e-06 - val_accuracy: 1.0000\n",
            "Epoch 28/100\n",
            "180/180 [==============================] - 26s 146ms/step - loss: 4.8499e-05 - accuracy: 1.0000 - val_loss: 7.0591e-06 - val_accuracy: 1.0000\n",
            "Epoch 29/100\n",
            "180/180 [==============================] - 26s 147ms/step - loss: 4.4540e-05 - accuracy: 1.0000 - val_loss: 6.4601e-06 - val_accuracy: 1.0000\n",
            "Epoch 30/100\n",
            "180/180 [==============================] - 27s 148ms/step - loss: 3.6123e-05 - accuracy: 1.0000 - val_loss: 4.7485e-06 - val_accuracy: 1.0000\n",
            "Epoch 31/100\n",
            "180/180 [==============================] - 27s 148ms/step - loss: 4.5573e-05 - accuracy: 1.0000 - val_loss: 3.9677e-06 - val_accuracy: 1.0000\n",
            "Epoch 32/100\n",
            "180/180 [==============================] - 26s 147ms/step - loss: 3.0578e-05 - accuracy: 1.0000 - val_loss: 4.0590e-06 - val_accuracy: 1.0000\n",
            "Epoch 33/100\n",
            "180/180 [==============================] - 26s 147ms/step - loss: 3.0261e-05 - accuracy: 1.0000 - val_loss: 3.9150e-06 - val_accuracy: 1.0000\n",
            "Epoch 34/100\n",
            "180/180 [==============================] - 27s 148ms/step - loss: 2.9333e-05 - accuracy: 1.0000 - val_loss: 3.3955e-06 - val_accuracy: 1.0000\n",
            "Epoch 35/100\n",
            "180/180 [==============================] - 26s 147ms/step - loss: 2.4673e-05 - accuracy: 1.0000 - val_loss: 2.4835e-06 - val_accuracy: 1.0000\n",
            "Epoch 36/100\n",
            "180/180 [==============================] - 27s 148ms/step - loss: 2.2068e-05 - accuracy: 1.0000 - val_loss: 2.3127e-06 - val_accuracy: 1.0000\n",
            "Epoch 37/100\n",
            "180/180 [==============================] - 26s 147ms/step - loss: 2.1168e-05 - accuracy: 1.0000 - val_loss: 2.5600e-06 - val_accuracy: 1.0000\n",
            "Epoch 38/100\n",
            "180/180 [==============================] - 27s 148ms/step - loss: 1.4826e-05 - accuracy: 1.0000 - val_loss: 1.9759e-06 - val_accuracy: 1.0000\n",
            "Epoch 39/100\n",
            "180/180 [==============================] - 27s 147ms/step - loss: 1.5716e-05 - accuracy: 1.0000 - val_loss: 1.8368e-06 - val_accuracy: 1.0000\n",
            "Epoch 40/100\n",
            "180/180 [==============================] - 26s 147ms/step - loss: 0.0123 - accuracy: 0.9972 - val_loss: 1813.6282 - val_accuracy: 0.5000\n",
            "Epoch 41/100\n",
            "180/180 [==============================] - 26s 147ms/step - loss: 0.9875 - accuracy: 0.7528 - val_loss: 0.0064 - val_accuracy: 1.0000\n",
            "Epoch 42/100\n",
            "180/180 [==============================] - 26s 146ms/step - loss: 0.4594 - accuracy: 0.7694 - val_loss: 2.2556 - val_accuracy: 0.5000\n",
            "Epoch 43/100\n",
            "180/180 [==============================] - 27s 147ms/step - loss: 0.1481 - accuracy: 0.9417 - val_loss: 0.1623 - val_accuracy: 0.9417\n",
            "Epoch 44/100\n",
            "180/180 [==============================] - 26s 147ms/step - loss: 0.0161 - accuracy: 1.0000 - val_loss: 0.0033 - val_accuracy: 1.0000\n",
            "Epoch 45/100\n",
            "180/180 [==============================] - 26s 147ms/step - loss: 0.0046 - accuracy: 1.0000 - val_loss: 7.0463e-04 - val_accuracy: 1.0000\n",
            "Epoch 46/100\n",
            "180/180 [==============================] - 27s 148ms/step - loss: 0.0175 - accuracy: 0.9972 - val_loss: 3.1087e-04 - val_accuracy: 1.0000\n",
            "Epoch 47/100\n",
            "180/180 [==============================] - 27s 148ms/step - loss: 0.0026 - accuracy: 1.0000 - val_loss: 2.7678e-04 - val_accuracy: 1.0000\n",
            "Epoch 48/100\n",
            "180/180 [==============================] - 27s 147ms/step - loss: 0.0017 - accuracy: 1.0000 - val_loss: 1.9399e-04 - val_accuracy: 1.0000\n",
            "Epoch 49/100\n",
            "180/180 [==============================] - 27s 148ms/step - loss: 0.0011 - accuracy: 1.0000 - val_loss: 1.5329e-04 - val_accuracy: 1.0000\n",
            "Epoch 50/100\n",
            "180/180 [==============================] - 27s 148ms/step - loss: 8.8383e-04 - accuracy: 1.0000 - val_loss: 9.1161e-05 - val_accuracy: 1.0000\n",
            "Epoch 51/100\n",
            "180/180 [==============================] - 26s 147ms/step - loss: 8.3092e-04 - accuracy: 1.0000 - val_loss: 5.8141e-05 - val_accuracy: 1.0000\n",
            "Epoch 52/100\n",
            "180/180 [==============================] - 26s 147ms/step - loss: 6.8177e-04 - accuracy: 1.0000 - val_loss: 4.2273e-05 - val_accuracy: 1.0000\n",
            "Epoch 53/100\n",
            "180/180 [==============================] - 27s 147ms/step - loss: 5.5192e-04 - accuracy: 1.0000 - val_loss: 2.5655e-05 - val_accuracy: 1.0000\n",
            "Epoch 54/100\n",
            "180/180 [==============================] - 27s 148ms/step - loss: 7.1152e-04 - accuracy: 1.0000 - val_loss: 2.9005e-05 - val_accuracy: 1.0000\n",
            "Epoch 55/100\n",
            "180/180 [==============================] - 26s 147ms/step - loss: 4.4405e-04 - accuracy: 1.0000 - val_loss: 2.6785e-05 - val_accuracy: 1.0000\n",
            "Epoch 56/100\n",
            "180/180 [==============================] - 26s 147ms/step - loss: 3.3366e-04 - accuracy: 1.0000 - val_loss: 1.5750e-05 - val_accuracy: 1.0000\n",
            "Epoch 57/100\n",
            "180/180 [==============================] - 27s 147ms/step - loss: 2.8293e-04 - accuracy: 1.0000 - val_loss: 8.8115e-06 - val_accuracy: 1.0000\n",
            "Epoch 58/100\n",
            "180/180 [==============================] - 27s 147ms/step - loss: 2.2654e-04 - accuracy: 1.0000 - val_loss: 8.7995e-06 - val_accuracy: 1.0000\n",
            "Epoch 59/100\n",
            "180/180 [==============================] - 26s 147ms/step - loss: 2.3661e-04 - accuracy: 1.0000 - val_loss: 1.1877e-05 - val_accuracy: 1.0000\n",
            "Epoch 60/100\n",
            "180/180 [==============================] - 27s 147ms/step - loss: 2.0172e-04 - accuracy: 1.0000 - val_loss: 1.0151e-05 - val_accuracy: 1.0000\n",
            "Epoch 61/100\n",
            "180/180 [==============================] - 27s 147ms/step - loss: 1.8417e-04 - accuracy: 1.0000 - val_loss: 8.2312e-06 - val_accuracy: 1.0000\n",
            "Epoch 62/100\n",
            "180/180 [==============================] - 26s 146ms/step - loss: 1.3921e-04 - accuracy: 1.0000 - val_loss: 1.3004e-05 - val_accuracy: 1.0000\n",
            "Epoch 63/100\n",
            "180/180 [==============================] - 26s 147ms/step - loss: 1.2263e-04 - accuracy: 1.0000 - val_loss: 6.8306e-06 - val_accuracy: 1.0000\n",
            "Epoch 64/100\n",
            "180/180 [==============================] - 27s 148ms/step - loss: 1.0691e-04 - accuracy: 1.0000 - val_loss: 7.3889e-06 - val_accuracy: 1.0000\n",
            "Epoch 65/100\n",
            "180/180 [==============================] - 27s 148ms/step - loss: 8.4837e-05 - accuracy: 1.0000 - val_loss: 7.2437e-06 - val_accuracy: 1.0000\n",
            "Epoch 66/100\n",
            "180/180 [==============================] - 26s 146ms/step - loss: 8.2857e-05 - accuracy: 1.0000 - val_loss: 1.1226e-05 - val_accuracy: 1.0000\n",
            "Epoch 67/100\n",
            "180/180 [==============================] - 27s 147ms/step - loss: 6.8419e-05 - accuracy: 1.0000 - val_loss: 3.5991e-06 - val_accuracy: 1.0000\n",
            "Epoch 68/100\n",
            "180/180 [==============================] - 27s 147ms/step - loss: 5.7866e-05 - accuracy: 1.0000 - val_loss: 4.6143e-06 - val_accuracy: 1.0000\n",
            "Epoch 69/100\n",
            "180/180 [==============================] - 26s 147ms/step - loss: 5.4210e-05 - accuracy: 1.0000 - val_loss: 8.9811e-06 - val_accuracy: 1.0000\n",
            "Epoch 70/100\n",
            "180/180 [==============================] - 26s 147ms/step - loss: 4.2356e-05 - accuracy: 1.0000 - val_loss: 8.3485e-06 - val_accuracy: 1.0000\n",
            "Epoch 71/100\n",
            "180/180 [==============================] - 27s 147ms/step - loss: 3.6667e-05 - accuracy: 1.0000 - val_loss: 3.6984e-06 - val_accuracy: 1.0000\n",
            "Epoch 72/100\n",
            "180/180 [==============================] - 26s 147ms/step - loss: 3.1485e-05 - accuracy: 1.0000 - val_loss: 8.6919e-06 - val_accuracy: 1.0000\n",
            "Epoch 73/100\n",
            "180/180 [==============================] - 27s 148ms/step - loss: 2.3910e-05 - accuracy: 1.0000 - val_loss: 5.2759e-06 - val_accuracy: 1.0000\n",
            "Epoch 74/100\n",
            "180/180 [==============================] - 26s 146ms/step - loss: 2.1683e-05 - accuracy: 1.0000 - val_loss: 4.0322e-06 - val_accuracy: 1.0000\n",
            "Epoch 75/100\n",
            "180/180 [==============================] - 27s 148ms/step - loss: 2.0787e-05 - accuracy: 1.0000 - val_loss: 8.0979e-06 - val_accuracy: 1.0000\n",
            "Epoch 76/100\n",
            "180/180 [==============================] - 27s 148ms/step - loss: 1.6536e-05 - accuracy: 1.0000 - val_loss: 8.7391e-06 - val_accuracy: 1.0000\n",
            "Epoch 77/100\n",
            "180/180 [==============================] - 26s 147ms/step - loss: 2.3069e-05 - accuracy: 1.0000 - val_loss: 3.5394e-06 - val_accuracy: 1.0000\n",
            "Epoch 78/100\n",
            "180/180 [==============================] - 26s 147ms/step - loss: 1.6106e-05 - accuracy: 1.0000 - val_loss: 6.0842e-06 - val_accuracy: 1.0000\n",
            "Epoch 79/100\n",
            "180/180 [==============================] - 27s 147ms/step - loss: 1.2906e-05 - accuracy: 1.0000 - val_loss: 6.9823e-06 - val_accuracy: 1.0000\n",
            "Epoch 80/100\n",
            "180/180 [==============================] - 27s 147ms/step - loss: 1.0732e-05 - accuracy: 1.0000 - val_loss: 7.5928e-06 - val_accuracy: 1.0000\n",
            "Epoch 81/100\n",
            "180/180 [==============================] - 27s 148ms/step - loss: 1.0059e-05 - accuracy: 1.0000 - val_loss: 8.0290e-06 - val_accuracy: 1.0000\n",
            "Epoch 82/100\n",
            "180/180 [==============================] - 27s 148ms/step - loss: 1.3449e-05 - accuracy: 1.0000 - val_loss: 2.2666e-05 - val_accuracy: 1.0000\n",
            "Epoch 83/100\n",
            "180/180 [==============================] - 27s 147ms/step - loss: 1.0121e-05 - accuracy: 1.0000 - val_loss: 5.8170e-06 - val_accuracy: 1.0000\n",
            "Epoch 84/100\n",
            "180/180 [==============================] - 27s 147ms/step - loss: 8.8051e-06 - accuracy: 1.0000 - val_loss: 7.8258e-06 - val_accuracy: 1.0000\n",
            "Epoch 85/100\n",
            "180/180 [==============================] - 27s 148ms/step - loss: 2.0670e-05 - accuracy: 1.0000 - val_loss: 4.5988e-05 - val_accuracy: 1.0000\n",
            "Epoch 86/100\n",
            "180/180 [==============================] - 26s 147ms/step - loss: 8.2594e-06 - accuracy: 1.0000 - val_loss: 2.0633e-06 - val_accuracy: 1.0000\n",
            "Epoch 87/100\n",
            "180/180 [==============================] - 27s 147ms/step - loss: 6.5842e-06 - accuracy: 1.0000 - val_loss: 3.6120e-06 - val_accuracy: 1.0000\n",
            "Epoch 88/100\n",
            "180/180 [==============================] - 26s 147ms/step - loss: 5.1902e-06 - accuracy: 1.0000 - val_loss: 3.9249e-06 - val_accuracy: 1.0000\n",
            "Epoch 89/100\n",
            "180/180 [==============================] - 26s 147ms/step - loss: 4.0458e-06 - accuracy: 1.0000 - val_loss: 8.9641e-06 - val_accuracy: 1.0000\n",
            "Epoch 90/100\n",
            "180/180 [==============================] - 26s 147ms/step - loss: 3.9706e-06 - accuracy: 1.0000 - val_loss: 5.0761e-06 - val_accuracy: 1.0000\n",
            "Epoch 91/100\n",
            "180/180 [==============================] - 26s 147ms/step - loss: 3.7378e-06 - accuracy: 1.0000 - val_loss: 1.9361e-05 - val_accuracy: 1.0000\n",
            "Epoch 92/100\n",
            "180/180 [==============================] - 27s 147ms/step - loss: 3.2521e-06 - accuracy: 1.0000 - val_loss: 3.7298e-05 - val_accuracy: 1.0000\n",
            "Epoch 93/100\n",
            "180/180 [==============================] - 26s 146ms/step - loss: 3.3137e-06 - accuracy: 1.0000 - val_loss: 2.3807e-05 - val_accuracy: 1.0000\n",
            "Epoch 94/100\n",
            "180/180 [==============================] - 26s 147ms/step - loss: 2.6938e-06 - accuracy: 1.0000 - val_loss: 4.0850e-05 - val_accuracy: 1.0000\n",
            "Epoch 95/100\n",
            "180/180 [==============================] - 27s 151ms/step - loss: 2.6557e-06 - accuracy: 1.0000 - val_loss: 3.9466e-05 - val_accuracy: 1.0000\n",
            "Epoch 96/100\n",
            "180/180 [==============================] - 27s 148ms/step - loss: 1.7143e-06 - accuracy: 1.0000 - val_loss: 1.6578e-05 - val_accuracy: 1.0000\n",
            "Epoch 97/100\n",
            "180/180 [==============================] - 26s 147ms/step - loss: 2.0852e-06 - accuracy: 1.0000 - val_loss: 1.8616e-05 - val_accuracy: 1.0000\n",
            "Epoch 98/100\n",
            "180/180 [==============================] - 27s 148ms/step - loss: 1.7411e-06 - accuracy: 1.0000 - val_loss: 5.8190e-05 - val_accuracy: 1.0000\n",
            "Epoch 99/100\n",
            "180/180 [==============================] - 27s 148ms/step - loss: 1.9977e-06 - accuracy: 1.0000 - val_loss: 1.0518e-05 - val_accuracy: 1.0000\n",
            "Epoch 100/100\n",
            "180/180 [==============================] - 27s 148ms/step - loss: 1.6716e-06 - accuracy: 1.0000 - val_loss: 2.9859e-05 - val_accuracy: 1.0000\n"
          ]
        },
        {
          "output_type": "execute_result",
          "data": {
            "text/plain": [
              "<keras.callbacks.History at 0x7f8b5643d150>"
            ]
          },
          "metadata": {},
          "execution_count": 5
        }
      ]
    },
    {
      "cell_type": "code",
      "source": [
        "print(\"-- Evaluate --\")\n",
        "scores = model.evaluate(test_generator)\n",
        "print(\"%s: %.2f%%\" %(model.metrics_names[1], scores[1]*100))"
      ],
      "metadata": {
        "id": "CdkTqwVROEyD",
        "colab": {
          "base_uri": "https://localhost:8080/"
        },
        "outputId": "e9a45c45-b4e2-44d4-b676-a7c4cc93eee2"
      },
      "execution_count": 6,
      "outputs": [
        {
          "output_type": "stream",
          "name": "stdout",
          "text": [
            "-- Evaluate --\n",
            "60/60 [==============================] - 2s 34ms/step - loss: 2.9859e-05 - accuracy: 1.0000\n",
            "accuracy: 100.00%\n"
          ]
        }
      ]
    },
    {
      "cell_type": "code",
      "source": [
        "import matplotlib.pyplot as plt"
      ],
      "metadata": {
        "id": "MEGe8D88OFjA"
      },
      "execution_count": 7,
      "outputs": []
    },
    {
      "cell_type": "code",
      "source": [
        "img_path = '/content/Lee_dataset/MyDrive/Lee_dataset/13/0/001.png'\n",
        "img = tf.keras.preprocessing.image.load_img(img_path, target_size=(224, 224))\n",
        "plt.imshow(img)\n",
        "plt.show()"
      ],
      "metadata": {
        "id": "Wmuqg4XhORwG",
        "colab": {
          "base_uri": "https://localhost:8080/",
          "height": 269
        },
        "outputId": "b8ef800e-8873-4c22-dd6e-05918431c1fd"
      },
      "execution_count": 8,
      "outputs": [
        {
          "output_type": "display_data",
          "data": {
            "image/png": "[encoded data removed]",
            "text/plain": [
              "<Figure size 432x288 with 1 Axes>"
            ]
          },
          "metadata": {
            "needs_background": "light"
          }
        }
      ]
    },
    {
      "cell_type": "code",
      "source": [
        "val_datagen = tf.keras.preprocessing.image.ImageDataGenerator(rescale=1./255)\n",
        "\n",
        "val_generator = val_datagen.flow_from_directory(\n",
        "        '/content/Lee_dataset/MyDrive/Lee_final/001/',\n",
        "        target_size=(pictureWeightHeightSize, pictureWeightHeightSize),    \n",
        "        batch_size=numberOfClass,\n",
        "        class_mode='categorical')\n",
        "print(\"-- Predict --\")\n",
        "output = model.predict(val_generator)\n",
        "np.set_printoptions(formatter={'float': lambda x: \"{0:0.3f}\".format(x)})\n",
        "print(val_generator.filenames)\n",
        "print(val_generator.class_indices)\n",
        "print(output)"
      ],
      "metadata": {
        "id": "XYfEVtnBlo90",
        "colab": {
          "base_uri": "https://localhost:8080/"
        },
        "outputId": "703f22ab-f927-462d-d358-f7989d9dc68d"
      },
      "execution_count": 9,
      "outputs": [
        {
          "output_type": "stream",
          "name": "stdout",
          "text": [
            "Found 1 images belonging to 1 classes.\n",
            "-- Predict --\n",
            "['0/001.png']\n",
            "{'0': 0}\n",
            "[[0.120 0.880]]\n"
          ]
        }
      ]
    },
    {
      "cell_type": "code",
      "source": [
        "val_datagen = tf.keras.preprocessing.image.ImageDataGenerator(rescale=1./255)\n",
        "\n",
        "val_generator = val_datagen.flow_from_directory(\n",
        "        '/content/Lee_dataset/MyDrive/Lee_final/002/',\n",
        "        target_size=(pictureWeightHeightSize, pictureWeightHeightSize),    \n",
        "        batch_size=numberOfClass,\n",
        "        class_mode='categorical')\n",
        "print(\"-- Predict --\")\n",
        "output = model.predict(val_generator)\n",
        "np.set_printoptions(formatter={'float': lambda x: \"{0:0.3f}\".format(x)})\n",
        "print(val_generator.filenames)\n",
        "print(val_generator.class_indices)\n",
        "print(output)"
      ],
      "metadata": {
        "colab": {
          "base_uri": "https://localhost:8080/"
        },
        "id": "D4-uTOIY2LWL",
        "outputId": "aa60a554-1148-40da-81af-17319b68b4fd"
      },
      "execution_count": 10,
      "outputs": [
        {
          "output_type": "stream",
          "name": "stdout",
          "text": [
            "Found 1 images belonging to 1 classes.\n",
            "-- Predict --\n",
            "['0/002.png']\n",
            "{'0': 0}\n",
            "[[0.003 0.997]]\n"
          ]
        }
      ]
    },
    {
      "cell_type": "code",
      "source": [
        "val_datagen = tf.keras.preprocessing.image.ImageDataGenerator(rescale=1./255)\n",
        "\n",
        "val_generator = val_datagen.flow_from_directory(\n",
        "        '/content/Lee_dataset/MyDrive/Lee_final/003/',\n",
        "        target_size=(pictureWeightHeightSize, pictureWeightHeightSize),    \n",
        "        batch_size=numberOfClass,\n",
        "        class_mode='categorical')\n",
        "print(\"-- Predict --\")\n",
        "output = model.predict(val_generator)\n",
        "np.set_printoptions(formatter={'float': lambda x: \"{0:0.3f}\".format(x)})\n",
        "print(val_generator.filenames)\n",
        "print(val_generator.class_indices)\n",
        "print(output)"
      ],
      "metadata": {
        "colab": {
          "base_uri": "https://localhost:8080/"
        },
        "id": "wY_ZQkak2Lyx",
        "outputId": "ec869d87-48f9-496b-99a0-3eca6e3a9991"
      },
      "execution_count": 11,
      "outputs": [
        {
          "output_type": "stream",
          "name": "stdout",
          "text": [
            "Found 1 images belonging to 1 classes.\n",
            "-- Predict --\n",
            "['0/003.png']\n",
            "{'0': 0}\n",
            "[[0.001 0.999]]\n"
          ]
        }
      ]
    },
    {
      "cell_type": "code",
      "source": [
        "val_datagen = tf.keras.preprocessing.image.ImageDataGenerator(rescale=1./255)\n",
        "\n",
        "val_generator = val_datagen.flow_from_directory(\n",
        "        '/content/Lee_dataset/MyDrive/Lee_final/004/',\n",
        "        target_size=(pictureWeightHeightSize, pictureWeightHeightSize),    \n",
        "        batch_size=numberOfClass,\n",
        "        class_mode='categorical')\n",
        "print(\"-- Predict --\")\n",
        "output = model.predict(val_generator)\n",
        "np.set_printoptions(formatter={'float': lambda x: \"{0:0.3f}\".format(x)})\n",
        "print(val_generator.filenames)\n",
        "print(val_generator.class_indices)\n",
        "print(output)"
      ],
      "metadata": {
        "colab": {
          "base_uri": "https://localhost:8080/"
        },
        "id": "ngd8fpB32MCp",
        "outputId": "7274d203-6d8e-41a9-8941-6f697e0b0009"
      },
      "execution_count": 12,
      "outputs": [
        {
          "output_type": "stream",
          "name": "stdout",
          "text": [
            "Found 1 images belonging to 1 classes.\n",
            "-- Predict --\n",
            "['0/004.png']\n",
            "{'0': 0}\n",
            "[[1.000 0.000]]\n"
          ]
        }
      ]
    },
    {
      "cell_type": "code",
      "source": [
        "val_datagen = tf.keras.preprocessing.image.ImageDataGenerator(rescale=1./255)\n",
        "\n",
        "val_generator = val_datagen.flow_from_directory(\n",
        "        '/content/Lee_dataset/MyDrive/Lee_final/005/',\n",
        "        target_size=(pictureWeightHeightSize, pictureWeightHeightSize),    \n",
        "        batch_size=numberOfClass,\n",
        "        class_mode='categorical')\n",
        "print(\"-- Predict --\")\n",
        "output = model.predict(val_generator)\n",
        "np.set_printoptions(formatter={'float': lambda x: \"{0:0.3f}\".format(x)})\n",
        "print(val_generator.filenames)\n",
        "print(val_generator.class_indices)\n",
        "print(output)"
      ],
      "metadata": {
        "colab": {
          "base_uri": "https://localhost:8080/"
        },
        "id": "34jvk1km2MOt",
        "outputId": "da083383-020d-4153-c9b9-9dcf142c848f"
      },
      "execution_count": 13,
      "outputs": [
        {
          "output_type": "stream",
          "name": "stdout",
          "text": [
            "Found 1 images belonging to 1 classes.\n",
            "-- Predict --\n",
            "['0/005.png']\n",
            "{'0': 0}\n",
            "[[0.001 0.999]]\n"
          ]
        }
      ]
    },
    {
      "cell_type": "code",
      "source": [
        "val_datagen = tf.keras.preprocessing.image.ImageDataGenerator(rescale=1./255)\n",
        "\n",
        "val_generator = val_datagen.flow_from_directory(\n",
        "        '/content/Lee_dataset/MyDrive/Lee_final/006/',\n",
        "        target_size=(pictureWeightHeightSize, pictureWeightHeightSize),    \n",
        "        batch_size=numberOfClass,\n",
        "        class_mode='categorical')\n",
        "print(\"-- Predict --\")\n",
        "output = model.predict(val_generator)\n",
        "np.set_printoptions(formatter={'float': lambda x: \"{0:0.3f}\".format(x)})\n",
        "print(val_generator.filenames)\n",
        "print(val_generator.class_indices)\n",
        "print(output)"
      ],
      "metadata": {
        "colab": {
          "base_uri": "https://localhost:8080/"
        },
        "id": "Gik7eFEj2Mam",
        "outputId": "a6865ca5-7a8e-47ca-f96f-f4192251af5a"
      },
      "execution_count": 14,
      "outputs": [
        {
          "output_type": "stream",
          "name": "stdout",
          "text": [
            "Found 1 images belonging to 1 classes.\n",
            "-- Predict --\n",
            "['0/006.png']\n",
            "{'0': 0}\n",
            "[[1.000 0.000]]\n"
          ]
        }
      ]
    },
    {
      "cell_type": "code",
      "source": [
        "val_datagen = tf.keras.preprocessing.image.ImageDataGenerator(rescale=1./255)\n",
        "\n",
        "val_generator = val_datagen.flow_from_directory(\n",
        "        '/content/Lee_dataset/MyDrive/Lee_final/007/',\n",
        "        target_size=(pictureWeightHeightSize, pictureWeightHeightSize),    \n",
        "        batch_size=numberOfClass,\n",
        "        class_mode='categorical')\n",
        "print(\"-- Predict --\")\n",
        "output = model.predict(val_generator)\n",
        "np.set_printoptions(formatter={'float': lambda x: \"{0:0.3f}\".format(x)})\n",
        "print(val_generator.filenames)\n",
        "print(val_generator.class_indices)\n",
        "print(output)"
      ],
      "metadata": {
        "colab": {
          "base_uri": "https://localhost:8080/"
        },
        "id": "PoTA8d5o2MlH",
        "outputId": "ef2aaa92-db18-4b58-a3a7-080626eaf67a"
      },
      "execution_count": 15,
      "outputs": [
        {
          "output_type": "stream",
          "name": "stdout",
          "text": [
            "Found 1 images belonging to 1 classes.\n",
            "-- Predict --\n",
            "['0/007.png']\n",
            "{'0': 0}\n",
            "[[1.000 0.000]]\n"
          ]
        }
      ]
    },
    {
      "cell_type": "code",
      "source": [
        "val_datagen = tf.keras.preprocessing.image.ImageDataGenerator(rescale=1./255)\n",
        "\n",
        "val_generator = val_datagen.flow_from_directory(\n",
        "        '/content/Lee_dataset/MyDrive/Lee_final/008/',\n",
        "        target_size=(pictureWeightHeightSize, pictureWeightHeightSize),    \n",
        "        batch_size=numberOfClass,\n",
        "        class_mode='categorical')\n",
        "print(\"-- Predict --\")\n",
        "output = model.predict(val_generator)\n",
        "np.set_printoptions(formatter={'float': lambda x: \"{0:0.3f}\".format(x)})\n",
        "print(val_generator.filenames)\n",
        "print(val_generator.class_indices)\n",
        "print(output)"
      ],
      "metadata": {
        "colab": {
          "base_uri": "https://localhost:8080/"
        },
        "id": "EVh1gPGG2MvD",
        "outputId": "54ab0c92-64a0-4018-e42d-fa58e1737ec1"
      },
      "execution_count": 16,
      "outputs": [
        {
          "output_type": "stream",
          "name": "stdout",
          "text": [
            "Found 1 images belonging to 1 classes.\n",
            "-- Predict --\n",
            "['0/008.png']\n",
            "{'0': 0}\n",
            "[[0.000 1.000]]\n"
          ]
        }
      ]
    },
    {
      "cell_type": "code",
      "source": [
        "val_datagen = tf.keras.preprocessing.image.ImageDataGenerator(rescale=1./255)\n",
        "\n",
        "val_generator = val_datagen.flow_from_directory(\n",
        "        '/content/Lee_dataset/MyDrive/Lee_final/009/',\n",
        "        target_size=(pictureWeightHeightSize, pictureWeightHeightSize),    \n",
        "        batch_size=numberOfClass,\n",
        "        class_mode='categorical')\n",
        "print(\"-- Predict --\")\n",
        "output = model.predict(val_generator)\n",
        "np.set_printoptions(formatter={'float': lambda x: \"{0:0.3f}\".format(x)})\n",
        "print(val_generator.filenames)\n",
        "print(val_generator.class_indices)\n",
        "print(output)"
      ],
      "metadata": {
        "colab": {
          "base_uri": "https://localhost:8080/"
        },
        "id": "X9V9G8t62M47",
        "outputId": "15ee5ce5-b6c1-4c3a-b9b9-7da57ad13324"
      },
      "execution_count": 17,
      "outputs": [
        {
          "output_type": "stream",
          "name": "stdout",
          "text": [
            "Found 1 images belonging to 1 classes.\n",
            "-- Predict --\n",
            "['0/009.png']\n",
            "{'0': 0}\n",
            "[[0.000 1.000]]\n"
          ]
        }
      ]
    },
    {
      "cell_type": "code",
      "source": [
        "val_datagen = tf.keras.preprocessing.image.ImageDataGenerator(rescale=1./255)\n",
        "\n",
        "val_generator = val_datagen.flow_from_directory(\n",
        "        '/content/Lee_dataset/MyDrive/Lee_final/010/',\n",
        "        target_size=(pictureWeightHeightSize, pictureWeightHeightSize),    \n",
        "        batch_size=numberOfClass,\n",
        "        class_mode='categorical')\n",
        "print(\"-- Predict --\")\n",
        "output = model.predict(val_generator)\n",
        "np.set_printoptions(formatter={'float': lambda x: \"{0:0.3f}\".format(x)})\n",
        "print(val_generator.filenames)\n",
        "print(val_generator.class_indices)\n",
        "print(output)"
      ],
      "metadata": {
        "colab": {
          "base_uri": "https://localhost:8080/"
        },
        "id": "bCCPArrp2NCd",
        "outputId": "e37b7045-37bc-4c5b-f03d-2c0415bf01f0"
      },
      "execution_count": 18,
      "outputs": [
        {
          "output_type": "stream",
          "name": "stdout",
          "text": [
            "Found 1 images belonging to 1 classes.\n",
            "-- Predict --\n",
            "['0/010.png']\n",
            "{'0': 0}\n",
            "[[0.176 0.824]]\n"
          ]
        }
      ]
    }
  ]
}