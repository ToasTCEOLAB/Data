{
 "cells": [
  {
   "cell_type": "code",
   "execution_count": 42,
   "id": "2ae0b72a",
   "metadata": {},
   "outputs": [],
   "source": [
    "# import numpy as np\n",
    "# import cv2\n",
    "# import math\n",
    "# import scipy.misc\n",
    "# import PIL.Image\n",
    "# import statistics\n",
    "# import timeit\n",
    "# import glob\n",
    "# from sklearn import linear_model, datasets"
   ]
  },
  {
   "cell_type": "code",
   "execution_count": 57,
   "id": "502fc8b4",
   "metadata": {},
   "outputs": [],
   "source": [
    "import cv2\n",
    "import numpy as np\n",
    "import PIL.Image\n",
    "import matplotlib.pyplot as plt\n",
    "import os"
   ]
  },
  {
   "cell_type": "code",
   "execution_count": 58,
   "id": "243dfb13",
   "metadata": {},
   "outputs": [
    {
     "name": "stdout",
     "output_type": "stream",
     "text": [
      "['IMG_1.png', 'IMG_10.png', 'IMG_2.png', 'IMG_3.png', 'IMG_4.png', 'IMG_5.png', 'IMG_6.png', 'IMG_7.png', 'IMG_8.png', 'IMG_9.png']\n"
     ]
    }
   ],
   "source": [
    "folder = \"C:/Users/user/Desktop/temp_img/\";\n",
    "S = \"crosswalk_processing/\";\n",
    "SP = 'crosswalk_pro/'\n",
    "P = \"crosswalk_detection/\";\n",
    "filenames = os.listdir(folder+S)\n",
    "print(filenames)"
   ]
  },
  {
   "cell_type": "code",
   "execution_count": 65,
   "id": "4d91e385",
   "metadata": {},
   "outputs": [
    {
     "name": "stdout",
     "output_type": "stream",
     "text": [
      "C:/Users/user/Desktop/temp_img/crosswalk_processing/IMG_1.png\n",
      "C:/Users/user/Desktop/temp_img/crosswalk_processing/IMG_10.png\n",
      "C:/Users/user/Desktop/temp_img/crosswalk_processing/IMG_2.png\n",
      "C:/Users/user/Desktop/temp_img/crosswalk_processing/IMG_3.png\n",
      "C:/Users/user/Desktop/temp_img/crosswalk_processing/IMG_4.png\n",
      "C:/Users/user/Desktop/temp_img/crosswalk_processing/IMG_5.png\n",
      "C:/Users/user/Desktop/temp_img/crosswalk_processing/IMG_6.png\n",
      "C:/Users/user/Desktop/temp_img/crosswalk_processing/IMG_7.png\n",
      "C:/Users/user/Desktop/temp_img/crosswalk_processing/IMG_8.png\n",
      "C:/Users/user/Desktop/temp_img/crosswalk_processing/IMG_9.png\n"
     ]
    }
   ],
   "source": [
    "for i in range(len(filenames)):\n",
    "    print(folder+S+filenames[i])\n",
    "    img = cv2.imread(folder+S+filenames[i])\n",
    "    lower = (200,200,200 )\n",
    "    upper = (255, 255, 255)\n",
    "    thresh = cv2.inRange(img, lower, upper)\n",
    "    \n",
    "    kernel = np.ones((3,3), np.uint8)\n",
    "    morph = cv2.morphologyEx(thresh, cv2.MORPH_OPEN, kernel)\n",
    "    kernel = np.ones((5,5), np.uint8)\n",
    "    morph = cv2.morphologyEx(morph, cv2.MORPH_CLOSE, kernel)\n",
    "    \n",
    "    # # get contours\n",
    "    cntrs = cv2.findContours(morph, cv2.RETR_EXTERNAL, cv2.CHAIN_APPROX_SIMPLE)\n",
    "    cntrs = cntrs[0] if len(cntrs) == 2 else cntrs[1]\n",
    "\n",
    "    # filter on area\n",
    "    contours = img.copy()\n",
    "    good_contours = []\n",
    "    for c in cntrs:\n",
    "        area = cv2.contourArea(c)\n",
    "        if area >170 :\n",
    "            cv2.drawContours(contours, [c], -1, (0,0,255), 1)\n",
    "            good_contours.append(c)\n",
    "    \n",
    "    # # combine good contours\n",
    "    contours_combined = np.vstack(good_contours)\n",
    "    # # get convex hull\n",
    "\n",
    "    result = img.copy()\n",
    "    hull = cv2.convexHull(contours_combined)\n",
    "    cv2.polylines(result, [hull], True, (0,0,0), 2)\n",
    "\n",
    "    contours_combined = np.vstack(good_contours)\n",
    "\n",
    "    #색상 칠하기\n",
    "    result = img.copy()\n",
    "    hull = cv2.convexHull(contours_combined)\n",
    "    cv2.polylines(result, [hull], True, (0,0,0), 250)\n",
    "    cv2.imwrite(folder+SP+filenames[i],result)\n",
    "    cv2.fillPoly(result, [hull], (0, 0, 0), cv2.LINE_AA)\n",
    "    \n",
    "    #최소 , 최대 기준으로 흑백을 나눔\n",
    "    lower_del = (0 , 0 , 0)\n",
    "    upper_del = (1 ,1 ,1)\n",
    "    color_del = cv2.inRange(result, lower_del, upper_del)\n",
    "\n",
    "    #a = cv2.inRange(color_del,(200,200,200),(255,255,255))\n",
    "\n",
    "    #노이즈 제거\n",
    "    kernel_del = np.ones((1,1), np.uint8)\n",
    "    morph_del = cv2.morphologyEx(color_del, cv2.MORPH_OPEN, kernel_del)\n",
    "    kernel_del = np.ones((10,10), np.uint8)\n",
    "    morph_del = cv2.morphologyEx(morph_del, cv2.MORPH_CLOSE, kernel_del)\n",
    "    result = cv2.cvtColor(255-color_del, cv2.COLOR_BGR2RGB)\n",
    "\n",
    "    cv2.imwrite(folder+P+filenames[i],result)"
   ]
  },
  {
   "cell_type": "code",
   "execution_count": null,
   "id": "df7cc6af",
   "metadata": {},
   "outputs": [],
   "source": []
  }
 ],
 "metadata": {
  "kernelspec": {
   "display_name": "Python 3 (ipykernel)",
   "language": "python",
   "name": "python3"
  },
  "language_info": {
   "codemirror_mode": {
    "name": "ipython",
    "version": 3
   },
   "file_extension": ".py",
   "mimetype": "text/x-python",
   "name": "python",
   "nbconvert_exporter": "python",
   "pygments_lexer": "ipython3",
   "version": "3.7.13"
  }
 },
 "nbformat": 4,
 "nbformat_minor": 5
}
