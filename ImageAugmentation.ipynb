{
 "cells": [
  {
   "cell_type": "code",
   "execution_count": 1,
   "metadata": {},
   "outputs": [],
   "source": [
    "import os\n",
    "from PIL import Image\n",
    "import cv2\n",
    "global listOfFolderName\n",
    "\n",
    "listOfFolderName = []"
   ]
  },
  {
   "cell_type": "code",
   "execution_count": 2,
   "metadata": {
    "scrolled": true
   },
   "outputs": [],
   "source": [
    "def search(dirname):\n",
    "    filenames = os.listdir(dirname)\n",
    "    for filename in filenames:\n",
    "        #full_filename = os.path.join(dirname, filename)\n",
    "        listOfFolderName.append(filename)\n",
    "\n",
    "search(\"C:/Users/jamco/Desktop/Develop/Code/Python/ODCuC/Lee_dataset/Version 4(Jam)/12/\")"
   ]
  },
  {
   "cell_type": "code",
   "execution_count": 3,
   "metadata": {},
   "outputs": [],
   "source": [
    "for foldername in listOfFolderName:\n",
    "    data_path = 'C:/Users/jamco/Desktop/Develop/Code/Python/ODCuC/Lee_dataset/Version 4(Jam)/12/'+foldername+'/'\n",
    "    folder = os.listdir(data_path)\n",
    "    for file in folder:\n",
    "        name = file.split(\".\")[0]\n",
    "\n",
    "        imageBGR = cv2.imread(data_path + name + \".png\")\n",
    "        #imageRGB = cv2.cvtColor(imageBGR, cv2.COLOR_BGR2RGB)\n",
    "        imageFlip_LeftRight = cv2.flip(imageBGR, 1) #좌우반전\n",
    "        cv2.imwrite(data_path + name + \"lr\" + \".png\", imageFlip_LeftRight)\n",
    "        imageFlip_UpDown = cv2.flip(imageBGR, 0) #상하반전\n",
    "        cv2.imwrite(data_path + name + \"ud\" +\".png\", imageFlip_UpDown)\n",
    "        \n",
    "        imageRotate90 = cv2.rotate(imageBGR, cv2.ROTATE_90_CLOCKWISE) #시계방향으로 90도 회전\n",
    "        cv2.imwrite(data_path + name + \"r90\" +\".png\", imageRotate90)\n",
    "        imageRotate180 = cv2.rotate(imageBGR, cv2.ROTATE_180) #시계방향으로 90도 회전\n",
    "        cv2.imwrite(data_path + name + \"r180\" +\".png\", imageRotate180)\n",
    "        imageRotate270 = cv2.rotate(imageBGR, cv2.ROTATE_90_COUNTERCLOCKWISE) #반시계방향으로 90도 회전\n",
    "        cv2.imwrite(data_path + name + \"r270\" +\".png\", imageRotate270)"
   ]
  },
  {
   "cell_type": "code",
   "execution_count": null,
   "metadata": {},
   "outputs": [],
   "source": []
  }
 ],
 "metadata": {
  "kernelspec": {
   "display_name": "Python 3 (ipykernel)",
   "language": "python",
   "name": "python3"
  },
  "language_info": {
   "codemirror_mode": {
    "name": "ipython",
    "version": 3
   },
   "file_extension": ".py",
   "mimetype": "text/x-python",
   "name": "python",
   "nbconvert_exporter": "python",
   "pygments_lexer": "ipython3",
   "version": "3.7.11"
  }
 },
 "nbformat": 4,
 "nbformat_minor": 4
}
