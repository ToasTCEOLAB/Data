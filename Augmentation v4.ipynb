{
 "cells": [
  {
   "cell_type": "code",
   "execution_count": 1,
   "id": "1e83ce3b",
   "metadata": {},
   "outputs": [],
   "source": [
    "import os\n",
    "import cv2"
   ]
  },
  {
   "cell_type": "code",
   "execution_count": 2,
   "id": "3b42a169",
   "metadata": {},
   "outputs": [
    {
     "name": "stdout",
     "output_type": "stream",
     "text": [
      "['Anaconda Navigator (anaconda3).lnk', 'Chrome Remote Desktop.lnk', 'CNN2020', 'data - 복사본', 'desktop.ini', 'GitHub Desktop.lnk', 'Inside', 'junbeom', 'junbeom_data', 'jun_train_set', 'jun_train_set.zip', 'LeeSac', 'MATLAB Deep Learning Model 만들기.pdf', 'original', 'Outside', 'resize_in1000', 'resize_in500', 'resize_out1000', 'resize_out500', 'temp_img', '재민']\n"
     ]
    }
   ],
   "source": [
    "\n",
    "listOfFolderName = []\n",
    "\n",
    "filenames = os.listdir(\"C:/Users/user/Desktop/\")\n",
    "for filename in filenames:\n",
    "    # full_filename = os.path.join(dirname, filename)\n",
    "    listOfFolderName.append(filename)\n",
    "\n",
    "print(filenames)"
   ]
  },
  {
   "cell_type": "code",
   "execution_count": null,
   "id": "b9451a86",
   "metadata": {},
   "outputs": [],
   "source": [
    "\n",
    "\n",
    "for file in filenames:\n",
    "    img = cv2.imread(\"C:/Users/issac/Desktop/hello/inside/\" + file)\n",
    "    image = cv2.resize(img, (1000, 1000))\n",
    "    cv2.imwrite(\"C:/Users/issac/Desktop/hello/resize_in1000/\" + file, image)\n",
    "\n",
    "\n"
   ]
  }
 ],
 "metadata": {
  "kernelspec": {
   "display_name": "Python 3 (ipykernel)",
   "language": "python",
   "name": "python3"
  },
  "language_info": {
   "codemirror_mode": {
    "name": "ipython",
    "version": 3
   },
   "file_extension": ".py",
   "mimetype": "text/x-python",
   "name": "python",
   "nbconvert_exporter": "python",
   "pygments_lexer": "ipython3",
   "version": "3.7.13"
  }
 },
 "nbformat": 4,
 "nbformat_minor": 5
}
