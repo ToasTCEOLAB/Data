{
 "cells": [
  {
   "cell_type": "code",
   "execution_count": 1,
   "id": "17a58832",
   "metadata": {},
   "outputs": [],
   "source": [
    "import os\n",
    "import cv2"
   ]
  },
  {
   "cell_type": "code",
   "execution_count": null,
   "id": "59b9d6d0",
   "metadata": {},
   "outputs": [],
   "source": [
    "\n",
    "listOfFolderName = []\n",
    "\n",
    "filenames = os.listdir(\"C:/Users/user/Desktop/\")\n",
    "for filename in filenames:\n",
    "    # full_filename = os.path.join(dirname, filename)\n",
    "    listOfFolderName.append(filename)\n",
    "\n",
    "print(filenames)\n",
    "\n",
    "\n",
    "for file in filenames:\n",
    "    img = cv2.imread(\"C:/Users/issac/Desktop/hello/inside/\" + file)\n",
    "    image = cv2.resize(img, (1000, 1000))\n",
    "    cv2.imwrite(\"C:/Users/issac/Desktop/hello/resize_in1000/\" + file, image)\n",
    "\n",
    "\n"
   ]
  }
 ],
 "metadata": {
  "kernelspec": {
   "display_name": "Python 3",
   "language": "python",
   "name": "python3"
  },
  "language_info": {
   "codemirror_mode": {
    "name": "ipython",
    "version": 3
   },
   "file_extension": ".py",
   "mimetype": "text/x-python",
   "name": "python",
   "nbconvert_exporter": "python",
   "pygments_lexer": "ipython3",
   "version": "3.6.13"
  }
 },
 "nbformat": 4,
 "nbformat_minor": 5
}
